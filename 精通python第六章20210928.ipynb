{
  "nbformat": 4,
  "nbformat_minor": 0,
  "metadata": {
    "colab": {
      "name": "精通python第六章20210928.ipynb",
      "provenance": [],
      "collapsed_sections": [],
      "authorship_tag": "ABX9TyPCFYyeMgXi8TWt+b85qhwT",
      "include_colab_link": true
    },
    "kernelspec": {
      "name": "python3",
      "display_name": "Python 3"
    },
    "language_info": {
      "name": "python"
    }
  },
  "cells": [
    {
      "cell_type": "markdown",
      "metadata": {
        "id": "view-in-github",
        "colab_type": "text"
      },
      "source": [
        "<a href=\"https://colab.research.google.com/github/Whaleman0423/-Python-/blob/main/%E7%B2%BE%E9%80%9Apython%E7%AC%AC%E5%85%AD%E7%AB%A020210928.ipynb\" target=\"_parent\"><img src=\"https://colab.research.google.com/assets/colab-badge.svg\" alt=\"Open In Colab\"/></a>"
      ]
    },
    {
      "cell_type": "code",
      "metadata": {
        "id": "TQDmbUOtM4Bp"
      },
      "source": [
        "count = 1\n",
        "while count <= 5:\n",
        "  print(\"目前數字：\", count)\n",
        "  count += 1"
      ],
      "execution_count": null,
      "outputs": []
    },
    {
      "cell_type": "code",
      "metadata": {
        "id": "a6Tlt82ZO2-N"
      },
      "source": [
        "while True:\n",
        "  stuff = input(\"String to capitalize [type q to quit]：\")\n",
        "  if stuff == \"q\":\n",
        "    break\n",
        "  print(stuff.capitalize())"
      ],
      "execution_count": null,
      "outputs": []
    },
    {
      "cell_type": "code",
      "metadata": {
        "id": "c9ZEkXZPQTdk"
      },
      "source": [
        "# 輸入整數 -> 奇數回傳平方 \n",
        "#      -> 偶數跳過不print\n",
        "while True:\n",
        "  value = input(\"Integer, please[q to quit]：\")\n",
        "  if value == \"q\":\n",
        "    break\n",
        "  number = int(value)\n",
        "  if number % 2 == 0:\n",
        "    continue\n",
        "  print(number, \"squire is\", number**2)"
      ],
      "execution_count": null,
      "outputs": []
    },
    {
      "cell_type": "code",
      "metadata": {
        "id": "nxz5JQn4S__g"
      },
      "source": [
        "# 使用 else 作為 break 檢查器\n",
        "# 尋找偶數 找到偶數立即break 若沒有break 則觸及else\n",
        "numbers = [1, 3, 5, 7x]\n",
        "position = 0\n",
        "while position < len(numbers):\n",
        "  number = numbers[position]\n",
        "  if number % 2 == 0:\n",
        "    print(\"Found even number, then break\")\n",
        "    break\n",
        "  position += 1\n",
        "else:\n",
        "  print(\"No even number found！\")"
      ],
      "execution_count": null,
      "outputs": []
    },
    {
      "cell_type": "code",
      "metadata": {
        "id": "hmxZiVq3VRBZ"
      },
      "source": [
        "word = \"thud\"\n",
        "offset = 0\n",
        "while offset < len(word):\n",
        "  print(word[offset])\n",
        "  offset += 1"
      ],
      "execution_count": null,
      "outputs": []
    },
    {
      "cell_type": "code",
      "metadata": {
        "id": "XW9jXQMfWwu2"
      },
      "source": [
        "for letter in word:\n",
        "  print(letter)"
      ],
      "execution_count": null,
      "outputs": []
    },
    {
      "cell_type": "code",
      "metadata": {
        "colab": {
          "base_uri": "https://localhost:8080/"
        },
        "id": "94BabmSQW7sk",
        "outputId": "bdfea5bc-69c3-4fc6-ce57-703cce1e4d6d"
      },
      "source": [
        "word = \"thud\"\n",
        "for letter in word:\n",
        "  if letter == \"u\":\n",
        "    print(\"到u就不執行結束！\")\n",
        "    break\n",
        "  print(letter)"
      ],
      "execution_count": 16,
      "outputs": [
        {
          "output_type": "stream",
          "name": "stdout",
          "text": [
            "t\n",
            "h\n",
            "到u就不執行結束！\n"
          ]
        }
      ]
    },
    {
      "cell_type": "code",
      "metadata": {
        "id": "Chbfp-GpcASi"
      },
      "source": [
        "# for in \n",
        "# else檢查器\n",
        "word = \"thud\"\n",
        "for letter in word:\n",
        "  if letter == \"x\":\n",
        "    print(\"Eak！ An 'x'！\")\n",
        "    break\n",
        "  print(letter)\n",
        "else:\n",
        "  print(\"No 'x' in there.\")"
      ],
      "execution_count": null,
      "outputs": []
    },
    {
      "cell_type": "code",
      "metadata": {
        "id": "eHmxWADPdsdH"
      },
      "source": [
        "for x in range(0,3):\n",
        "  print(x)\n",
        "list(range(0,3))"
      ],
      "execution_count": null,
      "outputs": []
    },
    {
      "cell_type": "code",
      "metadata": {
        "id": "3DeHFMF0fYOg"
      },
      "source": [
        "for x in range(2,-1,-1):\n",
        "  print(x)\n",
        "list(range(2,-1,-1))\n",
        "print()\n",
        "list(range(0,11,2))"
      ],
      "execution_count": null,
      "outputs": []
    },
    {
      "cell_type": "code",
      "metadata": {
        "id": "TrruuV57f8mL"
      },
      "source": [
        "# 6.1\n",
        "for x in [3,2,1,0]:\n",
        "  print(x)"
      ],
      "execution_count": null,
      "outputs": []
    },
    {
      "cell_type": "code",
      "metadata": {
        "id": "IfB-ULOKgKRK"
      },
      "source": [
        "# 6.2\n",
        "guess_me = 7\n",
        "number = 1\n",
        "while True:\n",
        "  if number < guess_me:\n",
        "    print(\"too low\")\n",
        "  elif number == guess_me:\n",
        "    print(\"found it\")\n",
        "  elif number > guess_me:\n",
        "    print(\"oops\")\n",
        "    break\n",
        "  number += 1"
      ],
      "execution_count": null,
      "outputs": []
    },
    {
      "cell_type": "code",
      "metadata": {
        "id": "WJ-FRn3ejCBS"
      },
      "source": [
        "# 6.3\n",
        "guess_me = 5 \n",
        "for number in range(10):\n",
        "  if number < guess_me:\n",
        "    print(\"too low\")\n",
        "  elif number == guess_me:\n",
        "    print(\"found it\")\n",
        "  elif number > guess_me:\n",
        "    print(\"oops\")\n",
        "    break"
      ],
      "execution_count": null,
      "outputs": []
    }
  ]
}