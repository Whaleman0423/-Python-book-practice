{
  "nbformat": 4,
  "nbformat_minor": 0,
  "metadata": {
    "colab": {
      "name": "generator_basic.ipynb",
      "provenance": [],
      "collapsed_sections": [],
      "authorship_tag": "ABX9TyOgbqRT7uBBXfCCjQBCBr09",
      "include_colab_link": true
    },
    "kernelspec": {
      "name": "python3",
      "display_name": "Python 3"
    },
    "language_info": {
      "name": "python"
    }
  },
  "cells": [
    {
      "cell_type": "markdown",
      "metadata": {
        "id": "view-in-github",
        "colab_type": "text"
      },
      "source": [
        "<a href=\"https://colab.research.google.com/github/Whaleman0423/-Python-book-practice/blob/main/Python_basic/generator_basic.ipynb\" target=\"_parent\"><img src=\"https://colab.research.google.com/assets/colab-badge.svg\" alt=\"Open In Colab\"/></a>"
      ]
    },
    {
      "cell_type": "markdown",
      "metadata": {
        "id": "SyvfE7B4oPXP"
      },
      "source": [
        "# 生成式 :"
      ]
    },
    {
      "cell_type": "code",
      "metadata": {
        "id": "TYztFuSsonZ9"
      },
      "source": [
        "# def 函式名稱():\n",
        "#   yield 資料"
      ],
      "execution_count": null,
      "outputs": []
    },
    {
      "cell_type": "markdown",
      "metadata": {
        "id": "NB1i16Azoy-9"
      },
      "source": [
        "## 呼叫函式 =>回傳生成器\n",
        "### 變數名稱 = 函式名稱()"
      ]
    },
    {
      "cell_type": "markdown",
      "metadata": {
        "id": "QSAU5zHLo_PR"
      },
      "source": [
        "## 程式範例 :"
      ]
    },
    {
      "cell_type": "code",
      "metadata": {
        "colab": {
          "base_uri": "https://localhost:8080/"
        },
        "id": "ylMkzg3_pPW-",
        "outputId": "edecd2d7-bbd7-4523-cc38-290f910987a5"
      },
      "source": [
        "def test():\n",
        "  yield 3\n",
        "# 呼叫函式 , 回傳生成器, 裝到變數裡面\n",
        "gen = test()\n",
        "print(gen)"
      ],
      "execution_count": 1,
      "outputs": [
        {
          "output_type": "stream",
          "name": "stdout",
          "text": [
            "<generator object test at 0x7f2805378cd0>\n"
          ]
        }
      ]
    },
    {
      "cell_type": "markdown",
      "metadata": {
        "id": "_K5S-XtxpwwP"
      },
      "source": [
        "# 搭配 for 迴圈及可迭代的資料\n",
        "## for 變數名稱 in 生成器:\n",
        "##   將生成器產生的資料逐一取出"
      ]
    },
    {
      "cell_type": "markdown",
      "metadata": {
        "id": "JTPZbCjiqPgZ"
      },
      "source": [
        "### 搭配使用範例 :"
      ]
    },
    {
      "cell_type": "code",
      "metadata": {
        "colab": {
          "base_uri": "https://localhost:8080/"
        },
        "id": "j8PrCizCqc7M",
        "outputId": "138af93b-5488-4f02-dd21-cbb85750735a"
      },
      "source": [
        "def test():\n",
        "  yield 3\n",
        "\n",
        "gen = test()   # 呼叫函式, 回傳生成器\n",
        "\n",
        "for data in gen:   # 搭配 for 迴圈使用\n",
        "  print(data)"
      ],
      "execution_count": 2,
      "outputs": [
        {
          "output_type": "stream",
          "name": "stdout",
          "text": [
            "3\n"
          ]
        }
      ]
    },
    {
      "cell_type": "markdown",
      "metadata": {
        "id": "2caAqpuSrDpy"
      },
      "source": [
        "### yield 多次呢 ?"
      ]
    },
    {
      "cell_type": "code",
      "metadata": {
        "colab": {
          "base_uri": "https://localhost:8080/"
        },
        "id": "fKE3xCcvrHBu",
        "outputId": "7292ca9c-845f-459a-9ea0-d76821a5ca28"
      },
      "source": [
        "def test():\n",
        "  yield 3 \n",
        "  yield 6\n",
        "\n",
        "gen = test()\n",
        "\n",
        "for data in gen:\n",
        "  print(data)"
      ],
      "execution_count": 3,
      "outputs": [
        {
          "output_type": "stream",
          "name": "stdout",
          "text": [
            "3\n",
            "6\n"
          ]
        }
      ]
    },
    {
      "cell_type": "code",
      "metadata": {
        "id": "9iwN3L4ArUiO"
      },
      "source": [
        ""
      ],
      "execution_count": null,
      "outputs": []
    }
  ]
}