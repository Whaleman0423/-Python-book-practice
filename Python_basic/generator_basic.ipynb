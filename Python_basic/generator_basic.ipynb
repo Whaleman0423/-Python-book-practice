{
  "nbformat": 4,
  "nbformat_minor": 0,
  "metadata": {
    "colab": {
      "name": "generator_basic.ipynb",
      "provenance": [],
      "collapsed_sections": [],
      "authorship_tag": "ABX9TyPoy/lxmp8JI6XtifdX0tJh",
      "include_colab_link": true
    },
    "kernelspec": {
      "name": "python3",
      "display_name": "Python 3"
    },
    "language_info": {
      "name": "python"
    }
  },
  "cells": [
    {
      "cell_type": "markdown",
      "metadata": {
        "id": "view-in-github",
        "colab_type": "text"
      },
      "source": [
        "<a href=\"https://colab.research.google.com/github/Whaleman0423/-Python-book-practice/blob/main/Python_basic/generator_basic.ipynb\" target=\"_parent\"><img src=\"https://colab.research.google.com/assets/colab-badge.svg\" alt=\"Open In Colab\"/></a>"
      ]
    },
    {
      "cell_type": "markdown",
      "metadata": {
        "id": "SyvfE7B4oPXP"
      },
      "source": [
        "# 生成式 :"
      ]
    },
    {
      "cell_type": "code",
      "metadata": {
        "id": "TYztFuSsonZ9"
      },
      "source": [
        "# def 函式名稱():\n",
        "#   yield 資料"
      ],
      "execution_count": null,
      "outputs": []
    },
    {
      "cell_type": "markdown",
      "metadata": {
        "id": "NB1i16Azoy-9"
      },
      "source": [
        "## 呼叫函式 =>回傳生成器\n",
        "### 變數名稱 = 函式名稱()"
      ]
    },
    {
      "cell_type": "markdown",
      "metadata": {
        "id": "QSAU5zHLo_PR"
      },
      "source": [
        "## 程式範例 :"
      ]
    },
    {
      "cell_type": "code",
      "metadata": {
        "colab": {
          "base_uri": "https://localhost:8080/"
        },
        "id": "ylMkzg3_pPW-",
        "outputId": "edecd2d7-bbd7-4523-cc38-290f910987a5"
      },
      "source": [
        "def test():\n",
        "  yield 3\n",
        "# 呼叫函式 , 回傳生成器, 裝到變數裡面\n",
        "gen = test()\n",
        "print(gen)"
      ],
      "execution_count": null,
      "outputs": [
        {
          "output_type": "stream",
          "name": "stdout",
          "text": [
            "<generator object test at 0x7f2805378cd0>\n"
          ]
        }
      ]
    },
    {
      "cell_type": "markdown",
      "metadata": {
        "id": "_K5S-XtxpwwP"
      },
      "source": [
        "# 搭配 for 迴圈及可迭代的資料\n",
        "## for 變數名稱 in 生成器:\n",
        "##   將生成器產生的資料逐一取出"
      ]
    },
    {
      "cell_type": "markdown",
      "metadata": {
        "id": "JTPZbCjiqPgZ"
      },
      "source": [
        "### 搭配使用範例 :"
      ]
    },
    {
      "cell_type": "code",
      "metadata": {
        "colab": {
          "base_uri": "https://localhost:8080/"
        },
        "id": "j8PrCizCqc7M",
        "outputId": "138af93b-5488-4f02-dd21-cbb85750735a"
      },
      "source": [
        "def test():\n",
        "  yield 3\n",
        "\n",
        "gen = test()   # 呼叫函式, 回傳生成器\n",
        "\n",
        "for data in gen:   # 搭配 for 迴圈使用\n",
        "  print(data)"
      ],
      "execution_count": null,
      "outputs": [
        {
          "output_type": "stream",
          "name": "stdout",
          "text": [
            "3\n"
          ]
        }
      ]
    },
    {
      "cell_type": "markdown",
      "metadata": {
        "id": "2caAqpuSrDpy"
      },
      "source": [
        "### yield 多次呢 ?"
      ]
    },
    {
      "cell_type": "code",
      "metadata": {
        "colab": {
          "base_uri": "https://localhost:8080/"
        },
        "id": "fKE3xCcvrHBu",
        "outputId": "7292ca9c-845f-459a-9ea0-d76821a5ca28"
      },
      "source": [
        "def test():\n",
        "  yield 3 \n",
        "  yield 6\n",
        "\n",
        "gen = test()\n",
        "\n",
        "for data in gen:\n",
        "  print(data)"
      ],
      "execution_count": null,
      "outputs": [
        {
          "output_type": "stream",
          "name": "stdout",
          "text": [
            "3\n",
            "6\n"
          ]
        }
      ]
    },
    {
      "cell_type": "code",
      "metadata": {
        "id": "9iwN3L4ArUiO"
      },
      "source": [
        "def test():\n",
        "  print(\"階段一\")\n",
        "  yield 5\n",
        "  print(\"階段二\")\n",
        "  yield 10\n",
        "gen = test()    # 生成式不會跑出print"
      ],
      "execution_count": 4,
      "outputs": []
    },
    {
      "cell_type": "code",
      "metadata": {
        "id": "PFMM5dROKnMj",
        "outputId": "dbfb97fc-4cc2-40b5-cc0a-c70fdd218508",
        "colab": {
          "base_uri": "https://localhost:8080/"
        }
      },
      "source": [
        "def check():\n",
        "  print(\"測試看看\")\n",
        "  print(\"這是定義式\")\n",
        "define = check()"
      ],
      "execution_count": 3,
      "outputs": [
        {
          "output_type": "stream",
          "name": "stdout",
          "text": [
            "測試看看\n",
            "這是定義式\n"
          ]
        }
      ]
    },
    {
      "cell_type": "code",
      "metadata": {
        "id": "2ET_r2c_LG3I",
        "outputId": "c0ee2ee3-a0d5-4eff-b6c3-984d808b48ad",
        "colab": {
          "base_uri": "https://localhost:8080/"
        }
      },
      "source": [
        "def test():\n",
        "  print(\"階段一\")\n",
        "  yield 5\n",
        "  print(\"階段二\")\n",
        "  yield 10\n",
        "gen = test()  \n",
        "for data in gen:\n",
        "  print(data)"
      ],
      "execution_count": 6,
      "outputs": [
        {
          "output_type": "stream",
          "name": "stdout",
          "text": [
            "階段一\n",
            "5\n",
            "階段二\n",
            "10\n"
          ]
        }
      ]
    },
    {
      "cell_type": "code",
      "metadata": {
        "id": "rJ3lqP_jL8aR",
        "outputId": "2bbd511d-ab43-40dc-843e-bb2dd05b0c36",
        "colab": {
          "base_uri": "https://localhost:8080/"
        }
      },
      "source": [
        "### 產生一個生成偶數的生程式\n",
        "def generateEven():\n",
        "  for i in range(0,10):\n",
        "    if i % 2 == 0:\n",
        "      yield i\n",
        "gen = generateEven()\n",
        "for data in gen:\n",
        "  print(data)\n",
        "\n",
        "for data in gen:\n",
        "  print(data)\n"
      ],
      "execution_count": 11,
      "outputs": [
        {
          "output_type": "stream",
          "name": "stdout",
          "text": [
            "0\n",
            "2\n",
            "4\n",
            "6\n",
            "8\n"
          ]
        }
      ]
    },
    {
      "cell_type": "markdown",
      "metadata": {
        "id": "azu43BJ5N9OT"
      },
      "source": [
        "## 設計一個 小於 maxnumber 生成出 0 到 maxnumber 的 奇數 :"
      ]
    },
    {
      "cell_type": "code",
      "metadata": {
        "id": "8uAuE9qdOLzS",
        "outputId": "430c5a12-8923-499e-f919-21d39c8f6b0b",
        "colab": {
          "base_uri": "https://localhost:8080/"
        }
      },
      "source": [
        "def generateOdd(maxnumber):\n",
        "  number = 0\n",
        "  while number <= maxnumber:\n",
        "    if number % 2 == 1:\n",
        "      yield number\n",
        "    number += 1\n",
        "Oddgenerator = generateOdd(31)\n",
        "for data in Oddgenerator:\n",
        "  print(data)"
      ],
      "execution_count": 14,
      "outputs": [
        {
          "output_type": "stream",
          "name": "stdout",
          "text": [
            "1\n",
            "3\n",
            "5\n",
            "7\n",
            "9\n",
            "11\n",
            "13\n",
            "15\n",
            "17\n",
            "19\n",
            "21\n",
            "23\n",
            "25\n",
            "27\n",
            "29\n",
            "31\n"
          ]
        }
      ]
    }
  ]
}