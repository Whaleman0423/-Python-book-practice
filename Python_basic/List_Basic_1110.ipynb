{
  "nbformat": 4,
  "nbformat_minor": 0,
  "metadata": {
    "colab": {
      "name": "Python_Basic_1110",
      "provenance": [],
      "authorship_tag": "ABX9TyO2cQisvzCYP9z3jRvGpsNq",
      "include_colab_link": true
    },
    "kernelspec": {
      "name": "python3",
      "display_name": "Python 3"
    },
    "language_info": {
      "name": "python"
    }
  },
  "cells": [
    {
      "cell_type": "markdown",
      "metadata": {
        "id": "view-in-github",
        "colab_type": "text"
      },
      "source": [
        "<a href=\"https://colab.research.google.com/github/Whaleman0423/-Python-book-practice/blob/main/Python_basic/List_Basic_1110.ipynb\" target=\"_parent\"><img src=\"https://colab.research.google.com/assets/colab-badge.svg\" alt=\"Open In Colab\"/></a>"
      ]
    },
    {
      "cell_type": "markdown",
      "metadata": {
        "id": "4Ezb0rBXfWTP"
      },
      "source": [
        "# List 方法"
      ]
    },
    {
      "cell_type": "markdown",
      "metadata": {
        "id": "zhnQWV0c5mbD"
      },
      "source": [
        "# index()搜尋 :\n",
        "##list.index(x[, start[, end]])"
      ]
    },
    {
      "cell_type": "code",
      "metadata": {
        "colab": {
          "base_uri": "https://localhost:8080/"
        },
        "id": "EWcL9-vCZ4Tq",
        "outputId": "f61700f8-7eb3-4f67-8e26-98fa1f1c7f9f"
      },
      "source": [
        "index = [0,1,2,3,4,5,6,7,8,9,10,11]\n",
        "list1 = [1,2,3,4,5,6,6,6,7,7,8, 9]\n",
        "# print(list1.index(6))\n",
        "print(list1.index(6, 5))\n",
        "print(list1.index(6, 6, -1))\n",
        "print(list1.index(6, 7, -1))\n",
        "# print(list1.index(6, 8, -1))\n"
      ],
      "execution_count": 12,
      "outputs": [
        {
          "output_type": "stream",
          "name": "stdout",
          "text": [
            "5\n",
            "6\n",
            "7\n"
          ]
        }
      ]
    },
    {
      "cell_type": "markdown",
      "metadata": {
        "id": "wvkqob8mcMVR"
      },
      "source": [
        "# count() 計算次數 : \n",
        "## list.count(obj)"
      ]
    },
    {
      "cell_type": "code",
      "metadata": {
        "colab": {
          "base_uri": "https://localhost:8080/"
        },
        "id": "qGyCF8bkbbI4",
        "outputId": "066cf996-328a-4b01-a5d2-8423efbc6ba3"
      },
      "source": [
        "index = [0,1,2,3,4,5,6,7,8,9,10,11]\n",
        "list1 = [1,2,3,4,5,6,6,6,7,7,8, 9]\n",
        "\n",
        "print(list1.count(6))\n",
        "print(list1.count(7))\n",
        "print(list1.count(10))\n"
      ],
      "execution_count": 15,
      "outputs": [
        {
          "output_type": "stream",
          "name": "stdout",
          "text": [
            "3\n",
            "2\n",
            "0\n"
          ]
        }
      ]
    },
    {
      "cell_type": "markdown",
      "metadata": {
        "id": "iV3ffsATcQAP"
      },
      "source": [
        "# 增加串列元素的方法 :"
      ]
    },
    {
      "cell_type": "code",
      "metadata": {
        "colab": {
          "base_uri": "https://localhost:8080/"
        },
        "id": "BuGWO0Qbc_IX",
        "outputId": "25786704-d337-47b9-c171-f83d7a56ac51"
      },
      "source": [
        "index = [0,1,2,3,4,5,6,7,8,9,10,11]\n",
        "list1 = [1,2,3,4,5,6,6,6,7,7,8, 9]\n",
        "list1[11] = 999  # 改變索引值為11的串列元素\n",
        "print(list1)\n",
        "\n",
        "# list[12] = 1111 # 新增第 12 個索引值\n",
        "# print(list1) \n",
        "# 出錯"
      ],
      "execution_count": 18,
      "outputs": [
        {
          "output_type": "stream",
          "name": "stdout",
          "text": [
            "[1, 2, 3, 4, 5, 6, 6, 6, 7, 7, 8, 999]\n"
          ]
        }
      ]
    },
    {
      "cell_type": "markdown",
      "metadata": {
        "id": "UIDrWlMAdn0A"
      },
      "source": [
        "# append()方法 :\n",
        "## 串列名稱.append(元素值)"
      ]
    },
    {
      "cell_type": "code",
      "metadata": {
        "colab": {
          "base_uri": "https://localhost:8080/"
        },
        "id": "466zMuQ3dsk-",
        "outputId": "0801c3b0-8a7a-4d91-8018-4617a97b7f6a"
      },
      "source": [
        "index = [0,1,2,3,4,5,6,7,8,9,10,11]\n",
        "list1 = [1,2,3,4,5,6,6,6,7,7,8, 9]\n",
        "list1.append(9999)\n",
        "print(list1)  # 將元素加在串列最後面"
      ],
      "execution_count": 19,
      "outputs": [
        {
          "output_type": "stream",
          "name": "stdout",
          "text": [
            "[1, 2, 3, 4, 5, 6, 6, 6, 7, 7, 8, 9, 9999]\n"
          ]
        }
      ]
    },
    {
      "cell_type": "markdown",
      "metadata": {
        "id": "sEgrUqBOeJh-"
      },
      "source": [
        "# insert() 方法 :\n",
        "## 串列名稱.insert(索引值, 串列元素)"
      ]
    },
    {
      "cell_type": "code",
      "metadata": {
        "colab": {
          "base_uri": "https://localhost:8080/"
        },
        "id": "CheNK7YMel6g",
        "outputId": "49a4dc4c-1ab7-44de-f5eb-7e36edff4287"
      },
      "source": [
        "index = [0,1,2,3,4,5,6,7,8,9,10,11]\n",
        "list1 = [1,2,3,4,5,6,6,6,7,7,8, 9]\n",
        "list1.insert(2, 9999999)\n",
        "print(list1)\n",
        "list1.insert(12, 999999)          #將元素插入在串列中指定索引位置\n",
        "print(list1)\n",
        "list1.insert(14, 999999)         # 將元素插在最後面 相當於append()\n",
        "print(list1)              # 如果索引值大於或等於串列元素個數，將如同append()方法一樣將串列元素加在最後面"
      ],
      "execution_count": 23,
      "outputs": [
        {
          "output_type": "stream",
          "name": "stdout",
          "text": [
            "[1, 2, 9999999, 3, 4, 5, 6, 6, 6, 7, 7, 8, 9]\n",
            "[1, 2, 9999999, 3, 4, 5, 6, 6, 6, 7, 7, 8, 999999, 9]\n",
            "[1, 2, 9999999, 3, 4, 5, 6, 6, 6, 7, 7, 8, 999999, 9, 999999]\n"
          ]
        }
      ]
    },
    {
      "cell_type": "markdown",
      "metadata": {
        "id": "o0-HLPGhfIHl"
      },
      "source": [
        "# 刪除串列元素 : "
      ]
    },
    {
      "cell_type": "markdown",
      "metadata": {
        "id": "4edR19WYgJYj"
      },
      "source": [
        "# remove()方法\n",
        "## list.remove(obj)\n",
        "### obj -- 列表中要移除的對象。"
      ]
    },
    {
      "cell_type": "code",
      "metadata": {
        "colab": {
          "base_uri": "https://localhost:8080/"
        },
        "id": "EdoNa-gpgk37",
        "outputId": "0c4dbb2f-71cb-4edc-941b-c6871c4e0681"
      },
      "source": [
        "index = [0,1,2,3,4,5,6,7,8,9,10,11]\n",
        "list1 = [1,2,3,4,5,6,6,6,7,7,8, 9]\n",
        "list1.remove(6)   # 刪除串列中第一個指定的串列元素\n",
        "print(list1)\n",
        "\n",
        "# list1.remove(999)  # 若要刪除的串列元素不在串列中，將會出錯\n",
        "# print(list1)"
      ],
      "execution_count": 26,
      "outputs": [
        {
          "output_type": "stream",
          "name": "stdout",
          "text": [
            "[1, 2, 3, 4, 5, 6, 6, 7, 7, 8, 9]\n"
          ]
        }
      ]
    },
    {
      "cell_type": "markdown",
      "metadata": {
        "id": "RTWu_Q-rhHhQ"
      },
      "source": [
        "# pop() 方法\n",
        "## 串列名稱.pop( [ index=-1 ] )\n",
        "### 若無參數, 則會取出最後一個元素\n",
        "### 若有參數，參數的資料型態必須為整數，就會取出以參數為索引值的元素"
      ]
    },
    {
      "cell_type": "code",
      "metadata": {
        "colab": {
          "base_uri": "https://localhost:8080/"
        },
        "id": "lbL0X4afhwOF",
        "outputId": "cae39ec0-5d7a-48e3-d7aa-c91a3ae1f360"
      },
      "source": [
        "index = [0,1,2,3,4,5,6,7,8,9,10,11]\n",
        "list1 = [1,2,3,4,5,6,6,6,7,7,8, 9]\n",
        "\n",
        "n = list1.pop(2)  # 取出 3\n",
        "print(n)\n",
        "print(list1)\n",
        "\n",
        "x = list1.pop()\n",
        "print(x)\n",
        "print(list1)"
      ],
      "execution_count": 29,
      "outputs": [
        {
          "output_type": "stream",
          "name": "stdout",
          "text": [
            "3\n",
            "[1, 2, 4, 5, 6, 6, 6, 7, 7, 8, 9]\n",
            "9\n",
            "[1, 2, 4, 5, 6, 6, 6, 7, 7, 8]\n"
          ]
        }
      ]
    },
    {
      "cell_type": "markdown",
      "metadata": {
        "id": "s9_Wn4BmiLtZ"
      },
      "source": [
        "# del 刪除串列元素\n",
        "## 刪除串列單一元素 :\n",
        "### del 串列名稱(索引值)\n",
        "## 刪除串列指定範圍元素 :\n",
        "### del 串列名稱[起始值 : 終止值 [: 間隔值] ]"
      ]
    },
    {
      "cell_type": "code",
      "metadata": {
        "colab": {
          "base_uri": "https://localhost:8080/"
        },
        "id": "sNzTNJHWjc3s",
        "outputId": "235883a4-66d3-4d53-bd10-85d50110af3e"
      },
      "source": [
        "index = [0,1,2,3,4,5,6,7,8,9,10,11]\n",
        "list1 = [1,2,3,4,5,6,6,6,7,7,8, 9]\n",
        "\n",
        "del list1[-2]  # 刪除 8\n",
        "print(list1)\n",
        "\n",
        "del list1[5 : 8] # 刪除6\n",
        "print(list1)"
      ],
      "execution_count": 34,
      "outputs": [
        {
          "output_type": "stream",
          "name": "stdout",
          "text": [
            "[1, 2, 3, 4, 5, 6, 6, 6, 7, 7, 9]\n",
            "[1, 2, 3, 4, 5, 7, 7, 9]\n"
          ]
        }
      ]
    },
    {
      "cell_type": "code",
      "metadata": {
        "id": "NacSYETXkRv-"
      },
      "source": [
        ""
      ],
      "execution_count": null,
      "outputs": []
    }
  ]
}