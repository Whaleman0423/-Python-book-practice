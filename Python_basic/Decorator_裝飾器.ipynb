{
  "nbformat": 4,
  "nbformat_minor": 0,
  "metadata": {
    "colab": {
      "name": "Decorator_裝飾器.ipynb",
      "provenance": [],
      "collapsed_sections": [],
      "authorship_tag": "ABX9TyPmxopGlYlLyANg0NfGxnRO",
      "include_colab_link": true
    },
    "kernelspec": {
      "name": "python3",
      "display_name": "Python 3"
    },
    "language_info": {
      "name": "python"
    }
  },
  "cells": [
    {
      "cell_type": "markdown",
      "metadata": {
        "id": "view-in-github",
        "colab_type": "text"
      },
      "source": [
        "<a href=\"https://colab.research.google.com/github/Whaleman0423/Python/blob/main/Python_basic/Decorator_%E8%A3%9D%E9%A3%BE%E5%99%A8.ipynb\" target=\"_parent\"><img src=\"https://colab.research.google.com/assets/colab-badge.svg\" alt=\"Open In Colab\"/></a>"
      ]
    },
    {
      "cell_type": "markdown",
      "metadata": {
        "id": "mLn2WpnwDhZz"
      },
      "source": [
        "# 裝飾器 - 基本篇"
      ]
    },
    {
      "cell_type": "markdown",
      "metadata": {
        "id": "64le4zq0D5MQ"
      },
      "source": [
        "## 裝飾器是 一個\"特殊設計的函式\"，用來「輔助」其他的函式。"
      ]
    },
    {
      "cell_type": "code",
      "metadata": {
        "id": "rys1MfWSETS7"
      },
      "source": [
        "def 裝飾器名稱(回呼函式名稱):\n",
        "  def 內部函式名稱():\n",
        "    #裝飾器內部的程式碼\n",
        "    回呼函式名稱\n",
        "  return 內部函式名稱"
      ],
      "execution_count": null,
      "outputs": []
    },
    {
      "cell_type": "markdown",
      "metadata": {
        "id": "glPdXnbgHAGD"
      },
      "source": [
        "## 使用裝飾器"
      ]
    },
    {
      "cell_type": "code",
      "metadata": {
        "id": "9MyBEBU_HLi6"
      },
      "source": [
        "@裝飾器名稱\n",
        "def 函式名稱():\n",
        "  # 函式內部的程式碼\n",
        "\n",
        "函式名稱() # 呼叫\"帶有裝飾器的函式\""
      ],
      "execution_count": null,
      "outputs": []
    },
    {
      "cell_type": "markdown",
      "metadata": {
        "id": "3U8Iv5I1Hh1m"
      },
      "source": [
        "## 程式範例"
      ]
    },
    {
      "cell_type": "code",
      "metadata": {
        "colab": {
          "base_uri": "https://localhost:8080/"
        },
        "id": "wJAaYXlQH7pa",
        "outputId": "3211841c-b6bb-4449-956f-8bbd33aa01c0"
      },
      "source": [
        "def testDecorator(callback):  # 定義裝飾器\n",
        "  def innerFunc():\n",
        "    print(\"裝飾器\")\n",
        "    callback()\n",
        "  return innerFunc\n",
        "\n",
        "@testDecorator   # 使用裝飾器\n",
        "def decoratedFunc():\n",
        "  print(\"普通函式\")\n",
        "\n",
        "decoratedFunc()"
      ],
      "execution_count": 2,
      "outputs": [
        {
          "output_type": "stream",
          "name": "stdout",
          "text": [
            "裝飾器\n",
            "普通函式\n"
          ]
        }
      ]
    },
    {
      "cell_type": "markdown",
      "metadata": {
        "id": "sM-qVIzCJ04z"
      },
      "source": [
        "### 先執行裝飾器內的程式碼 => 印出\"裝飾器\"\n",
        "### 在執行callback 呼叫回呼函式 \n",
        "### 回呼函式 就是 decoratedFunc()\n",
        "### 印出普通函式"
      ]
    },
    {
      "cell_type": "markdown",
      "metadata": {
        "id": "mpVkm36aKU0W"
      },
      "source": [
        "#### 大方向：先執行裝飾器的程式碼 => 在執行原本函式的程式碼"
      ]
    },
    {
      "cell_type": "code",
      "metadata": {
        "colab": {
          "base_uri": "https://localhost:8080/"
        },
        "id": "lFGloEfVLaJZ",
        "outputId": "238fa935-06a7-42c3-8859-fe11bfdae64e"
      },
      "source": [
        "def testDecorator1(callback):\n",
        "  def innerFunc():\n",
        "    print(\"裝飾器\")\n",
        "    callback(10)\n",
        "  return innerFunc\n",
        "\n",
        "@testDecorator1\n",
        "def decoratedFunc1(data):\n",
        "  print(\"普通函式\", data)\n",
        "\n",
        "decoratedFunc1()"
      ],
      "execution_count": 8,
      "outputs": [
        {
          "output_type": "stream",
          "name": "stdout",
          "text": [
            "裝飾器\n",
            "普通函式 10\n"
          ]
        }
      ]
    },
    {
      "cell_type": "markdown",
      "metadata": {
        "id": "TemDa2vRM4Mj"
      },
      "source": [
        "## 演練"
      ]
    },
    {
      "cell_type": "code",
      "metadata": {
        "id": "ishcjzykM6h6"
      },
      "source": [
        "# 定義裝飾器\n",
        "def myDeco(cb):\n",
        "  def run():\n",
        "    print(\"裝飾器中的程式碼\")\n",
        "    cb(99)\n",
        "  return run"
      ],
      "execution_count": 12,
      "outputs": []
    },
    {
      "cell_type": "code",
      "metadata": {
        "colab": {
          "base_uri": "https://localhost:8080/"
        },
        "id": "ua76w8PRNAR4",
        "outputId": "613fbe77-d034-49b3-c1c1-8acea3530175"
      },
      "source": [
        "# 使用裝飾器\n",
        "@myDeco\n",
        "def test(n):\n",
        "  print(\"普通函式的程式碼\", n)\n",
        "\n",
        "test()"
      ],
      "execution_count": 13,
      "outputs": [
        {
          "output_type": "stream",
          "name": "stdout",
          "text": [
            "裝飾器中的程式碼\n",
            "普通函式的程式碼 99\n"
          ]
        }
      ]
    },
    {
      "cell_type": "markdown",
      "metadata": {
        "id": "fx01OgOqOh1k"
      },
      "source": [
        "## 實例\n",
        "### 定義一個裝飾器，計算 1 + 2 + ... + 50 的總和"
      ]
    },
    {
      "cell_type": "code",
      "metadata": {
        "colab": {
          "base_uri": "https://localhost:8080/"
        },
        "id": "gdWim8n7QD2f",
        "outputId": "9df07987-a53a-482f-e676-0fd98a950abe"
      },
      "source": [
        "def caculate(callback):\n",
        "  def run():\n",
        "    result = 0\n",
        "    for n in range(51):\n",
        "      result += n\n",
        "    print(result) # 印出  1 + 2 + ... + 50 的總和\n",
        "    callback()\n",
        "  return run\n",
        "\n",
        "# 使用裝飾器\n",
        "@caculate\n",
        "def show():\n",
        "  print(\"普通函式的程式碼\")\n",
        "show()"
      ],
      "execution_count": 15,
      "outputs": [
        {
          "output_type": "stream",
          "name": "stdout",
          "text": [
            "1275\n",
            "普通函式的程式碼\n"
          ]
        }
      ]
    },
    {
      "cell_type": "markdown",
      "metadata": {
        "id": "9-htgosJRDnb"
      },
      "source": [
        "### 運用參數!!"
      ]
    },
    {
      "cell_type": "code",
      "metadata": {
        "colab": {
          "base_uri": "https://localhost:8080/"
        },
        "id": "dIIspwpqRGSW",
        "outputId": "0324d442-f90d-4fc0-bf8b-0be663454562"
      },
      "source": [
        "def caculate(callback):\n",
        "  def run():\n",
        "    result = 0\n",
        "    for n in range(51):\n",
        "      result += n\n",
        "    # 把計算結果透過參數傳到被裝飾的普通函式中\n",
        "    callback(result)\n",
        "  return run\n",
        "\n",
        "# 使用裝飾器\n",
        "@caculate\n",
        "def show(N):\n",
        "  print(\"計算結果是：\", N, \"普通函式的程式碼\", sep=\"\\n\")\n",
        "show()"
      ],
      "execution_count": 18,
      "outputs": [
        {
          "output_type": "stream",
          "name": "stdout",
          "text": [
            "計算結果是：\n",
            "1275\n",
            "普通函式的程式碼\n"
          ]
        }
      ]
    },
    {
      "cell_type": "code",
      "metadata": {
        "colab": {
          "base_uri": "https://localhost:8080/"
        },
        "id": "Ut_87-IvSHoE",
        "outputId": "ab2e80d3-359a-4bc7-ab21-0332819a0018"
      },
      "source": [
        "@caculate\n",
        "def show_eng(n):\n",
        "  print(\"Result is:\", n)\n",
        "show_eng()"
      ],
      "execution_count": 20,
      "outputs": [
        {
          "output_type": "stream",
          "name": "stdout",
          "text": [
            "Result is: 1275\n"
          ]
        }
      ]
    },
    {
      "cell_type": "markdown",
      "metadata": {
        "id": "TUzsRxMQSkl-"
      },
      "source": [
        "## 可以重複使用的裝飾器"
      ]
    },
    {
      "cell_type": "code",
      "metadata": {
        "colab": {
          "base_uri": "https://localhost:8080/"
        },
        "id": "oEsyah6nSutB",
        "outputId": "46968ea2-1b8b-4e9d-e5aa-c9119ee0a028"
      },
      "source": [
        "show()\n",
        "show_eng()"
      ],
      "execution_count": 21,
      "outputs": [
        {
          "output_type": "stream",
          "name": "stdout",
          "text": [
            "計算結果是：\n",
            "1275\n",
            "普通函式的程式碼\n",
            "Result is: 1275\n"
          ]
        }
      ]
    }
  ]
}