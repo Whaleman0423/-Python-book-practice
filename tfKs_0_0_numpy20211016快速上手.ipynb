{
  "nbformat": 4,
  "nbformat_minor": 0,
  "metadata": {
    "colab": {
      "name": "tfKs_0-0_numpy20211016快速上手.ipynb",
      "provenance": [],
      "collapsed_sections": [],
      "authorship_tag": "ABX9TyNkD/fmr3bT/55/GXVtsu8t",
      "include_colab_link": true
    },
    "kernelspec": {
      "name": "python3",
      "display_name": "Python 3"
    },
    "language_info": {
      "name": "python"
    }
  },
  "cells": [
    {
      "cell_type": "markdown",
      "metadata": {
        "id": "view-in-github",
        "colab_type": "text"
      },
      "source": [
        "<a href=\"https://colab.research.google.com/github/Whaleman0423/-Python-book-practice/blob/main/tfKs_0_0_numpy20211016%E5%BF%AB%E9%80%9F%E4%B8%8A%E6%89%8B.ipynb\" target=\"_parent\"><img src=\"https://colab.research.google.com/assets/colab-badge.svg\" alt=\"Open In Colab\"/></a>"
      ]
    },
    {
      "cell_type": "markdown",
      "metadata": {
        "id": "jPtWSWtyzBK2"
      },
      "source": [
        "#tf.Keras numpy快速上手，自我練習\n"
      ]
    },
    {
      "cell_type": "markdown",
      "metadata": {
        "id": "GK03SfjfyrlF"
      },
      "source": [
        "#### shape 有幾個數 => 即 幾 軸 (或 幾階)\n",
        "#### 例如 [[1, 2, 3] , [4, 5, 6]]  => shape => (2, 3) => 兩軸\n",
        "#### => 第 0 軸 => 2維\n",
        "#### => 第 1 軸 => 3維"
      ]
    },
    {
      "cell_type": "markdown",
      "metadata": {
        "id": "yDEwkpFdzkpl"
      },
      "source": [
        "### 單軸 => 向量 \n",
        "### 例如: [1, 2, 3, 4] => shape => (4,) => (單軸)四維向量"
      ]
    },
    {
      "cell_type": "markdown",
      "metadata": {
        "id": "ae_ZNKFj0ykn"
      },
      "source": [
        "#### 雙軸 => 矩陣\n",
        "#### 例如:[[1, 2, 3, 4], [5, 6, 7, 8]] => shape => (2, 4) => (雙軸) 2 ×　4 矩陣 \n",
        "#### 第一軸是 => 2維 ， 第二軸是 => 四維\n",
        " "
      ]
    },
    {
      "cell_type": "markdown",
      "metadata": {
        "id": "Dqgms75N3AEg"
      },
      "source": [
        "### 3D 向量 vs. 3D 陣列 :\n",
        "### 3D 向量 => 單軸 => shape => (3,) => 例子: [1, 2, 3]\n",
        "### 3D 陣列 => 三軸 => 例子 => shape => (1, 2, 3) => 第一軸是 => 1維 ， 第二軸是 => 2維 ， 第三軸是 => 3維"
      ]
    },
    {
      "cell_type": "markdown",
      "metadata": {
        "id": "xP2Vy3kc4DPq"
      },
      "source": [
        "# 此書 D 皆代表 \"軸\""
      ]
    },
    {
      "cell_type": "markdown",
      "metadata": {
        "id": "gsRIqueC4XG8"
      },
      "source": [
        "## Numpy 的 優點:\n",
        "### 1. 占空間小，存取速度快\n",
        "### 2. 所有元素的型別的必須相同\n",
        "### 3. 每軸的元素數 必須和shape相同\n",
        "#### 如 2　×　2 陣列 不能是 [[1, 2], [3]] 或 [[1, 2], [3, 4, 5]]"
      ]
    }
  ]
}