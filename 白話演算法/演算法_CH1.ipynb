{
  "nbformat": 4,
  "nbformat_minor": 0,
  "metadata": {
    "colab": {
      "name": "演算法_CH1.ipynb",
      "provenance": [],
      "authorship_tag": "ABX9TyOW6hFkePNxm5Z2Qn5ZVRx2",
      "include_colab_link": true
    },
    "kernelspec": {
      "name": "python3",
      "display_name": "Python 3"
    },
    "language_info": {
      "name": "python"
    }
  },
  "cells": [
    {
      "cell_type": "markdown",
      "metadata": {
        "id": "view-in-github",
        "colab_type": "text"
      },
      "source": [
        "<a href=\"https://colab.research.google.com/github/Whaleman0423/Python/blob/main/%E7%99%BD%E8%A9%B1%E6%BC%94%E7%AE%97%E6%B3%95/%E6%BC%94%E7%AE%97%E6%B3%95_CH1.ipynb\" target=\"_parent\"><img src=\"https://colab.research.google.com/assets/colab-badge.svg\" alt=\"Open In Colab\"/></a>"
      ]
    },
    {
      "cell_type": "markdown",
      "source": [
        "## Ch 1-1"
      ],
      "metadata": {
        "id": "5084aiYv_on1"
      }
    },
    {
      "cell_type": "code",
      "source": [
        "\"\"\"1-1 二元搜尋法，只能用在經過排序的清單\"\"\"\n",
        "\n",
        "def binary_search(list, item):\n",
        "  \"\"\"\n",
        "  參數：\n",
        "    list \n",
        "      已排序的清單\n",
        "    item\n",
        "      要找的數字\n",
        "  return\n",
        "    若找到該數字，回傳該數字在清單內的索引\n",
        "    若沒找到，回傳 None \n",
        "  \"\"\"\n",
        "  # 初始低索引數\n",
        "  low = 0\n",
        "  # 清單內的數量 - 1 => 高索引數 #  清單的索引數為從 0 開始，因此需減 1，即為清單內最後一個數字的索引數\n",
        "  high = len(list) - 1 \n",
        "\n",
        "  # 當 低值 <= 高值 \n",
        "  while low <= high:\n",
        "    # 中間索引數，若 low+high 非偶數，則會捨去小數，只取整數\n",
        "    mid = (low + high) // 2\n",
        "    # 要猜的數\n",
        "    guess = list[mid]\n",
        "    # 找到想要找的數\n",
        "    if guess == item:\n",
        "      # 回傳\n",
        "      return mid\n",
        "    # 猜得太高\n",
        "    if guess > item:\n",
        "      # 更新 high 值\n",
        "      high = mid - 1\n",
        "    # 猜得太低\n",
        "    else:\n",
        "      # 更新 low 值\n",
        "      low = mid + 1\n",
        "  # 想找的元素不存在\n",
        "  return None"
      ],
      "metadata": {
        "id": "rHBHEJ0Z8AiL"
      },
      "execution_count": 14,
      "outputs": []
    },
    {
      "cell_type": "code",
      "source": [
        "# 主程式\n",
        "my_list = [1, 3, 5, 7, 9] # 用來測試的 list\n",
        "\n",
        "print(binary_search(my_list, 3))  \n",
        "\n",
        "print(binary_search(my_list, -1))"
      ],
      "metadata": {
        "colab": {
          "base_uri": "https://localhost:8080/"
        },
        "id": "ZDsLiv0O-YWd",
        "outputId": "b2eba5f7-74ed-4ea6-b170-36d0b50c0076"
      },
      "execution_count": 15,
      "outputs": [
        {
          "output_type": "stream",
          "name": "stdout",
          "text": [
            "1\n",
            "None\n"
          ]
        }
      ]
    },
    {
      "cell_type": "markdown",
      "source": [
        "假設有一份經過排序的清單，清單內有 128 個名字，若使用二元搜尋法尋找名字，在最差的情況下需要多少個步驟  \n",
        "Ans： $log{_2}{128}$ + 1 = 8 \n",
        "\n",
        "若清單的長度增加一倍，最多會需要幾個步驟？  \n",
        "Ans： $log{_2}{256}$ + 1 = 9\n"
      ],
      "metadata": {
        "id": "Kkl63pTSDSER"
      }
    },
    {
      "cell_type": "markdown",
      "source": [
        "## Ch 1-2 Big O notation\n",
        "* Big O notation (大 O 符號)是一種評估演算法效益的方法，他通常是用來表示演算法的執行速度。  \n",
        "* 演算法的執行時間不會隨著元素的增加而成等比增加。  \n",
        "* Big O notation 不用秒計算執行速度，而是以運算次數來計算執行速度\n",
        "* 它代表的是演算法運算次數的增長速率  \n",
        "\n",
        "例如，假設有 n 筆資料，簡易搜尋法需要查找每個元素，因此必須操作 n 次。  \n",
        "二元搜尋法則需要 $log{_2}{n}$ 個步驟來檢查 n 筆資料，即 O($log{_2}{n}$)。  \n",
        "* O 代表 Operation，即運算次數。  \n",
        "\n"
      ],
      "metadata": {
        "id": "V7X880mGHFTR"
      }
    },
    {
      "cell_type": "code",
      "source": [
        ""
      ],
      "metadata": {
        "id": "4T0ca3RYDQOS"
      },
      "execution_count": 15,
      "outputs": []
    }
  ]
}