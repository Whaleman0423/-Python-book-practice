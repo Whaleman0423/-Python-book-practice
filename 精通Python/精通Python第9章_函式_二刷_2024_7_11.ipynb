{
  "nbformat": 4,
  "nbformat_minor": 0,
  "metadata": {
    "colab": {
      "provenance": [],
      "authorship_tag": "ABX9TyM8fy2f4COWd4CH0QEEt7CK",
      "include_colab_link": true
    },
    "kernelspec": {
      "name": "python3",
      "display_name": "Python 3"
    },
    "language_info": {
      "name": "python"
    }
  },
  "cells": [
    {
      "cell_type": "markdown",
      "metadata": {
        "id": "view-in-github",
        "colab_type": "text"
      },
      "source": [
        "<a href=\"https://colab.research.google.com/github/Whaleman0423/Python/blob/main/%E7%B2%BE%E9%80%9APython/%E7%B2%BE%E9%80%9APython%E7%AC%AC9%E7%AB%A0_%E5%87%BD%E5%BC%8F_%E4%BA%8C%E5%88%B7_2024_7_11.ipynb\" target=\"_parent\"><img src=\"https://colab.research.google.com/assets/colab-badge.svg\" alt=\"Open In Colab\"/></a>"
      ]
    },
    {
      "cell_type": "code",
      "execution_count": 1,
      "metadata": {
        "id": "7zjkearE0QU9"
      },
      "outputs": [],
      "source": [
        "def do_nothing():\n",
        "  pass"
      ]
    },
    {
      "cell_type": "code",
      "source": [
        "do_nothing()"
      ],
      "metadata": {
        "id": "St7Y9IRN0uqI"
      },
      "execution_count": 2,
      "outputs": []
    },
    {
      "cell_type": "code",
      "source": [
        "def make_a_sound():\n",
        "  print(\"quack\")\n",
        "\n",
        "make_a_sound()"
      ],
      "metadata": {
        "colab": {
          "base_uri": "https://localhost:8080/"
        },
        "id": "nSyWZjMp01Nz",
        "outputId": "fa03c8e4-5a22-4f92-b71b-c0a2f6f899e2"
      },
      "execution_count": 4,
      "outputs": [
        {
          "output_type": "stream",
          "name": "stdout",
          "text": [
            "quack\n"
          ]
        }
      ]
    },
    {
      "cell_type": "code",
      "source": [
        "def agree():\n",
        "  return True"
      ],
      "metadata": {
        "id": "TuKx9iOJ1KFI"
      },
      "execution_count": 6,
      "outputs": []
    },
    {
      "cell_type": "code",
      "source": [
        "if agree():\n",
        "  print(\"Splendid!\")\n",
        "else:\n",
        "  print(\"That was unexpected.\")"
      ],
      "metadata": {
        "colab": {
          "base_uri": "https://localhost:8080/"
        },
        "id": "Tfi1Cx4I1PSD",
        "outputId": "f65a7b83-d164-4b97-b868-f4023278c938"
      },
      "execution_count": 7,
      "outputs": [
        {
          "output_type": "stream",
          "name": "stdout",
          "text": [
            "Splendid!\n"
          ]
        }
      ]
    },
    {
      "cell_type": "code",
      "source": [
        "def echo(anything):\n",
        "  return anything + \" \" + anything"
      ],
      "metadata": {
        "id": "f7RzNi4L1grT"
      },
      "execution_count": 8,
      "outputs": []
    },
    {
      "cell_type": "code",
      "source": [
        "echo(\"Apple\")"
      ],
      "metadata": {
        "colab": {
          "base_uri": "https://localhost:8080/",
          "height": 35
        },
        "id": "XUGR3Ycu1wHg",
        "outputId": "9ef377ab-dbf9-4904-c06a-10d8a70e1f5b"
      },
      "execution_count": 9,
      "outputs": [
        {
          "output_type": "execute_result",
          "data": {
            "text/plain": [
              "'Apple Apple'"
            ],
            "application/vnd.google.colaboratory.intrinsic+json": {
              "type": "string"
            }
          },
          "metadata": {},
          "execution_count": 9
        }
      ]
    },
    {
      "cell_type": "code",
      "source": [
        "def commentary(color):\n",
        "  if color == \"red\":\n",
        "    return \"It's a tomato.\"\n",
        "  elif color == \"green\":\n",
        "    return \"It's a green pepper.\"\n",
        "  elif color == \"bee purple\":\n",
        "    return \"I don't know what it is, but only bees can see it.\"\n",
        "  else:\n",
        "    return \"I'v never heard of the color \" + color + \".\""
      ],
      "metadata": {
        "id": "bhmbxfQM2F15"
      },
      "execution_count": 10,
      "outputs": []
    },
    {
      "cell_type": "code",
      "source": [
        "comment = commentary(\"blue\")"
      ],
      "metadata": {
        "id": "SXueyTPO2vtC"
      },
      "execution_count": 11,
      "outputs": []
    },
    {
      "cell_type": "code",
      "source": [
        "print(comment)"
      ],
      "metadata": {
        "colab": {
          "base_uri": "https://localhost:8080/"
        },
        "id": "BJ73-hy93Azs",
        "outputId": "3a5fcac6-51b6-44b7-b233-1615d05a21aa"
      },
      "execution_count": 12,
      "outputs": [
        {
          "output_type": "stream",
          "name": "stdout",
          "text": [
            "I'v never heard of the color blue.\n"
          ]
        }
      ]
    },
    {
      "cell_type": "code",
      "source": [
        "print(do_nothing())"
      ],
      "metadata": {
        "colab": {
          "base_uri": "https://localhost:8080/"
        },
        "id": "5tzhZrhj3G6r",
        "outputId": "b15c58d9-d223-4e39-a5db-2537840e4bf7"
      },
      "execution_count": 13,
      "outputs": [
        {
          "output_type": "stream",
          "name": "stdout",
          "text": [
            "None\n"
          ]
        }
      ]
    },
    {
      "cell_type": "code",
      "source": [
        "thing = None\n",
        "\n",
        "if thing:\n",
        "  print(\"It's some thing\")\n",
        "else:\n",
        "  print(\"It's no thing\")"
      ],
      "metadata": {
        "colab": {
          "base_uri": "https://localhost:8080/"
        },
        "id": "CFXSi5wS3Jot",
        "outputId": "f901ddf7-23d1-4380-f2dc-e96782ce0b20"
      },
      "execution_count": 14,
      "outputs": [
        {
          "output_type": "stream",
          "name": "stdout",
          "text": [
            "It's no thing\n"
          ]
        }
      ]
    },
    {
      "cell_type": "code",
      "source": [
        "thing = None\n",
        "\n",
        "if thing is None:\n",
        "  print(\"It's nothing\")\n",
        "else:\n",
        "  print(\"It's something\")"
      ],
      "metadata": {
        "colab": {
          "base_uri": "https://localhost:8080/"
        },
        "id": "IGvBNQ-23XxQ",
        "outputId": "90af2a86-a0a2-4302-ab66-37a5cf090cc4"
      },
      "execution_count": 15,
      "outputs": [
        {
          "output_type": "stream",
          "name": "stdout",
          "text": [
            "It's nothing\n"
          ]
        }
      ]
    },
    {
      "cell_type": "code",
      "source": [
        "# 可以用 None 來區分缺漏值(missing value) 與 空值"
      ],
      "metadata": {
        "id": "WwP1hir_3svH"
      },
      "execution_count": null,
      "outputs": []
    },
    {
      "cell_type": "code",
      "source": [
        "def whatis(thing):\n",
        "  if thing is None:\n",
        "    print(thing, \"is None\")\n",
        "  elif thing:\n",
        "    print(thing, \"is True\")\n",
        "  else:\n",
        "    print(thing, \"is False\")"
      ],
      "metadata": {
        "id": "1sb7qKAR4W43"
      },
      "execution_count": 16,
      "outputs": []
    },
    {
      "cell_type": "code",
      "source": [
        "whatis(None)"
      ],
      "metadata": {
        "colab": {
          "base_uri": "https://localhost:8080/"
        },
        "id": "hPjkLqej4pmB",
        "outputId": "8d1d1f23-e94a-4ede-aec5-2641a24f3136"
      },
      "execution_count": 17,
      "outputs": [
        {
          "output_type": "stream",
          "name": "stdout",
          "text": [
            "None is None\n"
          ]
        }
      ]
    },
    {
      "cell_type": "code",
      "source": [
        "whatis(True)"
      ],
      "metadata": {
        "colab": {
          "base_uri": "https://localhost:8080/"
        },
        "id": "WF3qFDHG4sew",
        "outputId": "50799006-612b-423b-be7a-e9c4e9950d18"
      },
      "execution_count": 18,
      "outputs": [
        {
          "output_type": "stream",
          "name": "stdout",
          "text": [
            "True is True\n"
          ]
        }
      ]
    },
    {
      "cell_type": "code",
      "source": [
        "whatis(False)"
      ],
      "metadata": {
        "colab": {
          "base_uri": "https://localhost:8080/"
        },
        "id": "R4Z91Mok4ubN",
        "outputId": "afa0dda5-d03a-43c0-c140-b5a820ce9446"
      },
      "execution_count": 19,
      "outputs": [
        {
          "output_type": "stream",
          "name": "stdout",
          "text": [
            "False is False\n"
          ]
        }
      ]
    },
    {
      "cell_type": "code",
      "source": [
        "whatis(0)"
      ],
      "metadata": {
        "colab": {
          "base_uri": "https://localhost:8080/"
        },
        "id": "til3-RkN4w0W",
        "outputId": "1cad0c13-8401-474b-9b02-f48303534604"
      },
      "execution_count": 20,
      "outputs": [
        {
          "output_type": "stream",
          "name": "stdout",
          "text": [
            "0 is False\n"
          ]
        }
      ]
    },
    {
      "cell_type": "code",
      "source": [
        "whatis(0.0)"
      ],
      "metadata": {
        "colab": {
          "base_uri": "https://localhost:8080/"
        },
        "id": "lM_TuMYG42B3",
        "outputId": "4fc6dd8b-25dc-43ec-983c-e379ad5dfc52"
      },
      "execution_count": 21,
      "outputs": [
        {
          "output_type": "stream",
          "name": "stdout",
          "text": [
            "0.0 is False\n"
          ]
        }
      ]
    },
    {
      "cell_type": "code",
      "source": [
        "whatis(\"\")"
      ],
      "metadata": {
        "colab": {
          "base_uri": "https://localhost:8080/"
        },
        "id": "r3cbN2xb45iQ",
        "outputId": "bd45f897-c983-4c49-e6e4-f9ad8ded9014"
      },
      "execution_count": 22,
      "outputs": [
        {
          "output_type": "stream",
          "name": "stdout",
          "text": [
            " is False\n"
          ]
        }
      ]
    },
    {
      "cell_type": "code",
      "source": [
        "whatis('')"
      ],
      "metadata": {
        "colab": {
          "base_uri": "https://localhost:8080/"
        },
        "id": "Hn0jWFNT478R",
        "outputId": "62ef3bd8-e117-401c-df24-c0080c97acae"
      },
      "execution_count": 23,
      "outputs": [
        {
          "output_type": "stream",
          "name": "stdout",
          "text": [
            " is False\n"
          ]
        }
      ]
    },
    {
      "cell_type": "code",
      "source": [
        "whatis('''''')"
      ],
      "metadata": {
        "colab": {
          "base_uri": "https://localhost:8080/"
        },
        "id": "heyirNnT4-dU",
        "outputId": "2ba11b65-20f8-4265-f2fb-48cc99d5bae0"
      },
      "execution_count": 24,
      "outputs": [
        {
          "output_type": "stream",
          "name": "stdout",
          "text": [
            " is False\n"
          ]
        }
      ]
    },
    {
      "cell_type": "code",
      "source": [
        "whatis(())"
      ],
      "metadata": {
        "colab": {
          "base_uri": "https://localhost:8080/"
        },
        "id": "8kXPo-Su5BXx",
        "outputId": "a7ee6fe1-5fb8-4f5d-d062-46b067104532"
      },
      "execution_count": 25,
      "outputs": [
        {
          "output_type": "stream",
          "name": "stdout",
          "text": [
            "() is False\n"
          ]
        }
      ]
    },
    {
      "cell_type": "code",
      "source": [
        "whatis([])"
      ],
      "metadata": {
        "colab": {
          "base_uri": "https://localhost:8080/"
        },
        "id": "j4jqhOUR5Dp_",
        "outputId": "7aeac4fe-64b2-4680-9d3c-e31fcd2f46a5"
      },
      "execution_count": 26,
      "outputs": [
        {
          "output_type": "stream",
          "name": "stdout",
          "text": [
            "[] is False\n"
          ]
        }
      ]
    },
    {
      "cell_type": "code",
      "source": [
        "whatis({})"
      ],
      "metadata": {
        "colab": {
          "base_uri": "https://localhost:8080/"
        },
        "id": "vQS9LBuI5Fop",
        "outputId": "5d30114d-a750-410c-bdc1-3eab117bd969"
      },
      "execution_count": 27,
      "outputs": [
        {
          "output_type": "stream",
          "name": "stdout",
          "text": [
            "{} is False\n"
          ]
        }
      ]
    },
    {
      "cell_type": "code",
      "source": [
        "whatis(set())"
      ],
      "metadata": {
        "colab": {
          "base_uri": "https://localhost:8080/"
        },
        "id": "FIZRO3WQ5MsF",
        "outputId": "f14d8a4a-e441-429b-a335-790e22411631"
      },
      "execution_count": 28,
      "outputs": [
        {
          "output_type": "stream",
          "name": "stdout",
          "text": [
            "set() is False\n"
          ]
        }
      ]
    },
    {
      "cell_type": "code",
      "source": [
        "whatis(0.000000001)"
      ],
      "metadata": {
        "colab": {
          "base_uri": "https://localhost:8080/"
        },
        "id": "VXFckXpU5OqR",
        "outputId": "338fcf87-6109-4222-fe95-517576766f94"
      },
      "execution_count": 29,
      "outputs": [
        {
          "output_type": "stream",
          "name": "stdout",
          "text": [
            "1e-09 is True\n"
          ]
        }
      ]
    },
    {
      "cell_type": "code",
      "source": [
        "whatis([0])"
      ],
      "metadata": {
        "colab": {
          "base_uri": "https://localhost:8080/"
        },
        "id": "jThS-ZBd5Rq9",
        "outputId": "4fa31856-5c01-4025-d08b-1050fec14f26"
      },
      "execution_count": 30,
      "outputs": [
        {
          "output_type": "stream",
          "name": "stdout",
          "text": [
            "[0] is True\n"
          ]
        }
      ]
    },
    {
      "cell_type": "code",
      "source": [
        "whatis([''])"
      ],
      "metadata": {
        "colab": {
          "base_uri": "https://localhost:8080/"
        },
        "id": "YAfa2e7O5UbN",
        "outputId": "32f7c225-b2fc-4170-cd38-11469d302f53"
      },
      "execution_count": 31,
      "outputs": [
        {
          "output_type": "stream",
          "name": "stdout",
          "text": [
            "[''] is True\n"
          ]
        }
      ]
    },
    {
      "cell_type": "code",
      "source": [
        "whatis(' ')"
      ],
      "metadata": {
        "colab": {
          "base_uri": "https://localhost:8080/"
        },
        "id": "bhvOdPpf5ZTY",
        "outputId": "cde59bfb-c375-48a2-a044-ca09b89f91dd"
      },
      "execution_count": 34,
      "outputs": [
        {
          "output_type": "stream",
          "name": "stdout",
          "text": [
            "  is True\n"
          ]
        }
      ]
    },
    {
      "cell_type": "code",
      "source": [
        "# 位置性引數"
      ],
      "metadata": {
        "id": "A0S2mBIs5i2P"
      },
      "execution_count": null,
      "outputs": []
    },
    {
      "cell_type": "code",
      "source": [
        "def menu(wine, entree, dessert):\n",
        "  return {\"wine\": wine, \"entree\": entree, \"dessert\": dessert}"
      ],
      "metadata": {
        "id": "Ru8lCKrE5odZ"
      },
      "execution_count": 35,
      "outputs": []
    },
    {
      "cell_type": "code",
      "source": [
        "menu(\"chardonnay\", \"chicken\", \"cake，\")"
      ],
      "metadata": {
        "colab": {
          "base_uri": "https://localhost:8080/"
        },
        "id": "VTTLUK2I56F-",
        "outputId": "8ab4cf70-6429-49c8-c6f2-8e656297a1ba"
      },
      "execution_count": 37,
      "outputs": [
        {
          "output_type": "execute_result",
          "data": {
            "text/plain": [
              "{'wine': 'chardonnay', 'entree': 'chicken', 'dessert': 'cake，'}"
            ]
          },
          "metadata": {},
          "execution_count": 37
        }
      ]
    },
    {
      "cell_type": "code",
      "source": [
        "menu(\"beef\", \"bagel\", \"bordeaux\")"
      ],
      "metadata": {
        "colab": {
          "base_uri": "https://localhost:8080/"
        },
        "id": "dYGhYK626GW3",
        "outputId": "111ad5a1-bbbe-4ccc-c1e6-7212ae82310f"
      },
      "execution_count": 38,
      "outputs": [
        {
          "output_type": "execute_result",
          "data": {
            "text/plain": [
              "{'wine': 'beef', 'entree': 'bagel', 'dessert': 'bordeaux'}"
            ]
          },
          "metadata": {},
          "execution_count": 38
        }
      ]
    },
    {
      "cell_type": "code",
      "source": [
        "# 關鍵字引數"
      ],
      "metadata": {
        "id": "GIfRSyjk6SY5"
      },
      "execution_count": null,
      "outputs": []
    },
    {
      "cell_type": "code",
      "source": [
        "menu(entree=\"beef\", dessert=\"bagel\", wine=\"bordeaux\")"
      ],
      "metadata": {
        "colab": {
          "base_uri": "https://localhost:8080/"
        },
        "id": "zTUW-KP66VPS",
        "outputId": "3e6222ca-7082-4ca0-ebe6-46fe38fbb782"
      },
      "execution_count": 40,
      "outputs": [
        {
          "output_type": "execute_result",
          "data": {
            "text/plain": [
              "{'wine': 'bordeaux', 'entree': 'beef', 'dessert': 'bagel'}"
            ]
          },
          "metadata": {},
          "execution_count": 40
        }
      ]
    },
    {
      "cell_type": "code",
      "source": [
        "menu(\"frontenac\", dessert=\"flan\", entree=\"fish，\")"
      ],
      "metadata": {
        "colab": {
          "base_uri": "https://localhost:8080/"
        },
        "id": "JyUmDnZB7P9X",
        "outputId": "ff4a1443-cf0d-4a4e-d976-afde03f6622a"
      },
      "execution_count": 42,
      "outputs": [
        {
          "output_type": "execute_result",
          "data": {
            "text/plain": [
              "{'wine': 'frontenac', 'entree': 'fish，', 'dessert': 'flan'}"
            ]
          },
          "metadata": {},
          "execution_count": 42
        }
      ]
    },
    {
      "cell_type": "code",
      "source": [
        "# 指定預設參數值"
      ],
      "metadata": {
        "id": "XRWZZi_-7gDs"
      },
      "execution_count": null,
      "outputs": []
    },
    {
      "cell_type": "code",
      "source": [
        "def menu(wine, entree, dessert=\"pudding\"):\n",
        "  return {\"wind\": wine, \"entree\": entree, \"dessert\": dessert}"
      ],
      "metadata": {
        "id": "z8iDIo7bBnkJ"
      },
      "execution_count": 43,
      "outputs": []
    },
    {
      "cell_type": "code",
      "source": [
        "menu(\"chardonnay\", \"chicken\")"
      ],
      "metadata": {
        "colab": {
          "base_uri": "https://localhost:8080/"
        },
        "id": "PNMTkHAyB4qQ",
        "outputId": "5a76cc7b-3671-4a1f-fb47-8515ecc78d04"
      },
      "execution_count": 44,
      "outputs": [
        {
          "output_type": "execute_result",
          "data": {
            "text/plain": [
              "{'wind': 'chardonnay', 'entree': 'chicken', 'dessert': 'pudding'}"
            ]
          },
          "metadata": {},
          "execution_count": 44
        }
      ]
    },
    {
      "cell_type": "code",
      "source": [
        "menu(\"dunkelfelder\", \"duck\", \"doughnut\")"
      ],
      "metadata": {
        "colab": {
          "base_uri": "https://localhost:8080/"
        },
        "id": "0FXQk625CBuW",
        "outputId": "2185cc67-0ce1-4c6f-af4a-442fb14fbc57"
      },
      "execution_count": 45,
      "outputs": [
        {
          "output_type": "execute_result",
          "data": {
            "text/plain": [
              "{'wind': 'dunkelfelder', 'entree': 'duck', 'dessert': 'doughnut'}"
            ]
          },
          "metadata": {},
          "execution_count": 45
        }
      ]
    },
    {
      "cell_type": "code",
      "source": [
        "# 預設的參數值是在函式被定義的時候計算的，不是在執行的時候。"
      ],
      "metadata": {
        "id": "koTvcHk5COTW"
      },
      "execution_count": null,
      "outputs": []
    },
    {
      "cell_type": "code",
      "source": [
        "def buggy(arg, result=[]):\n",
        "  result.append(arg)\n",
        "  print(result)"
      ],
      "metadata": {
        "id": "oDhX0j7gCgj3"
      },
      "execution_count": 50,
      "outputs": []
    },
    {
      "cell_type": "code",
      "source": [
        "buggy(\"a\")"
      ],
      "metadata": {
        "colab": {
          "base_uri": "https://localhost:8080/"
        },
        "id": "bhk92GGtCpbE",
        "outputId": "7f3f1f33-7839-41f0-f40c-3e7543f3c8c1"
      },
      "execution_count": 51,
      "outputs": [
        {
          "output_type": "stream",
          "name": "stdout",
          "text": [
            "['a']\n"
          ]
        }
      ]
    },
    {
      "cell_type": "code",
      "source": [
        "buggy(\"b\") # 預期是 ['b']"
      ],
      "metadata": {
        "colab": {
          "base_uri": "https://localhost:8080/"
        },
        "id": "o6yWcU6HCstT",
        "outputId": "1c0504e1-16b3-4ddb-844a-ec73f9d97af8"
      },
      "execution_count": 52,
      "outputs": [
        {
          "output_type": "stream",
          "name": "stdout",
          "text": [
            "['a', 'b']\n"
          ]
        }
      ]
    },
    {
      "cell_type": "code",
      "source": [
        "# 這樣寫可以正常運作\n",
        "def work(arg):\n",
        "  result = []\n",
        "  result.append(arg)\n",
        "  return result"
      ],
      "metadata": {
        "id": "sDbq9n2eC36C"
      },
      "execution_count": 53,
      "outputs": []
    },
    {
      "cell_type": "code",
      "source": [
        "work('a')"
      ],
      "metadata": {
        "colab": {
          "base_uri": "https://localhost:8080/"
        },
        "id": "6e-_ZFGPDWGi",
        "outputId": "f48a8f9f-d6ad-4074-efcf-e2860fdacccb"
      },
      "execution_count": 54,
      "outputs": [
        {
          "output_type": "execute_result",
          "data": {
            "text/plain": [
              "['a']"
            ]
          },
          "metadata": {},
          "execution_count": 54
        }
      ]
    },
    {
      "cell_type": "code",
      "source": [
        "work('b')"
      ],
      "metadata": {
        "colab": {
          "base_uri": "https://localhost:8080/"
        },
        "id": "BGluznqbDZJl",
        "outputId": "a2c1086d-9940-476e-d280-8deed1c98613"
      },
      "execution_count": 56,
      "outputs": [
        {
          "output_type": "execute_result",
          "data": {
            "text/plain": [
              "['b']"
            ]
          },
          "metadata": {},
          "execution_count": 56
        }
      ]
    },
    {
      "cell_type": "code",
      "source": [
        "# 修正的做法是傳入別的東西來代表第一次呼叫\n",
        "def nonbuggy(arg, result=None):\n",
        "  if result is None:\n",
        "    result = []\n",
        "  result.append(arg)\n",
        "  print(result)"
      ],
      "metadata": {
        "id": "qGEZN73nDbTP"
      },
      "execution_count": 57,
      "outputs": []
    },
    {
      "cell_type": "code",
      "source": [
        "nonbuggy('a')"
      ],
      "metadata": {
        "colab": {
          "base_uri": "https://localhost:8080/"
        },
        "id": "Tk2kh2LSD876",
        "outputId": "2ad3273f-bbe7-4920-f2ca-ae15df6ba6e9"
      },
      "execution_count": 58,
      "outputs": [
        {
          "output_type": "stream",
          "name": "stdout",
          "text": [
            "['a']\n"
          ]
        }
      ]
    },
    {
      "cell_type": "code",
      "source": [
        "nonbuggy('b')"
      ],
      "metadata": {
        "colab": {
          "base_uri": "https://localhost:8080/"
        },
        "id": "8Tv1l_OmD-vm",
        "outputId": "718f5bb3-3782-4927-c55c-5fdb053890c3"
      },
      "execution_count": 59,
      "outputs": [
        {
          "output_type": "stream",
          "name": "stdout",
          "text": [
            "['b']\n"
          ]
        }
      ]
    },
    {
      "cell_type": "code",
      "source": [
        "# 用 * 來炸開 / 收集位置引數"
      ],
      "metadata": {
        "id": "jN9rFm7nEAsc"
      },
      "execution_count": null,
      "outputs": []
    },
    {
      "cell_type": "code",
      "source": [
        "# 在函式參數裡面的星號可以將數量不一定的位置引數組成一個參數值 tuple。"
      ],
      "metadata": {
        "id": "7iUdu0kKEX0D"
      },
      "execution_count": null,
      "outputs": []
    },
    {
      "cell_type": "code",
      "source": [
        "def print_args(*args):\n",
        "  print('Positonal tuple: ', args)"
      ],
      "metadata": {
        "id": "wue7JO5iEpA2"
      },
      "execution_count": 60,
      "outputs": []
    },
    {
      "cell_type": "code",
      "source": [
        "print_args()"
      ],
      "metadata": {
        "colab": {
          "base_uri": "https://localhost:8080/"
        },
        "id": "JmmC2LQME-GI",
        "outputId": "6d50fd57-4d45-48ff-8749-443c2528b0bc"
      },
      "execution_count": 61,
      "outputs": [
        {
          "output_type": "stream",
          "name": "stdout",
          "text": [
            "Positonal tuple:  ()\n"
          ]
        }
      ]
    },
    {
      "cell_type": "code",
      "source": [
        "print_args(3, 2, 1, 'wait', 'uh...')"
      ],
      "metadata": {
        "colab": {
          "base_uri": "https://localhost:8080/"
        },
        "id": "QllY_j0_FBWY",
        "outputId": "707bfab5-5d60-4c37-8792-7d3e11cfea70"
      },
      "execution_count": 63,
      "outputs": [
        {
          "output_type": "stream",
          "name": "stdout",
          "text": [
            "Positonal tuple:  (3, 2, 1, 'wait', 'uh...')\n"
          ]
        }
      ]
    },
    {
      "cell_type": "code",
      "source": [
        "# 很適合用來編寫 print() 等引數的數量不一定的函數"
      ],
      "metadata": {
        "id": "qiB3N6vWFJ41"
      },
      "execution_count": null,
      "outputs": []
    },
    {
      "cell_type": "code",
      "source": [
        "def print_more(required1, required2, *args):\n",
        "  print('Need this one:', required1)\n",
        "  print('Need this one too:', required2)\n",
        "  print('All the rest:', args)\n",
        "\n",
        "print_more('cap', 'gloves', 'scarf', 'monocle', 'mustache wax')"
      ],
      "metadata": {
        "colab": {
          "base_uri": "https://localhost:8080/"
        },
        "id": "d5ytz31XFVev",
        "outputId": "43641ef2-c045-4edb-b5bf-bd041f0f5622"
      },
      "execution_count": 65,
      "outputs": [
        {
          "output_type": "stream",
          "name": "stdout",
          "text": [
            "Need this one: cap\n",
            "Need this one too: gloves\n",
            "All the rest: ('scarf', 'monocle', 'mustache wax')\n"
          ]
        }
      ]
    },
    {
      "cell_type": "code",
      "source": [
        "print_args(2, 5, 7, 'x')"
      ],
      "metadata": {
        "colab": {
          "base_uri": "https://localhost:8080/"
        },
        "id": "_5ea5lRRGhRV",
        "outputId": "8ab72081-80e1-4b4d-e9af-7cf7c6669e87"
      },
      "execution_count": 66,
      "outputs": [
        {
          "output_type": "stream",
          "name": "stdout",
          "text": [
            "Positonal tuple:  (2, 5, 7, 'x')\n"
          ]
        }
      ]
    },
    {
      "cell_type": "code",
      "source": [
        "args = (2, 5, 7, 'x')\n",
        "print_args(args)"
      ],
      "metadata": {
        "colab": {
          "base_uri": "https://localhost:8080/"
        },
        "id": "l98tWqPTGmJh",
        "outputId": "9432461a-6855-4791-d62f-d23b4a4c3302"
      },
      "execution_count": 67,
      "outputs": [
        {
          "output_type": "stream",
          "name": "stdout",
          "text": [
            "Positonal tuple:  ((2, 5, 7, 'x'),)\n"
          ]
        }
      ]
    },
    {
      "cell_type": "code",
      "source": [
        "print_args(*args)"
      ],
      "metadata": {
        "colab": {
          "base_uri": "https://localhost:8080/"
        },
        "id": "hc6IyVoXGs9j",
        "outputId": "ad76cf25-0982-4bf3-ada5-ae72ea6db9c6"
      },
      "execution_count": 68,
      "outputs": [
        {
          "output_type": "stream",
          "name": "stdout",
          "text": [
            "Positonal tuple:  (2, 5, 7, 'x')\n"
          ]
        }
      ]
    },
    {
      "cell_type": "code",
      "source": [
        "*args"
      ],
      "metadata": {
        "colab": {
          "base_uri": "https://localhost:8080/",
          "height": 106
        },
        "id": "o_Ja0jKzG0Kl",
        "outputId": "8d36c4d1-c018-4f08-bc88-aa1f09ae3d75"
      },
      "execution_count": 69,
      "outputs": [
        {
          "output_type": "error",
          "ename": "SyntaxError",
          "evalue": "can't use starred expression here (<ipython-input-69-040fcb6bb52c>, line 1)",
          "traceback": [
            "\u001b[0;36m  File \u001b[0;32m\"<ipython-input-69-040fcb6bb52c>\"\u001b[0;36m, line \u001b[0;32m1\u001b[0m\n\u001b[0;31m    *args\u001b[0m\n\u001b[0m    ^\u001b[0m\n\u001b[0;31mSyntaxError\u001b[0m\u001b[0;31m:\u001b[0m can't use starred expression here\n"
          ]
        }
      ]
    },
    {
      "cell_type": "code",
      "source": [],
      "metadata": {
        "id": "M0XpwDYkG1rU"
      },
      "execution_count": null,
      "outputs": []
    }
  ]
}