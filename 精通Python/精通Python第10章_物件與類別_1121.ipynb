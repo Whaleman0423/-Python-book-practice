{
  "nbformat": 4,
  "nbformat_minor": 0,
  "metadata": {
    "colab": {
      "name": "精通Python第10章_物件與類別_1121.ipynb",
      "provenance": [],
      "authorship_tag": "ABX9TyNHxaqWQ4IbmU2+3ogGpaeZ",
      "include_colab_link": true
    },
    "kernelspec": {
      "name": "python3",
      "display_name": "Python 3"
    },
    "language_info": {
      "name": "python"
    }
  },
  "cells": [
    {
      "cell_type": "markdown",
      "metadata": {
        "id": "view-in-github",
        "colab_type": "text"
      },
      "source": [
        "<a href=\"https://colab.research.google.com/github/Whaleman0423/-Python-book-practice/blob/main/%E7%B2%BE%E9%80%9APython/%E7%B2%BE%E9%80%9APython%E7%AC%AC10%E7%AB%A0_%E7%89%A9%E4%BB%B6%E8%88%87%E9%A1%9E%E5%88%A5_1121.ipynb\" target=\"_parent\"><img src=\"https://colab.research.google.com/assets/colab-badge.svg\" alt=\"Open In Colab\"/></a>"
      ]
    },
    {
      "cell_type": "markdown",
      "metadata": {
        "id": "g4GxAgvvLjGd"
      },
      "source": [
        "# 簡單的物件\n",
        "## 用 class 定義類別"
      ]
    },
    {
      "cell_type": "code",
      "metadata": {
        "id": "N2i2CUlGL75j",
        "outputId": "1edf5863-ac37-4837-a9e8-3b05401172a2",
        "colab": {
          "base_uri": "https://localhost:8080/"
        }
      },
      "source": [
        "class Cat():\n",
        "  pass\n",
        "Cat"
      ],
      "execution_count": 4,
      "outputs": [
        {
          "output_type": "execute_result",
          "data": {
            "text/plain": [
              "__main__.Cat"
            ]
          },
          "metadata": {},
          "execution_count": 4
        }
      ]
    },
    {
      "cell_type": "code",
      "metadata": {
        "id": "rd4VQT3TPR73",
        "outputId": "1ec53bfa-77a5-4bdd-d043-82fd7964f4a9",
        "colab": {
          "base_uri": "https://localhost:8080/"
        }
      },
      "source": [
        "Cat()"
      ],
      "execution_count": 5,
      "outputs": [
        {
          "output_type": "execute_result",
          "data": {
            "text/plain": [
              "<__main__.Cat at 0x7fe48360b250>"
            ]
          },
          "metadata": {},
          "execution_count": 5
        }
      ]
    },
    {
      "cell_type": "markdown",
      "metadata": {
        "id": "YTKVoqdfMWn0"
      },
      "source": [
        "## 也可以這樣寫"
      ]
    },
    {
      "cell_type": "code",
      "metadata": {
        "id": "SzEcMM_YMaNC",
        "outputId": "cd0a452d-fee3-426f-ec23-a6fd36533103",
        "colab": {
          "base_uri": "https://localhost:8080/"
        }
      },
      "source": [
        "class Cat:   # 不加括號\n",
        "  pass\n",
        "Cat"
      ],
      "execution_count": 1,
      "outputs": [
        {
          "output_type": "execute_result",
          "data": {
            "text/plain": [
              "__main__.Cat"
            ]
          },
          "metadata": {},
          "execution_count": 1
        }
      ]
    },
    {
      "cell_type": "code",
      "metadata": {
        "id": "fE7seqqOPUmZ",
        "outputId": "c375080a-41eb-419e-e9b8-3189588e4dfe",
        "colab": {
          "base_uri": "https://localhost:8080/"
        }
      },
      "source": [
        "Cat()"
      ],
      "execution_count": 6,
      "outputs": [
        {
          "output_type": "execute_result",
          "data": {
            "text/plain": [
              "<__main__.Cat at 0x7fe48361ffd0>"
            ]
          },
          "metadata": {},
          "execution_count": 6
        }
      ]
    },
    {
      "cell_type": "markdown",
      "metadata": {
        "id": "l4vjnxr_Mf9B"
      },
      "source": [
        "### 需用 pass 來指出這個類別是空的 此為最精簡的物件建立"
      ]
    },
    {
      "cell_type": "code",
      "metadata": {
        "id": "hB5b05YAMu_S"
      },
      "source": [
        "a_cat = Cat()\n",
        "another_cat = Cat()"
      ],
      "execution_count": 7,
      "outputs": []
    },
    {
      "cell_type": "code",
      "metadata": {
        "id": "37Dr7BSQPf9l",
        "outputId": "eb7fb54b-6fc8-4ee4-f4a4-bca964c3560d",
        "colab": {
          "base_uri": "https://localhost:8080/"
        }
      },
      "source": [
        "class Cat:\n",
        "  pass\n",
        "\n",
        "a_cat = Cat()\n",
        "a_cat"
      ],
      "execution_count": 8,
      "outputs": [
        {
          "output_type": "execute_result",
          "data": {
            "text/plain": [
              "<__main__.Cat at 0x7fe489f35310>"
            ]
          },
          "metadata": {},
          "execution_count": 8
        }
      ]
    },
    {
      "cell_type": "code",
      "metadata": {
        "id": "i2IPAzZlP2Xg",
        "outputId": "c9b38f7c-420e-4301-ccc7-573ba85849bc",
        "colab": {
          "base_uri": "https://localhost:8080/"
        }
      },
      "source": [
        "another_cat = Cat()\n",
        "another_cat"
      ],
      "execution_count": 9,
      "outputs": [
        {
          "output_type": "execute_result",
          "data": {
            "text/plain": [
              "<__main__.Cat at 0x7fe483618310>"
            ]
          },
          "metadata": {},
          "execution_count": 9
        }
      ]
    },
    {
      "cell_type": "markdown",
      "metadata": {
        "id": "FOWY-dehQFsv"
      },
      "source": [
        "## 屬性\n",
        "### 將一些屬性指派給第一個物件"
      ]
    },
    {
      "cell_type": "code",
      "metadata": {
        "id": "MAhAfBFyQL6T"
      },
      "source": [
        "a_cat.age = 3\n",
        "a_cat.name = \"Mr.Fuzzybuttons\"\n",
        "a_cat.nemesis = another_cat"
      ],
      "execution_count": 10,
      "outputs": []
    },
    {
      "cell_type": "markdown",
      "metadata": {
        "id": "ZFZ9dkdpQdW7"
      },
      "source": [
        "#### 讀取上面給的屬性"
      ]
    },
    {
      "cell_type": "code",
      "metadata": {
        "id": "lvA2AieeQkPs",
        "outputId": "a7091728-311f-48c6-9be7-9fc5f728ce55",
        "colab": {
          "base_uri": "https://localhost:8080/"
        }
      },
      "source": [
        "a_cat.age"
      ],
      "execution_count": 11,
      "outputs": [
        {
          "output_type": "execute_result",
          "data": {
            "text/plain": [
              "3"
            ]
          },
          "metadata": {},
          "execution_count": 11
        }
      ]
    },
    {
      "cell_type": "code",
      "metadata": {
        "id": "YLcdt81YQmbx",
        "outputId": "7894a2f8-9ecc-4671-8bcd-0db1cc9de357",
        "colab": {
          "base_uri": "https://localhost:8080/",
          "height": 35
        }
      },
      "source": [
        "a_cat.name"
      ],
      "execution_count": 12,
      "outputs": [
        {
          "output_type": "execute_result",
          "data": {
            "application/vnd.google.colaboratory.intrinsic+json": {
              "type": "string"
            },
            "text/plain": [
              "'Mr.Fuzzybuttons'"
            ]
          },
          "metadata": {},
          "execution_count": 12
        }
      ]
    },
    {
      "cell_type": "code",
      "metadata": {
        "id": "BJMeStjOQpHF",
        "outputId": "c38f8837-d778-4d4e-e542-08bf062c8e32",
        "colab": {
          "base_uri": "https://localhost:8080/"
        }
      },
      "source": [
        "a_cat.nemesis   # 引用另一個 Cat 物件的屬性"
      ],
      "execution_count": 13,
      "outputs": [
        {
          "output_type": "execute_result",
          "data": {
            "text/plain": [
              "<__main__.Cat at 0x7fe483618310>"
            ]
          },
          "metadata": {},
          "execution_count": 13
        }
      ]
    },
    {
      "cell_type": "code",
      "metadata": {
        "id": "hYpQIT_PQsTx",
        "outputId": "1d8903b7-7aa8-477a-edc8-99e71afb3a8d",
        "colab": {
          "base_uri": "https://localhost:8080/",
          "height": 167
        }
      },
      "source": [
        "a_cat.nemesis.name  # 另一個 Cat 物件尚未有 name 屬性"
      ],
      "execution_count": 14,
      "outputs": [
        {
          "output_type": "error",
          "ename": "AttributeError",
          "evalue": "ignored",
          "traceback": [
            "\u001b[0;31m---------------------------------------------------------------------------\u001b[0m",
            "\u001b[0;31mAttributeError\u001b[0m                            Traceback (most recent call last)",
            "\u001b[0;32m<ipython-input-14-86a423fa8243>\u001b[0m in \u001b[0;36m<module>\u001b[0;34m()\u001b[0m\n\u001b[0;32m----> 1\u001b[0;31m \u001b[0ma_cat\u001b[0m\u001b[0;34m.\u001b[0m\u001b[0mnemesis\u001b[0m\u001b[0;34m.\u001b[0m\u001b[0mname\u001b[0m\u001b[0;34m\u001b[0m\u001b[0;34m\u001b[0m\u001b[0m\n\u001b[0m",
            "\u001b[0;31mAttributeError\u001b[0m: 'Cat' object has no attribute 'name'"
          ]
        }
      ]
    },
    {
      "cell_type": "code",
      "metadata": {
        "id": "Q-nkIUMiRC7H",
        "outputId": "b35add9b-96c1-4934-8523-bd91ddea5f06",
        "colab": {
          "base_uri": "https://localhost:8080/",
          "height": 35
        }
      },
      "source": [
        "# 為其命名\n",
        "a_cat.nemesis.name = \"Mr. Bigglesworth\"\n",
        "a_cat.nemesis.name"
      ],
      "execution_count": 15,
      "outputs": [
        {
          "output_type": "execute_result",
          "data": {
            "application/vnd.google.colaboratory.intrinsic+json": {
              "type": "string"
            },
            "text/plain": [
              "'Mr. Bigglesworth'"
            ]
          },
          "metadata": {},
          "execution_count": 15
        }
      ]
    },
    {
      "cell_type": "code",
      "metadata": {
        "id": "zXFZtnszRX22",
        "outputId": "aae85515-ddf3-4a8f-c66d-e0bbc17a0a39",
        "colab": {
          "base_uri": "https://localhost:8080/",
          "height": 35
        }
      },
      "source": [
        "# 另一個貓的 name 屬性是否也有了?\n",
        "another_cat.name"
      ],
      "execution_count": 16,
      "outputs": [
        {
          "output_type": "execute_result",
          "data": {
            "application/vnd.google.colaboratory.intrinsic+json": {
              "type": "string"
            },
            "text/plain": [
              "'Mr. Bigglesworth'"
            ]
          },
          "metadata": {},
          "execution_count": 16
        }
      ]
    },
    {
      "cell_type": "markdown",
      "metadata": {
        "id": "psCyILsSRiR3"
      },
      "source": [
        "## 初始化"
      ]
    },
    {
      "cell_type": "code",
      "metadata": {
        "id": "Pn2DHkvPWgn2"
      },
      "source": [
        "class Cat:\n",
        "  def __init__(self):\n",
        "    pass"
      ],
      "execution_count": 17,
      "outputs": []
    },
    {
      "cell_type": "markdown",
      "metadata": {
        "id": "gU5sPiZYXCBl"
      },
      "source": [
        "### 建立物件 並指派它的屬性"
      ]
    },
    {
      "cell_type": "code",
      "metadata": {
        "id": "1xMLQ4XVXnXR"
      },
      "source": [
        "class Cat():\n",
        "  def __init__(self, name):\n",
        "    self.name = name"
      ],
      "execution_count": 18,
      "outputs": []
    },
    {
      "cell_type": "code",
      "metadata": {
        "id": "HdgSTSXhX62n"
      },
      "source": [
        "furball = Cat('Grumpy')\n"
      ],
      "execution_count": null,
      "outputs": []
    }
  ]
}