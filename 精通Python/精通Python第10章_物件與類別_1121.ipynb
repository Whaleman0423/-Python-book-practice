{
  "nbformat": 4,
  "nbformat_minor": 0,
  "metadata": {
    "colab": {
      "name": "精通Python第10章_物件與類別_1121.ipynb",
      "provenance": [],
      "authorship_tag": "ABX9TyOZt9kSu5RlZBbxlEULQ8tU",
      "include_colab_link": true
    },
    "kernelspec": {
      "name": "python3",
      "display_name": "Python 3"
    },
    "language_info": {
      "name": "python"
    }
  },
  "cells": [
    {
      "cell_type": "markdown",
      "metadata": {
        "id": "view-in-github",
        "colab_type": "text"
      },
      "source": [
        "<a href=\"https://colab.research.google.com/github/Whaleman0423/Python/blob/main/%E7%B2%BE%E9%80%9APython/%E7%B2%BE%E9%80%9APython%E7%AC%AC10%E7%AB%A0_%E7%89%A9%E4%BB%B6%E8%88%87%E9%A1%9E%E5%88%A5_1121.ipynb\" target=\"_parent\"><img src=\"https://colab.research.google.com/assets/colab-badge.svg\" alt=\"Open In Colab\"/></a>"
      ]
    },
    {
      "cell_type": "markdown",
      "metadata": {
        "id": "g4GxAgvvLjGd"
      },
      "source": [
        "# 簡單的物件\n",
        "## 用 class 定義類別"
      ]
    },
    {
      "cell_type": "code",
      "metadata": {
        "id": "N2i2CUlGL75j",
        "colab": {
          "base_uri": "https://localhost:8080/"
        },
        "outputId": "59615a6e-f587-43e6-daac-09807ddf5d19"
      },
      "source": [
        "class Cat():\n",
        "  pass\n",
        "Cat"
      ],
      "execution_count": 1,
      "outputs": [
        {
          "output_type": "execute_result",
          "data": {
            "text/plain": [
              "__main__.Cat"
            ]
          },
          "metadata": {},
          "execution_count": 1
        }
      ]
    },
    {
      "cell_type": "code",
      "metadata": {
        "id": "rd4VQT3TPR73",
        "colab": {
          "base_uri": "https://localhost:8080/"
        },
        "outputId": "a098b736-bb59-4713-86f9-853fa57ed111"
      },
      "source": [
        "Cat()"
      ],
      "execution_count": 2,
      "outputs": [
        {
          "output_type": "execute_result",
          "data": {
            "text/plain": [
              "<__main__.Cat at 0x7f3db81b7bd0>"
            ]
          },
          "metadata": {},
          "execution_count": 2
        }
      ]
    },
    {
      "cell_type": "markdown",
      "metadata": {
        "id": "YTKVoqdfMWn0"
      },
      "source": [
        "## 也可以這樣寫"
      ]
    },
    {
      "cell_type": "code",
      "metadata": {
        "id": "SzEcMM_YMaNC",
        "colab": {
          "base_uri": "https://localhost:8080/"
        },
        "outputId": "22d05a12-fad6-470a-ee66-957177127d39"
      },
      "source": [
        "class Cat:   # 不加括號\n",
        "  pass\n",
        "Cat"
      ],
      "execution_count": 3,
      "outputs": [
        {
          "output_type": "execute_result",
          "data": {
            "text/plain": [
              "__main__.Cat"
            ]
          },
          "metadata": {},
          "execution_count": 3
        }
      ]
    },
    {
      "cell_type": "code",
      "metadata": {
        "id": "fE7seqqOPUmZ",
        "colab": {
          "base_uri": "https://localhost:8080/"
        },
        "outputId": "0793f74a-db71-45c5-fe2f-174bf79b70cf"
      },
      "source": [
        "Cat()"
      ],
      "execution_count": 4,
      "outputs": [
        {
          "output_type": "execute_result",
          "data": {
            "text/plain": [
              "<__main__.Cat at 0x7f3db81df450>"
            ]
          },
          "metadata": {},
          "execution_count": 4
        }
      ]
    },
    {
      "cell_type": "markdown",
      "metadata": {
        "id": "l4vjnxr_Mf9B"
      },
      "source": [
        "### 需用 pass 來指出這個類別是空的 此為最精簡的物件建立"
      ]
    },
    {
      "cell_type": "code",
      "metadata": {
        "id": "hB5b05YAMu_S"
      },
      "source": [
        "a_cat = Cat()\n",
        "another_cat = Cat()"
      ],
      "execution_count": 5,
      "outputs": []
    },
    {
      "cell_type": "code",
      "metadata": {
        "id": "37Dr7BSQPf9l",
        "colab": {
          "base_uri": "https://localhost:8080/"
        },
        "outputId": "0e51c791-a762-4edb-dfa2-efbf0aff8a9c"
      },
      "source": [
        "class Cat:\n",
        "  pass\n",
        "\n",
        "a_cat = Cat()\n",
        "a_cat"
      ],
      "execution_count": 6,
      "outputs": [
        {
          "output_type": "execute_result",
          "data": {
            "text/plain": [
              "<__main__.Cat at 0x7f3db675f390>"
            ]
          },
          "metadata": {},
          "execution_count": 6
        }
      ]
    },
    {
      "cell_type": "code",
      "metadata": {
        "id": "i2IPAzZlP2Xg",
        "colab": {
          "base_uri": "https://localhost:8080/"
        },
        "outputId": "21bfab64-e892-41c3-c978-3b8d3bf62b26"
      },
      "source": [
        "another_cat = Cat()\n",
        "another_cat"
      ],
      "execution_count": 7,
      "outputs": [
        {
          "output_type": "execute_result",
          "data": {
            "text/plain": [
              "<__main__.Cat at 0x7f3db675ff50>"
            ]
          },
          "metadata": {},
          "execution_count": 7
        }
      ]
    },
    {
      "cell_type": "markdown",
      "metadata": {
        "id": "FOWY-dehQFsv"
      },
      "source": [
        "## 屬性\n",
        "### 將一些屬性指派給第一個物件"
      ]
    },
    {
      "cell_type": "code",
      "metadata": {
        "id": "MAhAfBFyQL6T"
      },
      "source": [
        "a_cat.age = 3\n",
        "a_cat.name = \"Mr.Fuzzybuttons\"\n",
        "a_cat.nemesis = another_cat"
      ],
      "execution_count": 8,
      "outputs": []
    },
    {
      "cell_type": "markdown",
      "metadata": {
        "id": "ZFZ9dkdpQdW7"
      },
      "source": [
        "#### 讀取上面給的屬性"
      ]
    },
    {
      "cell_type": "code",
      "metadata": {
        "id": "lvA2AieeQkPs",
        "colab": {
          "base_uri": "https://localhost:8080/"
        },
        "outputId": "eabcc809-5762-4efc-85a0-f64b5ac27cec"
      },
      "source": [
        "a_cat.age"
      ],
      "execution_count": 9,
      "outputs": [
        {
          "output_type": "execute_result",
          "data": {
            "text/plain": [
              "3"
            ]
          },
          "metadata": {},
          "execution_count": 9
        }
      ]
    },
    {
      "cell_type": "code",
      "metadata": {
        "id": "YLcdt81YQmbx",
        "colab": {
          "base_uri": "https://localhost:8080/",
          "height": 35
        },
        "outputId": "0ebf57e3-bc67-49ea-964b-63deebd7c203"
      },
      "source": [
        "a_cat.name"
      ],
      "execution_count": 10,
      "outputs": [
        {
          "output_type": "execute_result",
          "data": {
            "text/plain": [
              "'Mr.Fuzzybuttons'"
            ],
            "application/vnd.google.colaboratory.intrinsic+json": {
              "type": "string"
            }
          },
          "metadata": {},
          "execution_count": 10
        }
      ]
    },
    {
      "cell_type": "code",
      "metadata": {
        "id": "BJMeStjOQpHF",
        "colab": {
          "base_uri": "https://localhost:8080/"
        },
        "outputId": "ba3188c0-a235-4e89-92d0-5fa6d29c5ce0"
      },
      "source": [
        "a_cat.nemesis   # 引用另一個 Cat 物件的屬性"
      ],
      "execution_count": 11,
      "outputs": [
        {
          "output_type": "execute_result",
          "data": {
            "text/plain": [
              "<__main__.Cat at 0x7f3db675ff50>"
            ]
          },
          "metadata": {},
          "execution_count": 11
        }
      ]
    },
    {
      "cell_type": "code",
      "metadata": {
        "id": "hYpQIT_PQsTx",
        "colab": {
          "base_uri": "https://localhost:8080/",
          "height": 167
        },
        "outputId": "0413d185-a5df-4218-bc6c-bd7ae3f9d6d2"
      },
      "source": [
        "a_cat.nemesis.name  # 另一個 Cat 物件尚未有 name 屬性"
      ],
      "execution_count": 12,
      "outputs": [
        {
          "output_type": "error",
          "ename": "AttributeError",
          "evalue": "ignored",
          "traceback": [
            "\u001b[0;31m---------------------------------------------------------------------------\u001b[0m",
            "\u001b[0;31mAttributeError\u001b[0m                            Traceback (most recent call last)",
            "\u001b[0;32m<ipython-input-12-6c51d3a1c889>\u001b[0m in \u001b[0;36m<module>\u001b[0;34m()\u001b[0m\n\u001b[0;32m----> 1\u001b[0;31m \u001b[0ma_cat\u001b[0m\u001b[0;34m.\u001b[0m\u001b[0mnemesis\u001b[0m\u001b[0;34m.\u001b[0m\u001b[0mname\u001b[0m  \u001b[0;31m# 另一個 Cat 物件尚未有 name 屬性\u001b[0m\u001b[0;34m\u001b[0m\u001b[0;34m\u001b[0m\u001b[0m\n\u001b[0m",
            "\u001b[0;31mAttributeError\u001b[0m: 'Cat' object has no attribute 'name'"
          ]
        }
      ]
    },
    {
      "cell_type": "code",
      "metadata": {
        "id": "Q-nkIUMiRC7H",
        "colab": {
          "base_uri": "https://localhost:8080/",
          "height": 35
        },
        "outputId": "862cbabf-c3b9-4e41-9e65-5a5b3629fda3"
      },
      "source": [
        "# 為其命名\n",
        "a_cat.nemesis.name = \"Mr. Bigglesworth\"\n",
        "a_cat.nemesis.name"
      ],
      "execution_count": 13,
      "outputs": [
        {
          "output_type": "execute_result",
          "data": {
            "text/plain": [
              "'Mr. Bigglesworth'"
            ],
            "application/vnd.google.colaboratory.intrinsic+json": {
              "type": "string"
            }
          },
          "metadata": {},
          "execution_count": 13
        }
      ]
    },
    {
      "cell_type": "code",
      "metadata": {
        "id": "zXFZtnszRX22",
        "colab": {
          "base_uri": "https://localhost:8080/",
          "height": 35
        },
        "outputId": "882c44b9-378d-4208-8f42-e3bacb748b64"
      },
      "source": [
        "# 另一個貓的 name 屬性是否也有了?\n",
        "another_cat.name"
      ],
      "execution_count": 14,
      "outputs": [
        {
          "output_type": "execute_result",
          "data": {
            "text/plain": [
              "'Mr. Bigglesworth'"
            ],
            "application/vnd.google.colaboratory.intrinsic+json": {
              "type": "string"
            }
          },
          "metadata": {},
          "execution_count": 14
        }
      ]
    },
    {
      "cell_type": "markdown",
      "metadata": {
        "id": "psCyILsSRiR3"
      },
      "source": [
        "## 初始化"
      ]
    },
    {
      "cell_type": "code",
      "metadata": {
        "id": "Pn2DHkvPWgn2"
      },
      "source": [
        "class Cat:\n",
        "  def __init__(self):\n",
        "    pass"
      ],
      "execution_count": 15,
      "outputs": []
    },
    {
      "cell_type": "markdown",
      "metadata": {
        "id": "gU5sPiZYXCBl"
      },
      "source": [
        "### 建立物件 並指派它的屬性"
      ]
    },
    {
      "cell_type": "code",
      "metadata": {
        "id": "1xMLQ4XVXnXR"
      },
      "source": [
        "class Cat():\n",
        "  def __init__(self, name):\n",
        "    self.name = name"
      ],
      "execution_count": 16,
      "outputs": []
    },
    {
      "cell_type": "code",
      "metadata": {
        "id": "HdgSTSXhX62n",
        "colab": {
          "base_uri": "https://localhost:8080/"
        },
        "outputId": "9d72ee7b-18a8-4c23-ce68-895595c9dfd0"
      },
      "source": [
        "furball = Cat('Grumpy')\n",
        "furball"
      ],
      "execution_count": 19,
      "outputs": [
        {
          "output_type": "execute_result",
          "data": {
            "text/plain": [
              "<__main__.Cat at 0x7f3dbbb29850>"
            ]
          },
          "metadata": {},
          "execution_count": 19
        }
      ]
    },
    {
      "cell_type": "code",
      "metadata": {
        "id": "N2bfcVDYPb6j",
        "colab": {
          "base_uri": "https://localhost:8080/",
          "height": 35
        },
        "outputId": "10b17fcf-b810-4307-bb87-bcdd480d11d6"
      },
      "source": [
        "furball.name"
      ],
      "execution_count": 20,
      "outputs": [
        {
          "output_type": "execute_result",
          "data": {
            "text/plain": [
              "'Grumpy'"
            ],
            "application/vnd.google.colaboratory.intrinsic+json": {
              "type": "string"
            }
          },
          "metadata": {},
          "execution_count": 20
        }
      ]
    },
    {
      "cell_type": "markdown",
      "metadata": {
        "id": "MlGRUBCMPetT"
      },
      "source": [
        "## 在回顧一下"
      ]
    },
    {
      "cell_type": "code",
      "metadata": {
        "id": "da1cayGIMKFN"
      },
      "source": [
        "class Cat():\n",
        "  pass"
      ],
      "execution_count": 21,
      "outputs": []
    },
    {
      "cell_type": "code",
      "metadata": {
        "id": "d89S-c5cMOWl",
        "colab": {
          "base_uri": "https://localhost:8080/"
        },
        "outputId": "177ba1b3-4ccf-4cf1-d72c-9c416af66241"
      },
      "source": [
        "Cat()"
      ],
      "execution_count": 22,
      "outputs": [
        {
          "output_type": "execute_result",
          "data": {
            "text/plain": [
              "<__main__.Cat at 0x7f3db66e7650>"
            ]
          },
          "metadata": {},
          "execution_count": 22
        }
      ]
    },
    {
      "cell_type": "code",
      "metadata": {
        "id": "EDz655UgMTQl"
      },
      "source": [
        "class Cat:\n",
        "  pass"
      ],
      "execution_count": 23,
      "outputs": []
    },
    {
      "cell_type": "code",
      "metadata": {
        "id": "6g5WiHLnMW3D",
        "colab": {
          "base_uri": "https://localhost:8080/"
        },
        "outputId": "b07f5673-9e02-4824-aa4b-32c340e8d02f"
      },
      "source": [
        "Cat"
      ],
      "execution_count": 24,
      "outputs": [
        {
          "output_type": "execute_result",
          "data": {
            "text/plain": [
              "__main__.Cat"
            ]
          },
          "metadata": {},
          "execution_count": 24
        }
      ]
    },
    {
      "cell_type": "code",
      "metadata": {
        "id": "PihktUaFMbnR"
      },
      "source": [
        "a_cat = Cat()\n",
        "another_cat = Cat()"
      ],
      "execution_count": 25,
      "outputs": []
    },
    {
      "cell_type": "code",
      "metadata": {
        "id": "d3Ko6RsWMkoC",
        "colab": {
          "base_uri": "https://localhost:8080/"
        },
        "outputId": "c56b877c-d2d9-4af0-aacc-9248d163446f"
      },
      "source": [
        "a_cat"
      ],
      "execution_count": 26,
      "outputs": [
        {
          "output_type": "execute_result",
          "data": {
            "text/plain": [
              "<__main__.Cat at 0x7f3db675f050>"
            ]
          },
          "metadata": {},
          "execution_count": 26
        }
      ]
    },
    {
      "cell_type": "code",
      "metadata": {
        "id": "LRrTIfQyMnEB",
        "colab": {
          "base_uri": "https://localhost:8080/"
        },
        "outputId": "482f2e5e-e0d3-4ce8-e079-82e32303fa35"
      },
      "source": [
        "another_cat"
      ],
      "execution_count": 27,
      "outputs": [
        {
          "output_type": "execute_result",
          "data": {
            "text/plain": [
              "<__main__.Cat at 0x7f3db675fb90>"
            ]
          },
          "metadata": {},
          "execution_count": 27
        }
      ]
    },
    {
      "cell_type": "code",
      "metadata": {
        "id": "qMPelU6KMpAN"
      },
      "source": [
        "a_cat.age = 3"
      ],
      "execution_count": 28,
      "outputs": []
    },
    {
      "cell_type": "code",
      "metadata": {
        "id": "2KR94dIlMy9g",
        "colab": {
          "base_uri": "https://localhost:8080/"
        },
        "outputId": "3408e082-0eec-4bad-a864-e4c03fb689c1"
      },
      "source": [
        "a_cat.age"
      ],
      "execution_count": 29,
      "outputs": [
        {
          "output_type": "execute_result",
          "data": {
            "text/plain": [
              "3"
            ]
          },
          "metadata": {},
          "execution_count": 29
        }
      ]
    },
    {
      "cell_type": "code",
      "metadata": {
        "id": "ZRCJIK8KM1Jr"
      },
      "source": [
        "a_cat.name = 'Mr. Fuzzybuttons'\n",
        "a_cat.nemesis = another_cat"
      ],
      "execution_count": 30,
      "outputs": []
    },
    {
      "cell_type": "code",
      "metadata": {
        "id": "ixbJsoT7NFzN",
        "colab": {
          "base_uri": "https://localhost:8080/",
          "height": 35
        },
        "outputId": "14b073df-a19b-4b5d-dd66-85adebe4fbd7"
      },
      "source": [
        "a_cat.name"
      ],
      "execution_count": 31,
      "outputs": [
        {
          "output_type": "execute_result",
          "data": {
            "text/plain": [
              "'Mr. Fuzzybuttons'"
            ],
            "application/vnd.google.colaboratory.intrinsic+json": {
              "type": "string"
            }
          },
          "metadata": {},
          "execution_count": 31
        }
      ]
    },
    {
      "cell_type": "code",
      "metadata": {
        "id": "6NFiDIFlNHmU",
        "colab": {
          "base_uri": "https://localhost:8080/"
        },
        "outputId": "9a7de51a-ed42-4217-a5f3-a9463f74566e"
      },
      "source": [
        "a_cat.nemesis"
      ],
      "execution_count": 32,
      "outputs": [
        {
          "output_type": "execute_result",
          "data": {
            "text/plain": [
              "<__main__.Cat at 0x7f3db675fb90>"
            ]
          },
          "metadata": {},
          "execution_count": 32
        }
      ]
    },
    {
      "cell_type": "code",
      "metadata": {
        "id": "fT0rD4xgNKjH",
        "colab": {
          "base_uri": "https://localhost:8080/",
          "height": 167
        },
        "outputId": "3004ecb6-f9da-4bdc-81f4-13ff09b1c8e0"
      },
      "source": [
        "a_cat.nemesis()"
      ],
      "execution_count": 33,
      "outputs": [
        {
          "output_type": "error",
          "ename": "TypeError",
          "evalue": "ignored",
          "traceback": [
            "\u001b[0;31m---------------------------------------------------------------------------\u001b[0m",
            "\u001b[0;31mTypeError\u001b[0m                                 Traceback (most recent call last)",
            "\u001b[0;32m<ipython-input-33-07ad19fe6961>\u001b[0m in \u001b[0;36m<module>\u001b[0;34m()\u001b[0m\n\u001b[0;32m----> 1\u001b[0;31m \u001b[0ma_cat\u001b[0m\u001b[0;34m.\u001b[0m\u001b[0mnemesis\u001b[0m\u001b[0;34m(\u001b[0m\u001b[0;34m)\u001b[0m\u001b[0;34m\u001b[0m\u001b[0;34m\u001b[0m\u001b[0m\n\u001b[0m",
            "\u001b[0;31mTypeError\u001b[0m: 'Cat' object is not callable"
          ]
        }
      ]
    },
    {
      "cell_type": "code",
      "metadata": {
        "id": "C5B1L9J6Ncxu"
      },
      "source": [
        "class Cat():\n",
        "  def __init__(self, name):\n",
        "    self.name = name"
      ],
      "execution_count": 34,
      "outputs": []
    },
    {
      "cell_type": "code",
      "metadata": {
        "id": "XKFpzgdQNp32"
      },
      "source": [
        "furball = Cat('Grumpy')"
      ],
      "execution_count": 35,
      "outputs": []
    },
    {
      "cell_type": "code",
      "metadata": {
        "id": "koN4DV9GPX4Z",
        "colab": {
          "base_uri": "https://localhost:8080/",
          "height": 35
        },
        "outputId": "d5efb5e5-304e-497f-ec89-8d1543bd148e"
      },
      "source": [
        "furball.name  # Cat('Grumpy').name"
      ],
      "execution_count": 36,
      "outputs": [
        {
          "output_type": "execute_result",
          "data": {
            "text/plain": [
              "'Grumpy'"
            ],
            "application/vnd.google.colaboratory.intrinsic+json": {
              "type": "string"
            }
          },
          "metadata": {},
          "execution_count": 36
        }
      ]
    },
    {
      "cell_type": "code",
      "metadata": {
        "id": "jFmkbNWgPcJm",
        "colab": {
          "base_uri": "https://localhost:8080/",
          "height": 167
        },
        "outputId": "1e97ac86-efdf-4a50-a0ee-216bb8bbfdac"
      },
      "source": [
        "furball().name   # Cat('Grumpy')().name"
      ],
      "execution_count": 37,
      "outputs": [
        {
          "output_type": "error",
          "ename": "TypeError",
          "evalue": "ignored",
          "traceback": [
            "\u001b[0;31m---------------------------------------------------------------------------\u001b[0m",
            "\u001b[0;31mTypeError\u001b[0m                                 Traceback (most recent call last)",
            "\u001b[0;32m<ipython-input-37-62e3a4eaf8b9>\u001b[0m in \u001b[0;36m<module>\u001b[0;34m()\u001b[0m\n\u001b[0;32m----> 1\u001b[0;31m \u001b[0mfurball\u001b[0m\u001b[0;34m(\u001b[0m\u001b[0;34m)\u001b[0m\u001b[0;34m.\u001b[0m\u001b[0mname\u001b[0m   \u001b[0;31m# Cat('Grumpy')().name\u001b[0m\u001b[0;34m\u001b[0m\u001b[0;34m\u001b[0m\u001b[0m\n\u001b[0m",
            "\u001b[0;31mTypeError\u001b[0m: 'Cat' object is not callable"
          ]
        }
      ]
    },
    {
      "cell_type": "code",
      "metadata": {
        "id": "lX8R3jBUPq-L",
        "colab": {
          "base_uri": "https://localhost:8080/"
        },
        "outputId": "4d49470d-d35c-41e4-cd67-b6cb2a871389"
      },
      "source": [
        "print('Our latest addition: ', furball.name)"
      ],
      "execution_count": 38,
      "outputs": [
        {
          "output_type": "stream",
          "name": "stdout",
          "text": [
            "Our latest addition:  Grumpy\n"
          ]
        }
      ]
    },
    {
      "cell_type": "code",
      "metadata": {
        "id": "F3XD5MEPQohf",
        "colab": {
          "base_uri": "https://localhost:8080/",
          "height": 35
        },
        "outputId": "c44305b7-8034-4db5-cdf8-4bb6b0d4485b"
      },
      "source": [
        "class fake_cat():\n",
        "  def __init__(fake_self, name):\n",
        "    fake_self.name = name\n",
        "Faker = fake_cat(\"Tom\")\n",
        "Faker.name"
      ],
      "execution_count": 39,
      "outputs": [
        {
          "output_type": "execute_result",
          "data": {
            "text/plain": [
              "'Tom'"
            ],
            "application/vnd.google.colaboratory.intrinsic+json": {
              "type": "string"
            }
          },
          "metadata": {},
          "execution_count": 39
        }
      ]
    },
    {
      "cell_type": "code",
      "metadata": {
        "id": "WowD6emySF9I"
      },
      "source": [
        "Faker2 = fake_cat('Jack')"
      ],
      "execution_count": 40,
      "outputs": []
    },
    {
      "cell_type": "code",
      "metadata": {
        "id": "SIOGxy4USYLV",
        "colab": {
          "base_uri": "https://localhost:8080/"
        },
        "outputId": "e84ef23a-f656-48dc-d19e-9e68e2891020"
      },
      "source": [
        "print(Faker.name, Faker2.name, sep='\\n')"
      ],
      "execution_count": 41,
      "outputs": [
        {
          "output_type": "stream",
          "name": "stdout",
          "text": [
            "Tom\n",
            "Jack\n"
          ]
        }
      ]
    },
    {
      "cell_type": "markdown",
      "metadata": {
        "id": "G3FGZGfvRhjD"
      },
      "source": [
        "# 類別定義式 不一定 要有__init__()方法 \n",
        "## 它的目的是為了做一些可以協助區分這個物件與同一個類別的其他物件的事情"
      ]
    },
    {
      "cell_type": "markdown",
      "metadata": {
        "id": "qULHwsmJTbTe"
      },
      "source": [
        "# 繼承"
      ]
    },
    {
      "cell_type": "code",
      "metadata": {
        "id": "qtu6i64hTjgH"
      },
      "source": [
        "class Car():\n",
        "  pass"
      ],
      "execution_count": 42,
      "outputs": []
    },
    {
      "cell_type": "code",
      "metadata": {
        "id": "hVLM58CITkZc"
      },
      "source": [
        "class Yugo(Car):\n",
        "  pass"
      ],
      "execution_count": 43,
      "outputs": []
    },
    {
      "cell_type": "markdown",
      "metadata": {
        "id": "_Hs34rhvTrk1"
      },
      "source": [
        "## 使用 issubclass() 來查看一個類別是否衍生自另一個類別"
      ]
    },
    {
      "cell_type": "code",
      "metadata": {
        "id": "R-N0l5I4T2PY",
        "colab": {
          "base_uri": "https://localhost:8080/"
        },
        "outputId": "1d59cb33-4671-4c6d-bf1f-3af9f77aaf7c"
      },
      "source": [
        "issubclass(Yugo, Car)"
      ],
      "execution_count": 44,
      "outputs": [
        {
          "output_type": "execute_result",
          "data": {
            "text/plain": [
              "True"
            ]
          },
          "metadata": {},
          "execution_count": 44
        }
      ]
    },
    {
      "cell_type": "code",
      "metadata": {
        "id": "WcCLOE_vT77Z",
        "colab": {
          "base_uri": "https://localhost:8080/"
        },
        "outputId": "bce89d9e-1fef-4510-f6fb-3bf243467da4"
      },
      "source": [
        "issubclass(Yugo, Cat)"
      ],
      "execution_count": 45,
      "outputs": [
        {
          "output_type": "execute_result",
          "data": {
            "text/plain": [
              "False"
            ]
          },
          "metadata": {},
          "execution_count": 45
        }
      ]
    },
    {
      "cell_type": "code",
      "metadata": {
        "id": "hOnhqcGFUAWl"
      },
      "source": [
        "give_me_a_car = Car()\n",
        "give_me_a_yugo = Yugo()"
      ],
      "execution_count": 46,
      "outputs": []
    },
    {
      "cell_type": "code",
      "metadata": {
        "id": "pQoLyjOLUY_m"
      },
      "source": [
        "class Car():\n",
        "  def exclaim(self):\n",
        "    print('I am a Car!')\n",
        "class Yugo(Car):\n",
        "  pass"
      ],
      "execution_count": 47,
      "outputs": []
    },
    {
      "cell_type": "code",
      "metadata": {
        "id": "liSMgfpxVAbf"
      },
      "source": [
        "give_me_a_car = Car()\n",
        "give_me_a_yugo = Yugo()"
      ],
      "execution_count": 48,
      "outputs": []
    },
    {
      "cell_type": "code",
      "metadata": {
        "id": "1Cl3uDCXVHTc",
        "colab": {
          "base_uri": "https://localhost:8080/"
        },
        "outputId": "bda58815-2039-40ce-eca1-2519a29e1710"
      },
      "source": [
        "give_me_a_car"
      ],
      "execution_count": 49,
      "outputs": [
        {
          "output_type": "execute_result",
          "data": {
            "text/plain": [
              "<__main__.Car at 0x7f3db66e3950>"
            ]
          },
          "metadata": {},
          "execution_count": 49
        }
      ]
    },
    {
      "cell_type": "code",
      "metadata": {
        "id": "vZ-5aKicVJi-",
        "colab": {
          "base_uri": "https://localhost:8080/"
        },
        "outputId": "9f7aff06-8c8b-44d1-d9bb-583c13e3f6f5"
      },
      "source": [
        "give_me_a_car.exclaim"
      ],
      "execution_count": 50,
      "outputs": [
        {
          "output_type": "execute_result",
          "data": {
            "text/plain": [
              "<bound method Car.exclaim of <__main__.Car object at 0x7f3db66e3950>>"
            ]
          },
          "metadata": {},
          "execution_count": 50
        }
      ]
    },
    {
      "cell_type": "code",
      "metadata": {
        "id": "SLfgGaqPVT-E",
        "colab": {
          "base_uri": "https://localhost:8080/"
        },
        "outputId": "1671bd98-e398-4ad2-d7bc-0a2120745a33"
      },
      "source": [
        "give_me_a_car.exclaim()"
      ],
      "execution_count": 51,
      "outputs": [
        {
          "output_type": "stream",
          "name": "stdout",
          "text": [
            "I am a Car!\n"
          ]
        }
      ]
    },
    {
      "cell_type": "code",
      "metadata": {
        "id": "zunjE0kMVZvm",
        "colab": {
          "base_uri": "https://localhost:8080/"
        },
        "outputId": "c011e018-a6d0-426b-a085-567d70c16640"
      },
      "source": [
        "give_me_a_yugo.exclaim()"
      ],
      "execution_count": 52,
      "outputs": [
        {
          "output_type": "stream",
          "name": "stdout",
          "text": [
            "I am a Car!\n"
          ]
        }
      ]
    },
    {
      "cell_type": "markdown",
      "metadata": {
        "id": "4SG8lXoPXnhA"
      },
      "source": [
        "## 覆寫方法"
      ]
    },
    {
      "cell_type": "code",
      "metadata": {
        "id": "eg-CyRnoVfUB"
      },
      "source": [
        "class Car():\n",
        "  def exclaim(self):\n",
        "    print('I am a Car!')\n",
        "\n",
        "class Yugo(Car):\n",
        "  def exclaim(self):\n",
        "    print('I am a Yugo! Much like a Car, but more Yugo-ish.')"
      ],
      "execution_count": 53,
      "outputs": []
    },
    {
      "cell_type": "code",
      "metadata": {
        "id": "27IcuJodXRA5"
      },
      "source": [
        "give_me_a_car = Car()\n",
        "give_me_a_yugo = Yugo()"
      ],
      "execution_count": 54,
      "outputs": []
    },
    {
      "cell_type": "code",
      "metadata": {
        "id": "nqKvL8yNXZla",
        "colab": {
          "base_uri": "https://localhost:8080/"
        },
        "outputId": "57b24908-28d0-4da8-e34c-4068c27fda5b"
      },
      "source": [
        "give_me_a_car.exclaim()"
      ],
      "execution_count": 55,
      "outputs": [
        {
          "output_type": "stream",
          "name": "stdout",
          "text": [
            "I am a Car!\n"
          ]
        }
      ]
    },
    {
      "cell_type": "code",
      "metadata": {
        "id": "9Cl2FRmlXdTo",
        "colab": {
          "base_uri": "https://localhost:8080/"
        },
        "outputId": "efd6829b-5f72-486e-f8ad-09c4733f1249"
      },
      "source": [
        "give_me_a_yugo.exclaim()"
      ],
      "execution_count": 56,
      "outputs": [
        {
          "output_type": "stream",
          "name": "stdout",
          "text": [
            "I am a Yugo! Much like a Car, but more Yugo-ish.\n"
          ]
        }
      ]
    },
    {
      "cell_type": "code",
      "metadata": {
        "id": "Lc5zbB67Xh08"
      },
      "source": [
        "class Person():\n",
        "  def __init__(self, name):\n",
        "    self.name = name\n",
        "\n",
        "class MDPerson(Person):  # 醫生\n",
        "  def __init__(self, name):\n",
        "    self.name = 'Doctor ' + name\n",
        "class JDPerson(Person):  # 律師\n",
        "  def __init__(self, name):\n",
        "    self.name = name + ', Esquire'"
      ],
      "execution_count": 57,
      "outputs": []
    },
    {
      "cell_type": "code",
      "metadata": {
        "id": "7_Nz63NvZGhx",
        "colab": {
          "base_uri": "https://localhost:8080/"
        },
        "outputId": "0814e4dc-2664-4a29-b3e6-f919c36e9370"
      },
      "source": [
        "person = Person('Ray')\n",
        "doctor = MDPerson('Ray')\n",
        "lawyer = JDPerson('Ray')\n",
        "print(person.name)\n",
        "print(doctor.name)\n",
        "print(lawyer.name)"
      ],
      "execution_count": 58,
      "outputs": [
        {
          "output_type": "stream",
          "name": "stdout",
          "text": [
            "Ray\n",
            "Doctor Ray\n",
            "Ray, Esquire\n"
          ]
        }
      ]
    },
    {
      "cell_type": "markdown",
      "metadata": {
        "id": "D1cMb8DlZ0f5"
      },
      "source": [
        "## 添加方法 :"
      ]
    },
    {
      "cell_type": "code",
      "metadata": {
        "id": "BS6AfYRfPJp_"
      },
      "source": [
        "class Car():\n",
        "  def exclaim(self):\n",
        "    print('Im a Car!')\n",
        "\n",
        "class Yugo(Car):\n",
        "  def exclaim(self):\n",
        "    print(\"I'm a Yugo! Much like a Car, but mor Yugo-ish.\")\n",
        "  def need_a_push(self):\n",
        "    print(\"A little help here?\")"
      ],
      "execution_count": 59,
      "outputs": []
    },
    {
      "cell_type": "code",
      "metadata": {
        "id": "QEAMLqe3P6-p"
      },
      "source": [
        "give_me_a_car = Car()\n",
        "give_me_a_yugo = Yugo()"
      ],
      "execution_count": 60,
      "outputs": []
    },
    {
      "cell_type": "code",
      "metadata": {
        "id": "-asqv3mlQMJM",
        "colab": {
          "base_uri": "https://localhost:8080/"
        },
        "outputId": "26809300-3aea-4503-eb71-b5011ebecbdc"
      },
      "source": [
        "give_me_a_yugo.need_a_push()"
      ],
      "execution_count": 61,
      "outputs": [
        {
          "output_type": "stream",
          "name": "stdout",
          "text": [
            "A little help here?\n"
          ]
        }
      ]
    },
    {
      "cell_type": "code",
      "metadata": {
        "id": "ebdXllg0QR8E",
        "colab": {
          "base_uri": "https://localhost:8080/",
          "height": 167
        },
        "outputId": "9adf704c-c009-4846-e1a0-c50885b5a604"
      },
      "source": [
        "give_me_a_car.need_a_push()"
      ],
      "execution_count": 62,
      "outputs": [
        {
          "output_type": "error",
          "ename": "AttributeError",
          "evalue": "ignored",
          "traceback": [
            "\u001b[0;31m---------------------------------------------------------------------------\u001b[0m",
            "\u001b[0;31mAttributeError\u001b[0m                            Traceback (most recent call last)",
            "\u001b[0;32m<ipython-input-62-25de065dd6f4>\u001b[0m in \u001b[0;36m<module>\u001b[0;34m()\u001b[0m\n\u001b[0;32m----> 1\u001b[0;31m \u001b[0mgive_me_a_car\u001b[0m\u001b[0;34m.\u001b[0m\u001b[0mneed_a_push\u001b[0m\u001b[0;34m(\u001b[0m\u001b[0;34m)\u001b[0m\u001b[0;34m\u001b[0m\u001b[0;34m\u001b[0m\u001b[0m\n\u001b[0m",
            "\u001b[0;31mAttributeError\u001b[0m: 'Car' object has no attribute 'need_a_push'"
          ]
        }
      ]
    },
    {
      "cell_type": "markdown",
      "metadata": {
        "id": "kipJV0X1Qbin"
      },
      "source": [
        "\n",
        "## 用 super() 來取得父類別的幫助"
      ]
    },
    {
      "cell_type": "markdown",
      "source": [
        "### 如果想要呼叫父類別的方法"
      ],
      "metadata": {
        "id": "kUzSuVr-gOtD"
      }
    },
    {
      "cell_type": "code",
      "metadata": {
        "id": "cqyX0LW_X3iX"
      },
      "source": [
        "# 定義父類別\n",
        "class Person():\n",
        "  def __init__(self, name):\n",
        "    self.name = '人類家族: ' + name \n",
        "\n",
        "# 定義子類別\n",
        "class EmailPerson(Person):\n",
        "  def __init__(self, name, email):\n",
        "    super().__init__(name)\n",
        "    self.email = email\n",
        "# 當你為類別定義__init__()方法時，就是用它來取代父類別的__init__()方法，所以後者再也不會被自動呼叫\n",
        "# 用 super() 取代父類別 Person的定義\n",
        " "
      ],
      "execution_count": 70,
      "outputs": []
    },
    {
      "cell_type": "code",
      "metadata": {
        "id": "kj8rMud8ai4J"
      },
      "source": [
        "# 創造一個物件\n",
        "bob = EmailPerson('Bob Frapples', 'bob@frapples.com')"
      ],
      "execution_count": 71,
      "outputs": []
    },
    {
      "cell_type": "code",
      "metadata": {
        "id": "A9tZrayJbDya",
        "colab": {
          "base_uri": "https://localhost:8080/",
          "height": 35
        },
        "outputId": "4f0d56e2-e0c6-43ba-f573-42a364e96eb8"
      },
      "source": [
        "bob.name"
      ],
      "execution_count": 72,
      "outputs": [
        {
          "output_type": "execute_result",
          "data": {
            "text/plain": [
              "'人類家族: Bob Frapples'"
            ],
            "application/vnd.google.colaboratory.intrinsic+json": {
              "type": "string"
            }
          },
          "metadata": {},
          "execution_count": 72
        }
      ]
    },
    {
      "cell_type": "code",
      "metadata": {
        "id": "PYsKUGx4bF88",
        "colab": {
          "base_uri": "https://localhost:8080/",
          "height": 35
        },
        "outputId": "dfe188e2-5b66-4f71-c179-9db0744ee606"
      },
      "source": [
        "bob.email"
      ],
      "execution_count": 73,
      "outputs": [
        {
          "output_type": "execute_result",
          "data": {
            "text/plain": [
              "'bob@frapples.com'"
            ],
            "application/vnd.google.colaboratory.intrinsic+json": {
              "type": "string"
            }
          },
          "metadata": {},
          "execution_count": 73
        }
      ]
    },
    {
      "cell_type": "code",
      "metadata": {
        "id": "G-ds0sbHbTD6",
        "colab": {
          "base_uri": "https://localhost:8080/",
          "height": 35
        },
        "outputId": "3ea5a55e-4ad3-42b5-8f88-e1016958bd0d"
      },
      "source": [
        "dick = Person('Dick')\n",
        "dick.name"
      ],
      "execution_count": 74,
      "outputs": [
        {
          "output_type": "execute_result",
          "data": {
            "text/plain": [
              "'人類家族: Dick'"
            ],
            "application/vnd.google.colaboratory.intrinsic+json": {
              "type": "string"
            }
          },
          "metadata": {},
          "execution_count": 74
        }
      ]
    },
    {
      "cell_type": "code",
      "metadata": {
        "id": "R3w0ApcFbgJu",
        "colab": {
          "base_uri": "https://localhost:8080/",
          "height": 167
        },
        "outputId": "84f4676c-3d13-443b-f58a-6e8754dc20cd"
      },
      "source": [
        "dick.email"
      ],
      "execution_count": 75,
      "outputs": [
        {
          "output_type": "error",
          "ename": "AttributeError",
          "evalue": "ignored",
          "traceback": [
            "\u001b[0;31m---------------------------------------------------------------------------\u001b[0m",
            "\u001b[0;31mAttributeError\u001b[0m                            Traceback (most recent call last)",
            "\u001b[0;32m<ipython-input-75-ad97a676572f>\u001b[0m in \u001b[0;36m<module>\u001b[0;34m()\u001b[0m\n\u001b[0;32m----> 1\u001b[0;31m \u001b[0mdick\u001b[0m\u001b[0;34m.\u001b[0m\u001b[0memail\u001b[0m\u001b[0;34m\u001b[0m\u001b[0;34m\u001b[0m\u001b[0m\n\u001b[0m",
            "\u001b[0;31mAttributeError\u001b[0m: 'Person' object has no attribute 'email'"
          ]
        }
      ]
    },
    {
      "cell_type": "markdown",
      "metadata": {
        "id": "BH2I1GBvbh94"
      },
      "source": [
        "#### 如果子類別會用它自己的方式做事，但仍然會使用到父類別的東西，請使用super()。"
      ]
    },
    {
      "cell_type": "markdown",
      "metadata": {
        "id": "lqn0alHscI1H"
      },
      "source": [
        "## 多重繼承"
      ]
    },
    {
      "cell_type": "markdown",
      "metadata": {
        "id": "Cgic4WWoc2q7"
      },
      "source": [
        "### 定義一個最頂端的 Animal 類別\n",
        "### 它的兩個子類別 (Horse、Donkey)\n",
        "### 以及從這兩個類別再衍生的兩個類別"
      ]
    },
    {
      "cell_type": "code",
      "metadata": {
        "id": "M2UqxVMPeDyY"
      },
      "source": [
        "class Animal():\n",
        "  def says(self):\n",
        "    return 'I speak!'"
      ],
      "execution_count": 76,
      "outputs": []
    },
    {
      "cell_type": "code",
      "metadata": {
        "id": "_16ILA6PeRBH"
      },
      "source": [
        "class Horse(Animal):\n",
        "  def says(self):\n",
        "    return 'Neigh!'\n",
        "\n",
        "class Donkey(Animal):\n",
        "  def says(self):\n",
        "    return 'Hee-haw!'"
      ],
      "execution_count": 77,
      "outputs": []
    },
    {
      "cell_type": "code",
      "metadata": {
        "id": "mwA1jo34erSc"
      },
      "source": [
        "class Mule(Donkey, Horse):\n",
        "  pass\n",
        "class Hinny(Horse, Donkey):\n",
        "  pass"
      ],
      "execution_count": 78,
      "outputs": []
    },
    {
      "cell_type": "code",
      "metadata": {
        "id": "49o6V-qLfS6-",
        "colab": {
          "base_uri": "https://localhost:8080/"
        },
        "outputId": "a9f5d2c4-e02b-43d4-a9e8-b229a87b04dc"
      },
      "source": [
        "Mule.mro()"
      ],
      "execution_count": 79,
      "outputs": [
        {
          "output_type": "execute_result",
          "data": {
            "text/plain": [
              "[__main__.Mule, __main__.Donkey, __main__.Horse, __main__.Animal, object]"
            ]
          },
          "metadata": {},
          "execution_count": 79
        }
      ]
    },
    {
      "cell_type": "code",
      "metadata": {
        "id": "MVyXrHAwfYbR",
        "colab": {
          "base_uri": "https://localhost:8080/"
        },
        "outputId": "1d136f08-0452-420f-9d37-35af04ea2033"
      },
      "source": [
        "Hinny.mro()"
      ],
      "execution_count": 80,
      "outputs": [
        {
          "output_type": "execute_result",
          "data": {
            "text/plain": [
              "[__main__.Hinny, __main__.Horse, __main__.Donkey, __main__.Animal, object]"
            ]
          },
          "metadata": {},
          "execution_count": 80
        }
      ]
    },
    {
      "cell_type": "code",
      "source": [
        "Mule.__mro__"
      ],
      "metadata": {
        "colab": {
          "base_uri": "https://localhost:8080/"
        },
        "id": "d5PC4abQijGq",
        "outputId": "03822c95-5caa-4f2a-e3aa-bd87690c35d2"
      },
      "execution_count": 82,
      "outputs": [
        {
          "output_type": "execute_result",
          "data": {
            "text/plain": [
              "(__main__.Mule, __main__.Donkey, __main__.Horse, __main__.Animal, object)"
            ]
          },
          "metadata": {},
          "execution_count": 82
        }
      ]
    },
    {
      "cell_type": "code",
      "source": [
        "Hinny.__mro__"
      ],
      "metadata": {
        "colab": {
          "base_uri": "https://localhost:8080/"
        },
        "id": "bQDVgnGsiqas",
        "outputId": "f672c74e-1378-4ded-da9a-ca096201a078"
      },
      "execution_count": 83,
      "outputs": [
        {
          "output_type": "execute_result",
          "data": {
            "text/plain": [
              "(__main__.Hinny, __main__.Horse, __main__.Donkey, __main__.Animal, object)"
            ]
          },
          "metadata": {},
          "execution_count": 83
        }
      ]
    },
    {
      "cell_type": "code",
      "metadata": {
        "id": "muaxgTfyfdKU"
      },
      "source": [
        "mule = Mule()\n",
        "hinny = Hinny()"
      ],
      "execution_count": 85,
      "outputs": []
    },
    {
      "cell_type": "code",
      "metadata": {
        "id": "jv2LepVtflkb",
        "colab": {
          "base_uri": "https://localhost:8080/",
          "height": 35
        },
        "outputId": "a6164dc4-ef7c-45d4-c818-8942d3c259cd"
      },
      "source": [
        "mule.says()"
      ],
      "execution_count": 86,
      "outputs": [
        {
          "output_type": "execute_result",
          "data": {
            "text/plain": [
              "'Hee-haw!'"
            ],
            "application/vnd.google.colaboratory.intrinsic+json": {
              "type": "string"
            }
          },
          "metadata": {},
          "execution_count": 86
        }
      ]
    },
    {
      "cell_type": "code",
      "metadata": {
        "id": "-WtsNW26f5bK",
        "colab": {
          "base_uri": "https://localhost:8080/",
          "height": 35
        },
        "outputId": "707553fd-3980-4cb0-f1b6-946f0fdbd34e"
      },
      "source": [
        "hinny.says()"
      ],
      "execution_count": 87,
      "outputs": [
        {
          "output_type": "execute_result",
          "data": {
            "text/plain": [
              "'Neigh!'"
            ],
            "application/vnd.google.colaboratory.intrinsic+json": {
              "type": "string"
            }
          },
          "metadata": {},
          "execution_count": 87
        }
      ]
    },
    {
      "cell_type": "markdown",
      "metadata": {
        "id": "J61raw6bgT32"
      },
      "source": [
        "## Mixin"
      ]
    },
    {
      "cell_type": "code",
      "metadata": {
        "id": "kMn8jYUlDkSb",
        "colab": {
          "base_uri": "https://localhost:8080/"
        },
        "outputId": "089cbe58-bebc-4500-ce09-db4d9e3375e9"
      },
      "source": [
        "class PrettyMixin():\n",
        "  def dump(self):\n",
        "    import pprint\n",
        "    pprint.pprint(vars(self))\n",
        "\n",
        "class Thing(PrettyMixin):\n",
        "  pass\n",
        "\n",
        "t = Thing()\n",
        "t.name = \"Nyarlathotep\"\n",
        "t.feature = \"ichor\"\n",
        "t.age = \"eldritch\"\n",
        "t.dump()"
      ],
      "execution_count": 88,
      "outputs": [
        {
          "output_type": "stream",
          "name": "stdout",
          "text": [
            "{'age': 'eldritch', 'feature': 'ichor', 'name': 'Nyarlathotep'}\n"
          ]
        }
      ]
    },
    {
      "cell_type": "code",
      "source": [
        "print(type(vars(t)))\n",
        "vars(t)"
      ],
      "metadata": {
        "colab": {
          "base_uri": "https://localhost:8080/"
        },
        "id": "SHXsNVTZm7r3",
        "outputId": "97fcb939-94bf-4b27-cd45-1bec6a85c0f3"
      },
      "execution_count": 93,
      "outputs": [
        {
          "output_type": "stream",
          "name": "stdout",
          "text": [
            "<class 'dict'>\n"
          ]
        },
        {
          "output_type": "execute_result",
          "data": {
            "text/plain": [
              "{'age': 'eldritch', 'feature': 'ichor', 'name': 'Nyarlathotep'}"
            ]
          },
          "metadata": {},
          "execution_count": 93
        }
      ]
    },
    {
      "cell_type": "markdown",
      "metadata": {
        "id": "jQgOCrfhG3xj"
      },
      "source": [
        "## 自(self)衛"
      ]
    },
    {
      "cell_type": "code",
      "metadata": {
        "id": "hHr60vJlG8Qw"
      },
      "source": [
        "class Car():\n",
        "  def exclaim(self):\n",
        "    print('I am a Car!')"
      ],
      "execution_count": 94,
      "outputs": []
    },
    {
      "cell_type": "code",
      "metadata": {
        "id": "484zYIzRHat7",
        "colab": {
          "base_uri": "https://localhost:8080/"
        },
        "outputId": "2f0480ff-c2d4-4f94-f26e-882e646b1552"
      },
      "source": [
        "a_car = Car()\n",
        "a_car.exclaim()"
      ],
      "execution_count": 95,
      "outputs": [
        {
          "output_type": "stream",
          "name": "stdout",
          "text": [
            "I am a Car!\n"
          ]
        }
      ]
    },
    {
      "cell_type": "markdown",
      "metadata": {
        "id": "lQtiWmIdHl_A"
      },
      "source": [
        "### Python 私底下做什麼 ?\n",
        "###1. 查看物件 a_car 的類別(Car)\n",
        "###2. 用 self 參數將物件 a_car 傳給 Car 類別的 exclaim() 方法"
      ]
    },
    {
      "cell_type": "code",
      "metadata": {
        "id": "XwR3jNunIIlJ",
        "colab": {
          "base_uri": "https://localhost:8080/"
        },
        "outputId": "aead5961-90cd-4dd0-dc50-122b1f356c3b"
      },
      "source": [
        "Car().exclaim()"
      ],
      "execution_count": 96,
      "outputs": [
        {
          "output_type": "stream",
          "name": "stdout",
          "text": [
            "I am a Car!\n"
          ]
        }
      ]
    },
    {
      "cell_type": "code",
      "metadata": {
        "id": "okWdfm-nIadb",
        "colab": {
          "base_uri": "https://localhost:8080/"
        },
        "outputId": "45305bea-a68e-4b81-8478-ecf3742a2cdc"
      },
      "source": [
        "Car.exclaim(a_car)"
      ],
      "execution_count": 97,
      "outputs": [
        {
          "output_type": "stream",
          "name": "stdout",
          "text": [
            "I am a Car!\n"
          ]
        }
      ]
    },
    {
      "cell_type": "code",
      "metadata": {
        "id": "VSxTBOnZI7zu",
        "colab": {
          "base_uri": "https://localhost:8080/"
        },
        "outputId": "1a68793d-12db-44e3-8e28-a71a7770d385"
      },
      "source": [
        "Car.exclaim"
      ],
      "execution_count": 98,
      "outputs": [
        {
          "output_type": "execute_result",
          "data": {
            "text/plain": [
              "<function __main__.Car.exclaim>"
            ]
          },
          "metadata": {},
          "execution_count": 98
        }
      ]
    },
    {
      "cell_type": "code",
      "metadata": {
        "id": "ReElXh0xI_sZ",
        "colab": {
          "base_uri": "https://localhost:8080/"
        },
        "outputId": "94809498-ec26-49a2-e914-a8c92285dfca"
      },
      "source": [
        "Car().exclaim"
      ],
      "execution_count": 99,
      "outputs": [
        {
          "output_type": "execute_result",
          "data": {
            "text/plain": [
              "<bound method Car.exclaim of <__main__.Car object at 0x7f3db665e550>>"
            ]
          },
          "metadata": {},
          "execution_count": 99
        }
      ]
    },
    {
      "cell_type": "code",
      "metadata": {
        "id": "8lZHqqv4JOnL",
        "colab": {
          "base_uri": "https://localhost:8080/",
          "height": 167
        },
        "outputId": "9577477e-2d32-4f32-9aa5-7896962e77fc"
      },
      "source": [
        "Car.exclaim(self)"
      ],
      "execution_count": 100,
      "outputs": [
        {
          "output_type": "error",
          "ename": "NameError",
          "evalue": "ignored",
          "traceback": [
            "\u001b[0;31m---------------------------------------------------------------------------\u001b[0m",
            "\u001b[0;31mNameError\u001b[0m                                 Traceback (most recent call last)",
            "\u001b[0;32m<ipython-input-100-394efab161d4>\u001b[0m in \u001b[0;36m<module>\u001b[0;34m()\u001b[0m\n\u001b[0;32m----> 1\u001b[0;31m \u001b[0mCar\u001b[0m\u001b[0;34m.\u001b[0m\u001b[0mexclaim\u001b[0m\u001b[0;34m(\u001b[0m\u001b[0mself\u001b[0m\u001b[0;34m)\u001b[0m\u001b[0;34m\u001b[0m\u001b[0;34m\u001b[0m\u001b[0m\n\u001b[0m",
            "\u001b[0;31mNameError\u001b[0m: name 'self' is not defined"
          ]
        }
      ]
    },
    {
      "cell_type": "code",
      "metadata": {
        "id": "NQEL_QPnIl3R",
        "colab": {
          "base_uri": "https://localhost:8080/",
          "height": 167
        },
        "outputId": "c809aab0-0346-46db-e44d-1db93c64cb21"
      },
      "source": [
        "Car().exclaim(a_car)\n"
      ],
      "execution_count": 101,
      "outputs": [
        {
          "output_type": "error",
          "ename": "TypeError",
          "evalue": "ignored",
          "traceback": [
            "\u001b[0;31m---------------------------------------------------------------------------\u001b[0m",
            "\u001b[0;31mTypeError\u001b[0m                                 Traceback (most recent call last)",
            "\u001b[0;32m<ipython-input-101-342e945e2d2a>\u001b[0m in \u001b[0;36m<module>\u001b[0;34m()\u001b[0m\n\u001b[0;32m----> 1\u001b[0;31m \u001b[0mCar\u001b[0m\u001b[0;34m(\u001b[0m\u001b[0;34m)\u001b[0m\u001b[0;34m.\u001b[0m\u001b[0mexclaim\u001b[0m\u001b[0;34m(\u001b[0m\u001b[0ma_car\u001b[0m\u001b[0;34m)\u001b[0m\u001b[0;34m\u001b[0m\u001b[0;34m\u001b[0m\u001b[0m\n\u001b[0m",
            "\u001b[0;31mTypeError\u001b[0m: exclaim() takes 1 positional argument but 2 were given"
          ]
        }
      ]
    },
    {
      "cell_type": "markdown",
      "metadata": {
        "id": "5-o-_BdfIpcR"
      },
      "source": [
        "## 屬性存取\n",
        "### 直接存取"
      ]
    },
    {
      "cell_type": "code",
      "metadata": {
        "id": "tZSUjny1JzAg",
        "colab": {
          "base_uri": "https://localhost:8080/",
          "height": 35
        },
        "outputId": "c1078f3f-8be0-4500-9d5b-1a3314881d5e"
      },
      "source": [
        "class Duck:\n",
        "  def __init__(self, input_name):\n",
        "    self.name = input_name\n",
        "fowl = Duck(\"Daffy\")\n",
        "fowl.name"
      ],
      "execution_count": 102,
      "outputs": [
        {
          "output_type": "execute_result",
          "data": {
            "text/plain": [
              "'Daffy'"
            ],
            "application/vnd.google.colaboratory.intrinsic+json": {
              "type": "string"
            }
          },
          "metadata": {},
          "execution_count": 102
        }
      ]
    },
    {
      "cell_type": "code",
      "metadata": {
        "id": "SLYHfpGEKVOo",
        "colab": {
          "base_uri": "https://localhost:8080/",
          "height": 35
        },
        "outputId": "fe9eb68b-871c-4083-d113-d0f59fafeab3"
      },
      "source": [
        "fowl.name = \"Daphne\"\n",
        "fowl.name"
      ],
      "execution_count": 103,
      "outputs": [
        {
          "output_type": "execute_result",
          "data": {
            "text/plain": [
              "'Daphne'"
            ],
            "application/vnd.google.colaboratory.intrinsic+json": {
              "type": "string"
            }
          },
          "metadata": {},
          "execution_count": 103
        }
      ]
    },
    {
      "cell_type": "markdown",
      "metadata": {
        "id": "WBh3BMwvKezZ"
      },
      "source": [
        "### getter 與 setter"
      ]
    },
    {
      "cell_type": "code",
      "metadata": {
        "id": "C4vjQKcqKpNY"
      },
      "source": [
        "class Duck():\n",
        "  def __init__(self, input_name):\n",
        "    self.hidden_name = input_name\n",
        "  def get_name(self):\n",
        "    print('inside the getter')\n",
        "    return self.hidden_name\n",
        "  def set_name(self, input_name):\n",
        "    print('inside the setter')\n",
        "    self.hidden_name = input_name"
      ],
      "execution_count": 104,
      "outputs": []
    },
    {
      "cell_type": "code",
      "metadata": {
        "id": "ujjoSzKJL9Kz",
        "colab": {
          "base_uri": "https://localhost:8080/",
          "height": 53
        },
        "outputId": "3e674240-ac05-4524-96df-30ff1f070e9c"
      },
      "source": [
        "don = Duck('Donald')\n",
        "don.get_name()"
      ],
      "execution_count": 105,
      "outputs": [
        {
          "output_type": "stream",
          "name": "stdout",
          "text": [
            "inside the getter\n"
          ]
        },
        {
          "output_type": "execute_result",
          "data": {
            "text/plain": [
              "'Donald'"
            ],
            "application/vnd.google.colaboratory.intrinsic+json": {
              "type": "string"
            }
          },
          "metadata": {},
          "execution_count": 105
        }
      ]
    },
    {
      "cell_type": "code",
      "metadata": {
        "id": "2jhEwBwOMNLm",
        "colab": {
          "base_uri": "https://localhost:8080/"
        },
        "outputId": "5229387b-5c71-47b3-936a-a3f0663f0031"
      },
      "source": [
        "don.set_name('Donna')"
      ],
      "execution_count": 106,
      "outputs": [
        {
          "output_type": "stream",
          "name": "stdout",
          "text": [
            "inside the setter\n"
          ]
        }
      ]
    },
    {
      "cell_type": "code",
      "metadata": {
        "id": "uCUvTeJiMd7L",
        "colab": {
          "base_uri": "https://localhost:8080/",
          "height": 53
        },
        "outputId": "fa0f046d-be45-405f-ee8c-401645f27092"
      },
      "source": [
        "don.get_name()"
      ],
      "execution_count": 107,
      "outputs": [
        {
          "output_type": "stream",
          "name": "stdout",
          "text": [
            "inside the getter\n"
          ]
        },
        {
          "output_type": "execute_result",
          "data": {
            "text/plain": [
              "'Donna'"
            ],
            "application/vnd.google.colaboratory.intrinsic+json": {
              "type": "string"
            }
          },
          "metadata": {},
          "execution_count": 107
        }
      ]
    },
    {
      "cell_type": "code",
      "metadata": {
        "id": "X7IJMdJcND9C",
        "colab": {
          "base_uri": "https://localhost:8080/",
          "height": 167
        },
        "outputId": "1b62718f-a589-4024-e106-979af57f8a41"
      },
      "source": [
        "don('aaa')"
      ],
      "execution_count": 108,
      "outputs": [
        {
          "output_type": "error",
          "ename": "TypeError",
          "evalue": "ignored",
          "traceback": [
            "\u001b[0;31m---------------------------------------------------------------------------\u001b[0m",
            "\u001b[0;31mTypeError\u001b[0m                                 Traceback (most recent call last)",
            "\u001b[0;32m<ipython-input-108-2adff5e73c7b>\u001b[0m in \u001b[0;36m<module>\u001b[0;34m()\u001b[0m\n\u001b[0;32m----> 1\u001b[0;31m \u001b[0mdon\u001b[0m\u001b[0;34m(\u001b[0m\u001b[0;34m'aaa'\u001b[0m\u001b[0;34m)\u001b[0m\u001b[0;34m\u001b[0m\u001b[0;34m\u001b[0m\u001b[0m\n\u001b[0m",
            "\u001b[0;31mTypeError\u001b[0m: 'Duck' object is not callable"
          ]
        }
      ]
    },
    {
      "cell_type": "code",
      "metadata": {
        "id": "fs1bsBIyNKMn",
        "colab": {
          "base_uri": "https://localhost:8080/",
          "height": 53
        },
        "outputId": "203230da-d16a-430f-bad0-45a0e21a838d"
      },
      "source": [
        "don.hidden_name = \"Alice\"\n",
        "don.get_name()"
      ],
      "execution_count": null,
      "outputs": [
        {
          "output_type": "stream",
          "name": "stdout",
          "text": [
            "inside the getter\n"
          ]
        },
        {
          "output_type": "execute_result",
          "data": {
            "application/vnd.google.colaboratory.intrinsic+json": {
              "type": "string"
            },
            "text/plain": [
              "'Alice'"
            ]
          },
          "metadata": {},
          "execution_count": 35
        }
      ]
    },
    {
      "cell_type": "code",
      "metadata": {
        "id": "vdxBRmelNfDQ",
        "colab": {
          "base_uri": "https://localhost:8080/",
          "height": 35
        },
        "outputId": "00b144e7-8854-45dd-f653-70ac3bdae371"
      },
      "source": [
        "don.hidden_name"
      ],
      "execution_count": null,
      "outputs": [
        {
          "output_type": "execute_result",
          "data": {
            "application/vnd.google.colaboratory.intrinsic+json": {
              "type": "string"
            },
            "text/plain": [
              "'Alice'"
            ]
          },
          "metadata": {},
          "execution_count": 36
        }
      ]
    },
    {
      "cell_type": "markdown",
      "metadata": {
        "id": "l3GuafQbvoWI"
      },
      "source": [
        "### 用來存取屬性的 property"
      ]
    },
    {
      "cell_type": "code",
      "metadata": {
        "id": "6QVHyfkov2aX"
      },
      "source": [
        "class Duck():\n",
        "  def __init__(self, input_name):\n",
        "    self.hidden_name = input_name\n",
        "  def get_name(self):\n",
        "    print('inside the getter')\n",
        "    return self.hidden_name\n",
        "  def set_name(self, input_name):\n",
        "    print('inside the setter')\n",
        "    self.hidden_name = input_name\n",
        "  name = property(get_name, set_name)"
      ],
      "execution_count": 118,
      "outputs": []
    },
    {
      "cell_type": "code",
      "metadata": {
        "id": "u3fn9fnRxXtb",
        "outputId": "843139c1-1fda-4a58-935a-6008c02fe5c8",
        "colab": {
          "base_uri": "https://localhost:8080/",
          "height": 53
        }
      },
      "source": [
        "don = Duck('Donald')\n",
        "don.get_name()"
      ],
      "execution_count": 120,
      "outputs": [
        {
          "output_type": "stream",
          "name": "stdout",
          "text": [
            "inside the getter\n"
          ]
        },
        {
          "output_type": "execute_result",
          "data": {
            "text/plain": [
              "'Donald'"
            ],
            "application/vnd.google.colaboratory.intrinsic+json": {
              "type": "string"
            }
          },
          "metadata": {},
          "execution_count": 120
        }
      ]
    },
    {
      "cell_type": "code",
      "metadata": {
        "id": "AUpSEjDmxkxe",
        "outputId": "c0402369-1b33-44ea-fab6-609e51b34085",
        "colab": {
          "base_uri": "https://localhost:8080/"
        }
      },
      "source": [
        "don.set_name('Donna')"
      ],
      "execution_count": 121,
      "outputs": [
        {
          "output_type": "stream",
          "name": "stdout",
          "text": [
            "inside the setter\n"
          ]
        }
      ]
    },
    {
      "cell_type": "code",
      "metadata": {
        "id": "01nWhoOlxr9S",
        "outputId": "da2fc460-96be-434f-b0f7-658292b7e2ac",
        "colab": {
          "base_uri": "https://localhost:8080/",
          "height": 53
        }
      },
      "source": [
        "don.get_name()"
      ],
      "execution_count": 122,
      "outputs": [
        {
          "output_type": "stream",
          "name": "stdout",
          "text": [
            "inside the getter\n"
          ]
        },
        {
          "output_type": "execute_result",
          "data": {
            "text/plain": [
              "'Donna'"
            ],
            "application/vnd.google.colaboratory.intrinsic+json": {
              "type": "string"
            }
          },
          "metadata": {},
          "execution_count": 122
        }
      ]
    },
    {
      "cell_type": "markdown",
      "source": [
        "#### property 使 class 的 name 屬性同時具有 get_name、set_name 兩種方法"
      ],
      "metadata": {
        "id": "egd40qWPrnkQ"
      }
    },
    {
      "cell_type": "code",
      "metadata": {
        "id": "DVfIfndex_NC",
        "outputId": "1a0aeb99-59f4-4614-9bc0-8f022025e684",
        "colab": {
          "base_uri": "https://localhost:8080/",
          "height": 53
        }
      },
      "source": [
        "don = Duck('Donald')\n",
        "don.name # get_name 方法"
      ],
      "execution_count": 123,
      "outputs": [
        {
          "output_type": "stream",
          "name": "stdout",
          "text": [
            "inside the getter\n"
          ]
        },
        {
          "output_type": "execute_result",
          "data": {
            "text/plain": [
              "'Donald'"
            ],
            "application/vnd.google.colaboratory.intrinsic+json": {
              "type": "string"
            }
          },
          "metadata": {},
          "execution_count": 123
        }
      ]
    },
    {
      "cell_type": "code",
      "source": [
        "don.hidden_name"
      ],
      "metadata": {
        "colab": {
          "base_uri": "https://localhost:8080/",
          "height": 35
        },
        "id": "kO__4Xk9qTJ5",
        "outputId": "a1258aa4-e0e8-4922-cfa5-d19388096121"
      },
      "execution_count": 124,
      "outputs": [
        {
          "output_type": "execute_result",
          "data": {
            "text/plain": [
              "'Donald'"
            ],
            "application/vnd.google.colaboratory.intrinsic+json": {
              "type": "string"
            }
          },
          "metadata": {},
          "execution_count": 124
        }
      ]
    },
    {
      "cell_type": "code",
      "metadata": {
        "id": "G93rUpITyMN2",
        "outputId": "4de4f25f-211f-486e-f654-7ffe9b4e8bf9",
        "colab": {
          "base_uri": "https://localhost:8080/"
        }
      },
      "source": [
        "don.name = 'Donna' # set_name 方法"
      ],
      "execution_count": 125,
      "outputs": [
        {
          "output_type": "stream",
          "name": "stdout",
          "text": [
            "inside the setter\n"
          ]
        }
      ]
    },
    {
      "cell_type": "code",
      "metadata": {
        "id": "2l3mKzj6yY_l",
        "outputId": "777f9fdd-42d3-4b12-b5f6-92665195eb0c",
        "colab": {
          "base_uri": "https://localhost:8080/",
          "height": 53
        }
      },
      "source": [
        "don.name "
      ],
      "execution_count": 126,
      "outputs": [
        {
          "output_type": "stream",
          "name": "stdout",
          "text": [
            "inside the getter\n"
          ]
        },
        {
          "output_type": "execute_result",
          "data": {
            "text/plain": [
              "'Donna'"
            ],
            "application/vnd.google.colaboratory.intrinsic+json": {
              "type": "string"
            }
          },
          "metadata": {},
          "execution_count": 126
        }
      ]
    },
    {
      "cell_type": "code",
      "metadata": {
        "id": "B2l8K5xrykVB",
        "colab": {
          "base_uri": "https://localhost:8080/",
          "height": 35
        },
        "outputId": "7972d662-6687-481e-992b-05541802c96e"
      },
      "source": [
        "don.hidden_name"
      ],
      "execution_count": 127,
      "outputs": [
        {
          "output_type": "execute_result",
          "data": {
            "text/plain": [
              "'Donna'"
            ],
            "application/vnd.google.colaboratory.intrinsic+json": {
              "type": "string"
            }
          },
          "metadata": {},
          "execution_count": 127
        }
      ]
    },
    {
      "cell_type": "markdown",
      "source": [
        "#### 第二種做法是加入一些裝飾器，並將方法名稱 get_name 和 set_name 換成 name:\n",
        "\n",
        "1. 在 getter 方法前面加上 @property\n",
        "2. 在 setter 方法前面加上 @name.setter\n",
        "\n",
        "\n"
      ],
      "metadata": {
        "id": "brQegVDCsXL6"
      }
    },
    {
      "cell_type": "code",
      "source": [
        "class Duck():\n",
        "  def __init__(self, input_name):\n",
        "    self.hidden_name = input_name\n",
        "  \n",
        "  @property\n",
        "  def name(self):\n",
        "    print('inside the getter')\n",
        "    return self.hidden_name\n",
        "  \n",
        "  @name.setter\n",
        "  def name(self, input_name):\n",
        "    print('inside the setter')\n",
        "    self.hidden_name = input_name\n",
        "    "
      ],
      "metadata": {
        "id": "4M1DepNksxYr"
      },
      "execution_count": 128,
      "outputs": []
    },
    {
      "cell_type": "code",
      "source": [
        "# 將 name 當成屬性來存取\n",
        "fowl = Duck('Howard')\n",
        "fowl.name"
      ],
      "metadata": {
        "colab": {
          "base_uri": "https://localhost:8080/",
          "height": 53
        },
        "id": "hv3ifCWytmDB",
        "outputId": "50b65cac-4d6b-401f-cb8a-24f36417b795"
      },
      "execution_count": 129,
      "outputs": [
        {
          "output_type": "stream",
          "name": "stdout",
          "text": [
            "inside the getter\n"
          ]
        },
        {
          "output_type": "execute_result",
          "data": {
            "text/plain": [
              "'Howard'"
            ],
            "application/vnd.google.colaboratory.intrinsic+json": {
              "type": "string"
            }
          },
          "metadata": {},
          "execution_count": 129
        }
      ]
    },
    {
      "cell_type": "code",
      "source": [
        "fowl.name = 'Donald'"
      ],
      "metadata": {
        "colab": {
          "base_uri": "https://localhost:8080/"
        },
        "id": "Hg2LCWGet0oG",
        "outputId": "f8a8e32c-9dcb-4088-e7ac-07c2cb6acfa5"
      },
      "execution_count": 130,
      "outputs": [
        {
          "output_type": "stream",
          "name": "stdout",
          "text": [
            "inside the setter\n"
          ]
        }
      ]
    },
    {
      "cell_type": "code",
      "source": [
        "fowl.name"
      ],
      "metadata": {
        "colab": {
          "base_uri": "https://localhost:8080/",
          "height": 53
        },
        "id": "BasNqw6ft-Yd",
        "outputId": "2ecd8ce7-0d1f-43b9-d1a5-18f6a0e9a723"
      },
      "execution_count": 131,
      "outputs": [
        {
          "output_type": "stream",
          "name": "stdout",
          "text": [
            "inside the getter\n"
          ]
        },
        {
          "output_type": "execute_result",
          "data": {
            "text/plain": [
              "'Donald'"
            ],
            "application/vnd.google.colaboratory.intrinsic+json": {
              "type": "string"
            }
          },
          "metadata": {},
          "execution_count": 131
        }
      ]
    },
    {
      "cell_type": "markdown",
      "source": [
        "#### 當有人猜到屬性的名字是 hidden_name 時，他們仍然可以用 fowl.hidden_name 直接存取它。"
      ],
      "metadata": {
        "id": "JAWiZY_kuLge"
      }
    },
    {
      "cell_type": "markdown",
      "source": [
        "### 用 property 回傳算出來的值"
      ],
      "metadata": {
        "id": "3i_Ecz8Fu73U"
      }
    },
    {
      "cell_type": "code",
      "source": [
        ""
      ],
      "metadata": {
        "id": "mhTOGibouA9-"
      },
      "execution_count": null,
      "outputs": []
    }
  ]
}