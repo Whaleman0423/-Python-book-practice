{
  "nbformat": 4,
  "nbformat_minor": 0,
  "metadata": {
    "colab": {
      "name": "精通Python第10章_物件與類別_1121.ipynb",
      "provenance": [],
      "authorship_tag": "ABX9TyO7RC4Q3SF8OgrDkYMhMkDb",
      "include_colab_link": true
    },
    "kernelspec": {
      "name": "python3",
      "display_name": "Python 3"
    },
    "language_info": {
      "name": "python"
    }
  },
  "cells": [
    {
      "cell_type": "markdown",
      "metadata": {
        "id": "view-in-github",
        "colab_type": "text"
      },
      "source": [
        "<a href=\"https://colab.research.google.com/github/Whaleman0423/Python/blob/main/%E7%B2%BE%E9%80%9APython/%E7%B2%BE%E9%80%9APython%E7%AC%AC10%E7%AB%A0_%E7%89%A9%E4%BB%B6%E8%88%87%E9%A1%9E%E5%88%A5_1121.ipynb\" target=\"_parent\"><img src=\"https://colab.research.google.com/assets/colab-badge.svg\" alt=\"Open In Colab\"/></a>"
      ]
    },
    {
      "cell_type": "markdown",
      "metadata": {
        "id": "g4GxAgvvLjGd"
      },
      "source": [
        "# 簡單的物件\n",
        "## 用 class 定義類別"
      ]
    },
    {
      "cell_type": "code",
      "metadata": {
        "id": "N2i2CUlGL75j",
        "colab": {
          "base_uri": "https://localhost:8080/"
        },
        "outputId": "0623ed27-0f69-4909-eb04-4922bf5956b8"
      },
      "source": [
        "class Cat():\n",
        "  pass\n",
        "Cat"
      ],
      "execution_count": null,
      "outputs": [
        {
          "output_type": "execute_result",
          "data": {
            "text/plain": [
              "__main__.Cat"
            ]
          },
          "metadata": {},
          "execution_count": 1
        }
      ]
    },
    {
      "cell_type": "code",
      "metadata": {
        "id": "rd4VQT3TPR73",
        "colab": {
          "base_uri": "https://localhost:8080/"
        },
        "outputId": "4213973f-2f01-4ab7-b3be-12a1d8bff4af"
      },
      "source": [
        "Cat()"
      ],
      "execution_count": null,
      "outputs": [
        {
          "output_type": "execute_result",
          "data": {
            "text/plain": [
              "<__main__.Cat at 0x7f6e22f9d610>"
            ]
          },
          "metadata": {},
          "execution_count": 2
        }
      ]
    },
    {
      "cell_type": "markdown",
      "metadata": {
        "id": "YTKVoqdfMWn0"
      },
      "source": [
        "## 也可以這樣寫"
      ]
    },
    {
      "cell_type": "code",
      "metadata": {
        "id": "SzEcMM_YMaNC",
        "colab": {
          "base_uri": "https://localhost:8080/"
        },
        "outputId": "224f94aa-c130-4f10-a5b4-a58048bf2570"
      },
      "source": [
        "class Cat:   # 不加括號\n",
        "  pass\n",
        "Cat"
      ],
      "execution_count": null,
      "outputs": [
        {
          "output_type": "execute_result",
          "data": {
            "text/plain": [
              "__main__.Cat"
            ]
          },
          "metadata": {},
          "execution_count": 3
        }
      ]
    },
    {
      "cell_type": "code",
      "metadata": {
        "id": "fE7seqqOPUmZ",
        "colab": {
          "base_uri": "https://localhost:8080/"
        },
        "outputId": "89f13c5f-8a77-419a-99bf-7bfe0e823de9"
      },
      "source": [
        "Cat()"
      ],
      "execution_count": null,
      "outputs": [
        {
          "output_type": "execute_result",
          "data": {
            "text/plain": [
              "<__main__.Cat at 0x7f6e26a1e590>"
            ]
          },
          "metadata": {},
          "execution_count": 4
        }
      ]
    },
    {
      "cell_type": "markdown",
      "metadata": {
        "id": "l4vjnxr_Mf9B"
      },
      "source": [
        "### 需用 pass 來指出這個類別是空的 此為最精簡的物件建立"
      ]
    },
    {
      "cell_type": "code",
      "metadata": {
        "id": "hB5b05YAMu_S"
      },
      "source": [
        "a_cat = Cat()\n",
        "another_cat = Cat()"
      ],
      "execution_count": null,
      "outputs": []
    },
    {
      "cell_type": "code",
      "metadata": {
        "id": "37Dr7BSQPf9l",
        "colab": {
          "base_uri": "https://localhost:8080/"
        },
        "outputId": "c28e8edb-8fcd-4881-9f12-dedae1e08a52"
      },
      "source": [
        "class Cat:\n",
        "  pass\n",
        "\n",
        "a_cat = Cat()\n",
        "a_cat"
      ],
      "execution_count": null,
      "outputs": [
        {
          "output_type": "execute_result",
          "data": {
            "text/plain": [
              "<__main__.Cat at 0x7f6e22fb9e50>"
            ]
          },
          "metadata": {},
          "execution_count": 6
        }
      ]
    },
    {
      "cell_type": "code",
      "metadata": {
        "id": "i2IPAzZlP2Xg",
        "colab": {
          "base_uri": "https://localhost:8080/"
        },
        "outputId": "243df854-6f5f-4d1b-85ca-b30b23a7fee8"
      },
      "source": [
        "another_cat = Cat()\n",
        "another_cat"
      ],
      "execution_count": null,
      "outputs": [
        {
          "output_type": "execute_result",
          "data": {
            "text/plain": [
              "<__main__.Cat at 0x7f6e22fab910>"
            ]
          },
          "metadata": {},
          "execution_count": 7
        }
      ]
    },
    {
      "cell_type": "markdown",
      "metadata": {
        "id": "FOWY-dehQFsv"
      },
      "source": [
        "## 屬性\n",
        "### 將一些屬性指派給第一個物件"
      ]
    },
    {
      "cell_type": "code",
      "metadata": {
        "id": "MAhAfBFyQL6T"
      },
      "source": [
        "a_cat.age = 3\n",
        "a_cat.name = \"Mr.Fuzzybuttons\"\n",
        "a_cat.nemesis = another_cat"
      ],
      "execution_count": null,
      "outputs": []
    },
    {
      "cell_type": "markdown",
      "metadata": {
        "id": "ZFZ9dkdpQdW7"
      },
      "source": [
        "#### 讀取上面給的屬性"
      ]
    },
    {
      "cell_type": "code",
      "metadata": {
        "id": "lvA2AieeQkPs",
        "colab": {
          "base_uri": "https://localhost:8080/"
        },
        "outputId": "f80c7eff-1fbe-485e-bf5b-96884636c200"
      },
      "source": [
        "a_cat.age"
      ],
      "execution_count": null,
      "outputs": [
        {
          "output_type": "execute_result",
          "data": {
            "text/plain": [
              "3"
            ]
          },
          "metadata": {},
          "execution_count": 9
        }
      ]
    },
    {
      "cell_type": "code",
      "metadata": {
        "id": "YLcdt81YQmbx",
        "colab": {
          "base_uri": "https://localhost:8080/",
          "height": 35
        },
        "outputId": "1371fc2a-0655-481a-e651-70afab8a8040"
      },
      "source": [
        "a_cat.name"
      ],
      "execution_count": null,
      "outputs": [
        {
          "output_type": "execute_result",
          "data": {
            "application/vnd.google.colaboratory.intrinsic+json": {
              "type": "string"
            },
            "text/plain": [
              "'Mr.Fuzzybuttons'"
            ]
          },
          "metadata": {},
          "execution_count": 10
        }
      ]
    },
    {
      "cell_type": "code",
      "metadata": {
        "id": "BJMeStjOQpHF",
        "colab": {
          "base_uri": "https://localhost:8080/"
        },
        "outputId": "94391b21-97e3-4810-9577-48b82a955c3a"
      },
      "source": [
        "a_cat.nemesis   # 引用另一個 Cat 物件的屬性"
      ],
      "execution_count": null,
      "outputs": [
        {
          "output_type": "execute_result",
          "data": {
            "text/plain": [
              "<__main__.Cat at 0x7f6e22fab910>"
            ]
          },
          "metadata": {},
          "execution_count": 11
        }
      ]
    },
    {
      "cell_type": "code",
      "metadata": {
        "id": "hYpQIT_PQsTx",
        "colab": {
          "base_uri": "https://localhost:8080/",
          "height": 167
        },
        "outputId": "ce55563e-da80-4bcc-aeb0-bca3a5b530dd"
      },
      "source": [
        "a_cat.nemesis.name  # 另一個 Cat 物件尚未有 name 屬性"
      ],
      "execution_count": null,
      "outputs": [
        {
          "output_type": "error",
          "ename": "AttributeError",
          "evalue": "ignored",
          "traceback": [
            "\u001b[0;31m---------------------------------------------------------------------------\u001b[0m",
            "\u001b[0;31mAttributeError\u001b[0m                            Traceback (most recent call last)",
            "\u001b[0;32m<ipython-input-12-6c51d3a1c889>\u001b[0m in \u001b[0;36m<module>\u001b[0;34m()\u001b[0m\n\u001b[0;32m----> 1\u001b[0;31m \u001b[0ma_cat\u001b[0m\u001b[0;34m.\u001b[0m\u001b[0mnemesis\u001b[0m\u001b[0;34m.\u001b[0m\u001b[0mname\u001b[0m  \u001b[0;31m# 另一個 Cat 物件尚未有 name 屬性\u001b[0m\u001b[0;34m\u001b[0m\u001b[0;34m\u001b[0m\u001b[0m\n\u001b[0m",
            "\u001b[0;31mAttributeError\u001b[0m: 'Cat' object has no attribute 'name'"
          ]
        }
      ]
    },
    {
      "cell_type": "code",
      "metadata": {
        "id": "Q-nkIUMiRC7H",
        "colab": {
          "base_uri": "https://localhost:8080/",
          "height": 35
        },
        "outputId": "d60e038f-b383-4865-b6e3-a0c156b4c611"
      },
      "source": [
        "# 為其命名\n",
        "a_cat.nemesis.name = \"Mr. Bigglesworth\"\n",
        "a_cat.nemesis.name"
      ],
      "execution_count": null,
      "outputs": [
        {
          "output_type": "execute_result",
          "data": {
            "application/vnd.google.colaboratory.intrinsic+json": {
              "type": "string"
            },
            "text/plain": [
              "'Mr. Bigglesworth'"
            ]
          },
          "metadata": {},
          "execution_count": 13
        }
      ]
    },
    {
      "cell_type": "code",
      "metadata": {
        "id": "zXFZtnszRX22",
        "colab": {
          "base_uri": "https://localhost:8080/",
          "height": 35
        },
        "outputId": "21bfa23f-ced3-49f0-849b-6e27ee064a1a"
      },
      "source": [
        "# 另一個貓的 name 屬性是否也有了?\n",
        "another_cat.name"
      ],
      "execution_count": null,
      "outputs": [
        {
          "output_type": "execute_result",
          "data": {
            "application/vnd.google.colaboratory.intrinsic+json": {
              "type": "string"
            },
            "text/plain": [
              "'Mr. Bigglesworth'"
            ]
          },
          "metadata": {},
          "execution_count": 14
        }
      ]
    },
    {
      "cell_type": "markdown",
      "metadata": {
        "id": "psCyILsSRiR3"
      },
      "source": [
        "## 初始化"
      ]
    },
    {
      "cell_type": "code",
      "metadata": {
        "id": "Pn2DHkvPWgn2"
      },
      "source": [
        "class Cat:\n",
        "  def __init__(self):\n",
        "    pass"
      ],
      "execution_count": null,
      "outputs": []
    },
    {
      "cell_type": "markdown",
      "metadata": {
        "id": "gU5sPiZYXCBl"
      },
      "source": [
        "### 建立物件 並指派它的屬性"
      ]
    },
    {
      "cell_type": "code",
      "metadata": {
        "id": "1xMLQ4XVXnXR"
      },
      "source": [
        "class Cat():\n",
        "  def __init__(self, name):\n",
        "    self.name = name"
      ],
      "execution_count": null,
      "outputs": []
    },
    {
      "cell_type": "code",
      "metadata": {
        "id": "HdgSTSXhX62n",
        "colab": {
          "base_uri": "https://localhost:8080/"
        },
        "outputId": "b3cedc02-a400-4379-c868-24b01f0005d2"
      },
      "source": [
        "furball = Cat('Grumpy')\n",
        "furball"
      ],
      "execution_count": null,
      "outputs": [
        {
          "output_type": "execute_result",
          "data": {
            "text/plain": [
              "<__main__.Cat at 0x7f6e22f38750>"
            ]
          },
          "metadata": {},
          "execution_count": 20
        }
      ]
    },
    {
      "cell_type": "code",
      "metadata": {
        "id": "N2bfcVDYPb6j",
        "colab": {
          "base_uri": "https://localhost:8080/",
          "height": 35
        },
        "outputId": "5747e986-9828-4c1f-b3cc-9632955a6889"
      },
      "source": [
        "furball.name"
      ],
      "execution_count": null,
      "outputs": [
        {
          "output_type": "execute_result",
          "data": {
            "application/vnd.google.colaboratory.intrinsic+json": {
              "type": "string"
            },
            "text/plain": [
              "'Grumpy'"
            ]
          },
          "metadata": {},
          "execution_count": 21
        }
      ]
    },
    {
      "cell_type": "markdown",
      "metadata": {
        "id": "MlGRUBCMPetT"
      },
      "source": [
        "## 在回顧一下"
      ]
    },
    {
      "cell_type": "code",
      "metadata": {
        "id": "da1cayGIMKFN"
      },
      "source": [
        "class Cat():\n",
        "  pass"
      ],
      "execution_count": null,
      "outputs": []
    },
    {
      "cell_type": "code",
      "metadata": {
        "id": "d89S-c5cMOWl",
        "colab": {
          "base_uri": "https://localhost:8080/"
        },
        "outputId": "ea52989d-4b1e-4907-9d5c-f50bb24db950"
      },
      "source": [
        "Cat()"
      ],
      "execution_count": null,
      "outputs": [
        {
          "output_type": "execute_result",
          "data": {
            "text/plain": [
              "<__main__.Cat at 0x7fa70b609410>"
            ]
          },
          "metadata": {},
          "execution_count": 2
        }
      ]
    },
    {
      "cell_type": "code",
      "metadata": {
        "id": "EDz655UgMTQl"
      },
      "source": [
        "class Cat:\n",
        "  pass"
      ],
      "execution_count": null,
      "outputs": []
    },
    {
      "cell_type": "code",
      "metadata": {
        "id": "6g5WiHLnMW3D",
        "colab": {
          "base_uri": "https://localhost:8080/"
        },
        "outputId": "46e63937-453e-4df6-8c36-24d5c9d968f4"
      },
      "source": [
        "Cat"
      ],
      "execution_count": null,
      "outputs": [
        {
          "output_type": "execute_result",
          "data": {
            "text/plain": [
              "__main__.Cat"
            ]
          },
          "metadata": {},
          "execution_count": 5
        }
      ]
    },
    {
      "cell_type": "code",
      "metadata": {
        "id": "PihktUaFMbnR"
      },
      "source": [
        "a_cat = Cat()\n",
        "another_cat = Cat()"
      ],
      "execution_count": null,
      "outputs": []
    },
    {
      "cell_type": "code",
      "metadata": {
        "id": "d3Ko6RsWMkoC",
        "colab": {
          "base_uri": "https://localhost:8080/"
        },
        "outputId": "09f7ada1-8410-4e4b-9ecb-6def904e0326"
      },
      "source": [
        "a_cat"
      ],
      "execution_count": null,
      "outputs": [
        {
          "output_type": "execute_result",
          "data": {
            "text/plain": [
              "<__main__.Cat at 0x7fa70831b6d0>"
            ]
          },
          "metadata": {},
          "execution_count": 7
        }
      ]
    },
    {
      "cell_type": "code",
      "metadata": {
        "id": "LRrTIfQyMnEB",
        "colab": {
          "base_uri": "https://localhost:8080/"
        },
        "outputId": "94c3ec87-6036-430b-e35f-eb0ed05980e4"
      },
      "source": [
        "another_cat"
      ],
      "execution_count": null,
      "outputs": [
        {
          "output_type": "execute_result",
          "data": {
            "text/plain": [
              "<__main__.Cat at 0x7fa70831b850>"
            ]
          },
          "metadata": {},
          "execution_count": 8
        }
      ]
    },
    {
      "cell_type": "code",
      "metadata": {
        "id": "qMPelU6KMpAN"
      },
      "source": [
        "a_cat.age = 3"
      ],
      "execution_count": null,
      "outputs": []
    },
    {
      "cell_type": "code",
      "metadata": {
        "id": "2KR94dIlMy9g",
        "colab": {
          "base_uri": "https://localhost:8080/"
        },
        "outputId": "cbb13530-9948-4d42-964e-c6629abf632f"
      },
      "source": [
        "a_cat.age"
      ],
      "execution_count": null,
      "outputs": [
        {
          "output_type": "execute_result",
          "data": {
            "text/plain": [
              "3"
            ]
          },
          "metadata": {},
          "execution_count": 10
        }
      ]
    },
    {
      "cell_type": "code",
      "metadata": {
        "id": "ZRCJIK8KM1Jr"
      },
      "source": [
        "a_cat.name = 'Mr. Fuzzybuttons'\n",
        "a_cat.nemesis = another_cat"
      ],
      "execution_count": null,
      "outputs": []
    },
    {
      "cell_type": "code",
      "metadata": {
        "id": "ixbJsoT7NFzN",
        "colab": {
          "base_uri": "https://localhost:8080/",
          "height": 35
        },
        "outputId": "d1178386-e930-4018-b1d6-3d3f79737459"
      },
      "source": [
        "a_cat.name"
      ],
      "execution_count": null,
      "outputs": [
        {
          "output_type": "execute_result",
          "data": {
            "application/vnd.google.colaboratory.intrinsic+json": {
              "type": "string"
            },
            "text/plain": [
              "'Mr. Fuzzybuttons'"
            ]
          },
          "metadata": {},
          "execution_count": 12
        }
      ]
    },
    {
      "cell_type": "code",
      "metadata": {
        "id": "6NFiDIFlNHmU",
        "colab": {
          "base_uri": "https://localhost:8080/"
        },
        "outputId": "8187b236-cb42-4cf6-da57-22dbd489e763"
      },
      "source": [
        "a_cat.nemesis"
      ],
      "execution_count": null,
      "outputs": [
        {
          "output_type": "execute_result",
          "data": {
            "text/plain": [
              "<__main__.Cat at 0x7fa70831b850>"
            ]
          },
          "metadata": {},
          "execution_count": 13
        }
      ]
    },
    {
      "cell_type": "code",
      "metadata": {
        "id": "fT0rD4xgNKjH",
        "colab": {
          "base_uri": "https://localhost:8080/",
          "height": 167
        },
        "outputId": "2f70b803-e17b-4614-8301-63fc90f1c77f"
      },
      "source": [
        "a_cat.nemesis()"
      ],
      "execution_count": null,
      "outputs": [
        {
          "output_type": "error",
          "ename": "TypeError",
          "evalue": "ignored",
          "traceback": [
            "\u001b[0;31m---------------------------------------------------------------------------\u001b[0m",
            "\u001b[0;31mTypeError\u001b[0m                                 Traceback (most recent call last)",
            "\u001b[0;32m<ipython-input-14-07ad19fe6961>\u001b[0m in \u001b[0;36m<module>\u001b[0;34m()\u001b[0m\n\u001b[0;32m----> 1\u001b[0;31m \u001b[0ma_cat\u001b[0m\u001b[0;34m.\u001b[0m\u001b[0mnemesis\u001b[0m\u001b[0;34m(\u001b[0m\u001b[0;34m)\u001b[0m\u001b[0;34m\u001b[0m\u001b[0;34m\u001b[0m\u001b[0m\n\u001b[0m",
            "\u001b[0;31mTypeError\u001b[0m: 'Cat' object is not callable"
          ]
        }
      ]
    },
    {
      "cell_type": "code",
      "metadata": {
        "id": "C5B1L9J6Ncxu"
      },
      "source": [
        "class Cat():\n",
        "  def __init__(self, name):\n",
        "    self.name = name"
      ],
      "execution_count": null,
      "outputs": []
    },
    {
      "cell_type": "code",
      "metadata": {
        "id": "XKFpzgdQNp32"
      },
      "source": [
        "furball = Cat('Grumpy')"
      ],
      "execution_count": null,
      "outputs": []
    },
    {
      "cell_type": "code",
      "metadata": {
        "id": "koN4DV9GPX4Z",
        "colab": {
          "base_uri": "https://localhost:8080/",
          "height": 35
        },
        "outputId": "7dd7b4c0-dd7c-4387-ae0d-ac54c2215439"
      },
      "source": [
        "furball.name  # Cat('Grumpy').name"
      ],
      "execution_count": null,
      "outputs": [
        {
          "output_type": "execute_result",
          "data": {
            "application/vnd.google.colaboratory.intrinsic+json": {
              "type": "string"
            },
            "text/plain": [
              "'Grumpy'"
            ]
          },
          "metadata": {},
          "execution_count": 17
        }
      ]
    },
    {
      "cell_type": "code",
      "metadata": {
        "id": "jFmkbNWgPcJm",
        "colab": {
          "base_uri": "https://localhost:8080/",
          "height": 167
        },
        "outputId": "d6d4daf4-5908-4cb2-ff21-b92edc04b616"
      },
      "source": [
        "furball().name   # Cat('Grumpy')().name"
      ],
      "execution_count": null,
      "outputs": [
        {
          "output_type": "error",
          "ename": "TypeError",
          "evalue": "ignored",
          "traceback": [
            "\u001b[0;31m---------------------------------------------------------------------------\u001b[0m",
            "\u001b[0;31mTypeError\u001b[0m                                 Traceback (most recent call last)",
            "\u001b[0;32m<ipython-input-19-ced41245e140>\u001b[0m in \u001b[0;36m<module>\u001b[0;34m()\u001b[0m\n\u001b[0;32m----> 1\u001b[0;31m \u001b[0mfurball\u001b[0m\u001b[0;34m(\u001b[0m\u001b[0;34m)\u001b[0m\u001b[0;34m.\u001b[0m\u001b[0mname\u001b[0m   \u001b[0;31m# Cat('Grumpy')()\u001b[0m\u001b[0;34m\u001b[0m\u001b[0;34m\u001b[0m\u001b[0m\n\u001b[0m",
            "\u001b[0;31mTypeError\u001b[0m: 'Cat' object is not callable"
          ]
        }
      ]
    },
    {
      "cell_type": "code",
      "metadata": {
        "id": "lX8R3jBUPq-L",
        "colab": {
          "base_uri": "https://localhost:8080/"
        },
        "outputId": "2066e9ec-894c-41e3-da6b-e3e4352d6427"
      },
      "source": [
        "print('Our latest addition: ', furball.name)"
      ],
      "execution_count": null,
      "outputs": [
        {
          "output_type": "stream",
          "name": "stdout",
          "text": [
            "Our latest addition:  Grumpy\n"
          ]
        }
      ]
    },
    {
      "cell_type": "code",
      "metadata": {
        "id": "F3XD5MEPQohf",
        "colab": {
          "base_uri": "https://localhost:8080/",
          "height": 35
        },
        "outputId": "d4673403-c736-4d00-b1b1-26fd3376f593"
      },
      "source": [
        "class fake_cat():\n",
        "  def __init__(fake_self, name):\n",
        "    fake_self.name = name\n",
        "Faker = fake_cat(\"Tom\")\n",
        "Faker.name"
      ],
      "execution_count": null,
      "outputs": [
        {
          "output_type": "execute_result",
          "data": {
            "application/vnd.google.colaboratory.intrinsic+json": {
              "type": "string"
            },
            "text/plain": [
              "'Tom'"
            ]
          },
          "metadata": {},
          "execution_count": 21
        }
      ]
    },
    {
      "cell_type": "code",
      "metadata": {
        "id": "WowD6emySF9I"
      },
      "source": [
        "Faker2 = fake_cat('Jack')"
      ],
      "execution_count": null,
      "outputs": []
    },
    {
      "cell_type": "code",
      "metadata": {
        "id": "SIOGxy4USYLV",
        "colab": {
          "base_uri": "https://localhost:8080/"
        },
        "outputId": "030830c2-960e-4ac5-98f0-fd1a85a23907"
      },
      "source": [
        "print(Faker.name, Faker2.name, sep='\\n')"
      ],
      "execution_count": null,
      "outputs": [
        {
          "output_type": "stream",
          "name": "stdout",
          "text": [
            "Tom\n",
            "Jack\n"
          ]
        }
      ]
    },
    {
      "cell_type": "markdown",
      "metadata": {
        "id": "G3FGZGfvRhjD"
      },
      "source": [
        "# 類別定義式 不一定 要有__init__()方法 \n",
        "## 它的目的是為了做一些可以協助區分這個物件與同一個類別的其他物件的事情"
      ]
    },
    {
      "cell_type": "markdown",
      "metadata": {
        "id": "qULHwsmJTbTe"
      },
      "source": [
        "# 繼承"
      ]
    },
    {
      "cell_type": "code",
      "metadata": {
        "id": "qtu6i64hTjgH"
      },
      "source": [
        "class Car():\n",
        "  pass"
      ],
      "execution_count": null,
      "outputs": []
    },
    {
      "cell_type": "code",
      "metadata": {
        "id": "hVLM58CITkZc"
      },
      "source": [
        "class Yugo(Car):\n",
        "  pass"
      ],
      "execution_count": null,
      "outputs": []
    },
    {
      "cell_type": "markdown",
      "metadata": {
        "id": "_Hs34rhvTrk1"
      },
      "source": [
        "## 使用 issubclass() 來查看一個類別是否衍生自另一個類別"
      ]
    },
    {
      "cell_type": "code",
      "metadata": {
        "id": "R-N0l5I4T2PY",
        "colab": {
          "base_uri": "https://localhost:8080/"
        },
        "outputId": "b4be79fc-0c79-43e8-cca8-32fe2e41f4be"
      },
      "source": [
        "issubclass(Yugo, Car)"
      ],
      "execution_count": null,
      "outputs": [
        {
          "output_type": "execute_result",
          "data": {
            "text/plain": [
              "True"
            ]
          },
          "metadata": {},
          "execution_count": 27
        }
      ]
    },
    {
      "cell_type": "code",
      "metadata": {
        "id": "WcCLOE_vT77Z",
        "colab": {
          "base_uri": "https://localhost:8080/"
        },
        "outputId": "77f8011d-d486-4d3a-9a42-662403b9f0f7"
      },
      "source": [
        "issubclass(Yugo, Cat)"
      ],
      "execution_count": null,
      "outputs": [
        {
          "output_type": "execute_result",
          "data": {
            "text/plain": [
              "False"
            ]
          },
          "metadata": {},
          "execution_count": 28
        }
      ]
    },
    {
      "cell_type": "code",
      "metadata": {
        "id": "hOnhqcGFUAWl"
      },
      "source": [
        "give_me_a_car = Car()\n",
        "give_me_a_yugo = Yugo()"
      ],
      "execution_count": null,
      "outputs": []
    },
    {
      "cell_type": "code",
      "metadata": {
        "id": "pQoLyjOLUY_m"
      },
      "source": [
        "class Car():\n",
        "  def exclaim(self):\n",
        "    print('I am a Car!')\n",
        "class Yugo(Car):\n",
        "  pass"
      ],
      "execution_count": null,
      "outputs": []
    },
    {
      "cell_type": "code",
      "metadata": {
        "id": "liSMgfpxVAbf"
      },
      "source": [
        "give_me_a_car = Car()\n",
        "give_me_a_yugo = Yugo()"
      ],
      "execution_count": null,
      "outputs": []
    },
    {
      "cell_type": "code",
      "metadata": {
        "id": "1Cl3uDCXVHTc",
        "colab": {
          "base_uri": "https://localhost:8080/"
        },
        "outputId": "bdb17d4b-3bfa-4c4c-daad-16ef4db0c047"
      },
      "source": [
        "give_me_a_car"
      ],
      "execution_count": null,
      "outputs": [
        {
          "output_type": "execute_result",
          "data": {
            "text/plain": [
              "<__main__.Car at 0x7fa708230450>"
            ]
          },
          "metadata": {},
          "execution_count": 33
        }
      ]
    },
    {
      "cell_type": "code",
      "metadata": {
        "id": "vZ-5aKicVJi-",
        "colab": {
          "base_uri": "https://localhost:8080/"
        },
        "outputId": "61aadc6d-0b0b-4c6f-cfbd-3eafe6a88279"
      },
      "source": [
        "give_me_a_car.exclaim"
      ],
      "execution_count": null,
      "outputs": [
        {
          "output_type": "execute_result",
          "data": {
            "text/plain": [
              "<bound method Car.exclaim of <__main__.Car object at 0x7fa708230450>>"
            ]
          },
          "metadata": {},
          "execution_count": 36
        }
      ]
    },
    {
      "cell_type": "code",
      "metadata": {
        "id": "SLfgGaqPVT-E",
        "colab": {
          "base_uri": "https://localhost:8080/"
        },
        "outputId": "79459373-a824-441c-a30c-9632fc905551"
      },
      "source": [
        "give_me_a_car.exclaim()"
      ],
      "execution_count": null,
      "outputs": [
        {
          "output_type": "stream",
          "name": "stdout",
          "text": [
            "I am a Car!\n"
          ]
        }
      ]
    },
    {
      "cell_type": "code",
      "metadata": {
        "id": "zunjE0kMVZvm",
        "colab": {
          "base_uri": "https://localhost:8080/"
        },
        "outputId": "73311316-c719-4ae0-c85b-a58ecc0a2e07"
      },
      "source": [
        "give_me_a_yugo.exclaim()"
      ],
      "execution_count": null,
      "outputs": [
        {
          "output_type": "stream",
          "name": "stdout",
          "text": [
            "I am a Car!\n"
          ]
        }
      ]
    },
    {
      "cell_type": "markdown",
      "metadata": {
        "id": "4SG8lXoPXnhA"
      },
      "source": [
        "## 覆寫方法"
      ]
    },
    {
      "cell_type": "code",
      "metadata": {
        "id": "eg-CyRnoVfUB"
      },
      "source": [
        "class Car():\n",
        "  def exclaim(self):\n",
        "    print('I am a Car!')\n",
        "\n",
        "class Yugo(Car):\n",
        "  def exclaim(self):\n",
        "    print('I am a Yugo! Much like a Car, but more Yugo-ish.')"
      ],
      "execution_count": null,
      "outputs": []
    },
    {
      "cell_type": "code",
      "metadata": {
        "id": "27IcuJodXRA5"
      },
      "source": [
        "give_me_a_car = Car()\n",
        "give_me_a_yugo = Yugo()"
      ],
      "execution_count": null,
      "outputs": []
    },
    {
      "cell_type": "code",
      "metadata": {
        "id": "nqKvL8yNXZla",
        "colab": {
          "base_uri": "https://localhost:8080/"
        },
        "outputId": "2881607e-f799-4c28-c11b-a7ea1f8a94f6"
      },
      "source": [
        "give_me_a_car.exclaim()"
      ],
      "execution_count": null,
      "outputs": [
        {
          "output_type": "stream",
          "name": "stdout",
          "text": [
            "I am a Car!\n"
          ]
        }
      ]
    },
    {
      "cell_type": "code",
      "metadata": {
        "id": "9Cl2FRmlXdTo",
        "colab": {
          "base_uri": "https://localhost:8080/"
        },
        "outputId": "fa639933-7fe2-4bf0-ab7f-add2133eb1d8"
      },
      "source": [
        "give_me_a_yugo.exclaim()"
      ],
      "execution_count": null,
      "outputs": [
        {
          "output_type": "stream",
          "name": "stdout",
          "text": [
            "I am a Yugo! Much like a Car, but more Yugo-ish.\n"
          ]
        }
      ]
    },
    {
      "cell_type": "code",
      "metadata": {
        "id": "Lc5zbB67Xh08"
      },
      "source": [
        "class Person():\n",
        "  def __init__(self, name):\n",
        "    self.name = name\n",
        "\n",
        "class MDPerson(Person):  # 醫生\n",
        "  def __init__(self, name):\n",
        "    self.name = 'Doctor ' + name\n",
        "class JDPerson(Person):  # 律師\n",
        "  def __init__(self, name):\n",
        "    self.name = name + ', Esquire'"
      ],
      "execution_count": null,
      "outputs": []
    },
    {
      "cell_type": "code",
      "metadata": {
        "id": "7_Nz63NvZGhx",
        "colab": {
          "base_uri": "https://localhost:8080/"
        },
        "outputId": "86774a3f-a3fe-4162-ab26-67d0a5035ab9"
      },
      "source": [
        "person = Person('Ray')\n",
        "doctor = MDPerson('Ray')\n",
        "lawyer = JDPerson('Ray')\n",
        "print(person.name)\n",
        "print(doctor.name)\n",
        "print(lawyer.name)"
      ],
      "execution_count": null,
      "outputs": [
        {
          "output_type": "stream",
          "name": "stdout",
          "text": [
            "Ray\n",
            "Doctor Ray\n",
            "Ray, Esquire\n"
          ]
        }
      ]
    },
    {
      "cell_type": "markdown",
      "metadata": {
        "id": "D1cMb8DlZ0f5"
      },
      "source": [
        "## 添加方法 :"
      ]
    },
    {
      "cell_type": "code",
      "metadata": {
        "id": "BS6AfYRfPJp_"
      },
      "source": [
        "class Car():\n",
        "  def exclaim(self):\n",
        "    print('Im a Car!')\n",
        "\n",
        "class Yugo(Car):\n",
        "  def exclaim(self):\n",
        "    print(\"I'm a Yugo! Much like a Car, but mor Yugo-ish.\")\n",
        "  def need_a_push(self):\n",
        "    print(\"A little help here?\")"
      ],
      "execution_count": null,
      "outputs": []
    },
    {
      "cell_type": "code",
      "metadata": {
        "id": "QEAMLqe3P6-p"
      },
      "source": [
        "give_me_a_car = Car()\n",
        "give_me_a_yugo = Yugo()"
      ],
      "execution_count": null,
      "outputs": []
    },
    {
      "cell_type": "code",
      "metadata": {
        "id": "-asqv3mlQMJM",
        "colab": {
          "base_uri": "https://localhost:8080/"
        },
        "outputId": "510205f6-c3a1-4f20-e78b-cf4e3612c479"
      },
      "source": [
        "give_me_a_yugo.need_a_push()"
      ],
      "execution_count": null,
      "outputs": [
        {
          "output_type": "stream",
          "name": "stdout",
          "text": [
            "A little help here?\n"
          ]
        }
      ]
    },
    {
      "cell_type": "code",
      "metadata": {
        "id": "ebdXllg0QR8E",
        "colab": {
          "base_uri": "https://localhost:8080/",
          "height": 167
        },
        "outputId": "4360b7b8-8112-4abe-8eeb-ea94faa21acd"
      },
      "source": [
        "give_me_a_car.need_a_push()"
      ],
      "execution_count": null,
      "outputs": [
        {
          "output_type": "error",
          "ename": "AttributeError",
          "evalue": "ignored",
          "traceback": [
            "\u001b[0;31m---------------------------------------------------------------------------\u001b[0m",
            "\u001b[0;31mAttributeError\u001b[0m                            Traceback (most recent call last)",
            "\u001b[0;32m<ipython-input-5-25de065dd6f4>\u001b[0m in \u001b[0;36m<module>\u001b[0;34m()\u001b[0m\n\u001b[0;32m----> 1\u001b[0;31m \u001b[0mgive_me_a_car\u001b[0m\u001b[0;34m.\u001b[0m\u001b[0mneed_a_push\u001b[0m\u001b[0;34m(\u001b[0m\u001b[0;34m)\u001b[0m\u001b[0;34m\u001b[0m\u001b[0;34m\u001b[0m\u001b[0m\n\u001b[0m",
            "\u001b[0;31mAttributeError\u001b[0m: 'Car' object has no attribute 'need_a_push'"
          ]
        }
      ]
    },
    {
      "cell_type": "markdown",
      "metadata": {
        "id": "kipJV0X1Qbin"
      },
      "source": [
        "\n",
        "## 用 super() 來取得父類別的幫助"
      ]
    },
    {
      "cell_type": "code",
      "metadata": {
        "id": "cqyX0LW_X3iX"
      },
      "source": [
        "# 定義父類別\n",
        "class Person():\n",
        "  def __init__(self, name):\n",
        "    self.name = name\n",
        "\n",
        "# 定義子類別\n",
        "class EmailPerson(Person):\n",
        "  def __init__(self, name, email):\n",
        "    super().__init__(name)\n",
        "    self.email = email\n",
        "# 當你為類別定義__init__()方法時，就是用它來取代父類別的__init__()方法，所以後者再也不會被自動呼叫\n",
        "# 用 super() 取代父類別 Person的定義\n",
        " "
      ],
      "execution_count": null,
      "outputs": []
    },
    {
      "cell_type": "code",
      "metadata": {
        "id": "kj8rMud8ai4J"
      },
      "source": [
        "# 創造一個物件\n",
        "bob = EmailPerson('Bob Frapples', 'bob@frapples.com')"
      ],
      "execution_count": null,
      "outputs": []
    },
    {
      "cell_type": "code",
      "metadata": {
        "id": "A9tZrayJbDya",
        "colab": {
          "base_uri": "https://localhost:8080/",
          "height": 35
        },
        "outputId": "7a96d95b-547a-4df2-b812-ab200ff3af5e"
      },
      "source": [
        "bob.name"
      ],
      "execution_count": null,
      "outputs": [
        {
          "output_type": "execute_result",
          "data": {
            "application/vnd.google.colaboratory.intrinsic+json": {
              "type": "string"
            },
            "text/plain": [
              "'Bob Frapples'"
            ]
          },
          "metadata": {},
          "execution_count": 3
        }
      ]
    },
    {
      "cell_type": "code",
      "metadata": {
        "id": "PYsKUGx4bF88",
        "colab": {
          "base_uri": "https://localhost:8080/",
          "height": 35
        },
        "outputId": "7c5ed31b-7773-434e-c0fa-73d91bf26cc1"
      },
      "source": [
        "bob.email"
      ],
      "execution_count": null,
      "outputs": [
        {
          "output_type": "execute_result",
          "data": {
            "application/vnd.google.colaboratory.intrinsic+json": {
              "type": "string"
            },
            "text/plain": [
              "'bob@frapples.com'"
            ]
          },
          "metadata": {},
          "execution_count": 4
        }
      ]
    },
    {
      "cell_type": "code",
      "metadata": {
        "id": "G-ds0sbHbTD6",
        "colab": {
          "base_uri": "https://localhost:8080/",
          "height": 35
        },
        "outputId": "13d2cf16-c115-40bd-a43c-4d8fc0271f03"
      },
      "source": [
        "dick = Person('Dick')\n",
        "dick.name"
      ],
      "execution_count": null,
      "outputs": [
        {
          "output_type": "execute_result",
          "data": {
            "application/vnd.google.colaboratory.intrinsic+json": {
              "type": "string"
            },
            "text/plain": [
              "'Dick'"
            ]
          },
          "metadata": {},
          "execution_count": 5
        }
      ]
    },
    {
      "cell_type": "code",
      "metadata": {
        "id": "R3w0ApcFbgJu",
        "colab": {
          "base_uri": "https://localhost:8080/",
          "height": 167
        },
        "outputId": "6556cc21-89d7-411f-e57d-c186a9cb9350"
      },
      "source": [
        "dick.email"
      ],
      "execution_count": null,
      "outputs": [
        {
          "output_type": "error",
          "ename": "AttributeError",
          "evalue": "ignored",
          "traceback": [
            "\u001b[0;31m---------------------------------------------------------------------------\u001b[0m",
            "\u001b[0;31mAttributeError\u001b[0m                            Traceback (most recent call last)",
            "\u001b[0;32m<ipython-input-6-ad97a676572f>\u001b[0m in \u001b[0;36m<module>\u001b[0;34m()\u001b[0m\n\u001b[0;32m----> 1\u001b[0;31m \u001b[0mdick\u001b[0m\u001b[0;34m.\u001b[0m\u001b[0memail\u001b[0m\u001b[0;34m\u001b[0m\u001b[0;34m\u001b[0m\u001b[0m\n\u001b[0m",
            "\u001b[0;31mAttributeError\u001b[0m: 'Person' object has no attribute 'email'"
          ]
        }
      ]
    },
    {
      "cell_type": "markdown",
      "metadata": {
        "id": "BH2I1GBvbh94"
      },
      "source": [
        "#### 如果子類別會用它自己的方式做事，但仍然會使用到父類別的東西，請使用super()。"
      ]
    },
    {
      "cell_type": "markdown",
      "metadata": {
        "id": "lqn0alHscI1H"
      },
      "source": [
        "## 多重繼承"
      ]
    },
    {
      "cell_type": "markdown",
      "metadata": {
        "id": "Cgic4WWoc2q7"
      },
      "source": [
        "### 定義一個最頂端的 Animal 類別\n",
        "### 它的兩個子類別 (Horse、Donkey)\n",
        "### 以及從這兩個類別再衍生的兩個類別"
      ]
    },
    {
      "cell_type": "code",
      "metadata": {
        "id": "M2UqxVMPeDyY"
      },
      "source": [
        "class Animal():\n",
        "  def says(self):\n",
        "    return 'I speak!'"
      ],
      "execution_count": 1,
      "outputs": []
    },
    {
      "cell_type": "code",
      "metadata": {
        "id": "_16ILA6PeRBH"
      },
      "source": [
        "class Horse(Animal):\n",
        "  def says(self):\n",
        "    return 'Neigh!'\n",
        "\n",
        "class Donkey(Animal):\n",
        "  def says(self):\n",
        "    return 'Hee-haw!'"
      ],
      "execution_count": 2,
      "outputs": []
    },
    {
      "cell_type": "code",
      "metadata": {
        "id": "mwA1jo34erSc"
      },
      "source": [
        "class Mule(Donkey, Horse):\n",
        "  pass\n",
        "class Hinny(Horse, Donkey):\n",
        "  pass"
      ],
      "execution_count": 3,
      "outputs": []
    },
    {
      "cell_type": "code",
      "metadata": {
        "id": "49o6V-qLfS6-",
        "colab": {
          "base_uri": "https://localhost:8080/"
        },
        "outputId": "9a4be87b-b054-41e2-ee18-47b04b5b8db1"
      },
      "source": [
        "Mule.mro()"
      ],
      "execution_count": 4,
      "outputs": [
        {
          "output_type": "execute_result",
          "data": {
            "text/plain": [
              "[__main__.Mule, __main__.Donkey, __main__.Horse, __main__.Animal, object]"
            ]
          },
          "metadata": {},
          "execution_count": 4
        }
      ]
    },
    {
      "cell_type": "code",
      "metadata": {
        "id": "MVyXrHAwfYbR",
        "colab": {
          "base_uri": "https://localhost:8080/"
        },
        "outputId": "8d0ec7a5-49e8-4649-adf9-6c2398947921"
      },
      "source": [
        "Hinny.mro()"
      ],
      "execution_count": 5,
      "outputs": [
        {
          "output_type": "execute_result",
          "data": {
            "text/plain": [
              "[__main__.Hinny, __main__.Horse, __main__.Donkey, __main__.Animal, object]"
            ]
          },
          "metadata": {},
          "execution_count": 5
        }
      ]
    },
    {
      "cell_type": "code",
      "metadata": {
        "id": "muaxgTfyfdKU"
      },
      "source": [
        "mule = Mule()\n",
        "hinny = Hinny()"
      ],
      "execution_count": 6,
      "outputs": []
    },
    {
      "cell_type": "code",
      "metadata": {
        "id": "jv2LepVtflkb",
        "colab": {
          "base_uri": "https://localhost:8080/",
          "height": 0
        },
        "outputId": "e403f938-f8df-4dae-a584-9b71a7c864b8"
      },
      "source": [
        "mule.says()"
      ],
      "execution_count": 7,
      "outputs": [
        {
          "output_type": "execute_result",
          "data": {
            "application/vnd.google.colaboratory.intrinsic+json": {
              "type": "string"
            },
            "text/plain": [
              "'Hee-haw!'"
            ]
          },
          "metadata": {},
          "execution_count": 7
        }
      ]
    },
    {
      "cell_type": "code",
      "metadata": {
        "id": "-WtsNW26f5bK",
        "colab": {
          "base_uri": "https://localhost:8080/",
          "height": 0
        },
        "outputId": "f1b148db-8193-47f4-ed02-a2aa24ebf9b0"
      },
      "source": [
        "hinny.says()"
      ],
      "execution_count": 8,
      "outputs": [
        {
          "output_type": "execute_result",
          "data": {
            "application/vnd.google.colaboratory.intrinsic+json": {
              "type": "string"
            },
            "text/plain": [
              "'Neigh!'"
            ]
          },
          "metadata": {},
          "execution_count": 8
        }
      ]
    },
    {
      "cell_type": "markdown",
      "metadata": {
        "id": "J61raw6bgT32"
      },
      "source": [
        "## Mixin"
      ]
    },
    {
      "cell_type": "code",
      "metadata": {
        "id": "kMn8jYUlDkSb",
        "outputId": "9903ef74-c5d3-4241-ec38-511628528c1b",
        "colab": {
          "base_uri": "https://localhost:8080/"
        }
      },
      "source": [
        "class PrettyMixin():\n",
        "  def dump(self):\n",
        "    import pprint\n",
        "    pprint.pprint(vars(self))\n",
        "\n",
        "class Thing(PrettyMixin):\n",
        "  pass\n",
        "\n",
        "t = Thing()\n",
        "t.name = \"Nyarlathotep\"\n",
        "t.feature = \"ichor\"\n",
        "t.age = \"eldritch\"\n",
        "t.dump()"
      ],
      "execution_count": 14,
      "outputs": [
        {
          "output_type": "stream",
          "name": "stdout",
          "text": [
            "{'age': 'eldritch', 'feature': 'ichor', 'name': 'Nyarlathotep'}\n"
          ]
        }
      ]
    },
    {
      "cell_type": "markdown",
      "metadata": {
        "id": "jQgOCrfhG3xj"
      },
      "source": [
        "## 自(self)衛"
      ]
    },
    {
      "cell_type": "code",
      "metadata": {
        "id": "hHr60vJlG8Qw"
      },
      "source": [
        "class Car():\n",
        "  def exclaim(self):\n",
        "    print('I am a Car!')"
      ],
      "execution_count": 15,
      "outputs": []
    },
    {
      "cell_type": "code",
      "metadata": {
        "id": "484zYIzRHat7",
        "outputId": "67777976-bd87-4e14-a1a0-a68a5eb8eda3",
        "colab": {
          "base_uri": "https://localhost:8080/"
        }
      },
      "source": [
        "a_car = Car()\n",
        "a_car.exclaim()"
      ],
      "execution_count": 17,
      "outputs": [
        {
          "output_type": "stream",
          "name": "stdout",
          "text": [
            "I am a Car!\n"
          ]
        }
      ]
    },
    {
      "cell_type": "markdown",
      "metadata": {
        "id": "lQtiWmIdHl_A"
      },
      "source": [
        "### Python 私底下做什麼 ?\n",
        "###1. 查看物件 a_car 的類別(Car)\n",
        "###2. 用 self 參數將物件 a_car 傳給 Car 類別的 exclaim() 方法"
      ]
    },
    {
      "cell_type": "code",
      "metadata": {
        "id": "XwR3jNunIIlJ",
        "outputId": "8f4dc064-734a-47a4-c185-73cfa03a9d3a",
        "colab": {
          "base_uri": "https://localhost:8080/"
        }
      },
      "source": [
        "Car().exclaim()"
      ],
      "execution_count": 18,
      "outputs": [
        {
          "output_type": "stream",
          "name": "stdout",
          "text": [
            "I am a Car!\n"
          ]
        }
      ]
    },
    {
      "cell_type": "code",
      "metadata": {
        "id": "okWdfm-nIadb",
        "outputId": "76305edd-371c-4986-8d1f-d475c1fe4066",
        "colab": {
          "base_uri": "https://localhost:8080/"
        }
      },
      "source": [
        "Car.exclaim(a_car)"
      ],
      "execution_count": 21,
      "outputs": [
        {
          "output_type": "stream",
          "name": "stdout",
          "text": [
            "I am a Car!\n"
          ]
        }
      ]
    },
    {
      "cell_type": "code",
      "metadata": {
        "id": "VSxTBOnZI7zu",
        "outputId": "be558116-d789-4d8a-cd61-034e3ad0cd0c",
        "colab": {
          "base_uri": "https://localhost:8080/"
        }
      },
      "source": [
        "Car.exclaim"
      ],
      "execution_count": 24,
      "outputs": [
        {
          "output_type": "execute_result",
          "data": {
            "text/plain": [
              "<function __main__.Car.exclaim>"
            ]
          },
          "metadata": {},
          "execution_count": 24
        }
      ]
    },
    {
      "cell_type": "code",
      "metadata": {
        "id": "ReElXh0xI_sZ",
        "outputId": "c568aa25-3a43-4a0c-a47f-370b470c301d",
        "colab": {
          "base_uri": "https://localhost:8080/"
        }
      },
      "source": [
        "Car().exclaim"
      ],
      "execution_count": 25,
      "outputs": [
        {
          "output_type": "execute_result",
          "data": {
            "text/plain": [
              "<bound method Car.exclaim of <__main__.Car object at 0x7fbf2f36fd10>>"
            ]
          },
          "metadata": {},
          "execution_count": 25
        }
      ]
    },
    {
      "cell_type": "code",
      "metadata": {
        "id": "8lZHqqv4JOnL",
        "outputId": "0277452d-68cb-4015-b2b6-28159867d87b",
        "colab": {
          "base_uri": "https://localhost:8080/",
          "height": 167
        }
      },
      "source": [
        "Car.exclaim(self)"
      ],
      "execution_count": 26,
      "outputs": [
        {
          "output_type": "error",
          "ename": "NameError",
          "evalue": "ignored",
          "traceback": [
            "\u001b[0;31m---------------------------------------------------------------------------\u001b[0m",
            "\u001b[0;31mNameError\u001b[0m                                 Traceback (most recent call last)",
            "\u001b[0;32m<ipython-input-26-394efab161d4>\u001b[0m in \u001b[0;36m<module>\u001b[0;34m()\u001b[0m\n\u001b[0;32m----> 1\u001b[0;31m \u001b[0mCar\u001b[0m\u001b[0;34m.\u001b[0m\u001b[0mexclaim\u001b[0m\u001b[0;34m(\u001b[0m\u001b[0mself\u001b[0m\u001b[0;34m)\u001b[0m\u001b[0;34m\u001b[0m\u001b[0;34m\u001b[0m\u001b[0m\n\u001b[0m",
            "\u001b[0;31mNameError\u001b[0m: name 'self' is not defined"
          ]
        }
      ]
    },
    {
      "cell_type": "code",
      "metadata": {
        "id": "NQEL_QPnIl3R",
        "outputId": "8084ae85-46e3-4a3b-b768-489459a70a7b",
        "colab": {
          "base_uri": "https://localhost:8080/",
          "height": 167
        }
      },
      "source": [
        "Car().exclaim(a_car)\n"
      ],
      "execution_count": 23,
      "outputs": [
        {
          "output_type": "error",
          "ename": "TypeError",
          "evalue": "ignored",
          "traceback": [
            "\u001b[0;31m---------------------------------------------------------------------------\u001b[0m",
            "\u001b[0;31mTypeError\u001b[0m                                 Traceback (most recent call last)",
            "\u001b[0;32m<ipython-input-23-342e945e2d2a>\u001b[0m in \u001b[0;36m<module>\u001b[0;34m()\u001b[0m\n\u001b[0;32m----> 1\u001b[0;31m \u001b[0mCar\u001b[0m\u001b[0;34m(\u001b[0m\u001b[0;34m)\u001b[0m\u001b[0;34m.\u001b[0m\u001b[0mexclaim\u001b[0m\u001b[0;34m(\u001b[0m\u001b[0ma_car\u001b[0m\u001b[0;34m)\u001b[0m\u001b[0;34m\u001b[0m\u001b[0;34m\u001b[0m\u001b[0m\n\u001b[0m",
            "\u001b[0;31mTypeError\u001b[0m: exclaim() takes 1 positional argument but 2 were given"
          ]
        }
      ]
    },
    {
      "cell_type": "markdown",
      "metadata": {
        "id": "5-o-_BdfIpcR"
      },
      "source": [
        "## 屬性存取\n",
        "### 直接存取"
      ]
    },
    {
      "cell_type": "code",
      "metadata": {
        "id": "tZSUjny1JzAg",
        "outputId": "cc6df8cd-0d07-4d9b-a221-79feace492d9",
        "colab": {
          "base_uri": "https://localhost:8080/",
          "height": 35
        }
      },
      "source": [
        "class Duck:\n",
        "  def __init__(self, input_name):\n",
        "    self.name = input_name\n",
        "fowl = Duck(\"Daffy\")\n",
        "fowl.name"
      ],
      "execution_count": 28,
      "outputs": [
        {
          "output_type": "execute_result",
          "data": {
            "application/vnd.google.colaboratory.intrinsic+json": {
              "type": "string"
            },
            "text/plain": [
              "'Daffy'"
            ]
          },
          "metadata": {},
          "execution_count": 28
        }
      ]
    },
    {
      "cell_type": "code",
      "metadata": {
        "id": "SLYHfpGEKVOo",
        "outputId": "933c9e4f-d44d-4110-ee16-0fecf4368afd",
        "colab": {
          "base_uri": "https://localhost:8080/",
          "height": 35
        }
      },
      "source": [
        "fowl.name = \"Daphne\"\n",
        "fowl.name"
      ],
      "execution_count": 29,
      "outputs": [
        {
          "output_type": "execute_result",
          "data": {
            "application/vnd.google.colaboratory.intrinsic+json": {
              "type": "string"
            },
            "text/plain": [
              "'Daphne'"
            ]
          },
          "metadata": {},
          "execution_count": 29
        }
      ]
    },
    {
      "cell_type": "markdown",
      "metadata": {
        "id": "WBh3BMwvKezZ"
      },
      "source": [
        "### getter 與 setter"
      ]
    },
    {
      "cell_type": "code",
      "metadata": {
        "id": "C4vjQKcqKpNY"
      },
      "source": [
        "class Duck():\n",
        "  def __init__(self, input_name):\n",
        "    self.hidden_name = input_name\n",
        "  def get_name(self):\n",
        "    print('inside the getter')\n",
        "    return self.hidden_name\n",
        "  def set_name(self, input_name):\n",
        "    print('inside the setter')\n",
        "    self.hidden_name = input_name"
      ],
      "execution_count": 30,
      "outputs": []
    },
    {
      "cell_type": "code",
      "metadata": {
        "id": "ujjoSzKJL9Kz",
        "outputId": "306de6fc-e93f-4df6-e84b-53f53c7d8e90",
        "colab": {
          "base_uri": "https://localhost:8080/",
          "height": 53
        }
      },
      "source": [
        "don = Duck('Donald')\n",
        "don.get_name()"
      ],
      "execution_count": 31,
      "outputs": [
        {
          "output_type": "stream",
          "name": "stdout",
          "text": [
            "inside the getter\n"
          ]
        },
        {
          "output_type": "execute_result",
          "data": {
            "application/vnd.google.colaboratory.intrinsic+json": {
              "type": "string"
            },
            "text/plain": [
              "'Donald'"
            ]
          },
          "metadata": {},
          "execution_count": 31
        }
      ]
    },
    {
      "cell_type": "code",
      "metadata": {
        "id": "2jhEwBwOMNLm",
        "outputId": "f4e77482-aaf8-4202-d27a-9000bf17e531",
        "colab": {
          "base_uri": "https://localhost:8080/"
        }
      },
      "source": [
        "don.set_name('Donna')"
      ],
      "execution_count": 32,
      "outputs": [
        {
          "output_type": "stream",
          "name": "stdout",
          "text": [
            "inside the setter\n"
          ]
        }
      ]
    },
    {
      "cell_type": "code",
      "metadata": {
        "id": "uCUvTeJiMd7L",
        "outputId": "f4502aea-3149-417c-dc34-5b88bcc3235b",
        "colab": {
          "base_uri": "https://localhost:8080/",
          "height": 53
        }
      },
      "source": [
        "don.get_name()"
      ],
      "execution_count": 33,
      "outputs": [
        {
          "output_type": "stream",
          "name": "stdout",
          "text": [
            "inside the getter\n"
          ]
        },
        {
          "output_type": "execute_result",
          "data": {
            "application/vnd.google.colaboratory.intrinsic+json": {
              "type": "string"
            },
            "text/plain": [
              "'Donna'"
            ]
          },
          "metadata": {},
          "execution_count": 33
        }
      ]
    },
    {
      "cell_type": "code",
      "metadata": {
        "id": "X7IJMdJcND9C",
        "outputId": "fa0bb12b-bf4d-4f72-f5d7-df4abd0f2418",
        "colab": {
          "base_uri": "https://localhost:8080/",
          "height": 167
        }
      },
      "source": [
        "don('aaa')"
      ],
      "execution_count": 34,
      "outputs": [
        {
          "output_type": "error",
          "ename": "TypeError",
          "evalue": "ignored",
          "traceback": [
            "\u001b[0;31m---------------------------------------------------------------------------\u001b[0m",
            "\u001b[0;31mTypeError\u001b[0m                                 Traceback (most recent call last)",
            "\u001b[0;32m<ipython-input-34-2adff5e73c7b>\u001b[0m in \u001b[0;36m<module>\u001b[0;34m()\u001b[0m\n\u001b[0;32m----> 1\u001b[0;31m \u001b[0mdon\u001b[0m\u001b[0;34m(\u001b[0m\u001b[0;34m'aaa'\u001b[0m\u001b[0;34m)\u001b[0m\u001b[0;34m\u001b[0m\u001b[0;34m\u001b[0m\u001b[0m\n\u001b[0m",
            "\u001b[0;31mTypeError\u001b[0m: 'Duck' object is not callable"
          ]
        }
      ]
    },
    {
      "cell_type": "code",
      "metadata": {
        "id": "fs1bsBIyNKMn",
        "outputId": "203230da-d16a-430f-bad0-45a0e21a838d",
        "colab": {
          "base_uri": "https://localhost:8080/",
          "height": 53
        }
      },
      "source": [
        "don.hidden_name = \"Alice\"\n",
        "don.get_name()"
      ],
      "execution_count": 35,
      "outputs": [
        {
          "output_type": "stream",
          "name": "stdout",
          "text": [
            "inside the getter\n"
          ]
        },
        {
          "output_type": "execute_result",
          "data": {
            "application/vnd.google.colaboratory.intrinsic+json": {
              "type": "string"
            },
            "text/plain": [
              "'Alice'"
            ]
          },
          "metadata": {},
          "execution_count": 35
        }
      ]
    },
    {
      "cell_type": "code",
      "metadata": {
        "id": "vdxBRmelNfDQ",
        "outputId": "00b144e7-8854-45dd-f653-70ac3bdae371",
        "colab": {
          "base_uri": "https://localhost:8080/",
          "height": 35
        }
      },
      "source": [
        "don.hidden_name"
      ],
      "execution_count": 36,
      "outputs": [
        {
          "output_type": "execute_result",
          "data": {
            "application/vnd.google.colaboratory.intrinsic+json": {
              "type": "string"
            },
            "text/plain": [
              "'Alice'"
            ]
          },
          "metadata": {},
          "execution_count": 36
        }
      ]
    }
  ]
}