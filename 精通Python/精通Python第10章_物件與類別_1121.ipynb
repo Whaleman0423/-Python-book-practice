{
  "nbformat": 4,
  "nbformat_minor": 0,
  "metadata": {
    "colab": {
      "name": "精通Python第10章_物件與類別_1121.ipynb",
      "provenance": [],
      "authorship_tag": "ABX9TyPLb4ZsD1hN0WAm0Y+2mwgu",
      "include_colab_link": true
    },
    "kernelspec": {
      "name": "python3",
      "display_name": "Python 3"
    },
    "language_info": {
      "name": "python"
    }
  },
  "cells": [
    {
      "cell_type": "markdown",
      "metadata": {
        "id": "view-in-github",
        "colab_type": "text"
      },
      "source": [
        "<a href=\"https://colab.research.google.com/github/Whaleman0423/Python/blob/main/%E7%B2%BE%E9%80%9APython/%E7%B2%BE%E9%80%9APython%E7%AC%AC10%E7%AB%A0_%E7%89%A9%E4%BB%B6%E8%88%87%E9%A1%9E%E5%88%A5_1121.ipynb\" target=\"_parent\"><img src=\"https://colab.research.google.com/assets/colab-badge.svg\" alt=\"Open In Colab\"/></a>"
      ]
    },
    {
      "cell_type": "markdown",
      "metadata": {
        "id": "g4GxAgvvLjGd"
      },
      "source": [
        "# 簡單的物件\n",
        "## 用 class 定義類別"
      ]
    },
    {
      "cell_type": "code",
      "metadata": {
        "id": "N2i2CUlGL75j",
        "colab": {
          "base_uri": "https://localhost:8080/"
        },
        "outputId": "d6cd1142-7f34-45ad-d7a2-b2223935919b"
      },
      "source": [
        "class Cat():\n",
        "  pass\n",
        "Cat"
      ],
      "execution_count": 1,
      "outputs": [
        {
          "output_type": "execute_result",
          "data": {
            "text/plain": [
              "__main__.Cat"
            ]
          },
          "metadata": {},
          "execution_count": 1
        }
      ]
    },
    {
      "cell_type": "code",
      "metadata": {
        "id": "rd4VQT3TPR73",
        "colab": {
          "base_uri": "https://localhost:8080/"
        },
        "outputId": "a098b736-bb59-4713-86f9-853fa57ed111"
      },
      "source": [
        "Cat()"
      ],
      "execution_count": null,
      "outputs": [
        {
          "output_type": "execute_result",
          "data": {
            "text/plain": [
              "<__main__.Cat at 0x7f3db81b7bd0>"
            ]
          },
          "metadata": {},
          "execution_count": 2
        }
      ]
    },
    {
      "cell_type": "markdown",
      "metadata": {
        "id": "YTKVoqdfMWn0"
      },
      "source": [
        "## 也可以這樣寫"
      ]
    },
    {
      "cell_type": "code",
      "metadata": {
        "id": "SzEcMM_YMaNC",
        "colab": {
          "base_uri": "https://localhost:8080/"
        },
        "outputId": "22d05a12-fad6-470a-ee66-957177127d39"
      },
      "source": [
        "class Cat:   # 不加括號\n",
        "  pass\n",
        "Cat"
      ],
      "execution_count": null,
      "outputs": [
        {
          "output_type": "execute_result",
          "data": {
            "text/plain": [
              "__main__.Cat"
            ]
          },
          "metadata": {},
          "execution_count": 3
        }
      ]
    },
    {
      "cell_type": "code",
      "metadata": {
        "id": "fE7seqqOPUmZ",
        "colab": {
          "base_uri": "https://localhost:8080/"
        },
        "outputId": "0793f74a-db71-45c5-fe2f-174bf79b70cf"
      },
      "source": [
        "Cat()"
      ],
      "execution_count": null,
      "outputs": [
        {
          "output_type": "execute_result",
          "data": {
            "text/plain": [
              "<__main__.Cat at 0x7f3db81df450>"
            ]
          },
          "metadata": {},
          "execution_count": 4
        }
      ]
    },
    {
      "cell_type": "markdown",
      "metadata": {
        "id": "l4vjnxr_Mf9B"
      },
      "source": [
        "### 需用 pass 來指出這個類別是空的 此為最精簡的物件建立"
      ]
    },
    {
      "cell_type": "code",
      "metadata": {
        "id": "hB5b05YAMu_S"
      },
      "source": [
        "a_cat = Cat()\n",
        "another_cat = Cat()"
      ],
      "execution_count": null,
      "outputs": []
    },
    {
      "cell_type": "code",
      "metadata": {
        "id": "37Dr7BSQPf9l",
        "colab": {
          "base_uri": "https://localhost:8080/"
        },
        "outputId": "0e51c791-a762-4edb-dfa2-efbf0aff8a9c"
      },
      "source": [
        "class Cat:\n",
        "  pass\n",
        "\n",
        "a_cat = Cat()\n",
        "a_cat"
      ],
      "execution_count": null,
      "outputs": [
        {
          "output_type": "execute_result",
          "data": {
            "text/plain": [
              "<__main__.Cat at 0x7f3db675f390>"
            ]
          },
          "metadata": {},
          "execution_count": 6
        }
      ]
    },
    {
      "cell_type": "code",
      "metadata": {
        "id": "i2IPAzZlP2Xg",
        "colab": {
          "base_uri": "https://localhost:8080/"
        },
        "outputId": "21bfab64-e892-41c3-c978-3b8d3bf62b26"
      },
      "source": [
        "another_cat = Cat()\n",
        "another_cat"
      ],
      "execution_count": null,
      "outputs": [
        {
          "output_type": "execute_result",
          "data": {
            "text/plain": [
              "<__main__.Cat at 0x7f3db675ff50>"
            ]
          },
          "metadata": {},
          "execution_count": 7
        }
      ]
    },
    {
      "cell_type": "markdown",
      "metadata": {
        "id": "FOWY-dehQFsv"
      },
      "source": [
        "## 屬性\n",
        "### 將一些屬性指派給第一個物件"
      ]
    },
    {
      "cell_type": "code",
      "metadata": {
        "id": "MAhAfBFyQL6T"
      },
      "source": [
        "a_cat.age = 3\n",
        "a_cat.name = \"Mr.Fuzzybuttons\"\n",
        "a_cat.nemesis = another_cat"
      ],
      "execution_count": null,
      "outputs": []
    },
    {
      "cell_type": "markdown",
      "metadata": {
        "id": "ZFZ9dkdpQdW7"
      },
      "source": [
        "#### 讀取上面給的屬性"
      ]
    },
    {
      "cell_type": "code",
      "metadata": {
        "id": "lvA2AieeQkPs",
        "colab": {
          "base_uri": "https://localhost:8080/"
        },
        "outputId": "eabcc809-5762-4efc-85a0-f64b5ac27cec"
      },
      "source": [
        "a_cat.age"
      ],
      "execution_count": null,
      "outputs": [
        {
          "output_type": "execute_result",
          "data": {
            "text/plain": [
              "3"
            ]
          },
          "metadata": {},
          "execution_count": 9
        }
      ]
    },
    {
      "cell_type": "code",
      "metadata": {
        "id": "YLcdt81YQmbx",
        "colab": {
          "base_uri": "https://localhost:8080/",
          "height": 35
        },
        "outputId": "0ebf57e3-bc67-49ea-964b-63deebd7c203"
      },
      "source": [
        "a_cat.name"
      ],
      "execution_count": null,
      "outputs": [
        {
          "output_type": "execute_result",
          "data": {
            "text/plain": [
              "'Mr.Fuzzybuttons'"
            ],
            "application/vnd.google.colaboratory.intrinsic+json": {
              "type": "string"
            }
          },
          "metadata": {},
          "execution_count": 10
        }
      ]
    },
    {
      "cell_type": "code",
      "metadata": {
        "id": "BJMeStjOQpHF",
        "colab": {
          "base_uri": "https://localhost:8080/"
        },
        "outputId": "ba3188c0-a235-4e89-92d0-5fa6d29c5ce0"
      },
      "source": [
        "a_cat.nemesis   # 引用另一個 Cat 物件的屬性"
      ],
      "execution_count": null,
      "outputs": [
        {
          "output_type": "execute_result",
          "data": {
            "text/plain": [
              "<__main__.Cat at 0x7f3db675ff50>"
            ]
          },
          "metadata": {},
          "execution_count": 11
        }
      ]
    },
    {
      "cell_type": "code",
      "metadata": {
        "id": "hYpQIT_PQsTx",
        "colab": {
          "base_uri": "https://localhost:8080/",
          "height": 167
        },
        "outputId": "0413d185-a5df-4218-bc6c-bd7ae3f9d6d2"
      },
      "source": [
        "a_cat.nemesis.name  # 另一個 Cat 物件尚未有 name 屬性"
      ],
      "execution_count": null,
      "outputs": [
        {
          "output_type": "error",
          "ename": "AttributeError",
          "evalue": "ignored",
          "traceback": [
            "\u001b[0;31m---------------------------------------------------------------------------\u001b[0m",
            "\u001b[0;31mAttributeError\u001b[0m                            Traceback (most recent call last)",
            "\u001b[0;32m<ipython-input-12-6c51d3a1c889>\u001b[0m in \u001b[0;36m<module>\u001b[0;34m()\u001b[0m\n\u001b[0;32m----> 1\u001b[0;31m \u001b[0ma_cat\u001b[0m\u001b[0;34m.\u001b[0m\u001b[0mnemesis\u001b[0m\u001b[0;34m.\u001b[0m\u001b[0mname\u001b[0m  \u001b[0;31m# 另一個 Cat 物件尚未有 name 屬性\u001b[0m\u001b[0;34m\u001b[0m\u001b[0;34m\u001b[0m\u001b[0m\n\u001b[0m",
            "\u001b[0;31mAttributeError\u001b[0m: 'Cat' object has no attribute 'name'"
          ]
        }
      ]
    },
    {
      "cell_type": "code",
      "metadata": {
        "id": "Q-nkIUMiRC7H",
        "colab": {
          "base_uri": "https://localhost:8080/",
          "height": 35
        },
        "outputId": "862cbabf-c3b9-4e41-9e65-5a5b3629fda3"
      },
      "source": [
        "# 為其命名\n",
        "a_cat.nemesis.name = \"Mr. Bigglesworth\"\n",
        "a_cat.nemesis.name"
      ],
      "execution_count": null,
      "outputs": [
        {
          "output_type": "execute_result",
          "data": {
            "text/plain": [
              "'Mr. Bigglesworth'"
            ],
            "application/vnd.google.colaboratory.intrinsic+json": {
              "type": "string"
            }
          },
          "metadata": {},
          "execution_count": 13
        }
      ]
    },
    {
      "cell_type": "code",
      "metadata": {
        "id": "zXFZtnszRX22",
        "colab": {
          "base_uri": "https://localhost:8080/",
          "height": 35
        },
        "outputId": "882c44b9-378d-4208-8f42-e3bacb748b64"
      },
      "source": [
        "# 另一個貓的 name 屬性是否也有了?\n",
        "another_cat.name"
      ],
      "execution_count": null,
      "outputs": [
        {
          "output_type": "execute_result",
          "data": {
            "text/plain": [
              "'Mr. Bigglesworth'"
            ],
            "application/vnd.google.colaboratory.intrinsic+json": {
              "type": "string"
            }
          },
          "metadata": {},
          "execution_count": 14
        }
      ]
    },
    {
      "cell_type": "markdown",
      "metadata": {
        "id": "psCyILsSRiR3"
      },
      "source": [
        "## 初始化"
      ]
    },
    {
      "cell_type": "code",
      "metadata": {
        "id": "Pn2DHkvPWgn2"
      },
      "source": [
        "class Cat:\n",
        "  def __init__(self):\n",
        "    pass"
      ],
      "execution_count": null,
      "outputs": []
    },
    {
      "cell_type": "markdown",
      "metadata": {
        "id": "gU5sPiZYXCBl"
      },
      "source": [
        "### 建立物件 並指派它的屬性"
      ]
    },
    {
      "cell_type": "code",
      "metadata": {
        "id": "1xMLQ4XVXnXR"
      },
      "source": [
        "class Cat():\n",
        "  def __init__(self, name):\n",
        "    self.name = name"
      ],
      "execution_count": null,
      "outputs": []
    },
    {
      "cell_type": "code",
      "metadata": {
        "id": "HdgSTSXhX62n",
        "colab": {
          "base_uri": "https://localhost:8080/"
        },
        "outputId": "9d72ee7b-18a8-4c23-ce68-895595c9dfd0"
      },
      "source": [
        "furball = Cat('Grumpy')\n",
        "furball"
      ],
      "execution_count": null,
      "outputs": [
        {
          "output_type": "execute_result",
          "data": {
            "text/plain": [
              "<__main__.Cat at 0x7f3dbbb29850>"
            ]
          },
          "metadata": {},
          "execution_count": 19
        }
      ]
    },
    {
      "cell_type": "code",
      "metadata": {
        "id": "N2bfcVDYPb6j",
        "colab": {
          "base_uri": "https://localhost:8080/",
          "height": 35
        },
        "outputId": "10b17fcf-b810-4307-bb87-bcdd480d11d6"
      },
      "source": [
        "furball.name"
      ],
      "execution_count": null,
      "outputs": [
        {
          "output_type": "execute_result",
          "data": {
            "text/plain": [
              "'Grumpy'"
            ],
            "application/vnd.google.colaboratory.intrinsic+json": {
              "type": "string"
            }
          },
          "metadata": {},
          "execution_count": 20
        }
      ]
    },
    {
      "cell_type": "markdown",
      "metadata": {
        "id": "MlGRUBCMPetT"
      },
      "source": [
        "## 在回顧一下"
      ]
    },
    {
      "cell_type": "code",
      "metadata": {
        "id": "da1cayGIMKFN"
      },
      "source": [
        "class Cat():\n",
        "  pass"
      ],
      "execution_count": null,
      "outputs": []
    },
    {
      "cell_type": "code",
      "metadata": {
        "id": "d89S-c5cMOWl",
        "colab": {
          "base_uri": "https://localhost:8080/"
        },
        "outputId": "177ba1b3-4ccf-4cf1-d72c-9c416af66241"
      },
      "source": [
        "Cat()"
      ],
      "execution_count": null,
      "outputs": [
        {
          "output_type": "execute_result",
          "data": {
            "text/plain": [
              "<__main__.Cat at 0x7f3db66e7650>"
            ]
          },
          "metadata": {},
          "execution_count": 22
        }
      ]
    },
    {
      "cell_type": "code",
      "metadata": {
        "id": "EDz655UgMTQl"
      },
      "source": [
        "class Cat:\n",
        "  pass"
      ],
      "execution_count": null,
      "outputs": []
    },
    {
      "cell_type": "code",
      "metadata": {
        "id": "6g5WiHLnMW3D",
        "colab": {
          "base_uri": "https://localhost:8080/"
        },
        "outputId": "b07f5673-9e02-4824-aa4b-32c340e8d02f"
      },
      "source": [
        "Cat"
      ],
      "execution_count": null,
      "outputs": [
        {
          "output_type": "execute_result",
          "data": {
            "text/plain": [
              "__main__.Cat"
            ]
          },
          "metadata": {},
          "execution_count": 24
        }
      ]
    },
    {
      "cell_type": "code",
      "metadata": {
        "id": "PihktUaFMbnR"
      },
      "source": [
        "a_cat = Cat()\n",
        "another_cat = Cat()"
      ],
      "execution_count": null,
      "outputs": []
    },
    {
      "cell_type": "code",
      "metadata": {
        "id": "d3Ko6RsWMkoC",
        "colab": {
          "base_uri": "https://localhost:8080/"
        },
        "outputId": "c56b877c-d2d9-4af0-aacc-9248d163446f"
      },
      "source": [
        "a_cat"
      ],
      "execution_count": null,
      "outputs": [
        {
          "output_type": "execute_result",
          "data": {
            "text/plain": [
              "<__main__.Cat at 0x7f3db675f050>"
            ]
          },
          "metadata": {},
          "execution_count": 26
        }
      ]
    },
    {
      "cell_type": "code",
      "metadata": {
        "id": "LRrTIfQyMnEB",
        "colab": {
          "base_uri": "https://localhost:8080/"
        },
        "outputId": "482f2e5e-e0d3-4ce8-e079-82e32303fa35"
      },
      "source": [
        "another_cat"
      ],
      "execution_count": null,
      "outputs": [
        {
          "output_type": "execute_result",
          "data": {
            "text/plain": [
              "<__main__.Cat at 0x7f3db675fb90>"
            ]
          },
          "metadata": {},
          "execution_count": 27
        }
      ]
    },
    {
      "cell_type": "code",
      "metadata": {
        "id": "qMPelU6KMpAN"
      },
      "source": [
        "a_cat.age = 3"
      ],
      "execution_count": null,
      "outputs": []
    },
    {
      "cell_type": "code",
      "metadata": {
        "id": "2KR94dIlMy9g",
        "colab": {
          "base_uri": "https://localhost:8080/"
        },
        "outputId": "3408e082-0eec-4bad-a864-e4c03fb689c1"
      },
      "source": [
        "a_cat.age"
      ],
      "execution_count": null,
      "outputs": [
        {
          "output_type": "execute_result",
          "data": {
            "text/plain": [
              "3"
            ]
          },
          "metadata": {},
          "execution_count": 29
        }
      ]
    },
    {
      "cell_type": "code",
      "metadata": {
        "id": "ZRCJIK8KM1Jr"
      },
      "source": [
        "a_cat.name = 'Mr. Fuzzybuttons'\n",
        "a_cat.nemesis = another_cat"
      ],
      "execution_count": null,
      "outputs": []
    },
    {
      "cell_type": "code",
      "metadata": {
        "id": "ixbJsoT7NFzN",
        "colab": {
          "base_uri": "https://localhost:8080/",
          "height": 35
        },
        "outputId": "14b073df-a19b-4b5d-dd66-85adebe4fbd7"
      },
      "source": [
        "a_cat.name"
      ],
      "execution_count": null,
      "outputs": [
        {
          "output_type": "execute_result",
          "data": {
            "text/plain": [
              "'Mr. Fuzzybuttons'"
            ],
            "application/vnd.google.colaboratory.intrinsic+json": {
              "type": "string"
            }
          },
          "metadata": {},
          "execution_count": 31
        }
      ]
    },
    {
      "cell_type": "code",
      "metadata": {
        "id": "6NFiDIFlNHmU",
        "colab": {
          "base_uri": "https://localhost:8080/"
        },
        "outputId": "9a7de51a-ed42-4217-a5f3-a9463f74566e"
      },
      "source": [
        "a_cat.nemesis"
      ],
      "execution_count": null,
      "outputs": [
        {
          "output_type": "execute_result",
          "data": {
            "text/plain": [
              "<__main__.Cat at 0x7f3db675fb90>"
            ]
          },
          "metadata": {},
          "execution_count": 32
        }
      ]
    },
    {
      "cell_type": "code",
      "metadata": {
        "id": "fT0rD4xgNKjH",
        "colab": {
          "base_uri": "https://localhost:8080/",
          "height": 167
        },
        "outputId": "3004ecb6-f9da-4bdc-81f4-13ff09b1c8e0"
      },
      "source": [
        "a_cat.nemesis()"
      ],
      "execution_count": null,
      "outputs": [
        {
          "output_type": "error",
          "ename": "TypeError",
          "evalue": "ignored",
          "traceback": [
            "\u001b[0;31m---------------------------------------------------------------------------\u001b[0m",
            "\u001b[0;31mTypeError\u001b[0m                                 Traceback (most recent call last)",
            "\u001b[0;32m<ipython-input-33-07ad19fe6961>\u001b[0m in \u001b[0;36m<module>\u001b[0;34m()\u001b[0m\n\u001b[0;32m----> 1\u001b[0;31m \u001b[0ma_cat\u001b[0m\u001b[0;34m.\u001b[0m\u001b[0mnemesis\u001b[0m\u001b[0;34m(\u001b[0m\u001b[0;34m)\u001b[0m\u001b[0;34m\u001b[0m\u001b[0;34m\u001b[0m\u001b[0m\n\u001b[0m",
            "\u001b[0;31mTypeError\u001b[0m: 'Cat' object is not callable"
          ]
        }
      ]
    },
    {
      "cell_type": "code",
      "metadata": {
        "id": "C5B1L9J6Ncxu"
      },
      "source": [
        "class Cat():\n",
        "  def __init__(self, name):\n",
        "    self.name = name"
      ],
      "execution_count": null,
      "outputs": []
    },
    {
      "cell_type": "code",
      "metadata": {
        "id": "XKFpzgdQNp32"
      },
      "source": [
        "furball = Cat('Grumpy')"
      ],
      "execution_count": null,
      "outputs": []
    },
    {
      "cell_type": "code",
      "metadata": {
        "id": "koN4DV9GPX4Z",
        "colab": {
          "base_uri": "https://localhost:8080/",
          "height": 35
        },
        "outputId": "d5efb5e5-304e-497f-ec89-8d1543bd148e"
      },
      "source": [
        "furball.name  # Cat('Grumpy').name"
      ],
      "execution_count": null,
      "outputs": [
        {
          "output_type": "execute_result",
          "data": {
            "text/plain": [
              "'Grumpy'"
            ],
            "application/vnd.google.colaboratory.intrinsic+json": {
              "type": "string"
            }
          },
          "metadata": {},
          "execution_count": 36
        }
      ]
    },
    {
      "cell_type": "code",
      "metadata": {
        "id": "jFmkbNWgPcJm",
        "colab": {
          "base_uri": "https://localhost:8080/",
          "height": 167
        },
        "outputId": "1e97ac86-efdf-4a50-a0ee-216bb8bbfdac"
      },
      "source": [
        "furball().name   # Cat('Grumpy')().name"
      ],
      "execution_count": null,
      "outputs": [
        {
          "output_type": "error",
          "ename": "TypeError",
          "evalue": "ignored",
          "traceback": [
            "\u001b[0;31m---------------------------------------------------------------------------\u001b[0m",
            "\u001b[0;31mTypeError\u001b[0m                                 Traceback (most recent call last)",
            "\u001b[0;32m<ipython-input-37-62e3a4eaf8b9>\u001b[0m in \u001b[0;36m<module>\u001b[0;34m()\u001b[0m\n\u001b[0;32m----> 1\u001b[0;31m \u001b[0mfurball\u001b[0m\u001b[0;34m(\u001b[0m\u001b[0;34m)\u001b[0m\u001b[0;34m.\u001b[0m\u001b[0mname\u001b[0m   \u001b[0;31m# Cat('Grumpy')().name\u001b[0m\u001b[0;34m\u001b[0m\u001b[0;34m\u001b[0m\u001b[0m\n\u001b[0m",
            "\u001b[0;31mTypeError\u001b[0m: 'Cat' object is not callable"
          ]
        }
      ]
    },
    {
      "cell_type": "code",
      "metadata": {
        "id": "lX8R3jBUPq-L",
        "colab": {
          "base_uri": "https://localhost:8080/"
        },
        "outputId": "4d49470d-d35c-41e4-cd67-b6cb2a871389"
      },
      "source": [
        "print('Our latest addition: ', furball.name)"
      ],
      "execution_count": null,
      "outputs": [
        {
          "output_type": "stream",
          "name": "stdout",
          "text": [
            "Our latest addition:  Grumpy\n"
          ]
        }
      ]
    },
    {
      "cell_type": "code",
      "metadata": {
        "id": "F3XD5MEPQohf",
        "colab": {
          "base_uri": "https://localhost:8080/",
          "height": 35
        },
        "outputId": "c44305b7-8034-4db5-cdf8-4bb6b0d4485b"
      },
      "source": [
        "class fake_cat():\n",
        "  def __init__(fake_self, name):\n",
        "    fake_self.name = name\n",
        "Faker = fake_cat(\"Tom\")\n",
        "Faker.name"
      ],
      "execution_count": null,
      "outputs": [
        {
          "output_type": "execute_result",
          "data": {
            "text/plain": [
              "'Tom'"
            ],
            "application/vnd.google.colaboratory.intrinsic+json": {
              "type": "string"
            }
          },
          "metadata": {},
          "execution_count": 39
        }
      ]
    },
    {
      "cell_type": "code",
      "metadata": {
        "id": "WowD6emySF9I"
      },
      "source": [
        "Faker2 = fake_cat('Jack')"
      ],
      "execution_count": null,
      "outputs": []
    },
    {
      "cell_type": "code",
      "metadata": {
        "id": "SIOGxy4USYLV",
        "colab": {
          "base_uri": "https://localhost:8080/"
        },
        "outputId": "e84ef23a-f656-48dc-d19e-9e68e2891020"
      },
      "source": [
        "print(Faker.name, Faker2.name, sep='\\n')"
      ],
      "execution_count": null,
      "outputs": [
        {
          "output_type": "stream",
          "name": "stdout",
          "text": [
            "Tom\n",
            "Jack\n"
          ]
        }
      ]
    },
    {
      "cell_type": "markdown",
      "metadata": {
        "id": "G3FGZGfvRhjD"
      },
      "source": [
        "# 類別定義式 不一定 要有__init__()方法 \n",
        "## 它的目的是為了做一些可以協助區分這個物件與同一個類別的其他物件的事情"
      ]
    },
    {
      "cell_type": "markdown",
      "metadata": {
        "id": "qULHwsmJTbTe"
      },
      "source": [
        "# 繼承"
      ]
    },
    {
      "cell_type": "code",
      "metadata": {
        "id": "qtu6i64hTjgH"
      },
      "source": [
        "class Car():\n",
        "  pass"
      ],
      "execution_count": null,
      "outputs": []
    },
    {
      "cell_type": "code",
      "metadata": {
        "id": "hVLM58CITkZc"
      },
      "source": [
        "class Yugo(Car):\n",
        "  pass"
      ],
      "execution_count": null,
      "outputs": []
    },
    {
      "cell_type": "markdown",
      "metadata": {
        "id": "_Hs34rhvTrk1"
      },
      "source": [
        "## 使用 issubclass() 來查看一個類別是否衍生自另一個類別"
      ]
    },
    {
      "cell_type": "code",
      "metadata": {
        "id": "R-N0l5I4T2PY",
        "colab": {
          "base_uri": "https://localhost:8080/"
        },
        "outputId": "1d59cb33-4671-4c6d-bf1f-3af9f77aaf7c"
      },
      "source": [
        "issubclass(Yugo, Car)"
      ],
      "execution_count": null,
      "outputs": [
        {
          "output_type": "execute_result",
          "data": {
            "text/plain": [
              "True"
            ]
          },
          "metadata": {},
          "execution_count": 44
        }
      ]
    },
    {
      "cell_type": "code",
      "metadata": {
        "id": "WcCLOE_vT77Z",
        "colab": {
          "base_uri": "https://localhost:8080/"
        },
        "outputId": "bce89d9e-1fef-4510-f6fb-3bf243467da4"
      },
      "source": [
        "issubclass(Yugo, Cat)"
      ],
      "execution_count": null,
      "outputs": [
        {
          "output_type": "execute_result",
          "data": {
            "text/plain": [
              "False"
            ]
          },
          "metadata": {},
          "execution_count": 45
        }
      ]
    },
    {
      "cell_type": "code",
      "metadata": {
        "id": "hOnhqcGFUAWl"
      },
      "source": [
        "give_me_a_car = Car()\n",
        "give_me_a_yugo = Yugo()"
      ],
      "execution_count": null,
      "outputs": []
    },
    {
      "cell_type": "code",
      "metadata": {
        "id": "pQoLyjOLUY_m"
      },
      "source": [
        "class Car():\n",
        "  def exclaim(self):\n",
        "    print('I am a Car!')\n",
        "class Yugo(Car):\n",
        "  pass"
      ],
      "execution_count": null,
      "outputs": []
    },
    {
      "cell_type": "code",
      "metadata": {
        "id": "liSMgfpxVAbf"
      },
      "source": [
        "give_me_a_car = Car()\n",
        "give_me_a_yugo = Yugo()"
      ],
      "execution_count": null,
      "outputs": []
    },
    {
      "cell_type": "code",
      "metadata": {
        "id": "1Cl3uDCXVHTc",
        "colab": {
          "base_uri": "https://localhost:8080/"
        },
        "outputId": "bda58815-2039-40ce-eca1-2519a29e1710"
      },
      "source": [
        "give_me_a_car"
      ],
      "execution_count": null,
      "outputs": [
        {
          "output_type": "execute_result",
          "data": {
            "text/plain": [
              "<__main__.Car at 0x7f3db66e3950>"
            ]
          },
          "metadata": {},
          "execution_count": 49
        }
      ]
    },
    {
      "cell_type": "code",
      "metadata": {
        "id": "vZ-5aKicVJi-",
        "colab": {
          "base_uri": "https://localhost:8080/"
        },
        "outputId": "9f7aff06-8c8b-44d1-d9bb-583c13e3f6f5"
      },
      "source": [
        "give_me_a_car.exclaim"
      ],
      "execution_count": null,
      "outputs": [
        {
          "output_type": "execute_result",
          "data": {
            "text/plain": [
              "<bound method Car.exclaim of <__main__.Car object at 0x7f3db66e3950>>"
            ]
          },
          "metadata": {},
          "execution_count": 50
        }
      ]
    },
    {
      "cell_type": "code",
      "metadata": {
        "id": "SLfgGaqPVT-E",
        "colab": {
          "base_uri": "https://localhost:8080/"
        },
        "outputId": "1671bd98-e398-4ad2-d7bc-0a2120745a33"
      },
      "source": [
        "give_me_a_car.exclaim()"
      ],
      "execution_count": null,
      "outputs": [
        {
          "output_type": "stream",
          "name": "stdout",
          "text": [
            "I am a Car!\n"
          ]
        }
      ]
    },
    {
      "cell_type": "code",
      "metadata": {
        "id": "zunjE0kMVZvm",
        "colab": {
          "base_uri": "https://localhost:8080/"
        },
        "outputId": "c011e018-a6d0-426b-a085-567d70c16640"
      },
      "source": [
        "give_me_a_yugo.exclaim()"
      ],
      "execution_count": null,
      "outputs": [
        {
          "output_type": "stream",
          "name": "stdout",
          "text": [
            "I am a Car!\n"
          ]
        }
      ]
    },
    {
      "cell_type": "markdown",
      "metadata": {
        "id": "4SG8lXoPXnhA"
      },
      "source": [
        "## 覆寫方法"
      ]
    },
    {
      "cell_type": "code",
      "metadata": {
        "id": "eg-CyRnoVfUB"
      },
      "source": [
        "class Car():\n",
        "  def exclaim(self):\n",
        "    print('I am a Car!')\n",
        "\n",
        "class Yugo(Car):\n",
        "  def exclaim(self):\n",
        "    print('I am a Yugo! Much like a Car, but more Yugo-ish.')"
      ],
      "execution_count": null,
      "outputs": []
    },
    {
      "cell_type": "code",
      "metadata": {
        "id": "27IcuJodXRA5"
      },
      "source": [
        "give_me_a_car = Car()\n",
        "give_me_a_yugo = Yugo()"
      ],
      "execution_count": null,
      "outputs": []
    },
    {
      "cell_type": "code",
      "metadata": {
        "id": "nqKvL8yNXZla",
        "colab": {
          "base_uri": "https://localhost:8080/"
        },
        "outputId": "57b24908-28d0-4da8-e34c-4068c27fda5b"
      },
      "source": [
        "give_me_a_car.exclaim()"
      ],
      "execution_count": null,
      "outputs": [
        {
          "output_type": "stream",
          "name": "stdout",
          "text": [
            "I am a Car!\n"
          ]
        }
      ]
    },
    {
      "cell_type": "code",
      "metadata": {
        "id": "9Cl2FRmlXdTo",
        "colab": {
          "base_uri": "https://localhost:8080/"
        },
        "outputId": "efd6829b-5f72-486e-f8ad-09c4733f1249"
      },
      "source": [
        "give_me_a_yugo.exclaim()"
      ],
      "execution_count": null,
      "outputs": [
        {
          "output_type": "stream",
          "name": "stdout",
          "text": [
            "I am a Yugo! Much like a Car, but more Yugo-ish.\n"
          ]
        }
      ]
    },
    {
      "cell_type": "code",
      "metadata": {
        "id": "Lc5zbB67Xh08"
      },
      "source": [
        "class Person():\n",
        "  def __init__(self, name):\n",
        "    self.name = name\n",
        "\n",
        "class MDPerson(Person):  # 醫生\n",
        "  def __init__(self, name):\n",
        "    self.name = 'Doctor ' + name\n",
        "class JDPerson(Person):  # 律師\n",
        "  def __init__(self, name):\n",
        "    self.name = name + ', Esquire'"
      ],
      "execution_count": null,
      "outputs": []
    },
    {
      "cell_type": "code",
      "metadata": {
        "id": "7_Nz63NvZGhx",
        "colab": {
          "base_uri": "https://localhost:8080/"
        },
        "outputId": "0814e4dc-2664-4a29-b3e6-f919c36e9370"
      },
      "source": [
        "person = Person('Ray')\n",
        "doctor = MDPerson('Ray')\n",
        "lawyer = JDPerson('Ray')\n",
        "print(person.name)\n",
        "print(doctor.name)\n",
        "print(lawyer.name)"
      ],
      "execution_count": null,
      "outputs": [
        {
          "output_type": "stream",
          "name": "stdout",
          "text": [
            "Ray\n",
            "Doctor Ray\n",
            "Ray, Esquire\n"
          ]
        }
      ]
    },
    {
      "cell_type": "markdown",
      "metadata": {
        "id": "D1cMb8DlZ0f5"
      },
      "source": [
        "## 添加方法 :"
      ]
    },
    {
      "cell_type": "code",
      "metadata": {
        "id": "BS6AfYRfPJp_"
      },
      "source": [
        "class Car():\n",
        "  def exclaim(self):\n",
        "    print('Im a Car!')\n",
        "\n",
        "class Yugo(Car):\n",
        "  def exclaim(self):\n",
        "    print(\"I'm a Yugo! Much like a Car, but mor Yugo-ish.\")\n",
        "  def need_a_push(self):\n",
        "    print(\"A little help here?\")"
      ],
      "execution_count": null,
      "outputs": []
    },
    {
      "cell_type": "code",
      "metadata": {
        "id": "QEAMLqe3P6-p"
      },
      "source": [
        "give_me_a_car = Car()\n",
        "give_me_a_yugo = Yugo()"
      ],
      "execution_count": null,
      "outputs": []
    },
    {
      "cell_type": "code",
      "metadata": {
        "id": "-asqv3mlQMJM",
        "colab": {
          "base_uri": "https://localhost:8080/"
        },
        "outputId": "26809300-3aea-4503-eb71-b5011ebecbdc"
      },
      "source": [
        "give_me_a_yugo.need_a_push()"
      ],
      "execution_count": null,
      "outputs": [
        {
          "output_type": "stream",
          "name": "stdout",
          "text": [
            "A little help here?\n"
          ]
        }
      ]
    },
    {
      "cell_type": "code",
      "metadata": {
        "id": "ebdXllg0QR8E",
        "colab": {
          "base_uri": "https://localhost:8080/",
          "height": 167
        },
        "outputId": "9adf704c-c009-4846-e1a0-c50885b5a604"
      },
      "source": [
        "give_me_a_car.need_a_push()"
      ],
      "execution_count": null,
      "outputs": [
        {
          "output_type": "error",
          "ename": "AttributeError",
          "evalue": "ignored",
          "traceback": [
            "\u001b[0;31m---------------------------------------------------------------------------\u001b[0m",
            "\u001b[0;31mAttributeError\u001b[0m                            Traceback (most recent call last)",
            "\u001b[0;32m<ipython-input-62-25de065dd6f4>\u001b[0m in \u001b[0;36m<module>\u001b[0;34m()\u001b[0m\n\u001b[0;32m----> 1\u001b[0;31m \u001b[0mgive_me_a_car\u001b[0m\u001b[0;34m.\u001b[0m\u001b[0mneed_a_push\u001b[0m\u001b[0;34m(\u001b[0m\u001b[0;34m)\u001b[0m\u001b[0;34m\u001b[0m\u001b[0;34m\u001b[0m\u001b[0m\n\u001b[0m",
            "\u001b[0;31mAttributeError\u001b[0m: 'Car' object has no attribute 'need_a_push'"
          ]
        }
      ]
    },
    {
      "cell_type": "markdown",
      "metadata": {
        "id": "kipJV0X1Qbin"
      },
      "source": [
        "\n",
        "## 用 super() 來取得父類別的幫助"
      ]
    },
    {
      "cell_type": "markdown",
      "source": [
        "### 如果想要呼叫父類別的方法"
      ],
      "metadata": {
        "id": "kUzSuVr-gOtD"
      }
    },
    {
      "cell_type": "code",
      "metadata": {
        "id": "cqyX0LW_X3iX"
      },
      "source": [
        "# 定義父類別\n",
        "class Person():\n",
        "  def __init__(self, name):\n",
        "    self.name = '人類家族: ' + name \n",
        "\n",
        "# 定義子類別\n",
        "class EmailPerson(Person):\n",
        "  def __init__(self, name, email):\n",
        "    super().__init__(name)\n",
        "    self.email = email\n",
        "# 當你為類別定義__init__()方法時，就是用它來取代父類別的__init__()方法，所以後者再也不會被自動呼叫\n",
        "# 用 super() 取代父類別 Person的定義\n",
        " "
      ],
      "execution_count": null,
      "outputs": []
    },
    {
      "cell_type": "code",
      "metadata": {
        "id": "kj8rMud8ai4J"
      },
      "source": [
        "# 創造一個物件\n",
        "bob = EmailPerson('Bob Frapples', 'bob@frapples.com')"
      ],
      "execution_count": null,
      "outputs": []
    },
    {
      "cell_type": "code",
      "metadata": {
        "id": "A9tZrayJbDya",
        "colab": {
          "base_uri": "https://localhost:8080/",
          "height": 35
        },
        "outputId": "4f0d56e2-e0c6-43ba-f573-42a364e96eb8"
      },
      "source": [
        "bob.name"
      ],
      "execution_count": null,
      "outputs": [
        {
          "output_type": "execute_result",
          "data": {
            "text/plain": [
              "'人類家族: Bob Frapples'"
            ],
            "application/vnd.google.colaboratory.intrinsic+json": {
              "type": "string"
            }
          },
          "metadata": {},
          "execution_count": 72
        }
      ]
    },
    {
      "cell_type": "code",
      "metadata": {
        "id": "PYsKUGx4bF88",
        "colab": {
          "base_uri": "https://localhost:8080/",
          "height": 35
        },
        "outputId": "dfe188e2-5b66-4f71-c179-9db0744ee606"
      },
      "source": [
        "bob.email"
      ],
      "execution_count": null,
      "outputs": [
        {
          "output_type": "execute_result",
          "data": {
            "text/plain": [
              "'bob@frapples.com'"
            ],
            "application/vnd.google.colaboratory.intrinsic+json": {
              "type": "string"
            }
          },
          "metadata": {},
          "execution_count": 73
        }
      ]
    },
    {
      "cell_type": "code",
      "metadata": {
        "id": "G-ds0sbHbTD6",
        "colab": {
          "base_uri": "https://localhost:8080/",
          "height": 35
        },
        "outputId": "3ea5a55e-4ad3-42b5-8f88-e1016958bd0d"
      },
      "source": [
        "dick = Person('Dick')\n",
        "dick.name"
      ],
      "execution_count": null,
      "outputs": [
        {
          "output_type": "execute_result",
          "data": {
            "text/plain": [
              "'人類家族: Dick'"
            ],
            "application/vnd.google.colaboratory.intrinsic+json": {
              "type": "string"
            }
          },
          "metadata": {},
          "execution_count": 74
        }
      ]
    },
    {
      "cell_type": "code",
      "metadata": {
        "id": "R3w0ApcFbgJu",
        "colab": {
          "base_uri": "https://localhost:8080/",
          "height": 167
        },
        "outputId": "84f4676c-3d13-443b-f58a-6e8754dc20cd"
      },
      "source": [
        "dick.email"
      ],
      "execution_count": null,
      "outputs": [
        {
          "output_type": "error",
          "ename": "AttributeError",
          "evalue": "ignored",
          "traceback": [
            "\u001b[0;31m---------------------------------------------------------------------------\u001b[0m",
            "\u001b[0;31mAttributeError\u001b[0m                            Traceback (most recent call last)",
            "\u001b[0;32m<ipython-input-75-ad97a676572f>\u001b[0m in \u001b[0;36m<module>\u001b[0;34m()\u001b[0m\n\u001b[0;32m----> 1\u001b[0;31m \u001b[0mdick\u001b[0m\u001b[0;34m.\u001b[0m\u001b[0memail\u001b[0m\u001b[0;34m\u001b[0m\u001b[0;34m\u001b[0m\u001b[0m\n\u001b[0m",
            "\u001b[0;31mAttributeError\u001b[0m: 'Person' object has no attribute 'email'"
          ]
        }
      ]
    },
    {
      "cell_type": "markdown",
      "metadata": {
        "id": "BH2I1GBvbh94"
      },
      "source": [
        "#### 如果子類別會用它自己的方式做事，但仍然會使用到父類別的東西，請使用super()。"
      ]
    },
    {
      "cell_type": "markdown",
      "metadata": {
        "id": "lqn0alHscI1H"
      },
      "source": [
        "## 多重繼承"
      ]
    },
    {
      "cell_type": "markdown",
      "metadata": {
        "id": "Cgic4WWoc2q7"
      },
      "source": [
        "### 定義一個最頂端的 Animal 類別\n",
        "### 它的兩個子類別 (Horse、Donkey)\n",
        "### 以及從這兩個類別再衍生的兩個類別"
      ]
    },
    {
      "cell_type": "code",
      "metadata": {
        "id": "M2UqxVMPeDyY"
      },
      "source": [
        "class Animal():\n",
        "  def says(self):\n",
        "    return 'I speak!'"
      ],
      "execution_count": null,
      "outputs": []
    },
    {
      "cell_type": "code",
      "metadata": {
        "id": "_16ILA6PeRBH"
      },
      "source": [
        "class Horse(Animal):\n",
        "  def says(self):\n",
        "    return 'Neigh!'\n",
        "\n",
        "class Donkey(Animal):\n",
        "  def says(self):\n",
        "    return 'Hee-haw!'"
      ],
      "execution_count": null,
      "outputs": []
    },
    {
      "cell_type": "code",
      "metadata": {
        "id": "mwA1jo34erSc"
      },
      "source": [
        "class Mule(Donkey, Horse):\n",
        "  pass\n",
        "class Hinny(Horse, Donkey):\n",
        "  pass"
      ],
      "execution_count": null,
      "outputs": []
    },
    {
      "cell_type": "code",
      "metadata": {
        "id": "49o6V-qLfS6-",
        "colab": {
          "base_uri": "https://localhost:8080/"
        },
        "outputId": "a9f5d2c4-e02b-43d4-a9e8-b229a87b04dc"
      },
      "source": [
        "Mule.mro()"
      ],
      "execution_count": null,
      "outputs": [
        {
          "output_type": "execute_result",
          "data": {
            "text/plain": [
              "[__main__.Mule, __main__.Donkey, __main__.Horse, __main__.Animal, object]"
            ]
          },
          "metadata": {},
          "execution_count": 79
        }
      ]
    },
    {
      "cell_type": "code",
      "metadata": {
        "id": "MVyXrHAwfYbR",
        "colab": {
          "base_uri": "https://localhost:8080/"
        },
        "outputId": "1d136f08-0452-420f-9d37-35af04ea2033"
      },
      "source": [
        "Hinny.mro()"
      ],
      "execution_count": null,
      "outputs": [
        {
          "output_type": "execute_result",
          "data": {
            "text/plain": [
              "[__main__.Hinny, __main__.Horse, __main__.Donkey, __main__.Animal, object]"
            ]
          },
          "metadata": {},
          "execution_count": 80
        }
      ]
    },
    {
      "cell_type": "code",
      "source": [
        "Mule.__mro__"
      ],
      "metadata": {
        "colab": {
          "base_uri": "https://localhost:8080/"
        },
        "id": "d5PC4abQijGq",
        "outputId": "03822c95-5caa-4f2a-e3aa-bd87690c35d2"
      },
      "execution_count": null,
      "outputs": [
        {
          "output_type": "execute_result",
          "data": {
            "text/plain": [
              "(__main__.Mule, __main__.Donkey, __main__.Horse, __main__.Animal, object)"
            ]
          },
          "metadata": {},
          "execution_count": 82
        }
      ]
    },
    {
      "cell_type": "code",
      "source": [
        "Hinny.__mro__"
      ],
      "metadata": {
        "colab": {
          "base_uri": "https://localhost:8080/"
        },
        "id": "bQDVgnGsiqas",
        "outputId": "f672c74e-1378-4ded-da9a-ca096201a078"
      },
      "execution_count": null,
      "outputs": [
        {
          "output_type": "execute_result",
          "data": {
            "text/plain": [
              "(__main__.Hinny, __main__.Horse, __main__.Donkey, __main__.Animal, object)"
            ]
          },
          "metadata": {},
          "execution_count": 83
        }
      ]
    },
    {
      "cell_type": "code",
      "metadata": {
        "id": "muaxgTfyfdKU"
      },
      "source": [
        "mule = Mule()\n",
        "hinny = Hinny()"
      ],
      "execution_count": null,
      "outputs": []
    },
    {
      "cell_type": "code",
      "metadata": {
        "id": "jv2LepVtflkb",
        "colab": {
          "base_uri": "https://localhost:8080/",
          "height": 35
        },
        "outputId": "a6164dc4-ef7c-45d4-c818-8942d3c259cd"
      },
      "source": [
        "mule.says()"
      ],
      "execution_count": null,
      "outputs": [
        {
          "output_type": "execute_result",
          "data": {
            "text/plain": [
              "'Hee-haw!'"
            ],
            "application/vnd.google.colaboratory.intrinsic+json": {
              "type": "string"
            }
          },
          "metadata": {},
          "execution_count": 86
        }
      ]
    },
    {
      "cell_type": "code",
      "metadata": {
        "id": "-WtsNW26f5bK",
        "colab": {
          "base_uri": "https://localhost:8080/",
          "height": 35
        },
        "outputId": "707553fd-3980-4cb0-f1b6-946f0fdbd34e"
      },
      "source": [
        "hinny.says()"
      ],
      "execution_count": null,
      "outputs": [
        {
          "output_type": "execute_result",
          "data": {
            "text/plain": [
              "'Neigh!'"
            ],
            "application/vnd.google.colaboratory.intrinsic+json": {
              "type": "string"
            }
          },
          "metadata": {},
          "execution_count": 87
        }
      ]
    },
    {
      "cell_type": "markdown",
      "metadata": {
        "id": "J61raw6bgT32"
      },
      "source": [
        "## Mixin"
      ]
    },
    {
      "cell_type": "code",
      "metadata": {
        "id": "kMn8jYUlDkSb",
        "colab": {
          "base_uri": "https://localhost:8080/"
        },
        "outputId": "089cbe58-bebc-4500-ce09-db4d9e3375e9"
      },
      "source": [
        "class PrettyMixin():\n",
        "  def dump(self):\n",
        "    import pprint\n",
        "    pprint.pprint(vars(self))\n",
        "\n",
        "class Thing(PrettyMixin):\n",
        "  pass\n",
        "\n",
        "t = Thing()\n",
        "t.name = \"Nyarlathotep\"\n",
        "t.feature = \"ichor\"\n",
        "t.age = \"eldritch\"\n",
        "t.dump()"
      ],
      "execution_count": null,
      "outputs": [
        {
          "output_type": "stream",
          "name": "stdout",
          "text": [
            "{'age': 'eldritch', 'feature': 'ichor', 'name': 'Nyarlathotep'}\n"
          ]
        }
      ]
    },
    {
      "cell_type": "code",
      "source": [
        "print(type(vars(t)))\n",
        "vars(t)"
      ],
      "metadata": {
        "colab": {
          "base_uri": "https://localhost:8080/"
        },
        "id": "SHXsNVTZm7r3",
        "outputId": "97fcb939-94bf-4b27-cd45-1bec6a85c0f3"
      },
      "execution_count": null,
      "outputs": [
        {
          "output_type": "stream",
          "name": "stdout",
          "text": [
            "<class 'dict'>\n"
          ]
        },
        {
          "output_type": "execute_result",
          "data": {
            "text/plain": [
              "{'age': 'eldritch', 'feature': 'ichor', 'name': 'Nyarlathotep'}"
            ]
          },
          "metadata": {},
          "execution_count": 93
        }
      ]
    },
    {
      "cell_type": "markdown",
      "metadata": {
        "id": "jQgOCrfhG3xj"
      },
      "source": [
        "## 自(self)衛"
      ]
    },
    {
      "cell_type": "code",
      "metadata": {
        "id": "hHr60vJlG8Qw"
      },
      "source": [
        "class Car():\n",
        "  def exclaim(self):\n",
        "    print('I am a Car!')"
      ],
      "execution_count": null,
      "outputs": []
    },
    {
      "cell_type": "code",
      "metadata": {
        "id": "484zYIzRHat7",
        "colab": {
          "base_uri": "https://localhost:8080/"
        },
        "outputId": "2f0480ff-c2d4-4f94-f26e-882e646b1552"
      },
      "source": [
        "a_car = Car()\n",
        "a_car.exclaim()"
      ],
      "execution_count": null,
      "outputs": [
        {
          "output_type": "stream",
          "name": "stdout",
          "text": [
            "I am a Car!\n"
          ]
        }
      ]
    },
    {
      "cell_type": "markdown",
      "metadata": {
        "id": "lQtiWmIdHl_A"
      },
      "source": [
        "### Python 私底下做什麼 ?\n",
        "###1. 查看物件 a_car 的類別(Car)\n",
        "###2. 用 self 參數將物件 a_car 傳給 Car 類別的 exclaim() 方法"
      ]
    },
    {
      "cell_type": "code",
      "metadata": {
        "id": "XwR3jNunIIlJ",
        "colab": {
          "base_uri": "https://localhost:8080/"
        },
        "outputId": "aead5961-90cd-4dd0-dc50-122b1f356c3b"
      },
      "source": [
        "Car().exclaim()"
      ],
      "execution_count": null,
      "outputs": [
        {
          "output_type": "stream",
          "name": "stdout",
          "text": [
            "I am a Car!\n"
          ]
        }
      ]
    },
    {
      "cell_type": "code",
      "metadata": {
        "id": "okWdfm-nIadb",
        "colab": {
          "base_uri": "https://localhost:8080/"
        },
        "outputId": "45305bea-a68e-4b81-8478-ecf3742a2cdc"
      },
      "source": [
        "Car.exclaim(a_car)"
      ],
      "execution_count": null,
      "outputs": [
        {
          "output_type": "stream",
          "name": "stdout",
          "text": [
            "I am a Car!\n"
          ]
        }
      ]
    },
    {
      "cell_type": "code",
      "metadata": {
        "id": "VSxTBOnZI7zu",
        "colab": {
          "base_uri": "https://localhost:8080/"
        },
        "outputId": "1a68793d-12db-44e3-8e28-a71a7770d385"
      },
      "source": [
        "Car.exclaim"
      ],
      "execution_count": null,
      "outputs": [
        {
          "output_type": "execute_result",
          "data": {
            "text/plain": [
              "<function __main__.Car.exclaim>"
            ]
          },
          "metadata": {},
          "execution_count": 98
        }
      ]
    },
    {
      "cell_type": "code",
      "metadata": {
        "id": "ReElXh0xI_sZ",
        "colab": {
          "base_uri": "https://localhost:8080/"
        },
        "outputId": "94809498-ec26-49a2-e914-a8c92285dfca"
      },
      "source": [
        "Car().exclaim"
      ],
      "execution_count": null,
      "outputs": [
        {
          "output_type": "execute_result",
          "data": {
            "text/plain": [
              "<bound method Car.exclaim of <__main__.Car object at 0x7f3db665e550>>"
            ]
          },
          "metadata": {},
          "execution_count": 99
        }
      ]
    },
    {
      "cell_type": "code",
      "metadata": {
        "id": "8lZHqqv4JOnL",
        "colab": {
          "base_uri": "https://localhost:8080/",
          "height": 167
        },
        "outputId": "9577477e-2d32-4f32-9aa5-7896962e77fc"
      },
      "source": [
        "Car.exclaim(self)"
      ],
      "execution_count": null,
      "outputs": [
        {
          "output_type": "error",
          "ename": "NameError",
          "evalue": "ignored",
          "traceback": [
            "\u001b[0;31m---------------------------------------------------------------------------\u001b[0m",
            "\u001b[0;31mNameError\u001b[0m                                 Traceback (most recent call last)",
            "\u001b[0;32m<ipython-input-100-394efab161d4>\u001b[0m in \u001b[0;36m<module>\u001b[0;34m()\u001b[0m\n\u001b[0;32m----> 1\u001b[0;31m \u001b[0mCar\u001b[0m\u001b[0;34m.\u001b[0m\u001b[0mexclaim\u001b[0m\u001b[0;34m(\u001b[0m\u001b[0mself\u001b[0m\u001b[0;34m)\u001b[0m\u001b[0;34m\u001b[0m\u001b[0;34m\u001b[0m\u001b[0m\n\u001b[0m",
            "\u001b[0;31mNameError\u001b[0m: name 'self' is not defined"
          ]
        }
      ]
    },
    {
      "cell_type": "code",
      "metadata": {
        "id": "NQEL_QPnIl3R",
        "colab": {
          "base_uri": "https://localhost:8080/",
          "height": 167
        },
        "outputId": "c809aab0-0346-46db-e44d-1db93c64cb21"
      },
      "source": [
        "Car().exclaim(a_car)\n"
      ],
      "execution_count": null,
      "outputs": [
        {
          "output_type": "error",
          "ename": "TypeError",
          "evalue": "ignored",
          "traceback": [
            "\u001b[0;31m---------------------------------------------------------------------------\u001b[0m",
            "\u001b[0;31mTypeError\u001b[0m                                 Traceback (most recent call last)",
            "\u001b[0;32m<ipython-input-101-342e945e2d2a>\u001b[0m in \u001b[0;36m<module>\u001b[0;34m()\u001b[0m\n\u001b[0;32m----> 1\u001b[0;31m \u001b[0mCar\u001b[0m\u001b[0;34m(\u001b[0m\u001b[0;34m)\u001b[0m\u001b[0;34m.\u001b[0m\u001b[0mexclaim\u001b[0m\u001b[0;34m(\u001b[0m\u001b[0ma_car\u001b[0m\u001b[0;34m)\u001b[0m\u001b[0;34m\u001b[0m\u001b[0;34m\u001b[0m\u001b[0m\n\u001b[0m",
            "\u001b[0;31mTypeError\u001b[0m: exclaim() takes 1 positional argument but 2 were given"
          ]
        }
      ]
    },
    {
      "cell_type": "markdown",
      "metadata": {
        "id": "5-o-_BdfIpcR"
      },
      "source": [
        "## 屬性存取\n",
        "### 直接存取"
      ]
    },
    {
      "cell_type": "code",
      "metadata": {
        "id": "tZSUjny1JzAg",
        "colab": {
          "base_uri": "https://localhost:8080/",
          "height": 35
        },
        "outputId": "c1078f3f-8be0-4500-9d5b-1a3314881d5e"
      },
      "source": [
        "class Duck:\n",
        "  def __init__(self, input_name):\n",
        "    self.name = input_name\n",
        "fowl = Duck(\"Daffy\")\n",
        "fowl.name"
      ],
      "execution_count": null,
      "outputs": [
        {
          "output_type": "execute_result",
          "data": {
            "text/plain": [
              "'Daffy'"
            ],
            "application/vnd.google.colaboratory.intrinsic+json": {
              "type": "string"
            }
          },
          "metadata": {},
          "execution_count": 102
        }
      ]
    },
    {
      "cell_type": "code",
      "metadata": {
        "id": "SLYHfpGEKVOo",
        "colab": {
          "base_uri": "https://localhost:8080/",
          "height": 35
        },
        "outputId": "fe9eb68b-871c-4083-d113-d0f59fafeab3"
      },
      "source": [
        "fowl.name = \"Daphne\"\n",
        "fowl.name"
      ],
      "execution_count": null,
      "outputs": [
        {
          "output_type": "execute_result",
          "data": {
            "text/plain": [
              "'Daphne'"
            ],
            "application/vnd.google.colaboratory.intrinsic+json": {
              "type": "string"
            }
          },
          "metadata": {},
          "execution_count": 103
        }
      ]
    },
    {
      "cell_type": "markdown",
      "metadata": {
        "id": "WBh3BMwvKezZ"
      },
      "source": [
        "### getter 與 setter"
      ]
    },
    {
      "cell_type": "code",
      "metadata": {
        "id": "C4vjQKcqKpNY"
      },
      "source": [
        "class Duck():\n",
        "  def __init__(self, input_name):\n",
        "    self.hidden_name = input_name\n",
        "  def get_name(self):\n",
        "    print('inside the getter')\n",
        "    return self.hidden_name\n",
        "  def set_name(self, input_name):\n",
        "    print('inside the setter')\n",
        "    self.hidden_name = input_name"
      ],
      "execution_count": null,
      "outputs": []
    },
    {
      "cell_type": "code",
      "metadata": {
        "id": "ujjoSzKJL9Kz",
        "colab": {
          "base_uri": "https://localhost:8080/",
          "height": 53
        },
        "outputId": "3e674240-ac05-4524-96df-30ff1f070e9c"
      },
      "source": [
        "don = Duck('Donald')\n",
        "don.get_name()"
      ],
      "execution_count": null,
      "outputs": [
        {
          "output_type": "stream",
          "name": "stdout",
          "text": [
            "inside the getter\n"
          ]
        },
        {
          "output_type": "execute_result",
          "data": {
            "text/plain": [
              "'Donald'"
            ],
            "application/vnd.google.colaboratory.intrinsic+json": {
              "type": "string"
            }
          },
          "metadata": {},
          "execution_count": 105
        }
      ]
    },
    {
      "cell_type": "code",
      "metadata": {
        "id": "2jhEwBwOMNLm",
        "colab": {
          "base_uri": "https://localhost:8080/"
        },
        "outputId": "5229387b-5c71-47b3-936a-a3f0663f0031"
      },
      "source": [
        "don.set_name('Donna')"
      ],
      "execution_count": null,
      "outputs": [
        {
          "output_type": "stream",
          "name": "stdout",
          "text": [
            "inside the setter\n"
          ]
        }
      ]
    },
    {
      "cell_type": "code",
      "metadata": {
        "id": "uCUvTeJiMd7L",
        "colab": {
          "base_uri": "https://localhost:8080/",
          "height": 53
        },
        "outputId": "fa0f046d-be45-405f-ee8c-401645f27092"
      },
      "source": [
        "don.get_name()"
      ],
      "execution_count": null,
      "outputs": [
        {
          "output_type": "stream",
          "name": "stdout",
          "text": [
            "inside the getter\n"
          ]
        },
        {
          "output_type": "execute_result",
          "data": {
            "text/plain": [
              "'Donna'"
            ],
            "application/vnd.google.colaboratory.intrinsic+json": {
              "type": "string"
            }
          },
          "metadata": {},
          "execution_count": 107
        }
      ]
    },
    {
      "cell_type": "code",
      "metadata": {
        "id": "X7IJMdJcND9C",
        "colab": {
          "base_uri": "https://localhost:8080/",
          "height": 167
        },
        "outputId": "1b62718f-a589-4024-e106-979af57f8a41"
      },
      "source": [
        "don('aaa')"
      ],
      "execution_count": null,
      "outputs": [
        {
          "output_type": "error",
          "ename": "TypeError",
          "evalue": "ignored",
          "traceback": [
            "\u001b[0;31m---------------------------------------------------------------------------\u001b[0m",
            "\u001b[0;31mTypeError\u001b[0m                                 Traceback (most recent call last)",
            "\u001b[0;32m<ipython-input-108-2adff5e73c7b>\u001b[0m in \u001b[0;36m<module>\u001b[0;34m()\u001b[0m\n\u001b[0;32m----> 1\u001b[0;31m \u001b[0mdon\u001b[0m\u001b[0;34m(\u001b[0m\u001b[0;34m'aaa'\u001b[0m\u001b[0;34m)\u001b[0m\u001b[0;34m\u001b[0m\u001b[0;34m\u001b[0m\u001b[0m\n\u001b[0m",
            "\u001b[0;31mTypeError\u001b[0m: 'Duck' object is not callable"
          ]
        }
      ]
    },
    {
      "cell_type": "code",
      "metadata": {
        "id": "fs1bsBIyNKMn",
        "colab": {
          "base_uri": "https://localhost:8080/",
          "height": 53
        },
        "outputId": "203230da-d16a-430f-bad0-45a0e21a838d"
      },
      "source": [
        "don.hidden_name = \"Alice\"\n",
        "don.get_name()"
      ],
      "execution_count": null,
      "outputs": [
        {
          "output_type": "stream",
          "name": "stdout",
          "text": [
            "inside the getter\n"
          ]
        },
        {
          "output_type": "execute_result",
          "data": {
            "application/vnd.google.colaboratory.intrinsic+json": {
              "type": "string"
            },
            "text/plain": [
              "'Alice'"
            ]
          },
          "metadata": {},
          "execution_count": 35
        }
      ]
    },
    {
      "cell_type": "code",
      "metadata": {
        "id": "vdxBRmelNfDQ",
        "colab": {
          "base_uri": "https://localhost:8080/",
          "height": 35
        },
        "outputId": "00b144e7-8854-45dd-f653-70ac3bdae371"
      },
      "source": [
        "don.hidden_name"
      ],
      "execution_count": null,
      "outputs": [
        {
          "output_type": "execute_result",
          "data": {
            "application/vnd.google.colaboratory.intrinsic+json": {
              "type": "string"
            },
            "text/plain": [
              "'Alice'"
            ]
          },
          "metadata": {},
          "execution_count": 36
        }
      ]
    },
    {
      "cell_type": "markdown",
      "metadata": {
        "id": "l3GuafQbvoWI"
      },
      "source": [
        "### 用來存取屬性的 property"
      ]
    },
    {
      "cell_type": "code",
      "metadata": {
        "id": "6QVHyfkov2aX"
      },
      "source": [
        "class Duck():\n",
        "  def __init__(self, input_name):\n",
        "    self.hidden_name = input_name\n",
        "  def get_name(self):\n",
        "    print('inside the getter')\n",
        "    return self.hidden_name\n",
        "  def set_name(self, input_name):\n",
        "    print('inside the setter')\n",
        "    self.hidden_name = input_name\n",
        "  name = property(get_name, set_name)"
      ],
      "execution_count": null,
      "outputs": []
    },
    {
      "cell_type": "code",
      "metadata": {
        "id": "u3fn9fnRxXtb",
        "outputId": "843139c1-1fda-4a58-935a-6008c02fe5c8",
        "colab": {
          "base_uri": "https://localhost:8080/",
          "height": 53
        }
      },
      "source": [
        "don = Duck('Donald')\n",
        "don.get_name()"
      ],
      "execution_count": null,
      "outputs": [
        {
          "output_type": "stream",
          "name": "stdout",
          "text": [
            "inside the getter\n"
          ]
        },
        {
          "output_type": "execute_result",
          "data": {
            "text/plain": [
              "'Donald'"
            ],
            "application/vnd.google.colaboratory.intrinsic+json": {
              "type": "string"
            }
          },
          "metadata": {},
          "execution_count": 120
        }
      ]
    },
    {
      "cell_type": "code",
      "metadata": {
        "id": "AUpSEjDmxkxe",
        "outputId": "c0402369-1b33-44ea-fab6-609e51b34085",
        "colab": {
          "base_uri": "https://localhost:8080/"
        }
      },
      "source": [
        "don.set_name('Donna')"
      ],
      "execution_count": null,
      "outputs": [
        {
          "output_type": "stream",
          "name": "stdout",
          "text": [
            "inside the setter\n"
          ]
        }
      ]
    },
    {
      "cell_type": "code",
      "metadata": {
        "id": "01nWhoOlxr9S",
        "outputId": "da2fc460-96be-434f-b0f7-658292b7e2ac",
        "colab": {
          "base_uri": "https://localhost:8080/",
          "height": 53
        }
      },
      "source": [
        "don.get_name()"
      ],
      "execution_count": null,
      "outputs": [
        {
          "output_type": "stream",
          "name": "stdout",
          "text": [
            "inside the getter\n"
          ]
        },
        {
          "output_type": "execute_result",
          "data": {
            "text/plain": [
              "'Donna'"
            ],
            "application/vnd.google.colaboratory.intrinsic+json": {
              "type": "string"
            }
          },
          "metadata": {},
          "execution_count": 122
        }
      ]
    },
    {
      "cell_type": "markdown",
      "source": [
        "#### property 使 class 的 name 屬性同時具有 get_name、set_name 兩種方法"
      ],
      "metadata": {
        "id": "egd40qWPrnkQ"
      }
    },
    {
      "cell_type": "code",
      "metadata": {
        "id": "DVfIfndex_NC",
        "outputId": "1a0aeb99-59f4-4614-9bc0-8f022025e684",
        "colab": {
          "base_uri": "https://localhost:8080/",
          "height": 53
        }
      },
      "source": [
        "don = Duck('Donald')\n",
        "don.name # get_name 方法"
      ],
      "execution_count": null,
      "outputs": [
        {
          "output_type": "stream",
          "name": "stdout",
          "text": [
            "inside the getter\n"
          ]
        },
        {
          "output_type": "execute_result",
          "data": {
            "text/plain": [
              "'Donald'"
            ],
            "application/vnd.google.colaboratory.intrinsic+json": {
              "type": "string"
            }
          },
          "metadata": {},
          "execution_count": 123
        }
      ]
    },
    {
      "cell_type": "code",
      "source": [
        "don.hidden_name"
      ],
      "metadata": {
        "colab": {
          "base_uri": "https://localhost:8080/",
          "height": 35
        },
        "id": "kO__4Xk9qTJ5",
        "outputId": "a1258aa4-e0e8-4922-cfa5-d19388096121"
      },
      "execution_count": null,
      "outputs": [
        {
          "output_type": "execute_result",
          "data": {
            "text/plain": [
              "'Donald'"
            ],
            "application/vnd.google.colaboratory.intrinsic+json": {
              "type": "string"
            }
          },
          "metadata": {},
          "execution_count": 124
        }
      ]
    },
    {
      "cell_type": "code",
      "metadata": {
        "id": "G93rUpITyMN2",
        "outputId": "4de4f25f-211f-486e-f654-7ffe9b4e8bf9",
        "colab": {
          "base_uri": "https://localhost:8080/"
        }
      },
      "source": [
        "don.name = 'Donna' # set_name 方法"
      ],
      "execution_count": null,
      "outputs": [
        {
          "output_type": "stream",
          "name": "stdout",
          "text": [
            "inside the setter\n"
          ]
        }
      ]
    },
    {
      "cell_type": "code",
      "metadata": {
        "id": "2l3mKzj6yY_l",
        "outputId": "777f9fdd-42d3-4b12-b5f6-92665195eb0c",
        "colab": {
          "base_uri": "https://localhost:8080/",
          "height": 53
        }
      },
      "source": [
        "don.name "
      ],
      "execution_count": null,
      "outputs": [
        {
          "output_type": "stream",
          "name": "stdout",
          "text": [
            "inside the getter\n"
          ]
        },
        {
          "output_type": "execute_result",
          "data": {
            "text/plain": [
              "'Donna'"
            ],
            "application/vnd.google.colaboratory.intrinsic+json": {
              "type": "string"
            }
          },
          "metadata": {},
          "execution_count": 126
        }
      ]
    },
    {
      "cell_type": "code",
      "metadata": {
        "id": "B2l8K5xrykVB",
        "colab": {
          "base_uri": "https://localhost:8080/",
          "height": 35
        },
        "outputId": "7972d662-6687-481e-992b-05541802c96e"
      },
      "source": [
        "don.hidden_name"
      ],
      "execution_count": null,
      "outputs": [
        {
          "output_type": "execute_result",
          "data": {
            "text/plain": [
              "'Donna'"
            ],
            "application/vnd.google.colaboratory.intrinsic+json": {
              "type": "string"
            }
          },
          "metadata": {},
          "execution_count": 127
        }
      ]
    },
    {
      "cell_type": "markdown",
      "source": [
        "#### 第二種做法是加入一些裝飾器，並將方法名稱 get_name 和 set_name 換成 name:\n",
        "\n",
        "1. 在 getter 方法前面加上 @property\n",
        "2. 在 setter 方法前面加上 @name.setter\n",
        "\n",
        "\n"
      ],
      "metadata": {
        "id": "brQegVDCsXL6"
      }
    },
    {
      "cell_type": "code",
      "source": [
        "class Duck():\n",
        "  def __init__(self, input_name):\n",
        "    self.hidden_name = input_name\n",
        "  \n",
        "  @property\n",
        "  def name(self):\n",
        "    print('inside the getter')\n",
        "    return self.hidden_name\n",
        "  \n",
        "  @name.setter\n",
        "  def name(self, input_name):\n",
        "    print('inside the setter')\n",
        "    self.hidden_name = input_name\n",
        "    "
      ],
      "metadata": {
        "id": "4M1DepNksxYr"
      },
      "execution_count": null,
      "outputs": []
    },
    {
      "cell_type": "code",
      "source": [
        "# 將 name 當成屬性來存取\n",
        "fowl = Duck('Howard')\n",
        "fowl.name"
      ],
      "metadata": {
        "colab": {
          "base_uri": "https://localhost:8080/",
          "height": 53
        },
        "id": "hv3ifCWytmDB",
        "outputId": "50b65cac-4d6b-401f-cb8a-24f36417b795"
      },
      "execution_count": null,
      "outputs": [
        {
          "output_type": "stream",
          "name": "stdout",
          "text": [
            "inside the getter\n"
          ]
        },
        {
          "output_type": "execute_result",
          "data": {
            "text/plain": [
              "'Howard'"
            ],
            "application/vnd.google.colaboratory.intrinsic+json": {
              "type": "string"
            }
          },
          "metadata": {},
          "execution_count": 129
        }
      ]
    },
    {
      "cell_type": "code",
      "source": [
        "fowl.name = 'Donald'"
      ],
      "metadata": {
        "colab": {
          "base_uri": "https://localhost:8080/"
        },
        "id": "Hg2LCWGet0oG",
        "outputId": "f8a8e32c-9dcb-4088-e7ac-07c2cb6acfa5"
      },
      "execution_count": null,
      "outputs": [
        {
          "output_type": "stream",
          "name": "stdout",
          "text": [
            "inside the setter\n"
          ]
        }
      ]
    },
    {
      "cell_type": "code",
      "source": [
        "fowl.name"
      ],
      "metadata": {
        "colab": {
          "base_uri": "https://localhost:8080/",
          "height": 53
        },
        "id": "BasNqw6ft-Yd",
        "outputId": "2ecd8ce7-0d1f-43b9-d1a5-18f6a0e9a723"
      },
      "execution_count": null,
      "outputs": [
        {
          "output_type": "stream",
          "name": "stdout",
          "text": [
            "inside the getter\n"
          ]
        },
        {
          "output_type": "execute_result",
          "data": {
            "text/plain": [
              "'Donald'"
            ],
            "application/vnd.google.colaboratory.intrinsic+json": {
              "type": "string"
            }
          },
          "metadata": {},
          "execution_count": 131
        }
      ]
    },
    {
      "cell_type": "markdown",
      "source": [
        "#### 當有人猜到屬性的名字是 hidden_name 時，他們仍然可以用 fowl.hidden_name 直接存取它。"
      ],
      "metadata": {
        "id": "JAWiZY_kuLge"
      }
    },
    {
      "cell_type": "markdown",
      "source": [
        "### 用 property 回傳算出來的值"
      ],
      "metadata": {
        "id": "3i_Ecz8Fu73U"
      }
    },
    {
      "cell_type": "markdown",
      "source": [
        "之前的例子中，使用 name property 來引用物件裡面的單一屬性 (hidden_name)\n",
        "\n",
        "property 也可以回傳算出來的值。\n",
        "\n",
        "定義一個 Circle 類別，讓它有一個 radius 屬性與一個算出來的 diameter property"
      ],
      "metadata": {
        "id": "nbo4FSl7-I6Z"
      }
    },
    {
      "cell_type": "code",
      "source": [
        "class Circle():\n",
        "  def __init__(self, radius):\n",
        "    self.radius = radius\n",
        "  \n",
        "  @property\n",
        "  def diameter(self):\n",
        "    return 2 * self.radius\n",
        "    "
      ],
      "metadata": {
        "id": "mhTOGibouA9-"
      },
      "execution_count": null,
      "outputs": []
    },
    {
      "cell_type": "markdown",
      "source": [
        "建立一個 Circle 物件，並設定 radius 的初始值"
      ],
      "metadata": {
        "id": "57_dXf8n_HYg"
      }
    },
    {
      "cell_type": "code",
      "source": [
        "c = Circle(5)\n",
        "c.radius"
      ],
      "metadata": {
        "id": "c2VsPcMh_D4N",
        "outputId": "256119fe-ea80-4f67-9089-e6a8be49154f",
        "colab": {
          "base_uri": "https://localhost:8080/"
        }
      },
      "execution_count": null,
      "outputs": [
        {
          "output_type": "execute_result",
          "data": {
            "text/plain": [
              "5"
            ]
          },
          "metadata": {},
          "execution_count": 133
        }
      ]
    },
    {
      "cell_type": "code",
      "source": [
        "c.diameter"
      ],
      "metadata": {
        "id": "PNGFYaOS_RR6",
        "outputId": "edf93a2f-2c3b-4526-8300-560290a9042e",
        "colab": {
          "base_uri": "https://localhost:8080/"
        }
      },
      "execution_count": null,
      "outputs": [
        {
          "output_type": "execute_result",
          "data": {
            "text/plain": [
              "10"
            ]
          },
          "metadata": {},
          "execution_count": 134
        }
      ]
    },
    {
      "cell_type": "markdown",
      "source": [
        "可以隨時更改 radius 屬性，且 diameter property 會用更改後的 radius 來算出\n"
      ],
      "metadata": {
        "id": "MCCnQrll_mim"
      }
    },
    {
      "cell_type": "code",
      "source": [
        "c.radius = 7\n",
        "c.radius"
      ],
      "metadata": {
        "id": "AVzduXGp_iSC",
        "outputId": "fa186c89-3c2f-4147-e84c-96db004a7b4e",
        "colab": {
          "base_uri": "https://localhost:8080/"
        }
      },
      "execution_count": null,
      "outputs": [
        {
          "output_type": "execute_result",
          "data": {
            "text/plain": [
              "7"
            ]
          },
          "metadata": {},
          "execution_count": 135
        }
      ]
    },
    {
      "cell_type": "code",
      "source": [
        "c.diameter"
      ],
      "metadata": {
        "id": "lG6n23Fh_3Rt",
        "outputId": "96bf70bb-6eaa-4aa1-ecec-b9a8c586209c",
        "colab": {
          "base_uri": "https://localhost:8080/"
        }
      },
      "execution_count": null,
      "outputs": [
        {
          "output_type": "execute_result",
          "data": {
            "text/plain": [
              "14"
            ]
          },
          "metadata": {},
          "execution_count": 136
        }
      ]
    },
    {
      "cell_type": "markdown",
      "source": [
        "若沒有為屬性指定 setter property，就不能在外面設定它\n",
        "\n",
        "適合用來作為唯讀屬性\n"
      ],
      "metadata": {
        "id": "DrTvxIVFAFQ_"
      }
    },
    {
      "cell_type": "code",
      "source": [
        "c.diameter = 20"
      ],
      "metadata": {
        "id": "BdZpqGG6_5M6",
        "outputId": "19998185-02e1-478f-8861-167c55c17293",
        "colab": {
          "base_uri": "https://localhost:8080/",
          "height": 167
        }
      },
      "execution_count": null,
      "outputs": [
        {
          "output_type": "error",
          "ename": "AttributeError",
          "evalue": "ignored",
          "traceback": [
            "\u001b[0;31m---------------------------------------------------------------------------\u001b[0m",
            "\u001b[0;31mAttributeError\u001b[0m                            Traceback (most recent call last)",
            "\u001b[0;32m<ipython-input-138-808ea3f73d1a>\u001b[0m in \u001b[0;36m<module>\u001b[0;34m()\u001b[0m\n\u001b[0;32m----> 1\u001b[0;31m \u001b[0mc\u001b[0m\u001b[0;34m.\u001b[0m\u001b[0mdiameter\u001b[0m \u001b[0;34m=\u001b[0m \u001b[0;36m20\u001b[0m\u001b[0;34m\u001b[0m\u001b[0;34m\u001b[0m\u001b[0m\n\u001b[0m",
            "\u001b[0;31mAttributeError\u001b[0m: can't set attribute"
          ]
        }
      ]
    },
    {
      "cell_type": "markdown",
      "source": [
        "使用 property 還有一個比直接存取屬性更好的地方:\n",
        "\n",
        "當你改變屬性的定義時，你只要修改類別定義式裡面的程式就可以了，\n",
        "\n",
        "不須修改所有的呼叫方"
      ],
      "metadata": {
        "id": "XEsHJP6zBQSD"
      }
    },
    {
      "cell_type": "markdown",
      "source": [
        "### 修飾名稱保護隱私"
      ],
      "metadata": {
        "id": "VViH6GYQB9j4"
      }
    },
    {
      "cell_type": "markdown",
      "source": [
        "在稍早的 Duck 類別裡面，我們將 (不完全是) 隱藏的屬性稱為 hidden_name。\n",
        "\n",
        "在 Python 中，不允許在類別定義式的外面看到的屬性有一種命名規範:\n",
        "\n",
        "在開頭使用雙底線 __\n",
        "\n",
        "將 hidden_name 改為 __name\n"
      ],
      "metadata": {
        "id": "nS4WC1axCEHG"
      }
    },
    {
      "cell_type": "code",
      "source": [
        "class Duck():\n",
        "  def __init__(self, input_name):\n",
        "    self.__name = input_name\n",
        "\n",
        "  @property\n",
        "  def name(self):\n",
        "    print('inside the getter')\n",
        "    return self.__name\n",
        "\n",
        "  @name.setter\n",
        "  def name(self, input_name):\n",
        "    print('inside the setter')\n",
        "    self.__name = input_name\n",
        "    "
      ],
      "metadata": {
        "id": "peX7UcnXAgYI"
      },
      "execution_count": null,
      "outputs": []
    },
    {
      "cell_type": "code",
      "source": [
        "fowl = Duck('Howard')\n",
        "fowl.name"
      ],
      "metadata": {
        "id": "7u2ac1IjDXAx",
        "outputId": "098787fe-96e9-4a53-90ee-f793410c220c",
        "colab": {
          "base_uri": "https://localhost:8080/",
          "height": 53
        }
      },
      "execution_count": null,
      "outputs": [
        {
          "output_type": "stream",
          "name": "stdout",
          "text": [
            "inside the getter\n"
          ]
        },
        {
          "output_type": "execute_result",
          "data": {
            "text/plain": [
              "'Howard'"
            ],
            "application/vnd.google.colaboratory.intrinsic+json": {
              "type": "string"
            }
          },
          "metadata": {},
          "execution_count": 140
        }
      ]
    },
    {
      "cell_type": "code",
      "source": [
        "fowl.name = 'Donald'\n",
        "fowl.name"
      ],
      "metadata": {
        "id": "ENRVVHyCDfKM",
        "outputId": "521c57bc-14c0-4cf1-b62b-24e795ce31e5",
        "colab": {
          "base_uri": "https://localhost:8080/",
          "height": 70
        }
      },
      "execution_count": null,
      "outputs": [
        {
          "output_type": "stream",
          "name": "stdout",
          "text": [
            "inside the setter\n",
            "inside the getter\n"
          ]
        },
        {
          "output_type": "execute_result",
          "data": {
            "text/plain": [
              "'Donald'"
            ],
            "application/vnd.google.colaboratory.intrinsic+json": {
              "type": "string"
            }
          },
          "metadata": {},
          "execution_count": 141
        }
      ]
    },
    {
      "cell_type": "code",
      "source": [
        "fowl.__name"
      ],
      "metadata": {
        "id": "QjNLCQWYDnPj",
        "outputId": "d7bc8400-0cc7-49e5-9c3e-47e5a10554d8",
        "colab": {
          "base_uri": "https://localhost:8080/",
          "height": 167
        }
      },
      "execution_count": null,
      "outputs": [
        {
          "output_type": "error",
          "ename": "AttributeError",
          "evalue": "ignored",
          "traceback": [
            "\u001b[0;31m---------------------------------------------------------------------------\u001b[0m",
            "\u001b[0;31mAttributeError\u001b[0m                            Traceback (most recent call last)",
            "\u001b[0;32m<ipython-input-142-39d081ea2ef8>\u001b[0m in \u001b[0;36m<module>\u001b[0;34m()\u001b[0m\n\u001b[0;32m----> 1\u001b[0;31m \u001b[0mfowl\u001b[0m\u001b[0;34m.\u001b[0m\u001b[0m__name\u001b[0m\u001b[0;34m\u001b[0m\u001b[0;34m\u001b[0m\u001b[0m\n\u001b[0m",
            "\u001b[0;31mAttributeError\u001b[0m: 'Duck' object has no attribute '__name'"
          ]
        }
      ]
    },
    {
      "cell_type": "markdown",
      "source": [
        "無法存取 __name 屬性\n",
        "\n",
        "這種命名規範無法將它變成完全私用，但 Python 會修飾 (mangle) 屬性名稱，\n",
        "\n",
        "讓外面的程式碼不太可能偶然發現它。\n",
        "\n",
        "如果強行想印出，必須輸入此"
      ],
      "metadata": {
        "id": "1_gBH4fhDtG3"
      }
    },
    {
      "cell_type": "code",
      "source": [
        "fowl._Duck__name"
      ],
      "metadata": {
        "id": "UTVb4DLrEHOY",
        "outputId": "b6fc94aa-2c2c-4822-9481-b8fb7181c8b0",
        "colab": {
          "base_uri": "https://localhost:8080/",
          "height": 35
        }
      },
      "execution_count": null,
      "outputs": [
        {
          "output_type": "execute_result",
          "data": {
            "text/plain": [
              "'Donald'"
            ],
            "application/vnd.google.colaboratory.intrinsic+json": {
              "type": "string"
            }
          },
          "metadata": {},
          "execution_count": 143
        }
      ]
    },
    {
      "cell_type": "markdown",
      "source": [
        "注意!! 上面的式子並未印出 inside the getter\n",
        "\n",
        "雖然名稱修飾不是完美的保護機制，但它可以防止意外或故意直接存取屬性"
      ],
      "metadata": {
        "id": "xfAjZwT2EPG4"
      }
    },
    {
      "cell_type": "markdown",
      "source": [
        "### 類別與物件屬性"
      ],
      "metadata": {
        "id": "aKPPVXsFEkSl"
      }
    },
    {
      "cell_type": "markdown",
      "source": [
        "可以將屬性指派給類別，它們會被該類別的子物件繼承"
      ],
      "metadata": {
        "id": "zRNUlhq6EsLJ"
      }
    },
    {
      "cell_type": "code",
      "source": [
        "class Fruit:\n",
        "  color = 'red'\n",
        "Fruit.color"
      ],
      "metadata": {
        "id": "vqBF7NtUEq6g",
        "outputId": "64560e98-7c7f-4662-dc8e-1830da1939f2",
        "colab": {
          "base_uri": "https://localhost:8080/",
          "height": 35
        }
      },
      "execution_count": null,
      "outputs": [
        {
          "output_type": "execute_result",
          "data": {
            "text/plain": [
              "'red'"
            ],
            "application/vnd.google.colaboratory.intrinsic+json": {
              "type": "string"
            }
          },
          "metadata": {},
          "execution_count": 148
        }
      ]
    },
    {
      "cell_type": "code",
      "source": [
        "blue_berry = Fruit()\n",
        "blue_berry.color"
      ],
      "metadata": {
        "id": "YBgeIa_wE-ax",
        "outputId": "38da20ce-6a82-4913-f728-87852b615a6b",
        "colab": {
          "base_uri": "https://localhost:8080/",
          "height": 35
        }
      },
      "execution_count": null,
      "outputs": [
        {
          "output_type": "execute_result",
          "data": {
            "text/plain": [
              "'red'"
            ],
            "application/vnd.google.colaboratory.intrinsic+json": {
              "type": "string"
            }
          },
          "metadata": {},
          "execution_count": 145
        }
      ]
    },
    {
      "cell_type": "markdown",
      "source": [
        "若改變子物件的屬性的值，它不會影響類別屬性\n"
      ],
      "metadata": {
        "id": "jwXFgGG6Fe8C"
      }
    },
    {
      "cell_type": "code",
      "source": [
        "blue_berry.color = 'blue'\n",
        "blue_berry.color"
      ],
      "metadata": {
        "id": "evOzff61Fkdr",
        "outputId": "841cc9cf-7612-489c-b20b-521877a6ec3c",
        "colab": {
          "base_uri": "https://localhost:8080/",
          "height": 35
        }
      },
      "execution_count": null,
      "outputs": [
        {
          "output_type": "execute_result",
          "data": {
            "text/plain": [
              "'blue'"
            ],
            "application/vnd.google.colaboratory.intrinsic+json": {
              "type": "string"
            }
          },
          "metadata": {},
          "execution_count": 149
        }
      ]
    },
    {
      "cell_type": "code",
      "source": [
        "Fruit.color"
      ],
      "metadata": {
        "id": "cYTofAbqFpjZ",
        "outputId": "3f482b45-0447-4015-bccf-d74a12b03b44",
        "colab": {
          "base_uri": "https://localhost:8080/",
          "height": 35
        }
      },
      "execution_count": null,
      "outputs": [
        {
          "output_type": "execute_result",
          "data": {
            "text/plain": [
              "'red'"
            ],
            "application/vnd.google.colaboratory.intrinsic+json": {
              "type": "string"
            }
          },
          "metadata": {},
          "execution_count": 150
        }
      ]
    },
    {
      "cell_type": "markdown",
      "source": [
        "若改變類別屬性，它不會影響到之前創造的、既有的子物件"
      ],
      "metadata": {
        "id": "jCkccIhvFsOV"
      }
    },
    {
      "cell_type": "code",
      "source": [
        "Fruit.color = 'orange'\n",
        "Fruit.color"
      ],
      "metadata": {
        "id": "h60iYmIKF32s",
        "outputId": "d2f17bdc-8845-4fdd-9bd5-325291550e97",
        "colab": {
          "base_uri": "https://localhost:8080/",
          "height": 35
        }
      },
      "execution_count": null,
      "outputs": [
        {
          "output_type": "execute_result",
          "data": {
            "text/plain": [
              "'orange'"
            ],
            "application/vnd.google.colaboratory.intrinsic+json": {
              "type": "string"
            }
          },
          "metadata": {},
          "execution_count": 151
        }
      ]
    },
    {
      "cell_type": "code",
      "source": [
        "blue_berry.color"
      ],
      "metadata": {
        "id": "nShhWmzBF-oX",
        "outputId": "056e0009-f3d9-4446-b895-3b7e2be8be74",
        "colab": {
          "base_uri": "https://localhost:8080/",
          "height": 35
        }
      },
      "execution_count": null,
      "outputs": [
        {
          "output_type": "execute_result",
          "data": {
            "text/plain": [
              "'blue'"
            ],
            "application/vnd.google.colaboratory.intrinsic+json": {
              "type": "string"
            }
          },
          "metadata": {},
          "execution_count": 152
        }
      ]
    },
    {
      "cell_type": "markdown",
      "source": [
        "但它會影響新的"
      ],
      "metadata": {
        "id": "LhXk2aizGBaj"
      }
    },
    {
      "cell_type": "code",
      "source": [
        "new_fruit = Fruit()\n",
        "new_fruit.color"
      ],
      "metadata": {
        "id": "m_mprHXUGE0z",
        "outputId": "c2dcf6ec-7520-4f0e-94cf-b198fa7f6540",
        "colab": {
          "base_uri": "https://localhost:8080/",
          "height": 35
        }
      },
      "execution_count": null,
      "outputs": [
        {
          "output_type": "execute_result",
          "data": {
            "text/plain": [
              "'orange'"
            ],
            "application/vnd.google.colaboratory.intrinsic+json": {
              "type": "string"
            }
          },
          "metadata": {},
          "execution_count": 153
        }
      ]
    },
    {
      "cell_type": "markdown",
      "source": [
        "## 方法型態"
      ],
      "metadata": {
        "id": "uj6HBxVGGOML"
      }
    },
    {
      "cell_type": "markdown",
      "source": [
        "有些方法是類別本身的一部分，\n",
        "\n",
        "有些是用那個類別建立的物件的一部分，\n",
        "\n",
        "有些不屬於兩者:\n"
      ],
      "metadata": {
        "id": "Ew5KrKjOGSgM"
      }
    },
    {
      "cell_type": "markdown",
      "source": [
        "如果它的前面沒有裝飾器，它是實例方法，它的第一個引數應該是 self，用來引用個別的物件本身。\n",
        "\n",
        "如果他的前面有 @classmethod 裝飾器，它是類別方法，它的第一個引數應該是 cls (或任何東西，只要不是保留字 class 就可以)，引用類別本身。\n",
        "\n",
        "如果他的前面有 @staticmethod 裝飾器，它是靜態方法，它的第一個引數不是物件或類別。"
      ],
      "metadata": {
        "id": "GwYNeF7ujCzw"
      }
    },
    {
      "cell_type": "markdown",
      "source": [
        "### 實例方法"
      ],
      "metadata": {
        "id": "DuLc4ReVkGjI"
      }
    },
    {
      "cell_type": "markdown",
      "source": [
        "當類別定義式裡面的方法的第一個引數是 self 時，它就是實例方法。\n",
        "\n",
        "當你建立自己的類別時，通常會編寫這種方法。\n",
        "\n",
        "實例方法的第一個參數是 self，當你呼叫方法時，Python 會將該物件傳給這個方法。\n",
        "\n",
        "截至目前為止的方法都是這一種。"
      ],
      "metadata": {
        "id": "lZ_3EryMkJEl"
      }
    },
    {
      "cell_type": "markdown",
      "source": [
        "###類別方法"
      ],
      "metadata": {
        "id": "jQls7037kmsN"
      }
    },
    {
      "cell_type": "markdown",
      "source": [
        "相較之下，類別方法會影響整個類別。\n",
        "\n",
        "對類別做的任何改變都會影響它的所有物件。\n",
        "\n",
        "在類別定義式裡面，@classmethod 裝飾器代表它後面的函式是個類別方法。\n",
        "\n",
        "此外，該方法的第一個參數是類別本身。\n",
        "\n",
        "Python 傳統上將這個參數稱為 cls，因為 class 是保留字，不能在這裡使用。\n",
        "\n",
        "我們來為 A 定義一個類別方法，用它來計算這個類別已經建立多少個物件實例了:"
      ],
      "metadata": {
        "id": "KalxXzwnkota"
      }
    },
    {
      "cell_type": "code",
      "source": [
        "class A():\n",
        "  count = 0\n",
        "  \n",
        "  def __init__(self):\n",
        "    A.count += 1  # 注意: 不是使用 self.count\n",
        "  \n",
        "  def exclaim(self):\n",
        "    print(\"I'm an A\")\n",
        "  \n",
        "  @classmethod\n",
        "  def kids(cls):\n",
        "    print('A has', cls.count, 'little object.')\n"
      ],
      "metadata": {
        "id": "wMvACUSDGmDd"
      },
      "execution_count": null,
      "outputs": []
    },
    {
      "cell_type": "code",
      "source": [
        "easy_a = A()\n",
        "\n",
        "breezy_a = A()\n",
        "\n",
        "wheezy_a = A()\n",
        "\n",
        "A.kids()"
      ],
      "metadata": {
        "id": "JLzobPASmaSN",
        "outputId": "3d93e576-f487-402c-e5cf-51a0552083af",
        "colab": {
          "base_uri": "https://localhost:8080/"
        }
      },
      "execution_count": null,
      "outputs": [
        {
          "output_type": "stream",
          "name": "stdout",
          "text": [
            "A has 3 little object.\n"
          ]
        }
      ]
    },
    {
      "cell_type": "markdown",
      "source": [
        "注意，我們在 __init__() 內引用 A.count (類別屬性) 而不是 self.count (物件實例屬性)。\n",
        "\n",
        "我們在 kids() 方法內使用 cls.count，但也可以使用 A.count。\n"
      ],
      "metadata": {
        "id": "xjlDdDeInGMf"
      }
    },
    {
      "cell_type": "markdown",
      "source": [
        "###靜態方法"
      ],
      "metadata": {
        "id": "_w0AbA9Mnmh_"
      }
    },
    {
      "cell_type": "markdown",
      "source": [
        "在類別定義式中的第三種方法既不影響類別，也不影響它的物件，\n",
        "\n",
        "它只是為了不四處漂而待在那裏。\n",
        "\n",
        "它是靜態方法，前面有個 @staticmethod 裝飾器，沒有開頭的 self 或 cls 參數。\n",
        "\n",
        "這個例子為類別 CoyoteWeapon 提供商業廣告:"
      ],
      "metadata": {
        "id": "LzK8qCWBnpz9"
      }
    },
    {
      "cell_type": "code",
      "source": [
        "class CoyoteWeapon():\n",
        "  @staticmethod\n",
        "  def commercial():\n",
        "    print('This CoyoteWeapon has been brought to you by Acme')\n",
        "  "
      ],
      "metadata": {
        "id": "7HUwI-sWnjyr"
      },
      "execution_count": null,
      "outputs": []
    },
    {
      "cell_type": "code",
      "source": [
        "CoyoteWeapon.commercial()"
      ],
      "metadata": {
        "id": "SbChtU-0pMXj",
        "outputId": "9eb09541-7dac-4a95-a975-d02252568d37",
        "colab": {
          "base_uri": "https://localhost:8080/"
        }
      },
      "execution_count": null,
      "outputs": [
        {
          "output_type": "stream",
          "name": "stdout",
          "text": [
            "This CoyoteWeapon has been brought to you by Acme\n"
          ]
        }
      ]
    },
    {
      "cell_type": "markdown",
      "source": [
        "注意，我們不需要建立 CoyoteWeapon 類別的物件就可以使用這個方法了。非常優雅 (class-y)。"
      ],
      "metadata": {
        "id": "Mcma9LzkpTKW"
      }
    },
    {
      "cell_type": "markdown",
      "source": [
        "## 鴨子定型"
      ],
      "metadata": {
        "id": "3ZXWXUHppewG"
      }
    },
    {
      "cell_type": "markdown",
      "source": [
        "Python 實作了寬鬆的多型，它可以對不同的物件進行相同的操作，根據方法的名稱與引數，無論它們的類別是什麼。\n",
        "\n",
        "我們讓全部的三個 Quote 類別使用同一個 __init__() 初始化方法，\n",
        "\n",
        "但加入兩個新函式:\n",
        "\n",
        "* 用 who() 回傳被存起來的 person 字串的值\n",
        "* 用 says() 回傳被儲存起來的字串加上特定的標點符號"
      ],
      "metadata": {
        "id": "kk5pwFUwp8A3"
      }
    },
    {
      "cell_type": "code",
      "source": [
        "class Quote():\n",
        "  def __init__(self, person, words):\n",
        "    self.person = person\n",
        "    self.words = words\n",
        "\n",
        "  def who(self):\n",
        "    return self.person\n",
        "\n",
        "  def says(self):\n",
        "    return self.words + '.'"
      ],
      "metadata": {
        "id": "ctIWB8VpqxZw"
      },
      "execution_count": null,
      "outputs": []
    },
    {
      "cell_type": "code",
      "source": [
        "class QuestionQuote(Quote):\n",
        "  def says(self):\n",
        "    return self.words + '?'"
      ],
      "metadata": {
        "id": "-6o_W4Lmq3xd"
      },
      "execution_count": null,
      "outputs": []
    },
    {
      "cell_type": "code",
      "source": [
        "class ExclamationQuote(Quote):\n",
        "  def says(self):\n",
        "    return self.words + '!'  "
      ],
      "metadata": {
        "id": "LLHGc_NUrV4q"
      },
      "execution_count": null,
      "outputs": []
    },
    {
      "cell_type": "markdown",
      "source": [
        "我們沒有更改 QuestionQuote、ExclamationQuote 初始化的方法，\n",
        "\n",
        "所以沒有複寫他們的 __init__() 方法。\n",
        "\n",
        "Python 會自動呼叫父類別的 Quote 的 __init__() 方法，\n",
        "\n",
        "來儲存實例變數 person 與 words。\n",
        "\n",
        "這就是我們可以在 QuestionQuote 與 ExclamationQuote 子類別建立的物件中存取 self.words 的原因。"
      ],
      "metadata": {
        "id": "lpKiPhfor3ZI"
      }
    },
    {
      "cell_type": "code",
      "source": [
        "hunter = Quote('Elmer Fudd', \"I'm hunting wabbits\")\n",
        "print(hunter.who(), 'says:', hunter.says())"
      ],
      "metadata": {
        "id": "AAk6ruEeroe1",
        "outputId": "db92e5cb-2435-41a3-ed74-a2231061468f",
        "colab": {
          "base_uri": "https://localhost:8080/"
        }
      },
      "execution_count": null,
      "outputs": [
        {
          "output_type": "stream",
          "name": "stdout",
          "text": [
            "Elmer Fudd says: I'm hunting wabbits.\n"
          ]
        }
      ]
    },
    {
      "cell_type": "code",
      "source": [
        "hunted1 = QuestionQuote('Bugs Bunny', \"What;s up, doc\")\n",
        "print(hunted1.who(), 'says:', hunted1.says())"
      ],
      "metadata": {
        "id": "rb9nVE1BtFxg",
        "outputId": "b859155c-e890-487c-9445-d4c87644f240",
        "colab": {
          "base_uri": "https://localhost:8080/"
        }
      },
      "execution_count": null,
      "outputs": [
        {
          "output_type": "stream",
          "name": "stdout",
          "text": [
            "Bugs Bunny says: What;s up, doc?\n"
          ]
        }
      ]
    },
    {
      "cell_type": "code",
      "source": [
        "hunted2 = ExclamationQuote('Daffy Duck', \"It's rabbit season\")\n",
        "print(hunted2.who(), 'says:', hunted2.says())"
      ],
      "metadata": {
        "id": "dZAoyhW2tc4I",
        "outputId": "ba5080aa-809c-4b88-fc9b-23403c6da15c",
        "colab": {
          "base_uri": "https://localhost:8080/"
        }
      },
      "execution_count": null,
      "outputs": [
        {
          "output_type": "stream",
          "name": "stdout",
          "text": [
            "Daffy Duck says: It's rabbit season!\n"
          ]
        }
      ]
    },
    {
      "cell_type": "markdown",
      "source": [
        "三個不同版本的 says() 方法提供三個類別的不同行為。\n",
        "\n",
        "這是傳統物件導向語言多型。\n",
        "\n",
        "Python 更進一步，可讓你執行任何擁有 who() 與 says() 方法的物件的這兩個方法。\n",
        "\n",
        "我們定義一個名為 BabblingBrook 的類別，它與之前森林獵人和獵物 (Quote 類別的後代) 無關:\n"
      ],
      "metadata": {
        "id": "oVOwc3LTt2X5"
      }
    },
    {
      "cell_type": "code",
      "source": [
        "class BabblingBrook():\n",
        "  def who(self):\n",
        "    return 'Brook'\n",
        "  def says(self):\n",
        "    return 'Babble'\n",
        "\n",
        "brook = BabblingBrook()"
      ],
      "metadata": {
        "id": "bYX4_HsZucl-"
      },
      "execution_count": null,
      "outputs": []
    },
    {
      "cell_type": "markdown",
      "source": [
        "我們執行個個物件的 who() 與 says() 方法，其中有一個物件 (brook) 的方法與其他物件完全無關。"
      ],
      "metadata": {
        "id": "1LiFnzEpuzEQ"
      }
    },
    {
      "cell_type": "code",
      "source": [
        "def who_says(obj):\n",
        "  print(obj.who(), 'says', obj.says())"
      ],
      "metadata": {
        "id": "FUOtoJ9Yuvta"
      },
      "execution_count": null,
      "outputs": []
    },
    {
      "cell_type": "code",
      "source": [
        "who_says(hunter)"
      ],
      "metadata": {
        "id": "swRXKRYvvgR3",
        "outputId": "b293086e-5ce6-492e-cc01-dfe577decde0",
        "colab": {
          "base_uri": "https://localhost:8080/"
        }
      },
      "execution_count": null,
      "outputs": [
        {
          "output_type": "stream",
          "name": "stdout",
          "text": [
            "Elmer Fudd says I'm hunting wabbits.\n"
          ]
        }
      ]
    },
    {
      "cell_type": "code",
      "source": [
        "who_says(hunted1)"
      ],
      "metadata": {
        "id": "w8gWSWCAvnC9",
        "outputId": "f241b7f6-ca76-42f7-8888-071b06507913",
        "colab": {
          "base_uri": "https://localhost:8080/"
        }
      },
      "execution_count": null,
      "outputs": [
        {
          "output_type": "stream",
          "name": "stdout",
          "text": [
            "Bugs Bunny says What;s up, doc?\n"
          ]
        }
      ]
    },
    {
      "cell_type": "code",
      "source": [
        "who_says(hunted2)"
      ],
      "metadata": {
        "id": "jQ2vnxfrv8xX",
        "outputId": "a5b0814f-de97-41c9-c4c8-b9af00bf305d",
        "colab": {
          "base_uri": "https://localhost:8080/"
        }
      },
      "execution_count": null,
      "outputs": [
        {
          "output_type": "stream",
          "name": "stdout",
          "text": [
            "Daffy Duck says It's rabbit season!\n"
          ]
        }
      ]
    },
    {
      "cell_type": "code",
      "source": [
        "who_says(brook)"
      ],
      "metadata": {
        "id": "doiX23Avv_WP",
        "outputId": "95524555-c573-4d6b-b8b4-263c1892da05",
        "colab": {
          "base_uri": "https://localhost:8080/"
        }
      },
      "execution_count": null,
      "outputs": [
        {
          "output_type": "stream",
          "name": "stdout",
          "text": [
            "Brook says Babble\n"
          ]
        }
      ]
    },
    {
      "cell_type": "markdown",
      "source": [
        "##魔術方法"
      ],
      "metadata": {
        "id": "eElkzpc8xHVW"
      }
    },
    {
      "cell_type": "markdown",
      "source": [
        "現在你可以建立與使用基本物件了。你要在這一節學習的東西可能會讓你大吃一驚－不過是好事。"
      ],
      "metadata": {
        "id": "vGoifM6pm6jd"
      }
    },
    {
      "cell_type": "markdown",
      "source": [
        "當你輸入 a = 3 + 8 這種東西時，值為 3 與 8 的整數物件如何知道該怎麼做 + ? 或者，當你輸入 name = \"Daffy\" + \" \" + \"Duck\" 時，Python 如何知道現在 + 代表串接兩個字串 ?  a 與 name 又是如何知道如何使用 = 來取得結果的 ? 你可以用 Python 的特殊方法 (或比較戲劇性的名稱，魔術方法) 來製作這些運算子。"
      ],
      "metadata": {
        "id": "sWT01osFnJm8"
      }
    },
    {
      "cell_type": "markdown",
      "source": [
        "這些方法的名稱開頭與結尾都有雙底線 (__)，為何如此 ? 因為程式員不太可能在變數名稱中使用它們。你已經看過一種魔術方法了： __init __ 會用類別定義與收到的引數來初始化並建議一個物件。你也看過 (第192頁的「修飾名稱來保護隱私」)使用「dunder」來命名可以協助修飾類別屬性名稱以及方法了。"
      ],
      "metadata": {
        "id": "efMcUa3zn9rE"
      }
    },
    {
      "cell_type": "markdown",
      "source": [
        "假設你有一個簡單的 Word 類別，你想要用一個 equals() 方法來比較兩個單字，但忽略大小寫，也就是說，它認為包含 \"ha\" 的 Word 與包含 \"HA\" 的 Word 是相同的。  \n",
        "以下是第一次試做的範例，裡面有一個一辦的方法，稱為 equals()。 self.text 是 Word 物件裡面的文字字串，equals() 方法會拿它與 word2 (另一個 Word 物件) 的文字字串比較。"
      ],
      "metadata": {
        "id": "-Z3YRoiDpZ_z"
      }
    },
    {
      "cell_type": "code",
      "source": [
        "class Word():\n",
        "  def __init__(self, text):\n",
        "    self.text = text\n",
        "  \n",
        "  def equals(self, word2):\n",
        "    return self.text.lower() == word2.text.lower()"
      ],
      "metadata": {
        "id": "vpjR_MlgxGoj"
      },
      "execution_count": 2,
      "outputs": []
    },
    {
      "cell_type": "markdown",
      "source": [
        "接下來用三個不同的文字字串來製作三個 Word 物件：\n"
      ],
      "metadata": {
        "id": "rvh9n54Qq0nr"
      }
    },
    {
      "cell_type": "code",
      "source": [
        "first = Word('ha')\n",
        "second = Word(\"HA\")\n",
        "third = Word(\"eh\")"
      ],
      "metadata": {
        "id": "seOmMpxNqxyE"
      },
      "execution_count": 3,
      "outputs": []
    },
    {
      "cell_type": "markdown",
      "source": [
        "比較字串 \"ha\" 與 \"HA\" 的小寫時，它們是相等的：\n"
      ],
      "metadata": {
        "id": "0sli1nborKjN"
      }
    },
    {
      "cell_type": "code",
      "source": [
        "first.equals(second)"
      ],
      "metadata": {
        "id": "9RCP1VaNrUeE",
        "outputId": "649fe0ea-676a-427e-de08-cf6201d2490a",
        "colab": {
          "base_uri": "https://localhost:8080/"
        }
      },
      "execution_count": 4,
      "outputs": [
        {
          "output_type": "execute_result",
          "data": {
            "text/plain": [
              "True"
            ]
          },
          "metadata": {},
          "execution_count": 4
        }
      ]
    },
    {
      "cell_type": "markdown",
      "source": [
        "但是字串 \"eh\" 與 \"ha\" 不相等"
      ],
      "metadata": {
        "id": "eLtmtXpRrb97"
      }
    },
    {
      "cell_type": "code",
      "source": [
        "first.equals(third)"
      ],
      "metadata": {
        "id": "-Pa9T3r1rbRW",
        "outputId": "a1f65f62-296d-4279-bf8b-b8a844a2454b",
        "colab": {
          "base_uri": "https://localhost:8080/"
        }
      },
      "execution_count": 5,
      "outputs": [
        {
          "output_type": "execute_result",
          "data": {
            "text/plain": [
              "False"
            ]
          },
          "metadata": {},
          "execution_count": 5
        }
      ]
    },
    {
      "cell_type": "markdown",
      "source": [
        "我們剛才定義 equals() 方法來進行小寫轉換與比較。如果我們可以像 Python 的內建型態一樣直接使用 if first == second 這種寫法就好了，我們來完成它。我們將 equals() 方法改為特殊名稱 __eq __() (很快你就會知道原因了)："
      ],
      "metadata": {
        "id": "QH39fy_Q0rOd"
      }
    },
    {
      "cell_type": "code",
      "source": [
        "class Word():\n",
        "  def __init__(self, text):\n",
        "    self.text = text\n",
        "  def __eq__(self, word2):\n",
        "    return self.text.lower() == word2.text.lower()"
      ],
      "metadata": {
        "id": "ZOyMhWyirlJM"
      },
      "execution_count": 6,
      "outputs": []
    },
    {
      "cell_type": "markdown",
      "source": [
        "看看它能不能運作："
      ],
      "metadata": {
        "id": "enBoA1942DC2"
      }
    },
    {
      "cell_type": "code",
      "source": [
        "first = Word('ha')\n",
        "second = Word('HA')\n",
        "third = Word('eh')\n",
        "first == second"
      ],
      "metadata": {
        "id": "-i1xvy7n2HC7",
        "outputId": "cfbfa393-15fb-4992-bd8c-8c7bb4f3b442",
        "colab": {
          "base_uri": "https://localhost:8080/"
        }
      },
      "execution_count": 7,
      "outputs": [
        {
          "output_type": "execute_result",
          "data": {
            "text/plain": [
              "True"
            ]
          },
          "metadata": {},
          "execution_count": 7
        }
      ]
    },
    {
      "cell_type": "code",
      "source": [
        "first == third"
      ],
      "metadata": {
        "id": "elOdlBCi2V-t",
        "outputId": "54034606-aa41-4a65-a0e9-ce13b25a4449",
        "colab": {
          "base_uri": "https://localhost:8080/"
        }
      },
      "execution_count": 8,
      "outputs": [
        {
          "output_type": "execute_result",
          "data": {
            "text/plain": [
              "False"
            ]
          },
          "metadata": {},
          "execution_count": 8
        }
      ]
    },
    {
      "cell_type": "markdown",
      "source": [
        "好神奇！ 我們只要使用 Python 測試相等與否的特殊方法名稱 __eq __() 就可以做到了。\n",
        "以下為最實用的魔術方法名稱：\n",
        "\n",
        "\n",
        "```\n",
        "# 進行比較的魔術方法\n",
        "# 方法           說明\n",
        "__eq__(self, other)  self == other\n",
        "__ne__(self, other)  self != other\n",
        "__lt__(self, other)  self < other\n",
        "__gt__(self, other)  self > other\n",
        "__le__(self, other)  self <= other\n",
        "__ge__(self, other)  self >= other\n",
        "\n",
        "```\n",
        "\n"
      ],
      "metadata": {
        "id": "yOxQhekl2jD0"
      }
    },
    {
      "cell_type": "markdown",
      "source": [
        "\n",
        "\n",
        "```\n",
        "# 進行運算的魔術方法\n",
        "# 方法           說明\n",
        "__add__(self, other)  self + other\n",
        "__sub__(self, other)  self - other\n",
        "__mul__(self, other)  self * other\n",
        "__floordiv__(self, other)  self // other\n",
        "__truediv__(self, other)  self / other\n",
        "__mod__(self, other)  self % other\n",
        "__pow__(self, other)  self ** other\n",
        "```\n",
        "\n"
      ],
      "metadata": {
        "id": "cIGq4ZZI396u"
      }
    },
    {
      "cell_type": "markdown",
      "source": [
        "\\+ (魔術方法 \\_\\_add\\_\\_()) 與 - (魔術方法 \\_\\_sub\\_\\_())等數學運算子不是只能用來處理數字，舉例來說，Python 字串物件可使用 + 來串接，用 * 來做重複。此外還有許多魔術方法可用，請參考線上的 [特殊方法名稱文件](https://bit.ly/pydocs-smn)，以下還有最常見的幾個：\n",
        "\n",
        "\n",
        "```\n",
        "# 方法\n",
        "__str__(self)  str(self)\n",
        "__repr__(self)  repr(self)\n",
        "__len__(self)  len(self)\n",
        "```\n",
        "\n"
      ],
      "metadata": {
        "id": "gmPj-GcG5CDq"
      }
    },
    {
      "cell_type": "markdown",
      "source": [
        "除了 \\_\\_init\\_\\_() 之外，你也會經常在自己的方法裡面使用 \\_\\_str\\_\\_()，它是讓你印出自己的物件的方式。print()、str() 與字串格式化程式都經常使用它，之後會介紹。\n",
        "互動式解譯器使用 \\_\\_repr\\_\\_() 函式將變數 echo 至輸出。如果你沒有定義 \\_\\_str\\_\\_() 或 \\_\\_repr\\_\\_()，你會得到你的物件的 Python 預設字串版本："
      ],
      "metadata": {
        "id": "cqVvoiHk7B_d"
      }
    },
    {
      "cell_type": "code",
      "source": [
        "first = Word('ha')\n",
        "first"
      ],
      "metadata": {
        "id": "KkHBj5YH42jS",
        "outputId": "cc7b573c-393d-4d48-c0a1-31596c3cd1b5",
        "colab": {
          "base_uri": "https://localhost:8080/"
        }
      },
      "execution_count": 9,
      "outputs": [
        {
          "output_type": "execute_result",
          "data": {
            "text/plain": [
              "<__main__.Word at 0x7fdb058dcd90>"
            ]
          },
          "metadata": {},
          "execution_count": 9
        }
      ]
    },
    {
      "cell_type": "code",
      "source": [
        "print(first)"
      ],
      "metadata": {
        "id": "Q3Ag0tij8QJ8",
        "outputId": "60f1650b-31e4-4abe-adc6-8063fbe62b10",
        "colab": {
          "base_uri": "https://localhost:8080/"
        }
      },
      "execution_count": 10,
      "outputs": [
        {
          "output_type": "stream",
          "name": "stdout",
          "text": [
            "<__main__.Word object at 0x7fdb058dcd90>\n"
          ]
        }
      ]
    },
    {
      "cell_type": "markdown",
      "source": [
        "我們將 \\_\\_str\\_\\_() 與 \\_\\_repr\\_\\_() 方法加入 Word 類別，讓它更完美："
      ],
      "metadata": {
        "id": "04FADtgm8R7r"
      }
    },
    {
      "cell_type": "code",
      "source": [
        "class Word():\n",
        "  def __init__(self, text):\n",
        "    self.text = text\n",
        "  def __eq__(self, word2):\n",
        "    return self.text.lower() == word2.text.lower()\n",
        "  def __str__(self):\n",
        "    return self.text\n",
        "  def __repr__(self):\n",
        "    return 'Word(\"' + self.text + '\")'"
      ],
      "metadata": {
        "id": "_cu6We_s8gGq"
      },
      "execution_count": 11,
      "outputs": []
    },
    {
      "cell_type": "code",
      "source": [
        "first = Word('ha')\n",
        "first"
      ],
      "metadata": {
        "id": "jgZ6tieo9OlE",
        "outputId": "23997d22-617c-45ce-f45b-1c808bca529e",
        "colab": {
          "base_uri": "https://localhost:8080/"
        }
      },
      "execution_count": 12,
      "outputs": [
        {
          "output_type": "execute_result",
          "data": {
            "text/plain": [
              "Word(\"ha\")"
            ]
          },
          "metadata": {},
          "execution_count": 12
        }
      ]
    },
    {
      "cell_type": "code",
      "source": [
        "print(first)"
      ],
      "metadata": {
        "id": "uBDqEeWF9dXH",
        "outputId": "d13d3b9f-453a-4ef7-8887-8bbd26306631",
        "colab": {
          "base_uri": "https://localhost:8080/"
        }
      },
      "execution_count": 13,
      "outputs": [
        {
          "output_type": "stream",
          "name": "stdout",
          "text": [
            "ha\n"
          ]
        }
      ]
    },
    {
      "cell_type": "markdown",
      "source": [
        "## 聚合與組合"
      ],
      "metadata": {
        "id": "Jc235yI39wF0"
      }
    },
    {
      "cell_type": "code",
      "source": [
        ""
      ],
      "metadata": {
        "id": "zzDoHjyE90Er"
      },
      "execution_count": null,
      "outputs": []
    }
  ]
}