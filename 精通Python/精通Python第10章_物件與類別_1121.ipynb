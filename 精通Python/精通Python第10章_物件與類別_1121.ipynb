{
  "nbformat": 4,
  "nbformat_minor": 0,
  "metadata": {
    "colab": {
      "name": "精通Python第10章_物件與類別_1121.ipynb",
      "provenance": [],
      "authorship_tag": "ABX9TyOVsdRLt9xHuwoVmJ6MSFuV",
      "include_colab_link": true
    },
    "kernelspec": {
      "name": "python3",
      "display_name": "Python 3"
    },
    "language_info": {
      "name": "python"
    }
  },
  "cells": [
    {
      "cell_type": "markdown",
      "metadata": {
        "id": "view-in-github",
        "colab_type": "text"
      },
      "source": [
        "<a href=\"https://colab.research.google.com/github/Whaleman0423/-Python-book-practice/blob/main/%E7%B2%BE%E9%80%9APython/%E7%B2%BE%E9%80%9APython%E7%AC%AC10%E7%AB%A0_%E7%89%A9%E4%BB%B6%E8%88%87%E9%A1%9E%E5%88%A5_1121.ipynb\" target=\"_parent\"><img src=\"https://colab.research.google.com/assets/colab-badge.svg\" alt=\"Open In Colab\"/></a>"
      ]
    },
    {
      "cell_type": "markdown",
      "metadata": {
        "id": "g4GxAgvvLjGd"
      },
      "source": [
        "# 簡單的物件\n",
        "## 用 class 定義類別"
      ]
    },
    {
      "cell_type": "code",
      "metadata": {
        "id": "N2i2CUlGL75j",
        "colab": {
          "base_uri": "https://localhost:8080/"
        },
        "outputId": "0623ed27-0f69-4909-eb04-4922bf5956b8"
      },
      "source": [
        "class Cat():\n",
        "  pass\n",
        "Cat"
      ],
      "execution_count": 1,
      "outputs": [
        {
          "output_type": "execute_result",
          "data": {
            "text/plain": [
              "__main__.Cat"
            ]
          },
          "metadata": {},
          "execution_count": 1
        }
      ]
    },
    {
      "cell_type": "code",
      "metadata": {
        "id": "rd4VQT3TPR73",
        "colab": {
          "base_uri": "https://localhost:8080/"
        },
        "outputId": "4213973f-2f01-4ab7-b3be-12a1d8bff4af"
      },
      "source": [
        "Cat()"
      ],
      "execution_count": 2,
      "outputs": [
        {
          "output_type": "execute_result",
          "data": {
            "text/plain": [
              "<__main__.Cat at 0x7f6e22f9d610>"
            ]
          },
          "metadata": {},
          "execution_count": 2
        }
      ]
    },
    {
      "cell_type": "markdown",
      "metadata": {
        "id": "YTKVoqdfMWn0"
      },
      "source": [
        "## 也可以這樣寫"
      ]
    },
    {
      "cell_type": "code",
      "metadata": {
        "id": "SzEcMM_YMaNC",
        "colab": {
          "base_uri": "https://localhost:8080/"
        },
        "outputId": "224f94aa-c130-4f10-a5b4-a58048bf2570"
      },
      "source": [
        "class Cat:   # 不加括號\n",
        "  pass\n",
        "Cat"
      ],
      "execution_count": 3,
      "outputs": [
        {
          "output_type": "execute_result",
          "data": {
            "text/plain": [
              "__main__.Cat"
            ]
          },
          "metadata": {},
          "execution_count": 3
        }
      ]
    },
    {
      "cell_type": "code",
      "metadata": {
        "id": "fE7seqqOPUmZ",
        "colab": {
          "base_uri": "https://localhost:8080/"
        },
        "outputId": "89f13c5f-8a77-419a-99bf-7bfe0e823de9"
      },
      "source": [
        "Cat()"
      ],
      "execution_count": 4,
      "outputs": [
        {
          "output_type": "execute_result",
          "data": {
            "text/plain": [
              "<__main__.Cat at 0x7f6e26a1e590>"
            ]
          },
          "metadata": {},
          "execution_count": 4
        }
      ]
    },
    {
      "cell_type": "markdown",
      "metadata": {
        "id": "l4vjnxr_Mf9B"
      },
      "source": [
        "### 需用 pass 來指出這個類別是空的 此為最精簡的物件建立"
      ]
    },
    {
      "cell_type": "code",
      "metadata": {
        "id": "hB5b05YAMu_S"
      },
      "source": [
        "a_cat = Cat()\n",
        "another_cat = Cat()"
      ],
      "execution_count": 5,
      "outputs": []
    },
    {
      "cell_type": "code",
      "metadata": {
        "id": "37Dr7BSQPf9l",
        "colab": {
          "base_uri": "https://localhost:8080/"
        },
        "outputId": "c28e8edb-8fcd-4881-9f12-dedae1e08a52"
      },
      "source": [
        "class Cat:\n",
        "  pass\n",
        "\n",
        "a_cat = Cat()\n",
        "a_cat"
      ],
      "execution_count": 6,
      "outputs": [
        {
          "output_type": "execute_result",
          "data": {
            "text/plain": [
              "<__main__.Cat at 0x7f6e22fb9e50>"
            ]
          },
          "metadata": {},
          "execution_count": 6
        }
      ]
    },
    {
      "cell_type": "code",
      "metadata": {
        "id": "i2IPAzZlP2Xg",
        "colab": {
          "base_uri": "https://localhost:8080/"
        },
        "outputId": "243df854-6f5f-4d1b-85ca-b30b23a7fee8"
      },
      "source": [
        "another_cat = Cat()\n",
        "another_cat"
      ],
      "execution_count": 7,
      "outputs": [
        {
          "output_type": "execute_result",
          "data": {
            "text/plain": [
              "<__main__.Cat at 0x7f6e22fab910>"
            ]
          },
          "metadata": {},
          "execution_count": 7
        }
      ]
    },
    {
      "cell_type": "markdown",
      "metadata": {
        "id": "FOWY-dehQFsv"
      },
      "source": [
        "## 屬性\n",
        "### 將一些屬性指派給第一個物件"
      ]
    },
    {
      "cell_type": "code",
      "metadata": {
        "id": "MAhAfBFyQL6T"
      },
      "source": [
        "a_cat.age = 3\n",
        "a_cat.name = \"Mr.Fuzzybuttons\"\n",
        "a_cat.nemesis = another_cat"
      ],
      "execution_count": 8,
      "outputs": []
    },
    {
      "cell_type": "markdown",
      "metadata": {
        "id": "ZFZ9dkdpQdW7"
      },
      "source": [
        "#### 讀取上面給的屬性"
      ]
    },
    {
      "cell_type": "code",
      "metadata": {
        "id": "lvA2AieeQkPs",
        "colab": {
          "base_uri": "https://localhost:8080/"
        },
        "outputId": "f80c7eff-1fbe-485e-bf5b-96884636c200"
      },
      "source": [
        "a_cat.age"
      ],
      "execution_count": 9,
      "outputs": [
        {
          "output_type": "execute_result",
          "data": {
            "text/plain": [
              "3"
            ]
          },
          "metadata": {},
          "execution_count": 9
        }
      ]
    },
    {
      "cell_type": "code",
      "metadata": {
        "id": "YLcdt81YQmbx",
        "colab": {
          "base_uri": "https://localhost:8080/",
          "height": 35
        },
        "outputId": "1371fc2a-0655-481a-e651-70afab8a8040"
      },
      "source": [
        "a_cat.name"
      ],
      "execution_count": 10,
      "outputs": [
        {
          "output_type": "execute_result",
          "data": {
            "application/vnd.google.colaboratory.intrinsic+json": {
              "type": "string"
            },
            "text/plain": [
              "'Mr.Fuzzybuttons'"
            ]
          },
          "metadata": {},
          "execution_count": 10
        }
      ]
    },
    {
      "cell_type": "code",
      "metadata": {
        "id": "BJMeStjOQpHF",
        "colab": {
          "base_uri": "https://localhost:8080/"
        },
        "outputId": "94391b21-97e3-4810-9577-48b82a955c3a"
      },
      "source": [
        "a_cat.nemesis   # 引用另一個 Cat 物件的屬性"
      ],
      "execution_count": 11,
      "outputs": [
        {
          "output_type": "execute_result",
          "data": {
            "text/plain": [
              "<__main__.Cat at 0x7f6e22fab910>"
            ]
          },
          "metadata": {},
          "execution_count": 11
        }
      ]
    },
    {
      "cell_type": "code",
      "metadata": {
        "id": "hYpQIT_PQsTx",
        "colab": {
          "base_uri": "https://localhost:8080/",
          "height": 167
        },
        "outputId": "ce55563e-da80-4bcc-aeb0-bca3a5b530dd"
      },
      "source": [
        "a_cat.nemesis.name  # 另一個 Cat 物件尚未有 name 屬性"
      ],
      "execution_count": 12,
      "outputs": [
        {
          "output_type": "error",
          "ename": "AttributeError",
          "evalue": "ignored",
          "traceback": [
            "\u001b[0;31m---------------------------------------------------------------------------\u001b[0m",
            "\u001b[0;31mAttributeError\u001b[0m                            Traceback (most recent call last)",
            "\u001b[0;32m<ipython-input-12-6c51d3a1c889>\u001b[0m in \u001b[0;36m<module>\u001b[0;34m()\u001b[0m\n\u001b[0;32m----> 1\u001b[0;31m \u001b[0ma_cat\u001b[0m\u001b[0;34m.\u001b[0m\u001b[0mnemesis\u001b[0m\u001b[0;34m.\u001b[0m\u001b[0mname\u001b[0m  \u001b[0;31m# 另一個 Cat 物件尚未有 name 屬性\u001b[0m\u001b[0;34m\u001b[0m\u001b[0;34m\u001b[0m\u001b[0m\n\u001b[0m",
            "\u001b[0;31mAttributeError\u001b[0m: 'Cat' object has no attribute 'name'"
          ]
        }
      ]
    },
    {
      "cell_type": "code",
      "metadata": {
        "id": "Q-nkIUMiRC7H",
        "colab": {
          "base_uri": "https://localhost:8080/",
          "height": 35
        },
        "outputId": "d60e038f-b383-4865-b6e3-a0c156b4c611"
      },
      "source": [
        "# 為其命名\n",
        "a_cat.nemesis.name = \"Mr. Bigglesworth\"\n",
        "a_cat.nemesis.name"
      ],
      "execution_count": 13,
      "outputs": [
        {
          "output_type": "execute_result",
          "data": {
            "application/vnd.google.colaboratory.intrinsic+json": {
              "type": "string"
            },
            "text/plain": [
              "'Mr. Bigglesworth'"
            ]
          },
          "metadata": {},
          "execution_count": 13
        }
      ]
    },
    {
      "cell_type": "code",
      "metadata": {
        "id": "zXFZtnszRX22",
        "colab": {
          "base_uri": "https://localhost:8080/",
          "height": 35
        },
        "outputId": "21bfa23f-ced3-49f0-849b-6e27ee064a1a"
      },
      "source": [
        "# 另一個貓的 name 屬性是否也有了?\n",
        "another_cat.name"
      ],
      "execution_count": 14,
      "outputs": [
        {
          "output_type": "execute_result",
          "data": {
            "application/vnd.google.colaboratory.intrinsic+json": {
              "type": "string"
            },
            "text/plain": [
              "'Mr. Bigglesworth'"
            ]
          },
          "metadata": {},
          "execution_count": 14
        }
      ]
    },
    {
      "cell_type": "markdown",
      "metadata": {
        "id": "psCyILsSRiR3"
      },
      "source": [
        "## 初始化"
      ]
    },
    {
      "cell_type": "code",
      "metadata": {
        "id": "Pn2DHkvPWgn2"
      },
      "source": [
        "class Cat:\n",
        "  def __init__(self):\n",
        "    pass"
      ],
      "execution_count": 15,
      "outputs": []
    },
    {
      "cell_type": "markdown",
      "metadata": {
        "id": "gU5sPiZYXCBl"
      },
      "source": [
        "### 建立物件 並指派它的屬性"
      ]
    },
    {
      "cell_type": "code",
      "metadata": {
        "id": "1xMLQ4XVXnXR"
      },
      "source": [
        "class Cat():\n",
        "  def __init__(self, name):\n",
        "    self.name = name"
      ],
      "execution_count": 16,
      "outputs": []
    },
    {
      "cell_type": "code",
      "metadata": {
        "id": "HdgSTSXhX62n",
        "outputId": "b3cedc02-a400-4379-c868-24b01f0005d2",
        "colab": {
          "base_uri": "https://localhost:8080/"
        }
      },
      "source": [
        "furball = Cat('Grumpy')\n",
        "furball"
      ],
      "execution_count": 20,
      "outputs": [
        {
          "output_type": "execute_result",
          "data": {
            "text/plain": [
              "<__main__.Cat at 0x7f6e22f38750>"
            ]
          },
          "metadata": {},
          "execution_count": 20
        }
      ]
    },
    {
      "cell_type": "code",
      "metadata": {
        "id": "N2bfcVDYPb6j",
        "outputId": "5747e986-9828-4c1f-b3cc-9632955a6889",
        "colab": {
          "base_uri": "https://localhost:8080/",
          "height": 35
        }
      },
      "source": [
        "furball.name"
      ],
      "execution_count": 21,
      "outputs": [
        {
          "output_type": "execute_result",
          "data": {
            "application/vnd.google.colaboratory.intrinsic+json": {
              "type": "string"
            },
            "text/plain": [
              "'Grumpy'"
            ]
          },
          "metadata": {},
          "execution_count": 21
        }
      ]
    },
    {
      "cell_type": "code",
      "metadata": {
        "id": "MlGRUBCMPetT"
      },
      "source": [
        ""
      ],
      "execution_count": null,
      "outputs": []
    }
  ]
}