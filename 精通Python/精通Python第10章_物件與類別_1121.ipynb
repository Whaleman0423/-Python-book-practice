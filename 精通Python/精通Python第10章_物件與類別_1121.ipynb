{
  "nbformat": 4,
  "nbformat_minor": 0,
  "metadata": {
    "colab": {
      "name": "精通Python第10章_物件與類別_1121.ipynb",
      "provenance": [],
      "authorship_tag": "ABX9TyPwjCaE4hU73DqEeCApM1G7",
      "include_colab_link": true
    },
    "kernelspec": {
      "name": "python3",
      "display_name": "Python 3"
    },
    "language_info": {
      "name": "python"
    }
  },
  "cells": [
    {
      "cell_type": "markdown",
      "metadata": {
        "id": "view-in-github",
        "colab_type": "text"
      },
      "source": [
        "<a href=\"https://colab.research.google.com/github/Whaleman0423/Python/blob/main/%E7%B2%BE%E9%80%9APython/%E7%B2%BE%E9%80%9APython%E7%AC%AC10%E7%AB%A0_%E7%89%A9%E4%BB%B6%E8%88%87%E9%A1%9E%E5%88%A5_1121.ipynb\" target=\"_parent\"><img src=\"https://colab.research.google.com/assets/colab-badge.svg\" alt=\"Open In Colab\"/></a>"
      ]
    },
    {
      "cell_type": "markdown",
      "metadata": {
        "id": "g4GxAgvvLjGd"
      },
      "source": [
        "# 簡單的物件\n",
        "## 用 class 定義類別"
      ]
    },
    {
      "cell_type": "code",
      "metadata": {
        "id": "N2i2CUlGL75j",
        "colab": {
          "base_uri": "https://localhost:8080/"
        },
        "outputId": "0623ed27-0f69-4909-eb04-4922bf5956b8"
      },
      "source": [
        "class Cat():\n",
        "  pass\n",
        "Cat"
      ],
      "execution_count": null,
      "outputs": [
        {
          "output_type": "execute_result",
          "data": {
            "text/plain": [
              "__main__.Cat"
            ]
          },
          "metadata": {},
          "execution_count": 1
        }
      ]
    },
    {
      "cell_type": "code",
      "metadata": {
        "id": "rd4VQT3TPR73",
        "colab": {
          "base_uri": "https://localhost:8080/"
        },
        "outputId": "4213973f-2f01-4ab7-b3be-12a1d8bff4af"
      },
      "source": [
        "Cat()"
      ],
      "execution_count": null,
      "outputs": [
        {
          "output_type": "execute_result",
          "data": {
            "text/plain": [
              "<__main__.Cat at 0x7f6e22f9d610>"
            ]
          },
          "metadata": {},
          "execution_count": 2
        }
      ]
    },
    {
      "cell_type": "markdown",
      "metadata": {
        "id": "YTKVoqdfMWn0"
      },
      "source": [
        "## 也可以這樣寫"
      ]
    },
    {
      "cell_type": "code",
      "metadata": {
        "id": "SzEcMM_YMaNC",
        "colab": {
          "base_uri": "https://localhost:8080/"
        },
        "outputId": "224f94aa-c130-4f10-a5b4-a58048bf2570"
      },
      "source": [
        "class Cat:   # 不加括號\n",
        "  pass\n",
        "Cat"
      ],
      "execution_count": null,
      "outputs": [
        {
          "output_type": "execute_result",
          "data": {
            "text/plain": [
              "__main__.Cat"
            ]
          },
          "metadata": {},
          "execution_count": 3
        }
      ]
    },
    {
      "cell_type": "code",
      "metadata": {
        "id": "fE7seqqOPUmZ",
        "colab": {
          "base_uri": "https://localhost:8080/"
        },
        "outputId": "89f13c5f-8a77-419a-99bf-7bfe0e823de9"
      },
      "source": [
        "Cat()"
      ],
      "execution_count": null,
      "outputs": [
        {
          "output_type": "execute_result",
          "data": {
            "text/plain": [
              "<__main__.Cat at 0x7f6e26a1e590>"
            ]
          },
          "metadata": {},
          "execution_count": 4
        }
      ]
    },
    {
      "cell_type": "markdown",
      "metadata": {
        "id": "l4vjnxr_Mf9B"
      },
      "source": [
        "### 需用 pass 來指出這個類別是空的 此為最精簡的物件建立"
      ]
    },
    {
      "cell_type": "code",
      "metadata": {
        "id": "hB5b05YAMu_S"
      },
      "source": [
        "a_cat = Cat()\n",
        "another_cat = Cat()"
      ],
      "execution_count": null,
      "outputs": []
    },
    {
      "cell_type": "code",
      "metadata": {
        "id": "37Dr7BSQPf9l",
        "colab": {
          "base_uri": "https://localhost:8080/"
        },
        "outputId": "c28e8edb-8fcd-4881-9f12-dedae1e08a52"
      },
      "source": [
        "class Cat:\n",
        "  pass\n",
        "\n",
        "a_cat = Cat()\n",
        "a_cat"
      ],
      "execution_count": null,
      "outputs": [
        {
          "output_type": "execute_result",
          "data": {
            "text/plain": [
              "<__main__.Cat at 0x7f6e22fb9e50>"
            ]
          },
          "metadata": {},
          "execution_count": 6
        }
      ]
    },
    {
      "cell_type": "code",
      "metadata": {
        "id": "i2IPAzZlP2Xg",
        "colab": {
          "base_uri": "https://localhost:8080/"
        },
        "outputId": "243df854-6f5f-4d1b-85ca-b30b23a7fee8"
      },
      "source": [
        "another_cat = Cat()\n",
        "another_cat"
      ],
      "execution_count": null,
      "outputs": [
        {
          "output_type": "execute_result",
          "data": {
            "text/plain": [
              "<__main__.Cat at 0x7f6e22fab910>"
            ]
          },
          "metadata": {},
          "execution_count": 7
        }
      ]
    },
    {
      "cell_type": "markdown",
      "metadata": {
        "id": "FOWY-dehQFsv"
      },
      "source": [
        "## 屬性\n",
        "### 將一些屬性指派給第一個物件"
      ]
    },
    {
      "cell_type": "code",
      "metadata": {
        "id": "MAhAfBFyQL6T"
      },
      "source": [
        "a_cat.age = 3\n",
        "a_cat.name = \"Mr.Fuzzybuttons\"\n",
        "a_cat.nemesis = another_cat"
      ],
      "execution_count": null,
      "outputs": []
    },
    {
      "cell_type": "markdown",
      "metadata": {
        "id": "ZFZ9dkdpQdW7"
      },
      "source": [
        "#### 讀取上面給的屬性"
      ]
    },
    {
      "cell_type": "code",
      "metadata": {
        "id": "lvA2AieeQkPs",
        "colab": {
          "base_uri": "https://localhost:8080/"
        },
        "outputId": "f80c7eff-1fbe-485e-bf5b-96884636c200"
      },
      "source": [
        "a_cat.age"
      ],
      "execution_count": null,
      "outputs": [
        {
          "output_type": "execute_result",
          "data": {
            "text/plain": [
              "3"
            ]
          },
          "metadata": {},
          "execution_count": 9
        }
      ]
    },
    {
      "cell_type": "code",
      "metadata": {
        "id": "YLcdt81YQmbx",
        "colab": {
          "base_uri": "https://localhost:8080/",
          "height": 35
        },
        "outputId": "1371fc2a-0655-481a-e651-70afab8a8040"
      },
      "source": [
        "a_cat.name"
      ],
      "execution_count": null,
      "outputs": [
        {
          "output_type": "execute_result",
          "data": {
            "application/vnd.google.colaboratory.intrinsic+json": {
              "type": "string"
            },
            "text/plain": [
              "'Mr.Fuzzybuttons'"
            ]
          },
          "metadata": {},
          "execution_count": 10
        }
      ]
    },
    {
      "cell_type": "code",
      "metadata": {
        "id": "BJMeStjOQpHF",
        "colab": {
          "base_uri": "https://localhost:8080/"
        },
        "outputId": "94391b21-97e3-4810-9577-48b82a955c3a"
      },
      "source": [
        "a_cat.nemesis   # 引用另一個 Cat 物件的屬性"
      ],
      "execution_count": null,
      "outputs": [
        {
          "output_type": "execute_result",
          "data": {
            "text/plain": [
              "<__main__.Cat at 0x7f6e22fab910>"
            ]
          },
          "metadata": {},
          "execution_count": 11
        }
      ]
    },
    {
      "cell_type": "code",
      "metadata": {
        "id": "hYpQIT_PQsTx",
        "colab": {
          "base_uri": "https://localhost:8080/",
          "height": 167
        },
        "outputId": "ce55563e-da80-4bcc-aeb0-bca3a5b530dd"
      },
      "source": [
        "a_cat.nemesis.name  # 另一個 Cat 物件尚未有 name 屬性"
      ],
      "execution_count": null,
      "outputs": [
        {
          "output_type": "error",
          "ename": "AttributeError",
          "evalue": "ignored",
          "traceback": [
            "\u001b[0;31m---------------------------------------------------------------------------\u001b[0m",
            "\u001b[0;31mAttributeError\u001b[0m                            Traceback (most recent call last)",
            "\u001b[0;32m<ipython-input-12-6c51d3a1c889>\u001b[0m in \u001b[0;36m<module>\u001b[0;34m()\u001b[0m\n\u001b[0;32m----> 1\u001b[0;31m \u001b[0ma_cat\u001b[0m\u001b[0;34m.\u001b[0m\u001b[0mnemesis\u001b[0m\u001b[0;34m.\u001b[0m\u001b[0mname\u001b[0m  \u001b[0;31m# 另一個 Cat 物件尚未有 name 屬性\u001b[0m\u001b[0;34m\u001b[0m\u001b[0;34m\u001b[0m\u001b[0m\n\u001b[0m",
            "\u001b[0;31mAttributeError\u001b[0m: 'Cat' object has no attribute 'name'"
          ]
        }
      ]
    },
    {
      "cell_type": "code",
      "metadata": {
        "id": "Q-nkIUMiRC7H",
        "colab": {
          "base_uri": "https://localhost:8080/",
          "height": 35
        },
        "outputId": "d60e038f-b383-4865-b6e3-a0c156b4c611"
      },
      "source": [
        "# 為其命名\n",
        "a_cat.nemesis.name = \"Mr. Bigglesworth\"\n",
        "a_cat.nemesis.name"
      ],
      "execution_count": null,
      "outputs": [
        {
          "output_type": "execute_result",
          "data": {
            "application/vnd.google.colaboratory.intrinsic+json": {
              "type": "string"
            },
            "text/plain": [
              "'Mr. Bigglesworth'"
            ]
          },
          "metadata": {},
          "execution_count": 13
        }
      ]
    },
    {
      "cell_type": "code",
      "metadata": {
        "id": "zXFZtnszRX22",
        "colab": {
          "base_uri": "https://localhost:8080/",
          "height": 35
        },
        "outputId": "21bfa23f-ced3-49f0-849b-6e27ee064a1a"
      },
      "source": [
        "# 另一個貓的 name 屬性是否也有了?\n",
        "another_cat.name"
      ],
      "execution_count": null,
      "outputs": [
        {
          "output_type": "execute_result",
          "data": {
            "application/vnd.google.colaboratory.intrinsic+json": {
              "type": "string"
            },
            "text/plain": [
              "'Mr. Bigglesworth'"
            ]
          },
          "metadata": {},
          "execution_count": 14
        }
      ]
    },
    {
      "cell_type": "markdown",
      "metadata": {
        "id": "psCyILsSRiR3"
      },
      "source": [
        "## 初始化"
      ]
    },
    {
      "cell_type": "code",
      "metadata": {
        "id": "Pn2DHkvPWgn2"
      },
      "source": [
        "class Cat:\n",
        "  def __init__(self):\n",
        "    pass"
      ],
      "execution_count": null,
      "outputs": []
    },
    {
      "cell_type": "markdown",
      "metadata": {
        "id": "gU5sPiZYXCBl"
      },
      "source": [
        "### 建立物件 並指派它的屬性"
      ]
    },
    {
      "cell_type": "code",
      "metadata": {
        "id": "1xMLQ4XVXnXR"
      },
      "source": [
        "class Cat():\n",
        "  def __init__(self, name):\n",
        "    self.name = name"
      ],
      "execution_count": null,
      "outputs": []
    },
    {
      "cell_type": "code",
      "metadata": {
        "id": "HdgSTSXhX62n",
        "colab": {
          "base_uri": "https://localhost:8080/"
        },
        "outputId": "b3cedc02-a400-4379-c868-24b01f0005d2"
      },
      "source": [
        "furball = Cat('Grumpy')\n",
        "furball"
      ],
      "execution_count": null,
      "outputs": [
        {
          "output_type": "execute_result",
          "data": {
            "text/plain": [
              "<__main__.Cat at 0x7f6e22f38750>"
            ]
          },
          "metadata": {},
          "execution_count": 20
        }
      ]
    },
    {
      "cell_type": "code",
      "metadata": {
        "id": "N2bfcVDYPb6j",
        "colab": {
          "base_uri": "https://localhost:8080/",
          "height": 35
        },
        "outputId": "5747e986-9828-4c1f-b3cc-9632955a6889"
      },
      "source": [
        "furball.name"
      ],
      "execution_count": null,
      "outputs": [
        {
          "output_type": "execute_result",
          "data": {
            "application/vnd.google.colaboratory.intrinsic+json": {
              "type": "string"
            },
            "text/plain": [
              "'Grumpy'"
            ]
          },
          "metadata": {},
          "execution_count": 21
        }
      ]
    },
    {
      "cell_type": "markdown",
      "metadata": {
        "id": "MlGRUBCMPetT"
      },
      "source": [
        "## 在回顧一下"
      ]
    },
    {
      "cell_type": "code",
      "metadata": {
        "id": "da1cayGIMKFN"
      },
      "source": [
        "class Cat():\n",
        "  pass"
      ],
      "execution_count": 1,
      "outputs": []
    },
    {
      "cell_type": "code",
      "metadata": {
        "id": "d89S-c5cMOWl",
        "outputId": "ea52989d-4b1e-4907-9d5c-f50bb24db950",
        "colab": {
          "base_uri": "https://localhost:8080/"
        }
      },
      "source": [
        "Cat()"
      ],
      "execution_count": 2,
      "outputs": [
        {
          "output_type": "execute_result",
          "data": {
            "text/plain": [
              "<__main__.Cat at 0x7fa70b609410>"
            ]
          },
          "metadata": {},
          "execution_count": 2
        }
      ]
    },
    {
      "cell_type": "code",
      "metadata": {
        "id": "EDz655UgMTQl"
      },
      "source": [
        "class Cat:\n",
        "  pass"
      ],
      "execution_count": 4,
      "outputs": []
    },
    {
      "cell_type": "code",
      "metadata": {
        "id": "6g5WiHLnMW3D",
        "outputId": "46e63937-453e-4df6-8c36-24d5c9d968f4",
        "colab": {
          "base_uri": "https://localhost:8080/"
        }
      },
      "source": [
        "Cat"
      ],
      "execution_count": 5,
      "outputs": [
        {
          "output_type": "execute_result",
          "data": {
            "text/plain": [
              "__main__.Cat"
            ]
          },
          "metadata": {},
          "execution_count": 5
        }
      ]
    },
    {
      "cell_type": "code",
      "metadata": {
        "id": "PihktUaFMbnR"
      },
      "source": [
        "a_cat = Cat()\n",
        "another_cat = Cat()"
      ],
      "execution_count": 6,
      "outputs": []
    },
    {
      "cell_type": "code",
      "metadata": {
        "id": "d3Ko6RsWMkoC",
        "outputId": "09f7ada1-8410-4e4b-9ecb-6def904e0326",
        "colab": {
          "base_uri": "https://localhost:8080/"
        }
      },
      "source": [
        "a_cat"
      ],
      "execution_count": 7,
      "outputs": [
        {
          "output_type": "execute_result",
          "data": {
            "text/plain": [
              "<__main__.Cat at 0x7fa70831b6d0>"
            ]
          },
          "metadata": {},
          "execution_count": 7
        }
      ]
    },
    {
      "cell_type": "code",
      "metadata": {
        "id": "LRrTIfQyMnEB",
        "outputId": "94c3ec87-6036-430b-e35f-eb0ed05980e4",
        "colab": {
          "base_uri": "https://localhost:8080/"
        }
      },
      "source": [
        "another_cat"
      ],
      "execution_count": 8,
      "outputs": [
        {
          "output_type": "execute_result",
          "data": {
            "text/plain": [
              "<__main__.Cat at 0x7fa70831b850>"
            ]
          },
          "metadata": {},
          "execution_count": 8
        }
      ]
    },
    {
      "cell_type": "code",
      "metadata": {
        "id": "qMPelU6KMpAN"
      },
      "source": [
        "a_cat.age = 3"
      ],
      "execution_count": 9,
      "outputs": []
    },
    {
      "cell_type": "code",
      "metadata": {
        "id": "2KR94dIlMy9g",
        "outputId": "cbb13530-9948-4d42-964e-c6629abf632f",
        "colab": {
          "base_uri": "https://localhost:8080/"
        }
      },
      "source": [
        "a_cat.age"
      ],
      "execution_count": 10,
      "outputs": [
        {
          "output_type": "execute_result",
          "data": {
            "text/plain": [
              "3"
            ]
          },
          "metadata": {},
          "execution_count": 10
        }
      ]
    },
    {
      "cell_type": "code",
      "metadata": {
        "id": "ZRCJIK8KM1Jr"
      },
      "source": [
        "a_cat.name = 'Mr. Fuzzybuttons'\n",
        "a_cat.nemesis = another_cat"
      ],
      "execution_count": 11,
      "outputs": []
    },
    {
      "cell_type": "code",
      "metadata": {
        "id": "ixbJsoT7NFzN",
        "outputId": "d1178386-e930-4018-b1d6-3d3f79737459",
        "colab": {
          "base_uri": "https://localhost:8080/",
          "height": 35
        }
      },
      "source": [
        "a_cat.name"
      ],
      "execution_count": 12,
      "outputs": [
        {
          "output_type": "execute_result",
          "data": {
            "application/vnd.google.colaboratory.intrinsic+json": {
              "type": "string"
            },
            "text/plain": [
              "'Mr. Fuzzybuttons'"
            ]
          },
          "metadata": {},
          "execution_count": 12
        }
      ]
    },
    {
      "cell_type": "code",
      "metadata": {
        "id": "6NFiDIFlNHmU",
        "outputId": "8187b236-cb42-4cf6-da57-22dbd489e763",
        "colab": {
          "base_uri": "https://localhost:8080/"
        }
      },
      "source": [
        "a_cat.nemesis"
      ],
      "execution_count": 13,
      "outputs": [
        {
          "output_type": "execute_result",
          "data": {
            "text/plain": [
              "<__main__.Cat at 0x7fa70831b850>"
            ]
          },
          "metadata": {},
          "execution_count": 13
        }
      ]
    },
    {
      "cell_type": "code",
      "metadata": {
        "id": "fT0rD4xgNKjH",
        "outputId": "2f70b803-e17b-4614-8301-63fc90f1c77f",
        "colab": {
          "base_uri": "https://localhost:8080/",
          "height": 167
        }
      },
      "source": [
        "a_cat.nemesis()"
      ],
      "execution_count": 14,
      "outputs": [
        {
          "output_type": "error",
          "ename": "TypeError",
          "evalue": "ignored",
          "traceback": [
            "\u001b[0;31m---------------------------------------------------------------------------\u001b[0m",
            "\u001b[0;31mTypeError\u001b[0m                                 Traceback (most recent call last)",
            "\u001b[0;32m<ipython-input-14-07ad19fe6961>\u001b[0m in \u001b[0;36m<module>\u001b[0;34m()\u001b[0m\n\u001b[0;32m----> 1\u001b[0;31m \u001b[0ma_cat\u001b[0m\u001b[0;34m.\u001b[0m\u001b[0mnemesis\u001b[0m\u001b[0;34m(\u001b[0m\u001b[0;34m)\u001b[0m\u001b[0;34m\u001b[0m\u001b[0;34m\u001b[0m\u001b[0m\n\u001b[0m",
            "\u001b[0;31mTypeError\u001b[0m: 'Cat' object is not callable"
          ]
        }
      ]
    },
    {
      "cell_type": "code",
      "metadata": {
        "id": "C5B1L9J6Ncxu"
      },
      "source": [
        "class Cat():\n",
        "  def __init__(self, name):\n",
        "    self.name = name"
      ],
      "execution_count": 15,
      "outputs": []
    },
    {
      "cell_type": "code",
      "metadata": {
        "id": "XKFpzgdQNp32"
      },
      "source": [
        "furball = Cat('Grumpy')"
      ],
      "execution_count": 16,
      "outputs": []
    },
    {
      "cell_type": "code",
      "metadata": {
        "id": "koN4DV9GPX4Z",
        "outputId": "7dd7b4c0-dd7c-4387-ae0d-ac54c2215439",
        "colab": {
          "base_uri": "https://localhost:8080/",
          "height": 35
        }
      },
      "source": [
        "furball.name  # Cat('Grumpy').name"
      ],
      "execution_count": 17,
      "outputs": [
        {
          "output_type": "execute_result",
          "data": {
            "application/vnd.google.colaboratory.intrinsic+json": {
              "type": "string"
            },
            "text/plain": [
              "'Grumpy'"
            ]
          },
          "metadata": {},
          "execution_count": 17
        }
      ]
    },
    {
      "cell_type": "code",
      "metadata": {
        "id": "jFmkbNWgPcJm",
        "outputId": "d6d4daf4-5908-4cb2-ff21-b92edc04b616",
        "colab": {
          "base_uri": "https://localhost:8080/",
          "height": 167
        }
      },
      "source": [
        "furball().name   # Cat('Grumpy')().name"
      ],
      "execution_count": 19,
      "outputs": [
        {
          "output_type": "error",
          "ename": "TypeError",
          "evalue": "ignored",
          "traceback": [
            "\u001b[0;31m---------------------------------------------------------------------------\u001b[0m",
            "\u001b[0;31mTypeError\u001b[0m                                 Traceback (most recent call last)",
            "\u001b[0;32m<ipython-input-19-ced41245e140>\u001b[0m in \u001b[0;36m<module>\u001b[0;34m()\u001b[0m\n\u001b[0;32m----> 1\u001b[0;31m \u001b[0mfurball\u001b[0m\u001b[0;34m(\u001b[0m\u001b[0;34m)\u001b[0m\u001b[0;34m.\u001b[0m\u001b[0mname\u001b[0m   \u001b[0;31m# Cat('Grumpy')()\u001b[0m\u001b[0;34m\u001b[0m\u001b[0;34m\u001b[0m\u001b[0m\n\u001b[0m",
            "\u001b[0;31mTypeError\u001b[0m: 'Cat' object is not callable"
          ]
        }
      ]
    },
    {
      "cell_type": "code",
      "metadata": {
        "id": "lX8R3jBUPq-L",
        "outputId": "2066e9ec-894c-41e3-da6b-e3e4352d6427",
        "colab": {
          "base_uri": "https://localhost:8080/"
        }
      },
      "source": [
        "print('Our latest addition: ', furball.name)"
      ],
      "execution_count": 20,
      "outputs": [
        {
          "output_type": "stream",
          "name": "stdout",
          "text": [
            "Our latest addition:  Grumpy\n"
          ]
        }
      ]
    },
    {
      "cell_type": "code",
      "metadata": {
        "id": "F3XD5MEPQohf",
        "outputId": "d4673403-c736-4d00-b1b1-26fd3376f593",
        "colab": {
          "base_uri": "https://localhost:8080/",
          "height": 35
        }
      },
      "source": [
        "class fake_cat():\n",
        "  def __init__(fake_self, name):\n",
        "    fake_self.name = name\n",
        "Faker = fake_cat(\"Tom\")\n",
        "Faker.name"
      ],
      "execution_count": 21,
      "outputs": [
        {
          "output_type": "execute_result",
          "data": {
            "application/vnd.google.colaboratory.intrinsic+json": {
              "type": "string"
            },
            "text/plain": [
              "'Tom'"
            ]
          },
          "metadata": {},
          "execution_count": 21
        }
      ]
    },
    {
      "cell_type": "code",
      "metadata": {
        "id": "WowD6emySF9I"
      },
      "source": [
        "Faker2 = fake_cat('Jack')"
      ],
      "execution_count": 22,
      "outputs": []
    },
    {
      "cell_type": "code",
      "metadata": {
        "id": "SIOGxy4USYLV",
        "outputId": "030830c2-960e-4ac5-98f0-fd1a85a23907",
        "colab": {
          "base_uri": "https://localhost:8080/"
        }
      },
      "source": [
        "print(Faker.name, Faker2.name, sep='\\n')"
      ],
      "execution_count": 24,
      "outputs": [
        {
          "output_type": "stream",
          "name": "stdout",
          "text": [
            "Tom\n",
            "Jack\n"
          ]
        }
      ]
    },
    {
      "cell_type": "markdown",
      "metadata": {
        "id": "G3FGZGfvRhjD"
      },
      "source": [
        "# 類別定義式 不一定 要有__init__()方法 \n",
        "## 它的目的是為了做一些可以協助區分這個物件與同一個類別的其他物件的事情"
      ]
    },
    {
      "cell_type": "markdown",
      "metadata": {
        "id": "qULHwsmJTbTe"
      },
      "source": [
        "# 繼承"
      ]
    },
    {
      "cell_type": "code",
      "metadata": {
        "id": "qtu6i64hTjgH"
      },
      "source": [
        "class Car():\n",
        "  pass"
      ],
      "execution_count": 25,
      "outputs": []
    },
    {
      "cell_type": "code",
      "metadata": {
        "id": "hVLM58CITkZc"
      },
      "source": [
        "class Yugo(Car):\n",
        "  pass"
      ],
      "execution_count": 26,
      "outputs": []
    },
    {
      "cell_type": "markdown",
      "metadata": {
        "id": "_Hs34rhvTrk1"
      },
      "source": [
        "## 使用 issubclass() 來查看一個類別是否衍生自另一個類別"
      ]
    },
    {
      "cell_type": "code",
      "metadata": {
        "id": "R-N0l5I4T2PY",
        "outputId": "b4be79fc-0c79-43e8-cca8-32fe2e41f4be",
        "colab": {
          "base_uri": "https://localhost:8080/"
        }
      },
      "source": [
        "issubclass(Yugo, Car)"
      ],
      "execution_count": 27,
      "outputs": [
        {
          "output_type": "execute_result",
          "data": {
            "text/plain": [
              "True"
            ]
          },
          "metadata": {},
          "execution_count": 27
        }
      ]
    },
    {
      "cell_type": "code",
      "metadata": {
        "id": "WcCLOE_vT77Z",
        "outputId": "77f8011d-d486-4d3a-9a42-662403b9f0f7",
        "colab": {
          "base_uri": "https://localhost:8080/"
        }
      },
      "source": [
        "issubclass(Yugo, Cat)"
      ],
      "execution_count": 28,
      "outputs": [
        {
          "output_type": "execute_result",
          "data": {
            "text/plain": [
              "False"
            ]
          },
          "metadata": {},
          "execution_count": 28
        }
      ]
    },
    {
      "cell_type": "code",
      "metadata": {
        "id": "hOnhqcGFUAWl"
      },
      "source": [
        "give_me_a_car = Car()\n",
        "give_me_a_yugo = Yugo()"
      ],
      "execution_count": 29,
      "outputs": []
    },
    {
      "cell_type": "code",
      "metadata": {
        "id": "pQoLyjOLUY_m"
      },
      "source": [
        "class Car():\n",
        "  def exclaim(self):\n",
        "    print('I am a Car!')\n",
        "class Yugo(Car):\n",
        "  pass"
      ],
      "execution_count": 30,
      "outputs": []
    },
    {
      "cell_type": "code",
      "metadata": {
        "id": "liSMgfpxVAbf"
      },
      "source": [
        "give_me_a_car = Car()\n",
        "give_me_a_yugo = Yugo()"
      ],
      "execution_count": 31,
      "outputs": []
    },
    {
      "cell_type": "code",
      "metadata": {
        "id": "1Cl3uDCXVHTc",
        "outputId": "bdb17d4b-3bfa-4c4c-daad-16ef4db0c047",
        "colab": {
          "base_uri": "https://localhost:8080/"
        }
      },
      "source": [
        "give_me_a_car"
      ],
      "execution_count": 33,
      "outputs": [
        {
          "output_type": "execute_result",
          "data": {
            "text/plain": [
              "<__main__.Car at 0x7fa708230450>"
            ]
          },
          "metadata": {},
          "execution_count": 33
        }
      ]
    },
    {
      "cell_type": "code",
      "metadata": {
        "id": "vZ-5aKicVJi-",
        "outputId": "61aadc6d-0b0b-4c6f-cfbd-3eafe6a88279",
        "colab": {
          "base_uri": "https://localhost:8080/"
        }
      },
      "source": [
        "give_me_a_car.exclaim"
      ],
      "execution_count": 36,
      "outputs": [
        {
          "output_type": "execute_result",
          "data": {
            "text/plain": [
              "<bound method Car.exclaim of <__main__.Car object at 0x7fa708230450>>"
            ]
          },
          "metadata": {},
          "execution_count": 36
        }
      ]
    },
    {
      "cell_type": "code",
      "metadata": {
        "id": "SLfgGaqPVT-E",
        "outputId": "79459373-a824-441c-a30c-9632fc905551",
        "colab": {
          "base_uri": "https://localhost:8080/"
        }
      },
      "source": [
        "give_me_a_car.exclaim()"
      ],
      "execution_count": 37,
      "outputs": [
        {
          "output_type": "stream",
          "name": "stdout",
          "text": [
            "I am a Car!\n"
          ]
        }
      ]
    },
    {
      "cell_type": "code",
      "metadata": {
        "id": "zunjE0kMVZvm",
        "outputId": "73311316-c719-4ae0-c85b-a58ecc0a2e07",
        "colab": {
          "base_uri": "https://localhost:8080/"
        }
      },
      "source": [
        "give_me_a_yugo.exclaim()"
      ],
      "execution_count": 38,
      "outputs": [
        {
          "output_type": "stream",
          "name": "stdout",
          "text": [
            "I am a Car!\n"
          ]
        }
      ]
    },
    {
      "cell_type": "markdown",
      "metadata": {
        "id": "4SG8lXoPXnhA"
      },
      "source": [
        "## 覆寫方法"
      ]
    },
    {
      "cell_type": "code",
      "metadata": {
        "id": "eg-CyRnoVfUB"
      },
      "source": [
        "class Car():\n",
        "  def exclaim(self):\n",
        "    print('I am a Car!')\n",
        "\n",
        "class Yugo(Car):\n",
        "  def exclaim(self):\n",
        "    print('I am a Yugo! Much like a Car, but more Yugo-ish.')"
      ],
      "execution_count": 39,
      "outputs": []
    },
    {
      "cell_type": "code",
      "metadata": {
        "id": "27IcuJodXRA5"
      },
      "source": [
        "give_me_a_car = Car()\n",
        "give_me_a_yugo = Yugo()"
      ],
      "execution_count": 40,
      "outputs": []
    },
    {
      "cell_type": "code",
      "metadata": {
        "id": "nqKvL8yNXZla",
        "outputId": "2881607e-f799-4c28-c11b-a7ea1f8a94f6",
        "colab": {
          "base_uri": "https://localhost:8080/"
        }
      },
      "source": [
        "give_me_a_car.exclaim()"
      ],
      "execution_count": 42,
      "outputs": [
        {
          "output_type": "stream",
          "name": "stdout",
          "text": [
            "I am a Car!\n"
          ]
        }
      ]
    },
    {
      "cell_type": "code",
      "metadata": {
        "id": "9Cl2FRmlXdTo",
        "outputId": "fa639933-7fe2-4bf0-ab7f-add2133eb1d8",
        "colab": {
          "base_uri": "https://localhost:8080/"
        }
      },
      "source": [
        "give_me_a_yugo.exclaim()"
      ],
      "execution_count": 44,
      "outputs": [
        {
          "output_type": "stream",
          "name": "stdout",
          "text": [
            "I am a Yugo! Much like a Car, but more Yugo-ish.\n"
          ]
        }
      ]
    },
    {
      "cell_type": "code",
      "metadata": {
        "id": "Lc5zbB67Xh08"
      },
      "source": [
        "class Person():\n",
        "  def __init__(self, name):\n",
        "    self.name = name\n",
        "\n",
        "class MDPerson(Person):  # 醫生\n",
        "  def __init__(self, name):\n",
        "    self.name = 'Doctor ' + name\n",
        "class JDPerson(Person):  # 律師\n",
        "  def __init__(self, name):\n",
        "    self.name = name + ', Esquire'"
      ],
      "execution_count": 46,
      "outputs": []
    },
    {
      "cell_type": "code",
      "metadata": {
        "id": "7_Nz63NvZGhx",
        "outputId": "86774a3f-a3fe-4162-ab26-67d0a5035ab9",
        "colab": {
          "base_uri": "https://localhost:8080/"
        }
      },
      "source": [
        "person = Person('Ray')\n",
        "doctor = MDPerson('Ray')\n",
        "lawyer = JDPerson('Ray')\n",
        "print(person.name)\n",
        "print(doctor.name)\n",
        "print(lawyer.name)"
      ],
      "execution_count": 49,
      "outputs": [
        {
          "output_type": "stream",
          "name": "stdout",
          "text": [
            "Ray\n",
            "Doctor Ray\n",
            "Ray, Esquire\n"
          ]
        }
      ]
    },
    {
      "cell_type": "code",
      "metadata": {
        "id": "D1cMb8DlZ0f5"
      },
      "source": [
        ""
      ],
      "execution_count": null,
      "outputs": []
    }
  ]
}