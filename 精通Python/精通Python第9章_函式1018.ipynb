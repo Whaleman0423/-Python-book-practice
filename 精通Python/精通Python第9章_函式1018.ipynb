{
  "nbformat": 4,
  "nbformat_minor": 0,
  "metadata": {
    "colab": {
      "name": "精通Python第9章_函式1018.ipynb",
      "provenance": [],
      "collapsed_sections": [],
      "authorship_tag": "ABX9TyMiasu+FM7nPWWVk+ecdMrf",
      "include_colab_link": true
    },
    "kernelspec": {
      "name": "python3",
      "display_name": "Python 3"
    },
    "language_info": {
      "name": "python"
    }
  },
  "cells": [
    {
      "cell_type": "markdown",
      "metadata": {
        "id": "view-in-github",
        "colab_type": "text"
      },
      "source": [
        "<a href=\"https://colab.research.google.com/github/Whaleman0423/-Python-book-practice/blob/main/%E7%B2%BE%E9%80%9APython/%E7%B2%BE%E9%80%9APython%E7%AC%AC9%E7%AB%A0_%E5%87%BD%E5%BC%8F1018.ipynb\" target=\"_parent\"><img src=\"https://colab.research.google.com/assets/colab-badge.svg\" alt=\"Open In Colab\"/></a>"
      ]
    },
    {
      "cell_type": "code",
      "metadata": {
        "id": "8Drs2bfbI5Vw"
      },
      "source": [
        "def do_nothing():\n",
        "  pass"
      ],
      "execution_count": null,
      "outputs": []
    },
    {
      "cell_type": "code",
      "metadata": {
        "id": "rOuHNrpXTxqc"
      },
      "source": [
        "do_nothing()"
      ],
      "execution_count": null,
      "outputs": []
    },
    {
      "cell_type": "code",
      "metadata": {
        "colab": {
          "base_uri": "https://localhost:8080/"
        },
        "id": "HCtvou7kT0ao",
        "outputId": "59a5ca9c-0b62-4b89-a70e-68390c1ebac5"
      },
      "source": [
        "def make_a_sound():\n",
        "  print(\"quack\")\n",
        "make_a_sound()"
      ],
      "execution_count": null,
      "outputs": [
        {
          "output_type": "stream",
          "name": "stdout",
          "text": [
            "quack\n"
          ]
        }
      ]
    },
    {
      "cell_type": "markdown",
      "metadata": {
        "id": "aRs4erPTUQCO"
      },
      "source": [
        "###### 定義式 回傳值"
      ]
    },
    {
      "cell_type": "code",
      "metadata": {
        "colab": {
          "base_uri": "https://localhost:8080/"
        },
        "id": "9eLBMzkTUBh_",
        "outputId": "9afc7342-1b3d-41d6-8809-1597ccb5bd3f"
      },
      "source": [
        "def agree():\n",
        "  return True\n",
        "\n",
        "if agree():\n",
        "  print(\"Splendid\") \n",
        "else:\n",
        "  print(\"That was unexpected.\")\n"
      ],
      "execution_count": null,
      "outputs": [
        {
          "output_type": "stream",
          "name": "stdout",
          "text": [
            "Splendid\n"
          ]
        }
      ]
    },
    {
      "cell_type": "markdown",
      "metadata": {
        "id": "RAO7Qy_fUlcz"
      },
      "source": [
        "###### 引數與參數"
      ]
    },
    {
      "cell_type": "code",
      "metadata": {
        "colab": {
          "base_uri": "https://localhost:8080/",
          "height": 35
        },
        "id": "FeMKIKerUxJG",
        "outputId": "e9eb3ec6-0645-4995-cfa7-4f71607b972c"
      },
      "source": [
        "def echo(anything):\n",
        "  return anything + \" \" + anything\n",
        "\n",
        "echo(\"Rumplestiltskin\")"
      ],
      "execution_count": null,
      "outputs": [
        {
          "output_type": "execute_result",
          "data": {
            "application/vnd.google.colaboratory.intrinsic+json": {
              "type": "string"
            },
            "text/plain": [
              "'Rumplestiltskin Rumplestiltskin'"
            ]
          },
          "metadata": {},
          "execution_count": 113
        }
      ]
    },
    {
      "cell_type": "code",
      "metadata": {
        "colab": {
          "base_uri": "https://localhost:8080/"
        },
        "id": "bLuUT5h3VcZd",
        "outputId": "1dfcd088-d5b8-414c-b719-4deea9207230"
      },
      "source": [
        "def commentary(color):\n",
        "  if color == \"red\":\n",
        "    return \"It's a tomato.\"\n",
        "  elif color == \"green\":\n",
        "    return \"It's a green papper.\"\n",
        "  elif color == \"bee purple\":\n",
        "    return \"I don't know what it is, but only bees can see it.\" \n",
        "  else:\n",
        "    return \"I've never heard of the color\" + color + \".\"\n",
        "\n",
        "comment = commentary(\"blue\")\n",
        "print(comment)"
      ],
      "execution_count": null,
      "outputs": [
        {
          "output_type": "stream",
          "name": "stdout",
          "text": [
            "I've never heard of the colorblue.\n"
          ]
        }
      ]
    },
    {
      "cell_type": "code",
      "metadata": {
        "colab": {
          "base_uri": "https://localhost:8080/"
        },
        "id": "YqDKIMi5XfRo",
        "outputId": "569fa950-38ed-49f3-cf59-54e695a75ee7"
      },
      "source": [
        "print(do_nothing())"
      ],
      "execution_count": null,
      "outputs": [
        {
          "output_type": "stream",
          "name": "stdout",
          "text": [
            "None\n"
          ]
        }
      ]
    },
    {
      "cell_type": "code",
      "metadata": {
        "colab": {
          "base_uri": "https://localhost:8080/"
        },
        "id": "Xj8igfKuXlM9",
        "outputId": "75652fbd-aa1e-4a9b-dfea-6e1e558315ff"
      },
      "source": [
        "thing = None \n",
        "if thing:\n",
        "  print(\"It's some thing.\")\n",
        "else:\n",
        "  print(\"It's no thing.\")"
      ],
      "execution_count": null,
      "outputs": [
        {
          "output_type": "stream",
          "name": "stdout",
          "text": [
            "It's no thing.\n"
          ]
        }
      ]
    },
    {
      "cell_type": "code",
      "metadata": {
        "colab": {
          "base_uri": "https://localhost:8080/"
        },
        "id": "yhBoWdMMYig1",
        "outputId": "336e4ad5-2fc2-40a7-f893-8d7a8745e875"
      },
      "source": [
        "thing = None \n",
        "if thing is None:\n",
        "  print(\"It's nothing.\")\n",
        "else:\n",
        "  print(\"It's something.\")"
      ],
      "execution_count": 10,
      "outputs": [
        {
          "output_type": "stream",
          "name": "stdout",
          "text": [
            "It's nothing.\n"
          ]
        }
      ]
    },
    {
      "cell_type": "code",
      "metadata": {
        "id": "iDmS8_0wZtWz"
      },
      "source": [
        "def whatis(thing):\n",
        "  if thing is None:\n",
        "    print(thing, \"is None.\")\n",
        "  elif thing:\n",
        "    print(thing, \"is True.\")\n",
        "  elif not thing:\n",
        "    print(thing, \"is False.\")\n",
        "  else:\n",
        "    print(thing)"
      ],
      "execution_count": null,
      "outputs": []
    },
    {
      "cell_type": "code",
      "metadata": {
        "colab": {
          "base_uri": "https://localhost:8080/"
        },
        "id": "vLovP3I3aQ9P",
        "outputId": "87d909db-ef6e-4fc7-f3a4-18faae3e589c"
      },
      "source": [
        "whatis(None)"
      ],
      "execution_count": null,
      "outputs": [
        {
          "output_type": "stream",
          "name": "stdout",
          "text": [
            "None is None.\n"
          ]
        }
      ]
    },
    {
      "cell_type": "code",
      "metadata": {
        "colab": {
          "base_uri": "https://localhost:8080/"
        },
        "id": "gq7AkqnoaXzM",
        "outputId": "07ffd8b9-9827-40d9-eb26-a14067156d54"
      },
      "source": [
        "whatis(True)"
      ],
      "execution_count": null,
      "outputs": [
        {
          "output_type": "stream",
          "name": "stdout",
          "text": [
            "True is True.\n"
          ]
        }
      ]
    },
    {
      "cell_type": "code",
      "metadata": {
        "colab": {
          "base_uri": "https://localhost:8080/"
        },
        "id": "Y8RJJdBfabT9",
        "outputId": "f95a1d54-ef23-444f-9791-289159412e07"
      },
      "source": [
        "whatis(False)"
      ],
      "execution_count": null,
      "outputs": [
        {
          "output_type": "stream",
          "name": "stdout",
          "text": [
            "False is False.\n"
          ]
        }
      ]
    },
    {
      "cell_type": "code",
      "metadata": {
        "colab": {
          "base_uri": "https://localhost:8080/"
        },
        "id": "PoM4EZjNanya",
        "outputId": "ee8fad3a-5fa9-4240-dee4-f1828f3e4d9a"
      },
      "source": [
        "whatis(0)"
      ],
      "execution_count": null,
      "outputs": [
        {
          "output_type": "stream",
          "name": "stdout",
          "text": [
            "0 is False.\n"
          ]
        }
      ]
    },
    {
      "cell_type": "code",
      "metadata": {
        "colab": {
          "base_uri": "https://localhost:8080/"
        },
        "id": "jR5e1NUGbBAc",
        "outputId": "f1b4223e-2a9f-4f8a-95a2-221aa5178abe"
      },
      "source": [
        "whatis(0.0)"
      ],
      "execution_count": null,
      "outputs": [
        {
          "output_type": "stream",
          "name": "stdout",
          "text": [
            "0.0 is False.\n"
          ]
        }
      ]
    },
    {
      "cell_type": "code",
      "metadata": {
        "colab": {
          "base_uri": "https://localhost:8080/"
        },
        "id": "lcBQhRdUbD7o",
        "outputId": "9d63096c-a2f7-49b8-e9c8-80457c845baa"
      },
      "source": [
        "whatis('')"
      ],
      "execution_count": null,
      "outputs": [
        {
          "output_type": "stream",
          "name": "stdout",
          "text": [
            " is False.\n"
          ]
        }
      ]
    },
    {
      "cell_type": "code",
      "metadata": {
        "colab": {
          "base_uri": "https://localhost:8080/"
        },
        "id": "mHkxWx5wbGKR",
        "outputId": "abfe16e4-2732-4501-b4a4-29b5b8c76059"
      },
      "source": [
        "whatis(\"\")"
      ],
      "execution_count": null,
      "outputs": [
        {
          "output_type": "stream",
          "name": "stdout",
          "text": [
            " is False.\n"
          ]
        }
      ]
    },
    {
      "cell_type": "code",
      "metadata": {
        "colab": {
          "base_uri": "https://localhost:8080/"
        },
        "id": "qkjbgyGkbJ3G",
        "outputId": "fccf51ba-ec3b-4cef-f3e8-87241de04108"
      },
      "source": [
        "whatis(\"\"\"\"\"\")"
      ],
      "execution_count": null,
      "outputs": [
        {
          "output_type": "stream",
          "name": "stdout",
          "text": [
            " is False.\n"
          ]
        }
      ]
    },
    {
      "cell_type": "code",
      "metadata": {
        "colab": {
          "base_uri": "https://localhost:8080/"
        },
        "id": "E0yM__xIbNDK",
        "outputId": "b790780c-54a9-484a-c728-16ff9200aa7b"
      },
      "source": [
        "whatis(())"
      ],
      "execution_count": null,
      "outputs": [
        {
          "output_type": "stream",
          "name": "stdout",
          "text": [
            "() is False.\n"
          ]
        }
      ]
    },
    {
      "cell_type": "code",
      "metadata": {
        "colab": {
          "base_uri": "https://localhost:8080/"
        },
        "id": "elQb2IsGbPRG",
        "outputId": "c2861986-a084-487e-b380-7b33e1bda4f8"
      },
      "source": [
        "whatis([])"
      ],
      "execution_count": null,
      "outputs": [
        {
          "output_type": "stream",
          "name": "stdout",
          "text": [
            "[] is False.\n"
          ]
        }
      ]
    },
    {
      "cell_type": "code",
      "metadata": {
        "colab": {
          "base_uri": "https://localhost:8080/"
        },
        "id": "bn7AU1b4bRkm",
        "outputId": "bc9a608c-1835-4352-f4ed-ee91cc2c0f61"
      },
      "source": [
        "whatis({})"
      ],
      "execution_count": null,
      "outputs": [
        {
          "output_type": "stream",
          "name": "stdout",
          "text": [
            "{} is False.\n"
          ]
        }
      ]
    },
    {
      "cell_type": "code",
      "metadata": {
        "colab": {
          "base_uri": "https://localhost:8080/"
        },
        "id": "FWqqgNocbdfS",
        "outputId": "044b2c8a-a5bf-4cf6-db6c-0be904199c39"
      },
      "source": [
        "whatis(set())"
      ],
      "execution_count": null,
      "outputs": [
        {
          "output_type": "stream",
          "name": "stdout",
          "text": [
            "set() is False.\n"
          ]
        }
      ]
    },
    {
      "cell_type": "code",
      "metadata": {
        "colab": {
          "base_uri": "https://localhost:8080/"
        },
        "id": "8Rwhf9Pebi3E",
        "outputId": "6a1820b0-0375-45fb-d9a2-cf556382c764"
      },
      "source": [
        "whatis(0.000001)"
      ],
      "execution_count": null,
      "outputs": [
        {
          "output_type": "stream",
          "name": "stdout",
          "text": [
            "1e-06 is True.\n"
          ]
        }
      ]
    },
    {
      "cell_type": "code",
      "metadata": {
        "colab": {
          "base_uri": "https://localhost:8080/"
        },
        "id": "Ogjr3C6bbni0",
        "outputId": "9a22ea6a-bb3f-4c3b-e45b-99428e8a4508"
      },
      "source": [
        "whatis([''])"
      ],
      "execution_count": null,
      "outputs": [
        {
          "output_type": "stream",
          "name": "stdout",
          "text": [
            "[''] is True.\n"
          ]
        }
      ]
    },
    {
      "cell_type": "code",
      "metadata": {
        "colab": {
          "base_uri": "https://localhost:8080/"
        },
        "id": "oQ1OXLhyb01Z",
        "outputId": "4fe21b02-decc-4f24-c1d4-3e8307a93272"
      },
      "source": [
        "whatis(' ')"
      ],
      "execution_count": null,
      "outputs": [
        {
          "output_type": "stream",
          "name": "stdout",
          "text": [
            "  is True.\n"
          ]
        }
      ]
    },
    {
      "cell_type": "markdown",
      "metadata": {
        "id": "Dfrigqir9fwt"
      },
      "source": [
        "##### 位置性引數"
      ]
    },
    {
      "cell_type": "code",
      "metadata": {
        "id": "u6fWe--N9i5c",
        "colab": {
          "base_uri": "https://localhost:8080/"
        },
        "outputId": "1a023e0b-c470-4fab-a4fd-3369415df960"
      },
      "source": [
        "def menu(wine, entree, dessert):\n",
        "  return {\"wine\": wine, \"entree\": entree, \"dessert\": dessert}\n",
        "\n",
        "menu(\"chardonnay\", \"chicken\", \"cake\")\n",
        "# 缺點: 放參數時，必須按順序"
      ],
      "execution_count": null,
      "outputs": [
        {
          "output_type": "execute_result",
          "data": {
            "text/plain": [
              "{'dessert': 'cake', 'entree': 'chicken', 'wine': 'chardonnay'}"
            ]
          },
          "metadata": {},
          "execution_count": 1
        }
      ]
    },
    {
      "cell_type": "markdown",
      "metadata": {
        "id": "YBbTGBpV-Veq"
      },
      "source": [
        "##### 關鍵字引數"
      ]
    },
    {
      "cell_type": "code",
      "metadata": {
        "id": "29wPf2yW-1iD",
        "colab": {
          "base_uri": "https://localhost:8080/"
        },
        "outputId": "e152d92b-af3d-4e5f-ce6e-fa6e649ab942"
      },
      "source": [
        "menu(entree=\"beef\", dessert=\"bagel\", wine=\"bordeaux\")"
      ],
      "execution_count": null,
      "outputs": [
        {
          "output_type": "execute_result",
          "data": {
            "text/plain": [
              "{'dessert': 'bagel', 'entree': 'beef', 'wine': 'bordeaux'}"
            ]
          },
          "metadata": {},
          "execution_count": 2
        }
      ]
    },
    {
      "cell_type": "code",
      "metadata": {
        "id": "vmn-dyjN_N9z",
        "colab": {
          "base_uri": "https://localhost:8080/"
        },
        "outputId": "68bef3e8-e816-4f9c-b547-9730bba9dd9f"
      },
      "source": [
        "menu(\"frontenac\", dessert=\"flan\", entree=\"fish\")"
      ],
      "execution_count": null,
      "outputs": [
        {
          "output_type": "execute_result",
          "data": {
            "text/plain": [
              "{'dessert': 'flan', 'entree': 'fish', 'wine': 'frontenac'}"
            ]
          },
          "metadata": {},
          "execution_count": 3
        }
      ]
    },
    {
      "cell_type": "code",
      "metadata": {
        "id": "UucwKdgE_qFA",
        "colab": {
          "base_uri": "https://localhost:8080/"
        },
        "outputId": "6235699c-5821-48fd-e6ed-730c29363ca1"
      },
      "source": [
        "def menu(wine, entree, dessert=\"pudding\"):\n",
        "  return {\"wine\": wine, \"entree\": entree, \"dessert\": dessert}\n",
        "menu(\"chardonnay\", \"chicken\")"
      ],
      "execution_count": null,
      "outputs": [
        {
          "output_type": "execute_result",
          "data": {
            "text/plain": [
              "{'dessert': 'pudding', 'entree': 'chicken', 'wine': 'chardonnay'}"
            ]
          },
          "metadata": {},
          "execution_count": 5
        }
      ]
    },
    {
      "cell_type": "code",
      "metadata": {
        "id": "RX9HJ-CSAy_K",
        "colab": {
          "base_uri": "https://localhost:8080/"
        },
        "outputId": "2c567fce-44d2-4f2c-bbcd-c7cf1cea404d"
      },
      "source": [
        "menu(\"dunkelfelder\", \"duck\", \"doughnut\")"
      ],
      "execution_count": null,
      "outputs": [
        {
          "output_type": "execute_result",
          "data": {
            "text/plain": [
              "{'dessert': 'doughnut', 'entree': 'duck', 'wine': 'dunkelfelder'}"
            ]
          },
          "metadata": {},
          "execution_count": 6
        }
      ]
    },
    {
      "cell_type": "markdown",
      "metadata": {
        "id": "BVxtZevGCome"
      },
      "source": [
        "##### 預設的參數值是在函式被定義的時候被計算的，不是在執行的時候。"
      ]
    },
    {
      "cell_type": "code",
      "metadata": {
        "id": "uAumBgQ2BR_2",
        "colab": {
          "base_uri": "https://localhost:8080/"
        },
        "outputId": "4bd66152-250d-46ae-ea97-f888f2311bb4"
      },
      "source": [
        "def buggy(arg, result=[]):\n",
        "  result.append(arg)\n",
        "  print(result)\n",
        "buggy(\"a\")"
      ],
      "execution_count": 11,
      "outputs": [
        {
          "output_type": "stream",
          "name": "stdout",
          "text": [
            "['a']\n"
          ]
        }
      ]
    },
    {
      "cell_type": "code",
      "metadata": {
        "id": "KT4cBV5nCMJE",
        "colab": {
          "base_uri": "https://localhost:8080/"
        },
        "outputId": "f3ec00f7-1804-4dc2-914d-5d950bf08d6e"
      },
      "source": [
        "buggy(\"b\") # 預期是[\"b\"]"
      ],
      "execution_count": 12,
      "outputs": [
        {
          "output_type": "stream",
          "name": "stdout",
          "text": [
            "['a', 'b']\n"
          ]
        }
      ]
    },
    {
      "cell_type": "markdown",
      "metadata": {
        "id": "VVkj4N-VCTsR"
      },
      "source": [
        "##### 改成這樣"
      ]
    },
    {
      "cell_type": "code",
      "metadata": {
        "id": "hLOmZi4qCdSE",
        "colab": {
          "base_uri": "https://localhost:8080/"
        },
        "outputId": "1888856e-c459-40f7-9e02-fafdb211c41a"
      },
      "source": [
        "def works(arg):\n",
        "  result = []\n",
        "  result.append(arg)\n",
        "  return result\n",
        "works(\"a\")"
      ],
      "execution_count": 13,
      "outputs": [
        {
          "output_type": "execute_result",
          "data": {
            "text/plain": [
              "['a']"
            ]
          },
          "metadata": {},
          "execution_count": 13
        }
      ]
    },
    {
      "cell_type": "code",
      "metadata": {
        "id": "-FhW7A-CDA57",
        "colab": {
          "base_uri": "https://localhost:8080/"
        },
        "outputId": "f85c633b-49e3-4a7a-9790-3e8259fc1afa"
      },
      "source": [
        "works(\"b\")"
      ],
      "execution_count": 14,
      "outputs": [
        {
          "output_type": "execute_result",
          "data": {
            "text/plain": [
              "['b']"
            ]
          },
          "metadata": {},
          "execution_count": 14
        }
      ]
    },
    {
      "cell_type": "markdown",
      "metadata": {
        "id": "jJO9rTafDC5-"
      },
      "source": [
        "##### 或者改成 傳入別的東西來代表第一次呼叫"
      ]
    },
    {
      "cell_type": "code",
      "metadata": {
        "id": "SKpfteA0DVif",
        "colab": {
          "base_uri": "https://localhost:8080/"
        },
        "outputId": "6cfecf65-80f0-4a8f-8cd4-2d2dabab5721"
      },
      "source": [
        "def nonbuggy(arg, result=None):\n",
        "  if result is None:\n",
        "    result = []\n",
        "  result.append(arg)\n",
        "  print(result)\n",
        "nonbuggy(\"a\")"
      ],
      "execution_count": 16,
      "outputs": [
        {
          "output_type": "stream",
          "name": "stdout",
          "text": [
            "['a']\n"
          ]
        }
      ]
    },
    {
      "cell_type": "code",
      "metadata": {
        "id": "83K5KUrJDpWh",
        "colab": {
          "base_uri": "https://localhost:8080/"
        },
        "outputId": "638561aa-8264-4575-c928-9ba676d748e3"
      },
      "source": [
        "nonbuggy(\"b\")"
      ],
      "execution_count": 17,
      "outputs": [
        {
          "output_type": "stream",
          "name": "stdout",
          "text": [
            "['b']\n"
          ]
        }
      ]
    },
    {
      "cell_type": "code",
      "metadata": {
        "id": "f-OKyniHETuz"
      },
      "source": [
        "##### 在函式參數裡面的 * (星號)，可以將數量不一定的位置引數組成一個參數值 tuple。"
      ],
      "execution_count": null,
      "outputs": []
    },
    {
      "cell_type": "code",
      "metadata": {
        "id": "1HcKADXREjZf",
        "colab": {
          "base_uri": "https://localhost:8080/"
        },
        "outputId": "b13d04c5-ebe8-496e-e5e0-299f4c6e7ba6"
      },
      "source": [
        "def print_args(*args):\n",
        "  print(\"Positional tuple:\", args)\n",
        "print_args()"
      ],
      "execution_count": 18,
      "outputs": [
        {
          "output_type": "stream",
          "name": "stdout",
          "text": [
            "Positional tuple: ()\n"
          ]
        }
      ]
    },
    {
      "cell_type": "code",
      "metadata": {
        "id": "rl228x9hEzHF",
        "colab": {
          "base_uri": "https://localhost:8080/"
        },
        "outputId": "951e1fab-a32d-44b0-ceb4-91892fd7288e"
      },
      "source": [
        "print_args(3, 2, 1, \"wait!\", \"uh...\")"
      ],
      "execution_count": 19,
      "outputs": [
        {
          "output_type": "stream",
          "name": "stdout",
          "text": [
            "Positional tuple: (3, 2, 1, 'wait!', 'uh...')\n"
          ]
        }
      ]
    },
    {
      "cell_type": "markdown",
      "metadata": {
        "id": "CEKV_rduFERZ"
      },
      "source": [
        "##### 若函式有需要其他位置引數，需先放前面，*(參數)放最後。"
      ]
    },
    {
      "cell_type": "code",
      "metadata": {
        "id": "rUMfi3VdFWla",
        "colab": {
          "base_uri": "https://localhost:8080/"
        },
        "outputId": "29081f9d-da88-4b25-e2aa-6dee93c20417"
      },
      "source": [
        "def print_more(required1, required2, *args):\n",
        "  print(\"Need this one:\", required1)\n",
        "  print(\"Need this one too:\", required2)\n",
        "  print(\"All the rest:\", args)\n",
        "print_more(\"cap\", \"gloves\", \"scarf\", \"monocle\", \"mustache wax\")"
      ],
      "execution_count": null,
      "outputs": [
        {
          "output_type": "stream",
          "name": "stdout",
          "text": [
            "Need this one: cap\n",
            "Need this one too: gloves\n",
            "All the rest: ('scarf', 'monocle', 'mustache wax')\n"
          ]
        }
      ]
    },
    {
      "cell_type": "markdown",
      "metadata": {
        "id": "ozVJQ44eGNJw"
      },
      "source": [
        "###### 使用 * 時，你不一定要將 tupple 引數稱為 *args ， 不過它在 Python 裡面是一種習慣用法。"
      ]
    },
    {
      "cell_type": "code",
      "metadata": {
        "id": "3A8JLJyCGd3W",
        "colab": {
          "base_uri": "https://localhost:8080/"
        },
        "outputId": "c44c5dc6-44a9-4393-98e3-f0a109b9f035"
      },
      "source": [
        "def print_args(*args):\n",
        "  print(\"Positional tuple:\", args)\n",
        "\n",
        "print_args(2, 5, 7, 'x')"
      ],
      "execution_count": 20,
      "outputs": [
        {
          "output_type": "stream",
          "name": "stdout",
          "text": [
            "Positional tuple: (2, 5, 7, 'x')\n"
          ]
        }
      ]
    },
    {
      "cell_type": "code",
      "metadata": {
        "id": "W2NSfdoIHIE9",
        "colab": {
          "base_uri": "https://localhost:8080/"
        },
        "outputId": "de397f1b-b897-467f-84dc-b1eba853916c"
      },
      "source": [
        "args = (2, 5, 7, 'x')\n",
        "print_args(args)"
      ],
      "execution_count": 21,
      "outputs": [
        {
          "output_type": "stream",
          "name": "stdout",
          "text": [
            "Positional tuple: ((2, 5, 7, 'x'),)\n"
          ]
        }
      ]
    },
    {
      "cell_type": "markdown",
      "metadata": {
        "id": "Qm790gEDHQ5i"
      },
      "source": [
        "######也可以在函式內，將名為 args 的 tupple 引數 「炸」 成位置參數 *args，在內部重新整理成 tuple 參數 args:"
      ]
    },
    {
      "cell_type": "code",
      "metadata": {
        "id": "E7b-cNqkH67V",
        "colab": {
          "base_uri": "https://localhost:8080/"
        },
        "outputId": "09d867f7-5f41-41ff-f5de-48c2a41f64fc"
      },
      "source": [
        "args = (2, 5, 7, 'x')\n",
        "print_args(*args)"
      ],
      "execution_count": 22,
      "outputs": [
        {
          "output_type": "stream",
          "name": "stdout",
          "text": [
            "Positional tuple: (2, 5, 7, 'x')\n"
          ]
        }
      ]
    },
    {
      "cell_type": "markdown",
      "metadata": {
        "id": "_siOJ6G-IKqY"
      },
      "source": [
        "#####只能在 呼叫函式 或 定義函式 裡面使用 * 語法"
      ]
    },
    {
      "cell_type": "code",
      "metadata": {
        "id": "bceUEzVTIScd",
        "colab": {
          "base_uri": "https://localhost:8080/",
          "height": 135
        },
        "outputId": "a8c8297c-03fa-4687-9935-46ff22de080c"
      },
      "source": [
        "*args"
      ],
      "execution_count": null,
      "outputs": [
        {
          "output_type": "error",
          "ename": "SyntaxError",
          "evalue": "ignored",
          "traceback": [
            "\u001b[0;36m  File \u001b[0;32m\"<ipython-input-20-040fcb6bb52c>\"\u001b[0;36m, line \u001b[0;32m1\u001b[0m\n\u001b[0;31m    *args\u001b[0m\n\u001b[0m         ^\u001b[0m\n\u001b[0;31mSyntaxError\u001b[0m\u001b[0;31m:\u001b[0m can't use starred expression here\n"
          ]
        }
      ]
    },
    {
      "cell_type": "markdown",
      "metadata": {
        "id": "gmxF0MsUIXl4"
      },
      "source": [
        "##### 用 ** 來炸開 / 收集關鍵字引數 :"
      ]
    },
    {
      "cell_type": "markdown",
      "metadata": {
        "id": "v5gDoJHIVF96"
      },
      "source": [
        "######使用 ** 將關鍵字引數組成字典，其中引數名稱是鍵，它們的值是相應的字典值:"
      ]
    },
    {
      "cell_type": "code",
      "metadata": {
        "id": "YjLCJEJSWDcm"
      },
      "source": [
        "def print_kwargs(**kwargs):         # 用 ** 來收集 鍵與值 kwargs是個字典參數\n",
        "  print(\"Keyword arguments:\", kwargs)"
      ],
      "execution_count": 23,
      "outputs": []
    },
    {
      "cell_type": "code",
      "metadata": {
        "id": "srM-5fz4WY5_",
        "outputId": "98d76ec5-41dc-482e-a589-74a27c257fbb",
        "colab": {
          "base_uri": "https://localhost:8080/"
        }
      },
      "source": [
        "print_kwargs()"
      ],
      "execution_count": 24,
      "outputs": [
        {
          "output_type": "stream",
          "name": "stdout",
          "text": [
            "Keyword arguments: {}\n"
          ]
        }
      ]
    },
    {
      "cell_type": "code",
      "metadata": {
        "id": "Hd3D27aJW0mo",
        "outputId": "be4bed0f-b266-4676-a0db-b194a541aede",
        "colab": {
          "base_uri": "https://localhost:8080/"
        }
      },
      "source": [
        "print_kwargs(wine=\"merlot\", entree=\"mutton\", dessert=\"macaroon\")"
      ],
      "execution_count": 25,
      "outputs": [
        {
          "output_type": "stream",
          "name": "stdout",
          "text": [
            "Keyword arguments: {'wine': 'merlot', 'entree': 'mutton', 'dessert': 'macaroon'}\n"
          ]
        }
      ]
    },
    {
      "cell_type": "markdown",
      "metadata": {
        "id": "IqnLsiJvXA88"
      },
      "source": [
        "##### 引數的順序是 :\n",
        "##### 1. 必需的位置引數\n",
        "##### 2. 選用的位置引數(*args)\n",
        "##### 3. 選用的關鍵字引數(**kwargs)"
      ]
    },
    {
      "cell_type": "markdown",
      "metadata": {
        "id": "XBEmIggFXtil"
      },
      "source": [
        "##### 純關鍵字引數 :\n",
        "##### 在函式定義式裡面的單 * 但表接下來的引數必須用具名引數來提供"
      ]
    },
    {
      "cell_type": "code",
      "metadata": {
        "id": "h9KN32BDaR2J"
      },
      "source": [
        "def print_data(data, *, start=0, end=100):\n",
        "  for value in (data[start:end]):\n",
        "    print(value)"
      ],
      "execution_count": 26,
      "outputs": []
    },
    {
      "cell_type": "code",
      "metadata": {
        "id": "2x160k4JakcW",
        "outputId": "7e5796eb-9a55-4ddc-ea0f-9ebea4a9f44b",
        "colab": {
          "base_uri": "https://localhost:8080/"
        }
      },
      "source": [
        "data = [\"a\", \"b\", \"c\", \"d\", \"e\", \"f\"]\n",
        "print_data(data)"
      ],
      "execution_count": 27,
      "outputs": [
        {
          "output_type": "stream",
          "name": "stdout",
          "text": [
            "a\n",
            "b\n",
            "c\n",
            "d\n",
            "e\n",
            "f\n"
          ]
        }
      ]
    },
    {
      "cell_type": "code",
      "metadata": {
        "id": "_XAfLZiKawMy",
        "outputId": "f8bbe7f1-0fd5-4067-c6f7-4686979c7c8c",
        "colab": {
          "base_uri": "https://localhost:8080/"
        }
      },
      "source": [
        "print_data(data, start=4)"
      ],
      "execution_count": 28,
      "outputs": [
        {
          "output_type": "stream",
          "name": "stdout",
          "text": [
            "e\n",
            "f\n"
          ]
        }
      ]
    },
    {
      "cell_type": "code",
      "metadata": {
        "id": "mQELOdPFa2Vu",
        "outputId": "20314415-bb7a-4ffb-9786-39e2a921c876",
        "colab": {
          "base_uri": "https://localhost:8080/"
        }
      },
      "source": [
        "print_data(data, end=2)"
      ],
      "execution_count": 29,
      "outputs": [
        {
          "output_type": "stream",
          "name": "stdout",
          "text": [
            "a\n",
            "b\n"
          ]
        }
      ]
    }
  ]
}