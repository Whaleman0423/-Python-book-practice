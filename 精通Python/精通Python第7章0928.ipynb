{
  "nbformat": 4,
  "nbformat_minor": 0,
  "metadata": {
    "colab": {
      "name": "精通Python第7章0928.ipynb",
      "provenance": [],
      "collapsed_sections": [],
      "authorship_tag": "ABX9TyP+tf4PYie+uhoZcM9Hanvd",
      "include_colab_link": true
    },
    "kernelspec": {
      "name": "python3",
      "display_name": "Python 3"
    },
    "language_info": {
      "name": "python"
    }
  },
  "cells": [
    {
      "cell_type": "markdown",
      "metadata": {
        "id": "view-in-github",
        "colab_type": "text"
      },
      "source": [
        "<a href=\"https://colab.research.google.com/github/Whaleman0423/-Python-book-practice/blob/main/%E7%B2%BE%E9%80%9APython/%E7%B2%BE%E9%80%9APython%E7%AC%AC7%E7%AB%A00928.ipynb\" target=\"_parent\"><img src=\"https://colab.research.google.com/assets/colab-badge.svg\" alt=\"Open In Colab\"/></a>"
      ]
    },
    {
      "cell_type": "code",
      "metadata": {
        "colab": {
          "base_uri": "https://localhost:8080/"
        },
        "id": "hHfzr99wmyWl",
        "outputId": "6bbeb924-28d6-4a7a-e0ff-d4ff2dafec27"
      },
      "source": [
        "empty_tuple = ()\n",
        "empty_tuple"
      ],
      "execution_count": null,
      "outputs": [
        {
          "output_type": "execute_result",
          "data": {
            "text/plain": [
              "()"
            ]
          },
          "metadata": {},
          "execution_count": 1
        }
      ]
    },
    {
      "cell_type": "code",
      "metadata": {
        "id": "PV9Mh_qono_o"
      },
      "source": [
        "one_mark = \"Groucho\",\n",
        "one_mark"
      ],
      "execution_count": null,
      "outputs": []
    },
    {
      "cell_type": "code",
      "metadata": {
        "id": "E9b7k2nfnzGx"
      },
      "source": [
        "# or\n",
        "one_mark = (\"Groucho\",)\n",
        "one_mark"
      ],
      "execution_count": null,
      "outputs": []
    },
    {
      "cell_type": "code",
      "metadata": {
        "id": "xwXGmaY4oBeb"
      },
      "source": [
        "# 省略逗號 將不會得到 tuple\n",
        "one_mark = (\"Groucho\")\n",
        "# one_mark\n",
        "type(one_mark)"
      ],
      "execution_count": null,
      "outputs": []
    },
    {
      "cell_type": "code",
      "metadata": {
        "id": "pZKxC7bBoUEJ"
      },
      "source": [
        "marx_tuple = \"Groucho\", \"Chico\", \"Harpo\"\n",
        "marx_tuple"
      ],
      "execution_count": null,
      "outputs": []
    },
    {
      "cell_type": "code",
      "metadata": {
        "id": "bTPnrbMnoraA"
      },
      "source": [
        "# 定義 tuple 加上括號 會比較好辨認出 也不容易出錯\n",
        "marx_tuple = (\"Groucho\", \"Chico\", \"Harpo\")\n",
        "marx_tuple"
      ],
      "execution_count": null,
      "outputs": []
    },
    {
      "cell_type": "code",
      "metadata": {
        "id": "B2cB3Yogo90p"
      },
      "source": [
        "one_mark = \"Groucho\",\n",
        "type(one_mark)"
      ],
      "execution_count": null,
      "outputs": []
    },
    {
      "cell_type": "code",
      "metadata": {
        "id": "3Uj2EtjwpkkE"
      },
      "source": [
        "type(\"Groucho\")"
      ],
      "execution_count": null,
      "outputs": []
    },
    {
      "cell_type": "code",
      "metadata": {
        "id": "wKbKoScLpo2j",
        "colab": {
          "base_uri": "https://localhost:8080/"
        },
        "outputId": "ee9a8fed-3fa0-42c9-9124-7eaf8eb7a7eb"
      },
      "source": [
        "type(\"Groucho\",)"
      ],
      "execution_count": null,
      "outputs": [
        {
          "output_type": "execute_result",
          "data": {
            "text/plain": [
              "str"
            ]
          },
          "metadata": {},
          "execution_count": 6
        }
      ]
    },
    {
      "cell_type": "code",
      "metadata": {
        "id": "sWzeS-vJpxPz",
        "colab": {
          "base_uri": "https://localhost:8080/"
        },
        "outputId": "7bf6b7eb-a657-4e4e-eaeb-c8e314c7057f"
      },
      "source": [
        "type((\"Groucho\",))"
      ],
      "execution_count": null,
      "outputs": [
        {
          "output_type": "execute_result",
          "data": {
            "text/plain": [
              "tuple"
            ]
          },
          "metadata": {},
          "execution_count": 5
        }
      ]
    },
    {
      "cell_type": "code",
      "metadata": {
        "id": "GuGT1M9vqCrw",
        "colab": {
          "base_uri": "https://localhost:8080/"
        },
        "outputId": "7244331d-57c1-4ac6-d7c3-0a47bc9ab0cc"
      },
      "source": [
        "type((\"Groucho\"))"
      ],
      "execution_count": null,
      "outputs": [
        {
          "output_type": "execute_result",
          "data": {
            "text/plain": [
              "str"
            ]
          },
          "metadata": {},
          "execution_count": 4
        }
      ]
    },
    {
      "cell_type": "code",
      "metadata": {
        "id": "YIVCJ3F-qHy2"
      },
      "source": [
        "marx_tuple = (\"Groucho\", \"Chico\", \"Harpo\")\n",
        "a, b, c = marx_tuple\n",
        "# a\n",
        "# b\n",
        "# c\n",
        "# type(a)\n",
        "\n",
        "# 此作法叫作 拆包 unpacking"
      ],
      "execution_count": null,
      "outputs": []
    },
    {
      "cell_type": "code",
      "metadata": {
        "id": "LOb2Un1wqpq8"
      },
      "source": [
        "# 使用 tuple 來調值\n",
        "password = \"swordfish\"\n",
        "icecream = \"tuttifrutti\"\n",
        "password, icecream = icecream, password\n",
        "# password\n",
        "icecream"
      ],
      "execution_count": null,
      "outputs": []
    },
    {
      "cell_type": "code",
      "metadata": {
        "id": "5l0-8XWzrpOu",
        "colab": {
          "base_uri": "https://localhost:8080/"
        },
        "outputId": "d068defc-34e7-4da7-ef4a-43eacd1f3be9"
      },
      "source": [
        "# tuple()\n",
        "marx_list = [\"Groucho\", \"Chico\", \"Harpo\"]\n",
        "tuple(marx_list)"
      ],
      "execution_count": null,
      "outputs": [
        {
          "output_type": "execute_result",
          "data": {
            "text/plain": [
              "('Groucho', 'Chico', 'Harpo')"
            ]
          },
          "metadata": {},
          "execution_count": 1
        }
      ]
    },
    {
      "cell_type": "code",
      "metadata": {
        "colab": {
          "base_uri": "https://localhost:8080/"
        },
        "id": "ruS6raYvtiqc",
        "outputId": "a15c47b3-6ade-4203-8180-ddedd1d9ef21"
      },
      "source": [
        "t = (\"Groucho\",) + (\"Chico\", \"Harpo\") # 第一個tuple 裡面記得家逗號, \n",
        "t "
      ],
      "execution_count": null,
      "outputs": [
        {
          "output_type": "execute_result",
          "data": {
            "text/plain": [
              "('Groucho', 'Chico', 'Harpo')"
            ]
          },
          "metadata": {},
          "execution_count": 7
        }
      ]
    },
    {
      "cell_type": "code",
      "metadata": {
        "colab": {
          "base_uri": "https://localhost:8080/"
        },
        "id": "OQQMgcAguW3o",
        "outputId": "6fd7f874-9a96-4fba-89ba-5c4d7742a492"
      },
      "source": [
        "(\"yada\",)*5"
      ],
      "execution_count": null,
      "outputs": [
        {
          "output_type": "execute_result",
          "data": {
            "text/plain": [
              "('yada', 'yada', 'yada', 'yada', 'yada')"
            ]
          },
          "metadata": {},
          "execution_count": 8
        }
      ]
    },
    {
      "cell_type": "code",
      "metadata": {
        "colab": {
          "base_uri": "https://localhost:8080/"
        },
        "id": "uHNqa-BZunev",
        "outputId": "b2f3aeb5-8e6d-46b3-ad2d-86106cc62b06"
      },
      "source": [
        "a = (7, 2)\n",
        "b = (7, 2, 9)\n",
        "# a == b\n",
        "# a <= b\n",
        "# a >= b\n",
        "# a < b\n",
        "# a > b"
      ],
      "execution_count": null,
      "outputs": [
        {
          "output_type": "execute_result",
          "data": {
            "text/plain": [
              "False"
            ]
          },
          "metadata": {},
          "execution_count": 14
        }
      ]
    },
    {
      "cell_type": "code",
      "metadata": {
        "colab": {
          "base_uri": "https://localhost:8080/"
        },
        "id": "jSrPol0kvCMt",
        "outputId": "41d4b968-c6d7-4c43-8921-906cd38cfd20"
      },
      "source": [
        "# for in \n",
        "words = (\"fresh\", \"out\", \"of\", \"ideas\")\n",
        "for word in words:\n",
        "  print(word)"
      ],
      "execution_count": null,
      "outputs": [
        {
          "output_type": "stream",
          "name": "stdout",
          "text": [
            "fresh\n",
            "out\n",
            "of\n",
            "ideas\n"
          ]
        }
      ]
    },
    {
      "cell_type": "code",
      "metadata": {
        "colab": {
          "base_uri": "https://localhost:8080/"
        },
        "id": "zggaDeKuvY-x",
        "outputId": "7a36f7fd-4219-40ca-e242-42317b31b801"
      },
      "source": [
        "# 修改？？\n",
        "t1 = (\"Fee\", \"Fie\", \"Foe\")\n",
        "t2 = (\"Flop\",)\n",
        "print(\"t1 id：\", id(t1))\n",
        "# t1 + t2\n",
        "t1 += t2\n",
        "# print(\"t1 id：\", id(t1)\n",
        "t1"
      ],
      "execution_count": null,
      "outputs": [
        {
          "output_type": "stream",
          "name": "stdout",
          "text": [
            "t1 id： 139891886997088\n"
          ]
        },
        {
          "output_type": "execute_result",
          "data": {
            "text/plain": [
              "('Fee', 'Fie', 'Foe', 'Flop')"
            ]
          },
          "metadata": {},
          "execution_count": 33
        }
      ]
    },
    {
      "cell_type": "code",
      "metadata": {
        "colab": {
          "base_uri": "https://localhost:8080/"
        },
        "id": "GDqTw88Vx0PC",
        "outputId": "366b8dce-dfba-43f0-ee47-2fab9d7395de"
      },
      "source": [
        "# 集合 =>不會重複\n",
        "{\"a\", \"b\", \"b\"}"
      ],
      "execution_count": null,
      "outputs": [
        {
          "output_type": "execute_result",
          "data": {
            "text/plain": [
              "{'a', 'b'}"
            ]
          },
          "metadata": {},
          "execution_count": 36
        }
      ]
    },
    {
      "cell_type": "code",
      "metadata": {
        "colab": {
          "base_uri": "https://localhost:8080/"
        },
        "id": "1fWFGYicyOuh",
        "outputId": "25383de5-2eda-4a78-9748-80c24c92bc5d"
      },
      "source": [
        "x = \"abcde\"\n",
        "y = [\"a\", \"b\", \"c\", \"d\", \"e\"]\n",
        "z = {\"a\", \"b\", \"c\", \"d\", \"e\"}\n",
        "w = (\"a\", \"b\", \"c\", \"d\", \"e\")\n",
        "v = {\"a\":1, \"b\":2, \"c\":3, \"d\":4, \"e\":5}\n",
        "\n",
        "# list_str = list(x)  # 字串轉list\n",
        "# list_str\n",
        "\n",
        "# list_set = list(z)  # 集合轉list\n",
        "# list_set\n",
        "\n",
        "# list_tup = list(w)  # tuple轉list\n",
        "# list_tup\n",
        "\n",
        "# list_dict = list(v)  # # 字典轉list 取鍵\n",
        "# list_dict\n",
        "\n"
      ],
      "execution_count": null,
      "outputs": [
        {
          "output_type": "execute_result",
          "data": {
            "text/plain": [
              "['a', 'b', 'c', 'd', 'e']"
            ]
          },
          "metadata": {},
          "execution_count": 42
        }
      ]
    },
    {
      "cell_type": "code",
      "metadata": {
        "colab": {
          "base_uri": "https://localhost:8080/"
        },
        "id": "HQKjF-ZQ0qhT",
        "outputId": "25a546bd-aa77-47c0-9f7b-f8e1ba48fab1"
      },
      "source": [
        "# 字串 = > 串列 split\n",
        "today = \"2021/10/07\"\n",
        "list_today = today.split(\"/\")\n",
        "list_today"
      ],
      "execution_count": null,
      "outputs": [
        {
          "output_type": "execute_result",
          "data": {
            "text/plain": [
              "['2021', '10', '07']"
            ]
          },
          "metadata": {},
          "execution_count": 43
        }
      ]
    },
    {
      "cell_type": "code",
      "metadata": {
        "colab": {
          "base_uri": "https://localhost:8080/"
        },
        "id": "97rk9_J408Fz",
        "outputId": "c32648d0-1a9e-44ab-b4c2-9995e9237f99"
      },
      "source": [
        "# 若有連續多個分隔字串 => 串列項目會有空字串\n",
        "stupid_str = \"a///s////dekgv/df/n/\"\n",
        "list_stu = stupid_str.split(\"/\")\n",
        "list_stu"
      ],
      "execution_count": null,
      "outputs": [
        {
          "output_type": "execute_result",
          "data": {
            "text/plain": [
              "['a', '', '', 's', '', '', '', 'dekgv', 'df', 'n', '']"
            ]
          },
          "metadata": {},
          "execution_count": 46
        }
      ]
    },
    {
      "cell_type": "code",
      "metadata": {
        "colab": {
          "base_uri": "https://localhost:8080/"
        },
        "id": "yCH8NN_z1acp",
        "outputId": "3ffa64f3-deda-4936-9191-0186b217e196"
      },
      "source": [
        "stupid_str.split(\"//\")"
      ],
      "execution_count": null,
      "outputs": [
        {
          "output_type": "execute_result",
          "data": {
            "text/plain": [
              "['a', '/s', '', 'dekgv/df/n/']"
            ]
          },
          "metadata": {},
          "execution_count": 47
        }
      ]
    },
    {
      "cell_type": "code",
      "metadata": {
        "colab": {
          "base_uri": "https://localhost:8080/"
        },
        "id": "ViRY-Hg11uQC",
        "outputId": "085a218b-33bb-4b75-d62f-d65f37f383d2"
      },
      "source": [
        "# offset \"adsfd\"[offset] or [清單][offset]\n",
        "y = [\"a\", \"b\", \"c\", \"d\", \"e\"]\n",
        "# y[0]\n",
        "# y[1]\n",
        "# y[-1]\n",
        "# y[:3]\n",
        "# y[2:]\n",
        "# y[::2]\n",
        "# y[::-2]\n",
        "# y[::-1]\n",
        "\n",
        "# y.reverse()\n",
        "# y\n",
        "\n",
        "# slice可指定無效的索引 ，但不會造成例外錯誤 會回傳最接近有效的結果 或是空的結果\n",
        "# y[10:]\n",
        "# y[-20:]\n",
        "# y[-23:-3]\n",
        "# y[-44:-10]"
      ],
      "execution_count": null,
      "outputs": [
        {
          "output_type": "execute_result",
          "data": {
            "text/plain": [
              "[]"
            ]
          },
          "metadata": {},
          "execution_count": 65
        }
      ]
    },
    {
      "cell_type": "code",
      "metadata": {
        "colab": {
          "base_uri": "https://localhost:8080/"
        },
        "id": "4XnZIZhR8kr8",
        "outputId": "04bb98c2-8abf-4d84-b349-769d39987007"
      },
      "source": [
        "# append => 加項目到結尾\n",
        "marxes = [\"Groucho\", \"Chico\", \"Harpo\"]\n",
        "marxes.append(\"Zeppo\")\n",
        "marxes"
      ],
      "execution_count": null,
      "outputs": [
        {
          "output_type": "execute_result",
          "data": {
            "text/plain": [
              "['Groucho', 'Chico', 'Harpo', 'Zeppo']"
            ]
          },
          "metadata": {},
          "execution_count": 71
        }
      ]
    },
    {
      "cell_type": "code",
      "metadata": {
        "colab": {
          "base_uri": "https://localhost:8080/"
        },
        "id": "ZfHFJKSn9Q99",
        "outputId": "f0dbb6c7-b2ee-4a33-d8e9-256ffc44cde7"
      },
      "source": [
        "# insert \n",
        "marxes = [\"Groucho\", \"Chico\", \"Harpo\"]\n",
        "marxes.insert(2, \"Gummo\")\n",
        "marxes\n",
        "marxes.insert(20, \"last_one\")\n",
        "marxes"
      ],
      "execution_count": null,
      "outputs": [
        {
          "output_type": "execute_result",
          "data": {
            "text/plain": [
              "['Groucho', 'Chico', 'Gummo', 'Harpo', 'last_one']"
            ]
          },
          "metadata": {},
          "execution_count": 75
        }
      ]
    },
    {
      "cell_type": "code",
      "metadata": {
        "colab": {
          "base_uri": "https://localhost:8080/"
        },
        "id": "AruYRE1P-POQ",
        "outputId": "c150ca4f-8946-4449-f91a-00df438fca46"
      },
      "source": [
        "[\"locking\"] * 3"
      ],
      "execution_count": null,
      "outputs": [
        {
          "output_type": "execute_result",
          "data": {
            "text/plain": [
              "['locking', 'locking', 'locking']"
            ]
          },
          "metadata": {},
          "execution_count": 76
        }
      ]
    },
    {
      "cell_type": "code",
      "metadata": {
        "colab": {
          "base_uri": "https://localhost:8080/"
        },
        "id": "cRwyPCQ_-UCk",
        "outputId": "c40c7006-c87e-4acc-e72d-988535fd8a8a"
      },
      "source": [
        "# 運用 extend 或 + 來結合串列\n",
        "marxes = [\"Groucho\", \"Chico\", \"Harpo\", \"Zeppo\"]\n",
        "others = [\"Gummo\", \"Karl\"]\n",
        "# marxes.extend(others)\n",
        "# marxes += others\n",
        "# marxes.append(others)\n",
        "marxes"
      ],
      "execution_count": null,
      "outputs": [
        {
          "output_type": "execute_result",
          "data": {
            "text/plain": [
              "['Groucho', 'Chico', 'Harpo', 'Zeppo', ['Gummo', 'Karl']]"
            ]
          },
          "metadata": {},
          "execution_count": 80
        }
      ]
    },
    {
      "cell_type": "code",
      "metadata": {
        "colab": {
          "base_uri": "https://localhost:8080/"
        },
        "id": "trH8D4v9_tWb",
        "outputId": "dd908ea9-ebb5-44fc-c5a8-01c3fe974e98"
      },
      "source": [
        "# 利用[offset]來更改一個項目\n",
        "marxes = [\"Groucho\", \"Chico\", \"Harpo\", \"Zeppo\"]\n",
        "marxes[3] = \"Betty\"\n",
        "marxes"
      ],
      "execution_count": null,
      "outputs": [
        {
          "output_type": "execute_result",
          "data": {
            "text/plain": [
              "['Groucho', 'Chico', 'Harpo', 'Betty']"
            ]
          },
          "metadata": {},
          "execution_count": 83
        }
      ]
    },
    {
      "cell_type": "code",
      "metadata": {
        "colab": {
          "base_uri": "https://localhost:8080/"
        },
        "id": "0B9mW6gN4Ki6",
        "outputId": "aeb86c3c-c7f1-4afa-c2c3-7a500f02cba5"
      },
      "source": [
        "# 用 slice 改變項目\n",
        "numbers = [1, 2, 3, 4]\n",
        "numbers[1:3] = [8, 9]\n",
        "numbers"
      ],
      "execution_count": null,
      "outputs": [
        {
          "output_type": "execute_result",
          "data": {
            "text/plain": [
              "[1, 8, 9, 4]"
            ]
          },
          "metadata": {},
          "execution_count": 2
        }
      ]
    },
    {
      "cell_type": "code",
      "metadata": {
        "colab": {
          "base_uri": "https://localhost:8080/"
        },
        "id": "BUwe07bc9E8Z",
        "outputId": "339494ed-6d7a-49b0-8f3a-9d5809a1b07a"
      },
      "source": [
        "# 指派的不需要與 slice 一樣多\n",
        "numbers = [1, 2, 3, 4]\n",
        "numbers[1:3] = [7, 8, 9]\n",
        "numbers"
      ],
      "execution_count": null,
      "outputs": [
        {
          "output_type": "execute_result",
          "data": {
            "text/plain": [
              "[1, 7, 8, 9, 4]"
            ]
          },
          "metadata": {},
          "execution_count": 3
        }
      ]
    },
    {
      "cell_type": "code",
      "metadata": {
        "colab": {
          "base_uri": "https://localhost:8080/"
        },
        "id": "WvTRQIp_9dad",
        "outputId": "e953e272-5bff-4443-c623-65f0278e2d6f"
      },
      "source": [
        "numbers = [1, 2, 3, 4]\n",
        "numbers[1:3] = []\n",
        "numbers"
      ],
      "execution_count": null,
      "outputs": [
        {
          "output_type": "execute_result",
          "data": {
            "text/plain": [
              "[1, 4]"
            ]
          },
          "metadata": {},
          "execution_count": 4
        }
      ]
    },
    {
      "cell_type": "code",
      "metadata": {
        "colab": {
          "base_uri": "https://localhost:8080/"
        },
        "id": "kwvJ49JT9wwY",
        "outputId": "15d64bea-278c-4ba3-831c-ecdca356285d"
      },
      "source": [
        "# 右邊的東西不一定要是串列\n",
        "numbers = [1, 2, 3, 4]\n",
        "numbers[1:3] = (98, 99, 100)\n",
        "numbers"
      ],
      "execution_count": null,
      "outputs": [
        {
          "output_type": "execute_result",
          "data": {
            "text/plain": [
              "[1, 98, 99, 100, 4]"
            ]
          },
          "metadata": {},
          "execution_count": 5
        }
      ]
    },
    {
      "cell_type": "code",
      "metadata": {
        "colab": {
          "base_uri": "https://localhost:8080/"
        },
        "id": "sOdXpODM-HYa",
        "outputId": "ba25273c-8363-4e80-f1ea-e8579fe438f8"
      },
      "source": [
        "# 右邊的東西甚至可以是一個串列\n",
        "numbers = [1, 2, 3, 4]\n",
        "numbers[1:3] = \"what?\"\n",
        "numbers"
      ],
      "execution_count": null,
      "outputs": [
        {
          "output_type": "execute_result",
          "data": {
            "text/plain": [
              "[1, 'w', 'h', 'a', 't', '?', 4]"
            ]
          },
          "metadata": {},
          "execution_count": 6
        }
      ]
    },
    {
      "cell_type": "code",
      "metadata": {
        "colab": {
          "base_uri": "https://localhost:8080/"
        },
        "id": "Z4nkRjHS-aaS",
        "outputId": "5b4add3b-72ed-429d-90c3-9c962bc33f18"
      },
      "source": [
        "# 用 del 和 offset 來刪除一個項目\n",
        "marxes = [\"A\", \"B\", \"C\", \"D\", \"E\"]\n",
        "\n",
        "del marxes[-1]  # 刪除 marxes 最後一項\n",
        "marxes"
      ],
      "execution_count": null,
      "outputs": [
        {
          "output_type": "execute_result",
          "data": {
            "text/plain": [
              "['A', 'B', 'C', 'D']"
            ]
          },
          "metadata": {},
          "execution_count": 7
        }
      ]
    },
    {
      "cell_type": "code",
      "metadata": {
        "colab": {
          "base_uri": "https://localhost:8080/"
        },
        "id": "61s33jYM_BVv",
        "outputId": "0ff09c5c-3971-4ef3-c387-871085ff7543"
      },
      "source": [
        "# 刪除串列中指定的項目，後面的項目會向前遞補\n",
        "marxes = [\"A\", \"B\", \"C\", \"D\", \"E\"]\n",
        "del marxes[1]\n",
        "marxes"
      ],
      "execution_count": null,
      "outputs": [
        {
          "output_type": "execute_result",
          "data": {
            "text/plain": [
              "['A', 'C', 'D', 'E']"
            ]
          },
          "metadata": {},
          "execution_count": 8
        }
      ]
    },
    {
      "cell_type": "code",
      "metadata": {
        "id": "9BYyJYoXAeVq"
      },
      "source": [
        "# del 是Python的陳述式 非串列方法 不得使用 list.del()  =>這是錯的"
      ],
      "execution_count": null,
      "outputs": []
    },
    {
      "cell_type": "code",
      "metadata": {
        "colab": {
          "base_uri": "https://localhost:8080/"
        },
        "id": "yqEzCZXKA7W9",
        "outputId": "920bf157-e0a2-4982-d358-2d052620ec67"
      },
      "source": [
        "# 透過 remove 來刪除項目 => 不用考慮項目在串列中的位置\n",
        "marxes = [\"A\", \"B\", \"C\", \"D\", \"E\"]\n",
        "marxes.remove(\"C\")\n",
        "marxes"
      ],
      "execution_count": null,
      "outputs": [
        {
          "output_type": "execute_result",
          "data": {
            "text/plain": [
              "['A', 'B', 'D', 'E']"
            ]
          },
          "metadata": {},
          "execution_count": 9
        }
      ]
    },
    {
      "cell_type": "code",
      "metadata": {
        "colab": {
          "base_uri": "https://localhost:8080/"
        },
        "id": "lNhMx-miBLEV",
        "outputId": "e3d7a735-3de6-420a-caee-ac6ef3fde355"
      },
      "source": [
        "# pop 的應用\n",
        "marxes = [\"A\", \"B\", \"C\", \"D\", \"E\"]\n",
        "pop_out1 = marxes.pop()\n",
        "print(pop_out)\n",
        "marxes\n",
        "pop_out2 = marxes.pop(0)\n",
        "print(pop_out2)\n",
        "marxes"
      ],
      "execution_count": null,
      "outputs": [
        {
          "output_type": "stream",
          "name": "stdout",
          "text": [
            "E\n",
            "A\n"
          ]
        },
        {
          "output_type": "execute_result",
          "data": {
            "text/plain": [
              "['B', 'C', 'D']"
            ]
          },
          "metadata": {},
          "execution_count": 12
        }
      ]
    },
    {
      "cell_type": "code",
      "metadata": {
        "id": "9-7lOJPVDRSe"
      },
      "source": [
        "# pop(0) => 先進先出\n",
        "# pop() => 後進先出"
      ],
      "execution_count": null,
      "outputs": []
    },
    {
      "cell_type": "code",
      "metadata": {
        "colab": {
          "base_uri": "https://localhost:8080/"
        },
        "id": "SH2zEbQvDmRJ",
        "outputId": "c582920b-cb0d-4981-d57a-c21be721416d"
      },
      "source": [
        "# 用 clear() 清除所有項目\n",
        "Chinese = [\"我愛你\", \"你愛我\", \"她愛她\"]\n",
        "print(Chinese)\n",
        "Chinese.clear()\n",
        "Chinese"
      ],
      "execution_count": null,
      "outputs": [
        {
          "output_type": "stream",
          "name": "stdout",
          "text": [
            "['我愛你', '你愛我', '她愛她']\n"
          ]
        },
        {
          "output_type": "execute_result",
          "data": {
            "text/plain": [
              "[]"
            ]
          },
          "metadata": {},
          "execution_count": 17
        }
      ]
    },
    {
      "cell_type": "code",
      "metadata": {
        "colab": {
          "base_uri": "https://localhost:8080/"
        },
        "id": "IrjIX5XfD9Df",
        "outputId": "ea983008-d497-4c46-bca8-f4893deb0058"
      },
      "source": [
        "# 用 index 找出項目的 offset\n",
        "Chinese = [\"我愛你\", \"你愛我\", \"她愛她\", \"吃果子\", \"拜樹頭\", \"你愛我\"]\n",
        "print(Chinese.index(\"吃果子\"))\n",
        "\n",
        "# 若是該項目在串列中超過一個，則會回傳第一個的 offset\n",
        "print(Chinese.index(\"你愛我\"))\n",
        "\n",
        "## 若是沒有該項目 則會顯示錯誤\n",
        "# print(Chinese.index(\"誰誰誰\"))"
      ],
      "execution_count": null,
      "outputs": [
        {
          "output_type": "stream",
          "name": "stdout",
          "text": [
            "3\n",
            "1\n"
          ]
        }
      ]
    },
    {
      "cell_type": "code",
      "metadata": {
        "colab": {
          "base_uri": "https://localhost:8080/"
        },
        "id": "T21G5FMyFK5l",
        "outputId": "9dc29041-24e6-421f-daf4-1e3424a3e30e"
      },
      "source": [
        "# 使用 in 來檢測值是不存在\n",
        "Chinese = [\"我愛你\", \"你愛我\", \"她愛她\", \"吃果子\", \"拜樹頭\", \"你愛我\"]\n",
        "\n",
        "if \"我愛你\" in Chinese:\n",
        "  print(\"我愛你在Chinese裡面\")\n",
        "else:\n",
        "  print(\"串列無此值\")\n",
        "\n",
        "print(\"拜樹頭\" in Chinese)\n",
        "print(\"誰誰誰\" in Chinese)\n",
        "print(\"你愛我\" in Chinese)"
      ],
      "execution_count": null,
      "outputs": [
        {
          "output_type": "stream",
          "name": "stdout",
          "text": [
            "我愛你在Chinese裡面\n",
            "True\n",
            "False\n",
            "True\n"
          ]
        }
      ]
    },
    {
      "cell_type": "code",
      "metadata": {
        "colab": {
          "base_uri": "https://localhost:8080/"
        },
        "id": "TnBPVkwvF-ie",
        "outputId": "2b9eaec5-1771-4677-e900-5e6ad4555cd3"
      },
      "source": [
        "# 用 count 來計算一個值的出現次數\n",
        "Chinese = [\"我愛你\", \"你愛我\", \"她愛她\", \"吃果子\", \"拜樹頭\", \"你愛我\"]\n",
        "print(Chinese.count(\"你愛我\"))\n",
        "print(Chinese.count(\"誰誰誰\"))"
      ],
      "execution_count": null,
      "outputs": [
        {
          "output_type": "stream",
          "name": "stdout",
          "text": [
            "2\n",
            "0\n"
          ]
        }
      ]
    },
    {
      "cell_type": "code",
      "metadata": {
        "colab": {
          "base_uri": "https://localhost:8080/",
          "height": 71
        },
        "id": "1d7P11pZIv6i",
        "outputId": "85cfa9c0-45ba-43e7-bb86-05f9cec67256"
      },
      "source": [
        "# 用 join來將 串列轉換成字串  串列 => 字串  注意：join 是字串的方法\n",
        "Chinese = [\"我愛你\", \"你愛我\", \"她愛她\", \"吃果子\", \"拜樹頭\", \"你愛我\"]\n",
        "print(\" ， \".join(Chinese))  # 將Chinese 轉換成 字串 輸出一個字串\n",
        "A = \" *** \".join(Chinese)\n",
        "print(Chinese)  # Chinese 仍然是一個串列\n",
        "A"
      ],
      "execution_count": null,
      "outputs": [
        {
          "output_type": "stream",
          "name": "stdout",
          "text": [
            "我愛你 ， 你愛我 ， 她愛她 ， 吃果子 ， 拜樹頭 ， 你愛我\n",
            "['我愛你', '你愛我', '她愛她', '吃果子', '拜樹頭', '你愛我']\n"
          ]
        },
        {
          "output_type": "execute_result",
          "data": {
            "application/vnd.google.colaboratory.intrinsic+json": {
              "type": "string"
            },
            "text/plain": [
              "'我愛你 *** 你愛我 *** 她愛她 *** 吃果子 *** 拜樹頭 *** 你愛我'"
            ]
          },
          "metadata": {},
          "execution_count": 32
        }
      ]
    },
    {
      "cell_type": "code",
      "metadata": {
        "colab": {
          "base_uri": "https://localhost:8080/"
        },
        "id": "RYZssKIZKKrx",
        "outputId": "e3a588f8-2957-4f3f-a67c-36c9c625914b"
      },
      "source": [
        "# split 和 join 互為相反   split 和 join 都是字串方法\n",
        "Chinese = [\"我愛你\", \"你愛我\", \"她愛她\", \"吃果子\", \"拜樹頭\", \"你愛我\"]\n",
        "\n",
        "sep = \" ** \"\n",
        "\n",
        "# 將串列 => 字串\n",
        "joined = sep.join(Chinese)\n",
        "print(joined)\n",
        "\n",
        "# 將字串 => 串列\n",
        "spl = joined.split(sep)\n",
        "print(spl)\n",
        "\n",
        "# 檢驗是否回到原本的串列\n",
        "print(spl == Chinese)"
      ],
      "execution_count": null,
      "outputs": [
        {
          "output_type": "stream",
          "name": "stdout",
          "text": [
            "我愛你 ** 你愛我 ** 她愛她 ** 吃果子 ** 拜樹頭 ** 你愛我\n",
            "['我愛你', '你愛我', '她愛她', '吃果子', '拜樹頭', '你愛我']\n",
            "True\n"
          ]
        }
      ]
    },
    {
      "cell_type": "code",
      "metadata": {
        "colab": {
          "base_uri": "https://localhost:8080/"
        },
        "id": "H9A7H4s7LHCT",
        "outputId": "78c337e4-ffc2-4923-dee5-002b3e378c1c"
      },
      "source": [
        "Line = [\"Zebra\", \"elephant\", \"beach\", \"conjection\", \"micro\", \"acer\"]\n",
        "sorted_line = sorted(Line)  # 大寫排第一、之後按 a～z 排序 \n",
        "print(sorted_line)    # 新串列\n",
        "print(Line)   # 原串列不變\n",
        "\n",
        "print()\n",
        "\n",
        "# 串列.sort() 換改變串列本身\n",
        "Line.sort()\n",
        "print(Line)"
      ],
      "execution_count": null,
      "outputs": [
        {
          "output_type": "stream",
          "name": "stdout",
          "text": [
            "['Zebra', 'acer', 'beach', 'conjection', 'elephant', 'micro']\n",
            "['Zebra', 'elephant', 'beach', 'conjection', 'micro', 'acer']\n",
            "\n",
            "['Zebra', 'acer', 'beach', 'conjection', 'elephant', 'micro']\n"
          ]
        }
      ]
    },
    {
      "cell_type": "code",
      "metadata": {
        "colab": {
          "base_uri": "https://localhost:8080/"
        },
        "id": "ixd3JyExNIzS",
        "outputId": "859a39f7-facb-4e7e-b4a7-e8490e611a64"
      },
      "source": [
        "# sort 運用在數字排列 \n",
        "numbers = [121, 235, 1, 999, 7, 100.0]\n",
        "print(sorted(numbers))"
      ],
      "execution_count": null,
      "outputs": [
        {
          "output_type": "stream",
          "name": "stdout",
          "text": [
            "[1, 7, 100.0, 121, 235, 999]\n"
          ]
        }
      ]
    },
    {
      "cell_type": "code",
      "metadata": {
        "colab": {
          "base_uri": "https://localhost:8080/"
        },
        "id": "Z2rtXQGuNmCo",
        "outputId": "35729288-ec26-4ba4-dcc1-039d58aff1a5"
      },
      "source": [
        "# sort 預設是升序 由小到大\n",
        "# 加上 reverse\n",
        "numbers = [121, 235, 1, 999, 7, 100.0]\n",
        "\n",
        "numbers.sort(reverse=True) # True => 由大至小\n",
        "print(numbers)\n",
        "\n",
        "numbers = sorted(numbers, reverse=False)\n",
        "print(numbers)\n",
        "\n",
        "numbers = sorted(numbers, reverse=True)\n",
        "print(numbers)"
      ],
      "execution_count": null,
      "outputs": [
        {
          "output_type": "stream",
          "name": "stdout",
          "text": [
            "[999, 235, 121, 100.0, 7, 1]\n",
            "[1, 7, 100.0, 121, 235, 999]\n",
            "[999, 235, 121, 100.0, 7, 1]\n"
          ]
        }
      ]
    },
    {
      "cell_type": "code",
      "metadata": {
        "colab": {
          "base_uri": "https://localhost:8080/"
        },
        "id": "mkD2gEKZObNa",
        "outputId": "486a017a-063e-451c-8a09-62a6bab5b7e3"
      },
      "source": [
        "# len 回傳串列中項目的數量\n",
        "ABC = [\"A\", \"B\", \"C\", \"D\"]\n",
        "print(len(ABC))"
      ],
      "execution_count": null,
      "outputs": [
        {
          "output_type": "stream",
          "name": "stdout",
          "text": [
            "4\n"
          ]
        }
      ]
    },
    {
      "cell_type": "code",
      "metadata": {
        "colab": {
          "base_uri": "https://localhost:8080/"
        },
        "id": "k-ZR-_r6PMJl",
        "outputId": "d3cbaaca-15a3-4aa5-bcb5-911ac8e31774"
      },
      "source": [
        "# 用 = 來賦值 \n",
        "a = [1, 2, 3]\n",
        "print(a)\n",
        "\n",
        "print()\n",
        "\n",
        "b = a \n",
        "print(b)\n",
        "\n",
        "print()\n",
        "\n",
        "a[0] = \"surprise\"\n",
        "print(a)\n",
        "\n",
        "print(b)  # => b也跟著改變\n",
        "\n",
        "print()\n",
        "\n",
        "# 這次改變 b 的值 看看 a 會不會跟著變\n",
        "b[1] = \"I hate Surprise.\"\n",
        "print(b)\n",
        "print(a)  # 一起改變了"
      ],
      "execution_count": null,
      "outputs": [
        {
          "output_type": "stream",
          "name": "stdout",
          "text": [
            "[1, 2, 3]\n",
            "\n",
            "[1, 2, 3]\n",
            "\n",
            "['surprise', 2, 3]\n",
            "['surprise', 2, 3]\n",
            "\n",
            "['surprise', 'I hate Surprise.', 3]\n",
            "['surprise', 'I hate Surprise.', 3]\n"
          ]
        }
      ]
    },
    {
      "cell_type": "code",
      "metadata": {
        "id": "5SowWOHYQek7",
        "colab": {
          "base_uri": "https://localhost:8080/"
        },
        "outputId": "d275b87a-8e44-4d4a-961a-c9819e8257c7"
      },
      "source": [
        "# 複製一個新的串列 透過 copy()、list()、slice[:]\n",
        "a = [1, 2, 3, 4, 5, 6]\n",
        "\n",
        "b = a.copy()\n",
        "\n",
        "c = list(a)\n",
        "\n",
        "d = a[:]\n",
        "\n",
        "print(a, b, c, d, sep=\"\\n\\n\")\n",
        "\n",
        "print(\"----------------------------------------------\")\n",
        "# 改變 a 不會影響 b c d\n",
        "a[1] = \"exexe\"\n",
        "\n",
        "print(a, b, c, d, sep=\"\\n\\n\")\n"
      ],
      "execution_count": null,
      "outputs": [
        {
          "output_type": "stream",
          "name": "stdout",
          "text": [
            "[1, 2, 3, 4, 5, 6]\n",
            "\n",
            "[1, 2, 3, 4, 5, 6]\n",
            "\n",
            "[1, 2, 3, 4, 5, 6]\n",
            "\n",
            "[1, 2, 3, 4, 5, 6]\n",
            "----------------------------------------------\n",
            "[1, 'exexe', 3, 4, 5, 6]\n",
            "\n",
            "[1, 2, 3, 4, 5, 6]\n",
            "\n",
            "[1, 2, 3, 4, 5, 6]\n",
            "\n",
            "[1, 2, 3, 4, 5, 6]\n"
          ]
        }
      ]
    },
    {
      "cell_type": "code",
      "metadata": {
        "colab": {
          "base_uri": "https://localhost:8080/"
        },
        "id": "gxUdT0MmZU7C",
        "outputId": "bba934c6-c52e-48ce-e6fc-b03165f92602"
      },
      "source": [
        "# deepcopy\n",
        "a = [1, 2, [8, 9]]\n",
        "b = a.copy()\n",
        "c = list(a)\n",
        "d = a[:]\n",
        "print(a, b, c, d, sep=\"\\n\\n\")\n",
        "\n",
        "print(\"--------------------------------\")\n",
        "\n",
        "a[2][1] = \"串列中串列改變會如何\"  # => 一起改變了 該如何解決 ?\n",
        "print(a, b, c, d, sep=\"\\n\\n\")"
      ],
      "execution_count": null,
      "outputs": [
        {
          "output_type": "stream",
          "name": "stdout",
          "text": [
            "[1, 2, [8, 9]]\n",
            "\n",
            "[1, 2, [8, 9]]\n",
            "\n",
            "[1, 2, [8, 9]]\n",
            "\n",
            "[1, 2, [8, 9]]\n",
            "--------------------------------\n",
            "[1, 2, [8, '串列中串列改變會如何']]\n",
            "\n",
            "[1, 2, [8, '串列中串列改變會如何']]\n",
            "\n",
            "[1, 2, [8, '串列中串列改變會如何']]\n",
            "\n",
            "[1, 2, [8, '串列中串列改變會如何']]\n"
          ]
        }
      ]
    },
    {
      "cell_type": "code",
      "metadata": {
        "colab": {
          "base_uri": "https://localhost:8080/"
        },
        "id": "K-nox9pyauLB",
        "outputId": "9e1bba26-06a9-418f-9e78-2ab2bf8ad94f"
      },
      "source": [
        "# 用 deepcopy 解決  \n",
        "import copy   # deepcopy 屬於 copy 涵式庫\n",
        "a = [1, 2, [8, 9]]\n",
        "b = copy.deepcopy(a)\n",
        "print(a, b, sep=\"\\n\\n\")\n",
        "print(\"===== a 改變後 =========\")\n",
        "a[2][1] = \"a 串列中串列改變了\"\n",
        "print(a, b, sep=\"\\n\\n\")"
      ],
      "execution_count": null,
      "outputs": [
        {
          "output_type": "stream",
          "name": "stdout",
          "text": [
            "[1, 2, [8, 9]]\n",
            "\n",
            "[1, 2, [8, 9]]\n",
            "===== a 改變後 =========\n",
            "[1, 2, [8, 'a 串列中串列改變了']]\n",
            "\n",
            "[1, 2, [8, 9]]\n"
          ]
        }
      ]
    },
    {
      "cell_type": "code",
      "metadata": {
        "colab": {
          "base_uri": "https://localhost:8080/"
        },
        "id": "xNjnRH9tbdy2",
        "outputId": "51849dd6-5ec7-405c-e39b-5f93d7066fdf"
      },
      "source": [
        "a = [1, 2, 3]\n",
        "b = [1, 2, 3, 4]\n",
        "print(\"a == b\", a == b)\n",
        "print(\"a >= b\", a >= b)\n",
        "print(\"a <= b\", a <= b)\n",
        "print(\"a < b\", a < b)\n"
      ],
      "execution_count": null,
      "outputs": [
        {
          "output_type": "stream",
          "name": "stdout",
          "text": [
            "a == b False\n",
            "a >= b False\n",
            "a <= b True\n",
            "a < b True\n"
          ]
        }
      ]
    },
    {
      "cell_type": "code",
      "metadata": {
        "colab": {
          "base_uri": "https://localhost:8080/"
        },
        "id": "_YqrCEHycPA9",
        "outputId": "5aabb88c-28aa-49b6-c9ff-42feb1804950"
      },
      "source": [
        "names = [\"大帥哥\", \"周杰倫\", \"姚明\", \"王建名\", \"麥可\"]\n",
        "for name in names:\n",
        "  print(name)\n"
      ],
      "execution_count": null,
      "outputs": [
        {
          "output_type": "stream",
          "name": "stdout",
          "text": [
            "大帥哥\n",
            "周杰倫\n",
            "姚明\n",
            "王建名\n",
            "麥可\n"
          ]
        }
      ]
    },
    {
      "cell_type": "code",
      "metadata": {
        "colab": {
          "base_uri": "https://localhost:8080/"
        },
        "id": "hMaVqUiFcgmp",
        "outputId": "be6c92fb-701d-49cb-875f-b4f3f6effc6d"
      },
      "source": [
        "names = [\"大帥哥\", \"周杰倫\", \"姚明\", \"王建名\", \"麥可\"]\n",
        "for name in names:\n",
        "  if name == \"姚明\":\n",
        "    print(\"姚明不是帥哥，所以終止迴圈。\")\n",
        "    break\n",
        "  print(name)"
      ],
      "execution_count": null,
      "outputs": [
        {
          "output_type": "stream",
          "name": "stdout",
          "text": [
            "大帥哥\n",
            "周杰倫\n",
            "姚明不是帥哥，所以終止迴圈。\n"
          ]
        }
      ]
    },
    {
      "cell_type": "code",
      "metadata": {
        "colab": {
          "base_uri": "https://localhost:8080/"
        },
        "id": "HdUVAISrc68K",
        "outputId": "25224f4a-43f8-4eff-da5e-7b81be08e32b"
      },
      "source": [
        "names = [\"大帥哥\", \"周杰倫\", \"姚明\", \"王建名\", \"麥可\"]\n",
        "for name in names:\n",
        "  if name == \"姚明\":\n",
        "    print(\"姚明不是帥哥，所以跳過姚明。\")\n",
        "    continue\n",
        "  print(name)"
      ],
      "execution_count": null,
      "outputs": [
        {
          "output_type": "stream",
          "name": "stdout",
          "text": [
            "大帥哥\n",
            "周杰倫\n",
            "姚明不是帥哥，所以跳過姚明。\n",
            "王建名\n",
            "麥可\n"
          ]
        }
      ]
    },
    {
      "cell_type": "code",
      "metadata": {
        "colab": {
          "base_uri": "https://localhost:8080/"
        },
        "id": "hTdB1UCtdVCr",
        "outputId": "4d943ff0-21c4-4006-a836-0bfbb508b4c9"
      },
      "source": [
        "cheeses = [\"brief\", \"gjetost\", \"havarti\"]\n",
        "for cheese in cheeses:\n",
        "  if cheese.startswith('x'):\n",
        "    print(\"I won't eat anything that starts with 'x'.\")\n",
        "    break\n",
        "  else:\n",
        "    print(cheese)\n",
        "else:\n",
        "  print(\"Didn't find anything that started with 'x'.\")"
      ],
      "execution_count": null,
      "outputs": [
        {
          "output_type": "stream",
          "name": "stdout",
          "text": [
            "brief\n",
            "gjetost\n",
            "havarti\n",
            "Didn't find anything that started with 'x'.\n"
          ]
        }
      ]
    },
    {
      "cell_type": "code",
      "metadata": {
        "colab": {
          "base_uri": "https://localhost:8080/"
        },
        "id": "icEPredAec9j",
        "outputId": "8b3f4a32-ab58-403a-805d-f3f01fe463ae"
      },
      "source": [
        "# 如果最初的 for 從未執行，控制流程也會跑到 else\n",
        "cheeses = []\n",
        "for cheese in cheeses:\n",
        "  print(\"this shop has some lovely\", cheese)\n",
        "  break\n",
        "else: # 沒有 break 代表沒有 cheese\n",
        "  print(\"這家店沒有賣起司啊 ?\")"
      ],
      "execution_count": null,
      "outputs": [
        {
          "output_type": "stream",
          "name": "stdout",
          "text": [
            "這家店沒有賣起司啊 ?\n"
          ]
        }
      ]
    },
    {
      "cell_type": "code",
      "metadata": {
        "colab": {
          "base_uri": "https://localhost:8080/"
        },
        "id": "rZDPNTlBfckY",
        "outputId": "bbdbe4cc-d6aa-4ed9-9aac-2315bb11b511"
      },
      "source": [
        "# 使用 zip 來迭代多個序列\n",
        "days = [\"星期一\", \"星期二\", \"星期三\"]\n",
        "fruits = [\"香蕉\", \"柳橙\", \"桃子\"]\n",
        "drinks = [\"咖啡\", \"茶\", \"啤酒\"]\n",
        "desserts = [\"冰淇淋\", \"布丁\", \"提拉米蘇\", \"抹茶蛋糕\", \"香蕉派\"]\n",
        "\n",
        "for day, fruit, drink, dessert in zip(days, fruits, drinks, desserts):\n",
        "  print(day, \": 喝\", drink, \"- 吃\", fruit, \"- 享受\", dessert)\n",
        "# 沒有人吃的到 抹茶蛋糕 和 香蕉派"
      ],
      "execution_count": null,
      "outputs": [
        {
          "output_type": "stream",
          "name": "stdout",
          "text": [
            "星期一 : 喝 咖啡 - 吃 香蕉 - 享受 冰淇淋\n",
            "星期二 : 喝 茶 - 吃 柳橙 - 享受 布丁\n",
            "星期三 : 喝 啤酒 - 吃 桃子 - 享受 提拉米蘇\n"
          ]
        }
      ]
    },
    {
      "cell_type": "code",
      "metadata": {
        "colab": {
          "base_uri": "https://localhost:8080/"
        },
        "id": "kI4nH5tfhbRr",
        "outputId": "2225fef6-3990-4463-8727-f35e943adde1"
      },
      "source": [
        "# zip 應用\n",
        "eng = [\"Monday\", \"Tuesday\", \"Wednesday\"]\n",
        "chi = [\"星期一\", \"星期二\", \"星期三\"]\n",
        "print(list(zip(chi, eng)))\n",
        "\n",
        "print(\"----換成中英字典----\")\n",
        "\n",
        "dict1 = dict(list(zip(chi, eng)))\n",
        "print(\"中英翻:\", dict1)"
      ],
      "execution_count": null,
      "outputs": [
        {
          "output_type": "stream",
          "name": "stdout",
          "text": [
            "[('星期一', 'Monday'), ('星期二', 'Tuesday'), ('星期三', 'Wednesday')]\n",
            "----換成中英字典----\n",
            "中英翻: {'星期一': 'Monday', '星期二': 'Tuesday', '星期三': 'Wednesday'}\n"
          ]
        }
      ]
    },
    {
      "cell_type": "code",
      "metadata": {
        "colab": {
          "base_uri": "https://localhost:8080/"
        },
        "id": "bQquDXP1mban",
        "outputId": "0ef2471f-337c-43f5-9057-b3c5c01e79e1"
      },
      "source": [
        "eng = [\"Monday\", \"Tuesday\", \"Wednesday\"]\n",
        "chi = [\"星期一\", \"星期二\", \"星期三\"]\n",
        "print(zip(chi, eng))  # => zip 物件"
      ],
      "execution_count": null,
      "outputs": [
        {
          "output_type": "stream",
          "name": "stdout",
          "text": [
            "<zip object at 0x7f3163c3a0a0>\n"
          ]
        }
      ]
    },
    {
      "cell_type": "code",
      "metadata": {
        "colab": {
          "base_uri": "https://localhost:8080/"
        },
        "id": "DkpxUXH7i_9N",
        "outputId": "31c6a7d7-e269-4bbe-8800-bc911ca5a075"
      },
      "source": [
        "numbers = []\n",
        "numbers.append(1)\n",
        "numbers.append(2)\n",
        "numbers.append(3)\n",
        "numbers.append(4)\n",
        "numbers.append(5)\n",
        "print(numbers)"
      ],
      "execution_count": null,
      "outputs": [
        {
          "output_type": "stream",
          "name": "stdout",
          "text": [
            "[1, 2, 3, 4, 5]\n"
          ]
        }
      ]
    },
    {
      "cell_type": "code",
      "metadata": {
        "colab": {
          "base_uri": "https://localhost:8080/"
        },
        "id": "Jf-3dFodjWBf",
        "outputId": "03a3b7a9-289e-4fe4-a7b0-3b1eb225261c"
      },
      "source": [
        "numbers = []\n",
        "for num in range(1, 6):\n",
        "  numbers.append(num)\n",
        "numbers"
      ],
      "execution_count": null,
      "outputs": [
        {
          "output_type": "execute_result",
          "data": {
            "text/plain": [
              "[1, 2, 3, 4, 5]"
            ]
          },
          "metadata": {},
          "execution_count": 71
        }
      ]
    },
    {
      "cell_type": "code",
      "metadata": {
        "colab": {
          "base_uri": "https://localhost:8080/"
        },
        "id": "5gr1o-uFjkRu",
        "outputId": "86562f61-29e3-4f11-93fa-a918c6daa916"
      },
      "source": [
        "numbers = list(range(1, 6))\n",
        "print(numbers)"
      ],
      "execution_count": null,
      "outputs": [
        {
          "output_type": "stream",
          "name": "stdout",
          "text": [
            "[1, 2, 3, 4, 5]\n"
          ]
        }
      ]
    },
    {
      "cell_type": "code",
      "metadata": {
        "colab": {
          "base_uri": "https://localhost:8080/"
        },
        "id": "uCatq2p_jxKu",
        "outputId": "a5150f89-e33b-40c3-b78b-a6ebf6099da1"
      },
      "source": [
        "### 串列生成式\n",
        "numbers = [number for number in range(1,6)]\n",
        "print(numbers)"
      ],
      "execution_count": null,
      "outputs": [
        {
          "output_type": "stream",
          "name": "stdout",
          "text": [
            "[1, 2, 3, 4, 5]\n"
          ]
        }
      ]
    },
    {
      "cell_type": "code",
      "metadata": {
        "colab": {
          "base_uri": "https://localhost:8080/"
        },
        "id": "ptQ14AUckSh_",
        "outputId": "906213d4-28ce-4253-a19a-be4b36ff19ee"
      },
      "source": [
        "numbers = [number-1 for number in range(1,6)]\n",
        "print(numbers)"
      ],
      "execution_count": null,
      "outputs": [
        {
          "output_type": "stream",
          "name": "stdout",
          "text": [
            "[0, 1, 2, 3, 4]\n"
          ]
        }
      ]
    },
    {
      "cell_type": "code",
      "metadata": {
        "colab": {
          "base_uri": "https://localhost:8080/"
        },
        "id": "2YcM7uF3kq1I",
        "outputId": "9c77fc17-a446-4d72-b223-80bb2299de2e"
      },
      "source": [
        "# 在串列生成式中，放入條件式  => 較快\n",
        "odd_nums = [number for number in range(1,10) if number % 2 == 1]  # 如果是奇數\n",
        "print(odd_nums)"
      ],
      "execution_count": null,
      "outputs": [
        {
          "output_type": "stream",
          "name": "stdout",
          "text": [
            "[1, 3, 5, 7, 9]\n"
          ]
        }
      ]
    },
    {
      "cell_type": "code",
      "metadata": {
        "colab": {
          "base_uri": "https://localhost:8080/"
        },
        "id": "QruAwL3Klr3F",
        "outputId": "4395a92f-736d-459a-fca8-e38f9627b7fa"
      },
      "source": [
        "# 一般作法 => 較慢\n",
        "odd_nums = []\n",
        "for number in range(1, 10):\n",
        "  if number % 2 == 1:\n",
        "    odd_nums.append(number)\n",
        "print(odd_nums)"
      ],
      "execution_count": null,
      "outputs": [
        {
          "output_type": "stream",
          "name": "stdout",
          "text": [
            "[1, 3, 5, 7, 9]\n"
          ]
        }
      ]
    },
    {
      "cell_type": "code",
      "metadata": {
        "colab": {
          "base_uri": "https://localhost:8080/"
        },
        "id": "vtn-4hCFmNLA",
        "outputId": "20609613-cb07-48d4-cd3f-26bf8f62fd42"
      },
      "source": [
        "# 傳統迴圈中迴圈\n",
        "rows = range(1,5)\n",
        "cols = range(1,4)\n",
        "for row in rows:\n",
        "  for col in cols:\n",
        "    print(row, col)"
      ],
      "execution_count": null,
      "outputs": [
        {
          "output_type": "stream",
          "name": "stdout",
          "text": [
            "1 1\n",
            "1 2\n",
            "1 3\n",
            "2 1\n",
            "2 2\n",
            "2 3\n",
            "3 1\n",
            "3 2\n",
            "3 3\n",
            "4 1\n",
            "4 2\n",
            "4 3\n"
          ]
        }
      ]
    },
    {
      "cell_type": "code",
      "metadata": {
        "colab": {
          "base_uri": "https://localhost:8080/"
        },
        "id": "3yT7CUMYnJZE",
        "outputId": "e381f1a5-00eb-4478-d0a8-380f63acfb2b"
      },
      "source": [
        "# 串列生成式中的 迴圈中迴圈\n",
        "rows = range(1,5)\n",
        "cols = range(1,4)\n",
        "cells = [(row, col) for row in rows for col in cols]\n",
        "print(cells)\n",
        "\n",
        "print(\"==============================================================================\")\n",
        "\n",
        "for cell in cells:\n",
        "  print(cell)\n",
        "\n",
        "print(\"===================================拆包 tuple =====================================\")\n",
        "for row, col in cells:\n",
        "  print(row, col)"
      ],
      "execution_count": null,
      "outputs": [
        {
          "output_type": "stream",
          "name": "stdout",
          "text": [
            "[(1, 1), (1, 2), (1, 3), (2, 1), (2, 2), (2, 3), (3, 1), (3, 2), (3, 3), (4, 1), (4, 2), (4, 3)]\n",
            "==============================================================================\n",
            "(1, 1)\n",
            "(1, 2)\n",
            "(1, 3)\n",
            "(2, 1)\n",
            "(2, 2)\n",
            "(2, 3)\n",
            "(3, 1)\n",
            "(3, 2)\n",
            "(3, 3)\n",
            "(4, 1)\n",
            "(4, 2)\n",
            "(4, 3)\n",
            "===================================拆包 tuple =====================================\n",
            "1 1\n",
            "1 2\n",
            "1 3\n",
            "2 1\n",
            "2 2\n",
            "2 3\n",
            "3 1\n",
            "3 2\n",
            "3 3\n",
            "4 1\n",
            "4 2\n",
            "4 3\n"
          ]
        }
      ]
    },
    {
      "cell_type": "code",
      "metadata": {
        "colab": {
          "base_uri": "https://localhost:8080/"
        },
        "id": "msv0MW4yoMCt",
        "outputId": "ba64a8f1-e454-4acd-9b40-4aa92678a1bb"
      },
      "source": [
        "# 進階串列生成式 for + 條件式 + for + 條件式 or  for + for + if ...\n",
        "rows = range(1,10)\n",
        "cols = range(1,9)\n",
        "# cells = [(row, col) for row in rows if row % 2 == 0 for col in cols if col % 2 == 1]\n",
        "# cells = [(row, col) for row in rows for col in cols if col % 2 == 1 if row % 2 == 0 ]\n",
        "cells = [(row, col) for row in rows for col in cols if col % 2 == 1 and row % 2 == 0 ]\n",
        "\n",
        "for row, col in cells:\n",
        "  print(row, col)"
      ],
      "execution_count": null,
      "outputs": [
        {
          "output_type": "stream",
          "name": "stdout",
          "text": [
            "2 1\n",
            "2 3\n",
            "2 5\n",
            "2 7\n",
            "4 1\n",
            "4 3\n",
            "4 5\n",
            "4 7\n",
            "6 1\n",
            "6 3\n",
            "6 5\n",
            "6 7\n",
            "8 1\n",
            "8 3\n",
            "8 5\n",
            "8 7\n"
          ]
        }
      ]
    },
    {
      "cell_type": "code",
      "metadata": {
        "colab": {
          "base_uri": "https://localhost:8080/"
        },
        "id": "4zPrMAiBq6eT",
        "outputId": "b2ee2860-27b0-4439-c08a-1200cb9a617a"
      },
      "source": [
        "# 串列中串列\n",
        "a = [1, 2, 3]\n",
        "b = [\"A\", \"B\", \"C\"]\n",
        "c = [\"我\", \"好\", \"帥\"]\n",
        "d = [a, b, \"哈哈哈\", c]\n",
        "print(d)"
      ],
      "execution_count": null,
      "outputs": [
        {
          "output_type": "stream",
          "name": "stdout",
          "text": [
            "[[1, 2, 3], ['A', 'B', 'C'], '哈哈哈', ['我', '好', '帥']]\n"
          ]
        }
      ]
    },
    {
      "cell_type": "code",
      "metadata": {
        "colab": {
          "base_uri": "https://localhost:8080/"
        },
        "id": "tzZkRs_2r3o4",
        "outputId": "aebde818-25b9-41f8-b318-51fa6fef5495"
      },
      "source": [
        "# 串列中串列的模樣\n",
        "a = [1, 2, 3]\n",
        "b = [\"A\", \"B\", \"C\"]\n",
        "c = [\"我\", \"好\", \"帥\"]\n",
        "d = [a, b, \"哈哈哈\", c]\n",
        "\n",
        "# for i in range(len(d)):\n",
        "#   print(d[i], end=\"\\n\")\n",
        "\n",
        "for i in range(len(d)):\n",
        "  for x in range(len(d[i])):\n",
        "    print(d[i][x], end=\"\\n\")"
      ],
      "execution_count": null,
      "outputs": [
        {
          "output_type": "stream",
          "name": "stdout",
          "text": [
            "1\n",
            "2\n",
            "3\n",
            "A\n",
            "B\n",
            "C\n",
            "哈\n",
            "哈\n",
            "哈\n",
            "我\n",
            "好\n",
            "帥\n"
          ]
        }
      ]
    }
  ]
}