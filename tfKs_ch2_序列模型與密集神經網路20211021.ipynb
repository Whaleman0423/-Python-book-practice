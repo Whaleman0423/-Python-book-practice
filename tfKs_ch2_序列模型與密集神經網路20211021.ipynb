{
  "nbformat": 4,
  "nbformat_minor": 0,
  "metadata": {
    "colab": {
      "name": "tfKs_ch2_序列模型與密集神經網路20211021.ipynb",
      "provenance": [],
      "authorship_tag": "ABX9TyNSoFMt0qtW3lyom3fVj6Da",
      "include_colab_link": true
    },
    "kernelspec": {
      "name": "python3",
      "display_name": "Python 3"
    },
    "language_info": {
      "name": "python"
    }
  },
  "cells": [
    {
      "cell_type": "markdown",
      "metadata": {
        "id": "view-in-github",
        "colab_type": "text"
      },
      "source": [
        "<a href=\"https://colab.research.google.com/github/Whaleman0423/-Python-book-practice/blob/main/tfKs_ch2_%E5%BA%8F%E5%88%97%E6%A8%A1%E5%9E%8B%E8%88%87%E5%AF%86%E9%9B%86%E7%A5%9E%E7%B6%93%E7%B6%B2%E8%B7%AF20211021.ipynb\" target=\"_parent\"><img src=\"https://colab.research.google.com/assets/colab-badge.svg\" alt=\"Open In Colab\"/></a>"
      ]
    },
    {
      "cell_type": "code",
      "metadata": {
        "id": "SmzN-RxBzSiJ"
      },
      "source": [
        ""
      ],
      "execution_count": null,
      "outputs": []
    }
  ]
}