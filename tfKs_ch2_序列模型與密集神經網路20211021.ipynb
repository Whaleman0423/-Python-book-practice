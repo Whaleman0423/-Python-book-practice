{
  "nbformat": 4,
  "nbformat_minor": 0,
  "metadata": {
    "colab": {
      "name": "tfKs_ch2_序列模型與密集神經網路20211021.ipynb",
      "provenance": [],
      "authorship_tag": "ABX9TyMy6oc17957aPRiPYxw3bGV",
      "include_colab_link": true
    },
    "kernelspec": {
      "name": "python3",
      "display_name": "Python 3"
    },
    "language_info": {
      "name": "python"
    }
  },
  "cells": [
    {
      "cell_type": "markdown",
      "metadata": {
        "id": "view-in-github",
        "colab_type": "text"
      },
      "source": [
        "<a href=\"https://colab.research.google.com/github/Whaleman0423/-Python-book-practice/blob/main/tfKs_ch2_%E5%BA%8F%E5%88%97%E6%A8%A1%E5%9E%8B%E8%88%87%E5%AF%86%E9%9B%86%E7%A5%9E%E7%B6%93%E7%B6%B2%E8%B7%AF20211021.ipynb\" target=\"_parent\"><img src=\"https://colab.research.google.com/assets/colab-badge.svg\" alt=\"Open In Colab\"/></a>"
      ]
    },
    {
      "cell_type": "markdown",
      "metadata": {
        "id": "SmzN-RxBzSiJ"
      },
      "source": [
        "##### 兩種堆疊神經層的方式 :"
      ]
    },
    {
      "cell_type": "code",
      "metadata": {
        "id": "T0pcvzwv0JWH"
      },
      "source": [
        "from tensorflow.keras.models import Sequential\n",
        "from tensorflow.keras.layers import Dense\n",
        "\n",
        "# 第一種方式 :\n",
        "model_a = Sequential()\n",
        "model_a.add(Dense(512, activation=\"relu\", input_dim=784))  # 用 add() 堆疊\n",
        "model_a.add(Dense(10, activation=\"softmax\"))  \n",
        "\n",
        "# 第二種\n",
        "model_b = Sequential([\n",
        "              Dense(512, activation=\"relu\", input_dim=784),\n",
        "              Dense(10, activation=\"softmax\")])\n"
      ],
      "execution_count": 1,
      "outputs": []
    },
    {
      "cell_type": "code",
      "metadata": {
        "id": "-vWxfRFv10j7",
        "outputId": "5a069917-8d2e-4e7e-da01-30279d9cd8e2",
        "colab": {
          "base_uri": "https://localhost:8080/"
        }
      },
      "source": [
        "model_a.summary()"
      ],
      "execution_count": 2,
      "outputs": [
        {
          "output_type": "stream",
          "name": "stdout",
          "text": [
            "Model: \"sequential\"\n",
            "_________________________________________________________________\n",
            "Layer (type)                 Output Shape              Param #   \n",
            "=================================================================\n",
            "dense (Dense)                (None, 512)               401920    \n",
            "_________________________________________________________________\n",
            "dense_1 (Dense)              (None, 10)                5130      \n",
            "=================================================================\n",
            "Total params: 407,050\n",
            "Trainable params: 407,050\n",
            "Non-trainable params: 0\n",
            "_________________________________________________________________\n"
          ]
        }
      ]
    },
    {
      "cell_type": "code",
      "metadata": {
        "id": "u-NMKt5j13eL",
        "outputId": "3ded75b6-ff0d-4271-f51c-9caac486cec3",
        "colab": {
          "base_uri": "https://localhost:8080/"
        }
      },
      "source": [
        "model_b.summary()"
      ],
      "execution_count": 3,
      "outputs": [
        {
          "output_type": "stream",
          "name": "stdout",
          "text": [
            "Model: \"sequential_1\"\n",
            "_________________________________________________________________\n",
            "Layer (type)                 Output Shape              Param #   \n",
            "=================================================================\n",
            "dense_2 (Dense)              (None, 512)               401920    \n",
            "_________________________________________________________________\n",
            "dense_3 (Dense)              (None, 10)                5130      \n",
            "=================================================================\n",
            "Total params: 407,050\n",
            "Trainable params: 407,050\n",
            "Non-trainable params: 0\n",
            "_________________________________________________________________\n"
          ]
        }
      ]
    },
    {
      "cell_type": "markdown",
      "metadata": {
        "id": "SQi1SnOm2BUu"
      },
      "source": [
        "###### 只有層名稱的序號不同，其他都相同。"
      ]
    },
    {
      "cell_type": "code",
      "metadata": {
        "id": "agEODGlQ2gzz"
      },
      "source": [
        ""
      ],
      "execution_count": null,
      "outputs": []
    }
  ]
}