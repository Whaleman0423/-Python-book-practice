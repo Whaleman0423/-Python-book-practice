{
  "nbformat": 4,
  "nbformat_minor": 0,
  "metadata": {
    "colab": {
      "name": "tfKs_ch2_序列模型與密集神經網路20211021.ipynb",
      "provenance": [],
      "authorship_tag": "ABX9TyPUZPj/Js4kRACuCgLsCmUp",
      "include_colab_link": true
    },
    "kernelspec": {
      "name": "python3",
      "display_name": "Python 3"
    },
    "language_info": {
      "name": "python"
    }
  },
  "cells": [
    {
      "cell_type": "markdown",
      "metadata": {
        "id": "view-in-github",
        "colab_type": "text"
      },
      "source": [
        "<a href=\"https://colab.research.google.com/github/Whaleman0423/-Python-book-practice/blob/main/tfKs_ch2_%E5%BA%8F%E5%88%97%E6%A8%A1%E5%9E%8B%E8%88%87%E5%AF%86%E9%9B%86%E7%A5%9E%E7%B6%93%E7%B6%B2%E8%B7%AF20211021.ipynb\" target=\"_parent\"><img src=\"https://colab.research.google.com/assets/colab-badge.svg\" alt=\"Open In Colab\"/></a>"
      ]
    },
    {
      "cell_type": "markdown",
      "metadata": {
        "id": "SmzN-RxBzSiJ"
      },
      "source": [
        "##### 兩種堆疊神經層的方式 :"
      ]
    },
    {
      "cell_type": "code",
      "metadata": {
        "id": "T0pcvzwv0JWH"
      },
      "source": [
        "from tensorflow.keras.models import Sequential\n",
        "from tensorflow.keras.layers import Dense\n",
        "\n",
        "# 第一種方式 :\n",
        "model_a = Sequential()\n",
        "model_a.add(Dense(512, activation=\"relu\", input_dim=784))  # 用 add() 堆疊\n",
        "model_a.add(Dense(10, activation=\"softmax\"))  \n",
        "\n",
        "# 第二種\n",
        "model_b = Sequential([\n",
        "              Dense(512, activation=\"relu\", input_dim=784),\n",
        "              Dense(10, activation=\"softmax\")])\n"
      ],
      "execution_count": 8,
      "outputs": []
    },
    {
      "cell_type": "code",
      "metadata": {
        "colab": {
          "base_uri": "https://localhost:8080/"
        },
        "id": "-vWxfRFv10j7",
        "outputId": "3f590a8b-21d6-4db4-e88f-f90cfcf401d0"
      },
      "source": [
        "model_a.summary()"
      ],
      "execution_count": 9,
      "outputs": [
        {
          "output_type": "stream",
          "name": "stdout",
          "text": [
            "Model: \"sequential_3\"\n",
            "_________________________________________________________________\n",
            "Layer (type)                 Output Shape              Param #   \n",
            "=================================================================\n",
            "dense_7 (Dense)              (None, 512)               401920    \n",
            "_________________________________________________________________\n",
            "dense_8 (Dense)              (None, 10)                5130      \n",
            "=================================================================\n",
            "Total params: 407,050\n",
            "Trainable params: 407,050\n",
            "Non-trainable params: 0\n",
            "_________________________________________________________________\n"
          ]
        }
      ]
    },
    {
      "cell_type": "code",
      "metadata": {
        "colab": {
          "base_uri": "https://localhost:8080/"
        },
        "id": "u-NMKt5j13eL",
        "outputId": "1ca44560-d867-42e6-f30e-a0a0e2966cfa"
      },
      "source": [
        "model_b.summary()"
      ],
      "execution_count": 10,
      "outputs": [
        {
          "output_type": "stream",
          "name": "stdout",
          "text": [
            "Model: \"sequential_4\"\n",
            "_________________________________________________________________\n",
            "Layer (type)                 Output Shape              Param #   \n",
            "=================================================================\n",
            "dense_9 (Dense)              (None, 512)               401920    \n",
            "_________________________________________________________________\n",
            "dense_10 (Dense)             (None, 10)                5130      \n",
            "=================================================================\n",
            "Total params: 407,050\n",
            "Trainable params: 407,050\n",
            "Non-trainable params: 0\n",
            "_________________________________________________________________\n"
          ]
        }
      ]
    },
    {
      "cell_type": "markdown",
      "metadata": {
        "id": "SQi1SnOm2BUu"
      },
      "source": [
        "###### 只有層名稱的序號不同，其他都相同。"
      ]
    },
    {
      "cell_type": "markdown",
      "metadata": {
        "id": "agEODGlQ2gzz"
      },
      "source": [
        "#### 獨立使用的啟動(激活)函式層"
      ]
    },
    {
      "cell_type": "code",
      "metadata": {
        "id": "QmCLamXb27jE",
        "colab": {
          "base_uri": "https://localhost:8080/"
        },
        "outputId": "ce13970f-ed36-4f5b-d637-aa20b6925d9d"
      },
      "source": [
        "from tensorflow.keras.models import Sequential\n",
        "from tensorflow.keras.layers import Dense\n",
        "from tensorflow.keras.layers import Activation   # 匯入啟動函式層類別\n",
        "\n",
        "model = Sequential([\n",
        "              Dense(512, input_dim=784),\n",
        "              Activation(\"relu\"),\n",
        "              Dense(10),\n",
        "              Activation(\"softmax\")\n",
        "                             ])\n",
        "model.summary()  # 與上面的模型功能相同、但結構不同"
      ],
      "execution_count": 11,
      "outputs": [
        {
          "output_type": "stream",
          "name": "stdout",
          "text": [
            "Model: \"sequential_5\"\n",
            "_________________________________________________________________\n",
            "Layer (type)                 Output Shape              Param #   \n",
            "=================================================================\n",
            "dense_11 (Dense)             (None, 512)               401920    \n",
            "_________________________________________________________________\n",
            "activation_3 (Activation)    (None, 512)               0         \n",
            "_________________________________________________________________\n",
            "dense_12 (Dense)             (None, 10)                5130      \n",
            "_________________________________________________________________\n",
            "activation_4 (Activation)    (None, 10)                0         \n",
            "=================================================================\n",
            "Total params: 407,050\n",
            "Trainable params: 407,050\n",
            "Non-trainable params: 0\n",
            "_________________________________________________________________\n"
          ]
        }
      ]
    },
    {
      "cell_type": "markdown",
      "metadata": {
        "id": "BUlQekfUS3By"
      },
      "source": [
        "####layers 屬性 :"
      ]
    },
    {
      "cell_type": "code",
      "metadata": {
        "id": "hU9EnfQlSs1A",
        "outputId": "688dd200-4eaf-47fe-cb23-ece8e8f83762",
        "colab": {
          "base_uri": "https://localhost:8080/"
        }
      },
      "source": [
        "model.layers"
      ],
      "execution_count": 12,
      "outputs": [
        {
          "output_type": "execute_result",
          "data": {
            "text/plain": [
              "[<keras.layers.core.Dense at 0x7fc0efbb5190>,\n",
              " <keras.layers.core.Activation at 0x7fc0efbb5d90>,\n",
              " <keras.layers.core.Dense at 0x7fc0efbb5fd0>,\n",
              " <keras.layers.core.Activation at 0x7fc0efbba350>]"
            ]
          },
          "metadata": {},
          "execution_count": 12
        }
      ]
    },
    {
      "cell_type": "code",
      "metadata": {
        "id": "c63BvA1ETDXr",
        "outputId": "6c9d4fda-e259-4da7-bd60-ffca5e1fa558",
        "colab": {
          "base_uri": "https://localhost:8080/"
        }
      },
      "source": [
        "model.layers[2]"
      ],
      "execution_count": 13,
      "outputs": [
        {
          "output_type": "execute_result",
          "data": {
            "text/plain": [
              "<keras.layers.core.Dense at 0x7fc0efbb5fd0>"
            ]
          },
          "metadata": {},
          "execution_count": 13
        }
      ]
    },
    {
      "cell_type": "code",
      "metadata": {
        "id": "62TsoPL3TG73",
        "outputId": "3d36f96b-9360-48ac-be25-c991a477d4ab",
        "colab": {
          "base_uri": "https://localhost:8080/",
          "height": 35
        }
      },
      "source": [
        "model.layers[2].name"
      ],
      "execution_count": 17,
      "outputs": [
        {
          "output_type": "execute_result",
          "data": {
            "application/vnd.google.colaboratory.intrinsic+json": {
              "type": "string"
            },
            "text/plain": [
              "'dense_12'"
            ]
          },
          "metadata": {},
          "execution_count": 17
        }
      ]
    },
    {
      "cell_type": "markdown",
      "metadata": {
        "id": "mlpqYO0kTVxD"
      },
      "source": [
        "#### inputs 和 outputs 屬性 :"
      ]
    },
    {
      "cell_type": "code",
      "metadata": {
        "id": "rBpvJsDbUITf",
        "outputId": "34ad81b9-c419-421d-db0b-430d079421c6",
        "colab": {
          "base_uri": "https://localhost:8080/"
        }
      },
      "source": [
        "model.inputs"
      ],
      "execution_count": 18,
      "outputs": [
        {
          "output_type": "execute_result",
          "data": {
            "text/plain": [
              "[<KerasTensor: shape=(None, 784) dtype=float32 (created by layer 'dense_11_input')>]"
            ]
          },
          "metadata": {},
          "execution_count": 18
        }
      ]
    },
    {
      "cell_type": "code",
      "metadata": {
        "id": "NpCtaU2RUf1H",
        "outputId": "5715b904-5ca0-456a-c2d4-d389e78cb952",
        "colab": {
          "base_uri": "https://localhost:8080/"
        }
      },
      "source": [
        "model.outputs"
      ],
      "execution_count": 19,
      "outputs": [
        {
          "output_type": "execute_result",
          "data": {
            "text/plain": [
              "[<KerasTensor: shape=(None, 10) dtype=float32 (created by layer 'activation_4')>]"
            ]
          },
          "metadata": {},
          "execution_count": 19
        }
      ]
    },
    {
      "cell_type": "markdown",
      "metadata": {
        "id": "g02P0iOCUo3i"
      },
      "source": [
        "#### 用 get_layer() 取得模型中的神經層 :"
      ]
    },
    {
      "cell_type": "code",
      "metadata": {
        "id": "XOzMvboJU14W",
        "outputId": "7027231d-ddba-4847-93da-b45d6fe71237",
        "colab": {
          "base_uri": "https://localhost:8080/"
        }
      },
      "source": [
        "model.get_layer(\"dense_11\")"
      ],
      "execution_count": 21,
      "outputs": [
        {
          "output_type": "execute_result",
          "data": {
            "text/plain": [
              "<keras.layers.core.Dense at 0x7fc0efbb5190>"
            ]
          },
          "metadata": {},
          "execution_count": 21
        }
      ]
    },
    {
      "cell_type": "code",
      "metadata": {
        "id": "7prMzVySVL_Z",
        "outputId": "be844a90-546c-4bab-9886-56ae8f00a2ec",
        "colab": {
          "base_uri": "https://localhost:8080/"
        }
      },
      "source": [
        "# 也可以寫成\n",
        "model.get_layer(name = \"dense_11\")"
      ],
      "execution_count": 22,
      "outputs": [
        {
          "output_type": "execute_result",
          "data": {
            "text/plain": [
              "<keras.layers.core.Dense at 0x7fc0efbb5190>"
            ]
          },
          "metadata": {},
          "execution_count": 22
        }
      ]
    },
    {
      "cell_type": "markdown",
      "metadata": {
        "id": "CH7wydWgVUOb"
      },
      "source": [
        "##### 將神經層用 name 指定一個名稱"
      ]
    },
    {
      "cell_type": "code",
      "metadata": {
        "id": "dEufffAzVtWP",
        "outputId": "f7d81538-f205-4f96-8630-641501818ec0",
        "colab": {
          "base_uri": "https://localhost:8080/",
          "height": 35
        }
      },
      "source": [
        "d = Dense(8, name=\"superman\")\n",
        "d.name"
      ],
      "execution_count": 23,
      "outputs": [
        {
          "output_type": "execute_result",
          "data": {
            "application/vnd.google.colaboratory.intrinsic+json": {
              "type": "string"
            },
            "text/plain": [
              "'superman'"
            ]
          },
          "metadata": {},
          "execution_count": 23
        }
      ]
    },
    {
      "cell_type": "markdown",
      "metadata": {
        "id": "xM0EaKbpV_NQ"
      },
      "source": [
        "#### 用 pop() 刪除序列模型最後面的神經層\n",
        "##### 相對於 add() 可在序列模型最後面加入神經層， pop() 則可刪除序列模型最後面的神經層"
      ]
    },
    {
      "cell_type": "code",
      "metadata": {
        "id": "B09CfuGBWUnA",
        "outputId": "f0576467-5456-4ec7-b890-df1805d02a08",
        "colab": {
          "base_uri": "https://localhost:8080/"
        }
      },
      "source": [
        "model.layers"
      ],
      "execution_count": 25,
      "outputs": [
        {
          "output_type": "execute_result",
          "data": {
            "text/plain": [
              "[<keras.layers.core.Dense at 0x7fc0efbb5190>,\n",
              " <keras.layers.core.Activation at 0x7fc0efbb5d90>,\n",
              " <keras.layers.core.Dense at 0x7fc0efbb5fd0>,\n",
              " <keras.layers.core.Activation at 0x7fc0efbba350>]"
            ]
          },
          "metadata": {},
          "execution_count": 25
        }
      ]
    },
    {
      "cell_type": "code",
      "metadata": {
        "id": "zCv0G6jrWd3-"
      },
      "source": [
        "model.pop()"
      ],
      "execution_count": 26,
      "outputs": []
    },
    {
      "cell_type": "code",
      "metadata": {
        "id": "WJzKckHNWgc2"
      },
      "source": [
        "model.pop()"
      ],
      "execution_count": 27,
      "outputs": []
    },
    {
      "cell_type": "code",
      "metadata": {
        "id": "HNX8WV2hWi5T",
        "outputId": "8e06c6b5-a8db-4f04-c6e4-0b15d2d8f3c7",
        "colab": {
          "base_uri": "https://localhost:8080/"
        }
      },
      "source": [
        "model.layers"
      ],
      "execution_count": 28,
      "outputs": [
        {
          "output_type": "execute_result",
          "data": {
            "text/plain": [
              "[<keras.layers.core.Dense at 0x7fc0efbb5190>,\n",
              " <keras.layers.core.Activation at 0x7fc0efbb5d90>]"
            ]
          },
          "metadata": {},
          "execution_count": 28
        }
      ]
    },
    {
      "cell_type": "code",
      "metadata": {
        "id": "PpnleF7cWlaP"
      },
      "source": [
        ""
      ],
      "execution_count": null,
      "outputs": []
    }
  ]
}