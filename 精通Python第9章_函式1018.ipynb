{
  "nbformat": 4,
  "nbformat_minor": 0,
  "metadata": {
    "colab": {
      "name": "精通Python第9章_函式1018.ipynb",
      "provenance": [],
      "collapsed_sections": [],
      "authorship_tag": "ABX9TyObQKoy4YzzXttrt8wsi2Dx",
      "include_colab_link": true
    },
    "kernelspec": {
      "name": "python3",
      "display_name": "Python 3"
    },
    "language_info": {
      "name": "python"
    }
  },
  "cells": [
    {
      "cell_type": "markdown",
      "metadata": {
        "id": "view-in-github",
        "colab_type": "text"
      },
      "source": [
        "<a href=\"https://colab.research.google.com/github/Whaleman0423/-Python-book-practice/blob/main/%E7%B2%BE%E9%80%9APython%E7%AC%AC9%E7%AB%A0_%E5%87%BD%E5%BC%8F1018.ipynb\" target=\"_parent\"><img src=\"https://colab.research.google.com/assets/colab-badge.svg\" alt=\"Open In Colab\"/></a>"
      ]
    },
    {
      "cell_type": "code",
      "metadata": {
        "id": "8Drs2bfbI5Vw"
      },
      "source": [
        "def do_nothing():\n",
        "  pass"
      ],
      "execution_count": 1,
      "outputs": []
    }
  ]
}