{
  "nbformat": 4,
  "nbformat_minor": 0,
  "metadata": {
    "colab": {
      "name": "精通Python第9章_函式1018.ipynb",
      "provenance": [],
      "collapsed_sections": [],
      "authorship_tag": "ABX9TyMwEGI+xqJvnAur8FnLp4v1",
      "include_colab_link": true
    },
    "kernelspec": {
      "name": "python3",
      "display_name": "Python 3"
    },
    "language_info": {
      "name": "python"
    }
  },
  "cells": [
    {
      "cell_type": "markdown",
      "metadata": {
        "id": "view-in-github",
        "colab_type": "text"
      },
      "source": [
        "<a href=\"https://colab.research.google.com/github/Whaleman0423/-Python-book-practice/blob/main/%E7%B2%BE%E9%80%9APython%E7%AC%AC9%E7%AB%A0_%E5%87%BD%E5%BC%8F1018.ipynb\" target=\"_parent\"><img src=\"https://colab.research.google.com/assets/colab-badge.svg\" alt=\"Open In Colab\"/></a>"
      ]
    },
    {
      "cell_type": "code",
      "metadata": {
        "id": "8Drs2bfbI5Vw"
      },
      "source": [
        "def do_nothing():\n",
        "  pass"
      ],
      "execution_count": 109,
      "outputs": []
    },
    {
      "cell_type": "code",
      "metadata": {
        "id": "rOuHNrpXTxqc"
      },
      "source": [
        "do_nothing()"
      ],
      "execution_count": 110,
      "outputs": []
    },
    {
      "cell_type": "code",
      "metadata": {
        "colab": {
          "base_uri": "https://localhost:8080/"
        },
        "id": "HCtvou7kT0ao",
        "outputId": "59a5ca9c-0b62-4b89-a70e-68390c1ebac5"
      },
      "source": [
        "def make_a_sound():\n",
        "  print(\"quack\")\n",
        "make_a_sound()"
      ],
      "execution_count": 111,
      "outputs": [
        {
          "output_type": "stream",
          "name": "stdout",
          "text": [
            "quack\n"
          ]
        }
      ]
    },
    {
      "cell_type": "markdown",
      "metadata": {
        "id": "aRs4erPTUQCO"
      },
      "source": [
        "###### 定義式 回傳值"
      ]
    },
    {
      "cell_type": "code",
      "metadata": {
        "colab": {
          "base_uri": "https://localhost:8080/"
        },
        "id": "9eLBMzkTUBh_",
        "outputId": "9afc7342-1b3d-41d6-8809-1597ccb5bd3f"
      },
      "source": [
        "def agree():\n",
        "  return True\n",
        "\n",
        "if agree():\n",
        "  print(\"Splendid\") \n",
        "else:\n",
        "  print(\"That was unexpected.\")\n"
      ],
      "execution_count": 112,
      "outputs": [
        {
          "output_type": "stream",
          "name": "stdout",
          "text": [
            "Splendid\n"
          ]
        }
      ]
    },
    {
      "cell_type": "markdown",
      "metadata": {
        "id": "RAO7Qy_fUlcz"
      },
      "source": [
        "###### 引數與參數"
      ]
    },
    {
      "cell_type": "code",
      "metadata": {
        "colab": {
          "base_uri": "https://localhost:8080/",
          "height": 35
        },
        "id": "FeMKIKerUxJG",
        "outputId": "e9eb3ec6-0645-4995-cfa7-4f71607b972c"
      },
      "source": [
        "def echo(anything):\n",
        "  return anything + \" \" + anything\n",
        "\n",
        "echo(\"Rumplestiltskin\")"
      ],
      "execution_count": 113,
      "outputs": [
        {
          "output_type": "execute_result",
          "data": {
            "application/vnd.google.colaboratory.intrinsic+json": {
              "type": "string"
            },
            "text/plain": [
              "'Rumplestiltskin Rumplestiltskin'"
            ]
          },
          "metadata": {},
          "execution_count": 113
        }
      ]
    },
    {
      "cell_type": "code",
      "metadata": {
        "colab": {
          "base_uri": "https://localhost:8080/"
        },
        "id": "bLuUT5h3VcZd",
        "outputId": "1dfcd088-d5b8-414c-b719-4deea9207230"
      },
      "source": [
        "def commentary(color):\n",
        "  if color == \"red\":\n",
        "    return \"It's a tomato.\"\n",
        "  elif color == \"green\":\n",
        "    return \"It's a green papper.\"\n",
        "  elif color == \"bee purple\":\n",
        "    return \"I don't know what it is, but only bees can see it.\" \n",
        "  else:\n",
        "    return \"I've never heard of the color\" + color + \".\"\n",
        "\n",
        "comment = commentary(\"blue\")\n",
        "print(comment)"
      ],
      "execution_count": 114,
      "outputs": [
        {
          "output_type": "stream",
          "name": "stdout",
          "text": [
            "I've never heard of the colorblue.\n"
          ]
        }
      ]
    },
    {
      "cell_type": "code",
      "metadata": {
        "colab": {
          "base_uri": "https://localhost:8080/"
        },
        "id": "YqDKIMi5XfRo",
        "outputId": "569fa950-38ed-49f3-cf59-54e695a75ee7"
      },
      "source": [
        "print(do_nothing())"
      ],
      "execution_count": 115,
      "outputs": [
        {
          "output_type": "stream",
          "name": "stdout",
          "text": [
            "None\n"
          ]
        }
      ]
    },
    {
      "cell_type": "code",
      "metadata": {
        "colab": {
          "base_uri": "https://localhost:8080/"
        },
        "id": "Xj8igfKuXlM9",
        "outputId": "75652fbd-aa1e-4a9b-dfea-6e1e558315ff"
      },
      "source": [
        "thing = None \n",
        "if thing:\n",
        "  print(\"It's some thing.\")\n",
        "else:\n",
        "  print(\"It's no thing.\")"
      ],
      "execution_count": 116,
      "outputs": [
        {
          "output_type": "stream",
          "name": "stdout",
          "text": [
            "It's no thing.\n"
          ]
        }
      ]
    },
    {
      "cell_type": "code",
      "metadata": {
        "colab": {
          "base_uri": "https://localhost:8080/"
        },
        "id": "yhBoWdMMYig1",
        "outputId": "764ae033-7632-451c-9471-600ac2905890"
      },
      "source": [
        "thing = None \n",
        "if thing is None:\n",
        "  print(\"It's nothing.\")\n",
        "else:\n",
        "  print(\"It's something.\")"
      ],
      "execution_count": 117,
      "outputs": [
        {
          "output_type": "stream",
          "name": "stdout",
          "text": [
            "It's nothing.\n"
          ]
        }
      ]
    },
    {
      "cell_type": "code",
      "metadata": {
        "id": "iDmS8_0wZtWz"
      },
      "source": [
        "def whatis(thing):\n",
        "  if thing is None:\n",
        "    print(thing, \"is None.\")\n",
        "  elif thing:\n",
        "    print(thing, \"is True.\")\n",
        "  elif not thing:\n",
        "    print(thing, \"is False.\")\n",
        "  else:\n",
        "    print(thing)"
      ],
      "execution_count": 118,
      "outputs": []
    },
    {
      "cell_type": "code",
      "metadata": {
        "colab": {
          "base_uri": "https://localhost:8080/"
        },
        "id": "vLovP3I3aQ9P",
        "outputId": "87d909db-ef6e-4fc7-f3a4-18faae3e589c"
      },
      "source": [
        "whatis(None)"
      ],
      "execution_count": 119,
      "outputs": [
        {
          "output_type": "stream",
          "name": "stdout",
          "text": [
            "None is None.\n"
          ]
        }
      ]
    },
    {
      "cell_type": "code",
      "metadata": {
        "colab": {
          "base_uri": "https://localhost:8080/"
        },
        "id": "gq7AkqnoaXzM",
        "outputId": "07ffd8b9-9827-40d9-eb26-a14067156d54"
      },
      "source": [
        "whatis(True)"
      ],
      "execution_count": 120,
      "outputs": [
        {
          "output_type": "stream",
          "name": "stdout",
          "text": [
            "True is True.\n"
          ]
        }
      ]
    },
    {
      "cell_type": "code",
      "metadata": {
        "colab": {
          "base_uri": "https://localhost:8080/"
        },
        "id": "Y8RJJdBfabT9",
        "outputId": "f95a1d54-ef23-444f-9791-289159412e07"
      },
      "source": [
        "whatis(False)"
      ],
      "execution_count": 121,
      "outputs": [
        {
          "output_type": "stream",
          "name": "stdout",
          "text": [
            "False is False.\n"
          ]
        }
      ]
    },
    {
      "cell_type": "code",
      "metadata": {
        "colab": {
          "base_uri": "https://localhost:8080/"
        },
        "id": "PoM4EZjNanya",
        "outputId": "ee8fad3a-5fa9-4240-dee4-f1828f3e4d9a"
      },
      "source": [
        "whatis(0)"
      ],
      "execution_count": 122,
      "outputs": [
        {
          "output_type": "stream",
          "name": "stdout",
          "text": [
            "0 is False.\n"
          ]
        }
      ]
    },
    {
      "cell_type": "code",
      "metadata": {
        "colab": {
          "base_uri": "https://localhost:8080/"
        },
        "id": "jR5e1NUGbBAc",
        "outputId": "f1b4223e-2a9f-4f8a-95a2-221aa5178abe"
      },
      "source": [
        "whatis(0.0)"
      ],
      "execution_count": 123,
      "outputs": [
        {
          "output_type": "stream",
          "name": "stdout",
          "text": [
            "0.0 is False.\n"
          ]
        }
      ]
    },
    {
      "cell_type": "code",
      "metadata": {
        "colab": {
          "base_uri": "https://localhost:8080/"
        },
        "id": "lcBQhRdUbD7o",
        "outputId": "9d63096c-a2f7-49b8-e9c8-80457c845baa"
      },
      "source": [
        "whatis('')"
      ],
      "execution_count": 124,
      "outputs": [
        {
          "output_type": "stream",
          "name": "stdout",
          "text": [
            " is False.\n"
          ]
        }
      ]
    },
    {
      "cell_type": "code",
      "metadata": {
        "colab": {
          "base_uri": "https://localhost:8080/"
        },
        "id": "mHkxWx5wbGKR",
        "outputId": "abfe16e4-2732-4501-b4a4-29b5b8c76059"
      },
      "source": [
        "whatis(\"\")"
      ],
      "execution_count": 125,
      "outputs": [
        {
          "output_type": "stream",
          "name": "stdout",
          "text": [
            " is False.\n"
          ]
        }
      ]
    },
    {
      "cell_type": "code",
      "metadata": {
        "colab": {
          "base_uri": "https://localhost:8080/"
        },
        "id": "qkjbgyGkbJ3G",
        "outputId": "fccf51ba-ec3b-4cef-f3e8-87241de04108"
      },
      "source": [
        "whatis(\"\"\"\"\"\")"
      ],
      "execution_count": 126,
      "outputs": [
        {
          "output_type": "stream",
          "name": "stdout",
          "text": [
            " is False.\n"
          ]
        }
      ]
    },
    {
      "cell_type": "code",
      "metadata": {
        "colab": {
          "base_uri": "https://localhost:8080/"
        },
        "id": "E0yM__xIbNDK",
        "outputId": "b790780c-54a9-484a-c728-16ff9200aa7b"
      },
      "source": [
        "whatis(())"
      ],
      "execution_count": 127,
      "outputs": [
        {
          "output_type": "stream",
          "name": "stdout",
          "text": [
            "() is False.\n"
          ]
        }
      ]
    },
    {
      "cell_type": "code",
      "metadata": {
        "colab": {
          "base_uri": "https://localhost:8080/"
        },
        "id": "elQb2IsGbPRG",
        "outputId": "c2861986-a084-487e-b380-7b33e1bda4f8"
      },
      "source": [
        "whatis([])"
      ],
      "execution_count": 128,
      "outputs": [
        {
          "output_type": "stream",
          "name": "stdout",
          "text": [
            "[] is False.\n"
          ]
        }
      ]
    },
    {
      "cell_type": "code",
      "metadata": {
        "colab": {
          "base_uri": "https://localhost:8080/"
        },
        "id": "bn7AU1b4bRkm",
        "outputId": "bc9a608c-1835-4352-f4ed-ee91cc2c0f61"
      },
      "source": [
        "whatis({})"
      ],
      "execution_count": 129,
      "outputs": [
        {
          "output_type": "stream",
          "name": "stdout",
          "text": [
            "{} is False.\n"
          ]
        }
      ]
    },
    {
      "cell_type": "code",
      "metadata": {
        "colab": {
          "base_uri": "https://localhost:8080/"
        },
        "id": "FWqqgNocbdfS",
        "outputId": "044b2c8a-a5bf-4cf6-db6c-0be904199c39"
      },
      "source": [
        "whatis(set())"
      ],
      "execution_count": 130,
      "outputs": [
        {
          "output_type": "stream",
          "name": "stdout",
          "text": [
            "set() is False.\n"
          ]
        }
      ]
    },
    {
      "cell_type": "code",
      "metadata": {
        "colab": {
          "base_uri": "https://localhost:8080/"
        },
        "id": "8Rwhf9Pebi3E",
        "outputId": "6a1820b0-0375-45fb-d9a2-cf556382c764"
      },
      "source": [
        "whatis(0.000001)"
      ],
      "execution_count": 131,
      "outputs": [
        {
          "output_type": "stream",
          "name": "stdout",
          "text": [
            "1e-06 is True.\n"
          ]
        }
      ]
    },
    {
      "cell_type": "code",
      "metadata": {
        "colab": {
          "base_uri": "https://localhost:8080/"
        },
        "id": "Ogjr3C6bbni0",
        "outputId": "9a22ea6a-bb3f-4c3b-e45b-99428e8a4508"
      },
      "source": [
        "whatis([''])"
      ],
      "execution_count": 132,
      "outputs": [
        {
          "output_type": "stream",
          "name": "stdout",
          "text": [
            "[''] is True.\n"
          ]
        }
      ]
    },
    {
      "cell_type": "code",
      "metadata": {
        "colab": {
          "base_uri": "https://localhost:8080/"
        },
        "id": "oQ1OXLhyb01Z",
        "outputId": "4fe21b02-decc-4f24-c1d4-3e8307a93272"
      },
      "source": [
        "whatis(' ')"
      ],
      "execution_count": 133,
      "outputs": [
        {
          "output_type": "stream",
          "name": "stdout",
          "text": [
            "  is True.\n"
          ]
        }
      ]
    }
  ]
}