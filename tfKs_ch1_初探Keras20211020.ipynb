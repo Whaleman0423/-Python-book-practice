{
  "nbformat": 4,
  "nbformat_minor": 0,
  "metadata": {
    "colab": {
      "name": "tfKs_ch1_初探Keras20211020.ipynb",
      "provenance": [],
      "collapsed_sections": [],
      "authorship_tag": "ABX9TyOlYwuGo8qq7MmSpuegw6vs",
      "include_colab_link": true
    },
    "kernelspec": {
      "name": "python3",
      "display_name": "Python 3"
    },
    "language_info": {
      "name": "python"
    },
    "accelerator": "GPU"
  },
  "cells": [
    {
      "cell_type": "markdown",
      "metadata": {
        "id": "view-in-github",
        "colab_type": "text"
      },
      "source": [
        "<a href=\"https://colab.research.google.com/github/Whaleman0423/-Python-book-practice/blob/main/tfKs_ch1_%E5%88%9D%E6%8E%A2Keras20211020.ipynb\" target=\"_parent\"><img src=\"https://colab.research.google.com/assets/colab-badge.svg\" alt=\"Open In Colab\"/></a>"
      ]
    },
    {
      "cell_type": "code",
      "metadata": {
        "id": "1s9gd5OcSy22"
      },
      "source": [
        "from tensorflow.keras.models import Sequential # 序列式模型類別\n",
        "from tensorflow.keras.layers import Dense # 密集層列別"
      ],
      "execution_count": 164,
      "outputs": []
    },
    {
      "cell_type": "code",
      "metadata": {
        "id": "QZDo2GUyU6OK"
      },
      "source": [
        "model = Sequential() # 建立序列模型物件\n",
        "\n",
        "model.add(Dense(4, activation=\"relu\", input_dim=3)) # 加入第 1 層，第 1 層要加 input_dim\n",
        "model.add(Dense(1, activation=\"sigmoid\"))  # 加入第 2 層\n",
        "\n",
        "model.compile(                  # 以指定的參數編譯模型\n",
        "        optimizer=\"rmsprop\",\n",
        "        loss=\"binary_crossentropy\",\n",
        "        metrics=[\"accuracy\"]\n",
        "                      )\n"
      ],
      "execution_count": 165,
      "outputs": []
    },
    {
      "cell_type": "markdown",
      "metadata": {
        "id": "usw6G6ttX9GO"
      },
      "source": [
        "###### model = Sequential() 建立序列模型物件，並指定給 model，此時 model 就是一個神經網路了，但內容是空的。"
      ]
    },
    {
      "cell_type": "markdown",
      "metadata": {
        "id": "To3t-N9bYNYv"
      },
      "source": [
        "##### Mnist"
      ]
    },
    {
      "cell_type": "code",
      "metadata": {
        "id": "PuH7IzJtYCBv"
      },
      "source": [
        "from tensorflow.keras.datasets import mnist\n",
        "# mnist.load_data()\n",
        "(train_images, train_labels), (test_images, test_labels) = mnist.load_data()"
      ],
      "execution_count": 166,
      "outputs": []
    },
    {
      "cell_type": "markdown",
      "metadata": {
        "id": "FH7O5v7oYU0V"
      },
      "source": [
        "######第一次載入資料集，會由網路將資料下載並儲存到本機使用者資料夾"
      ]
    },
    {
      "cell_type": "code",
      "metadata": {
        "colab": {
          "base_uri": "https://localhost:8080/"
        },
        "id": "vjNc-dwaZL6D",
        "outputId": "8d0631c1-e870-4ffe-8cc4-4d135e6ad9b7"
      },
      "source": [
        "train_images[0]"
      ],
      "execution_count": 167,
      "outputs": [
        {
          "output_type": "execute_result",
          "data": {
            "text/plain": [
              "array([[  0,   0,   0,   0,   0,   0,   0,   0,   0,   0,   0,   0,   0,\n",
              "          0,   0,   0,   0,   0,   0,   0,   0,   0,   0,   0,   0,   0,\n",
              "          0,   0],\n",
              "       [  0,   0,   0,   0,   0,   0,   0,   0,   0,   0,   0,   0,   0,\n",
              "          0,   0,   0,   0,   0,   0,   0,   0,   0,   0,   0,   0,   0,\n",
              "          0,   0],\n",
              "       [  0,   0,   0,   0,   0,   0,   0,   0,   0,   0,   0,   0,   0,\n",
              "          0,   0,   0,   0,   0,   0,   0,   0,   0,   0,   0,   0,   0,\n",
              "          0,   0],\n",
              "       [  0,   0,   0,   0,   0,   0,   0,   0,   0,   0,   0,   0,   0,\n",
              "          0,   0,   0,   0,   0,   0,   0,   0,   0,   0,   0,   0,   0,\n",
              "          0,   0],\n",
              "       [  0,   0,   0,   0,   0,   0,   0,   0,   0,   0,   0,   0,   0,\n",
              "          0,   0,   0,   0,   0,   0,   0,   0,   0,   0,   0,   0,   0,\n",
              "          0,   0],\n",
              "       [  0,   0,   0,   0,   0,   0,   0,   0,   0,   0,   0,   0,   3,\n",
              "         18,  18,  18, 126, 136, 175,  26, 166, 255, 247, 127,   0,   0,\n",
              "          0,   0],\n",
              "       [  0,   0,   0,   0,   0,   0,   0,   0,  30,  36,  94, 154, 170,\n",
              "        253, 253, 253, 253, 253, 225, 172, 253, 242, 195,  64,   0,   0,\n",
              "          0,   0],\n",
              "       [  0,   0,   0,   0,   0,   0,   0,  49, 238, 253, 253, 253, 253,\n",
              "        253, 253, 253, 253, 251,  93,  82,  82,  56,  39,   0,   0,   0,\n",
              "          0,   0],\n",
              "       [  0,   0,   0,   0,   0,   0,   0,  18, 219, 253, 253, 253, 253,\n",
              "        253, 198, 182, 247, 241,   0,   0,   0,   0,   0,   0,   0,   0,\n",
              "          0,   0],\n",
              "       [  0,   0,   0,   0,   0,   0,   0,   0,  80, 156, 107, 253, 253,\n",
              "        205,  11,   0,  43, 154,   0,   0,   0,   0,   0,   0,   0,   0,\n",
              "          0,   0],\n",
              "       [  0,   0,   0,   0,   0,   0,   0,   0,   0,  14,   1, 154, 253,\n",
              "         90,   0,   0,   0,   0,   0,   0,   0,   0,   0,   0,   0,   0,\n",
              "          0,   0],\n",
              "       [  0,   0,   0,   0,   0,   0,   0,   0,   0,   0,   0, 139, 253,\n",
              "        190,   2,   0,   0,   0,   0,   0,   0,   0,   0,   0,   0,   0,\n",
              "          0,   0],\n",
              "       [  0,   0,   0,   0,   0,   0,   0,   0,   0,   0,   0,  11, 190,\n",
              "        253,  70,   0,   0,   0,   0,   0,   0,   0,   0,   0,   0,   0,\n",
              "          0,   0],\n",
              "       [  0,   0,   0,   0,   0,   0,   0,   0,   0,   0,   0,   0,  35,\n",
              "        241, 225, 160, 108,   1,   0,   0,   0,   0,   0,   0,   0,   0,\n",
              "          0,   0],\n",
              "       [  0,   0,   0,   0,   0,   0,   0,   0,   0,   0,   0,   0,   0,\n",
              "         81, 240, 253, 253, 119,  25,   0,   0,   0,   0,   0,   0,   0,\n",
              "          0,   0],\n",
              "       [  0,   0,   0,   0,   0,   0,   0,   0,   0,   0,   0,   0,   0,\n",
              "          0,  45, 186, 253, 253, 150,  27,   0,   0,   0,   0,   0,   0,\n",
              "          0,   0],\n",
              "       [  0,   0,   0,   0,   0,   0,   0,   0,   0,   0,   0,   0,   0,\n",
              "          0,   0,  16,  93, 252, 253, 187,   0,   0,   0,   0,   0,   0,\n",
              "          0,   0],\n",
              "       [  0,   0,   0,   0,   0,   0,   0,   0,   0,   0,   0,   0,   0,\n",
              "          0,   0,   0,   0, 249, 253, 249,  64,   0,   0,   0,   0,   0,\n",
              "          0,   0],\n",
              "       [  0,   0,   0,   0,   0,   0,   0,   0,   0,   0,   0,   0,   0,\n",
              "          0,  46, 130, 183, 253, 253, 207,   2,   0,   0,   0,   0,   0,\n",
              "          0,   0],\n",
              "       [  0,   0,   0,   0,   0,   0,   0,   0,   0,   0,   0,   0,  39,\n",
              "        148, 229, 253, 253, 253, 250, 182,   0,   0,   0,   0,   0,   0,\n",
              "          0,   0],\n",
              "       [  0,   0,   0,   0,   0,   0,   0,   0,   0,   0,  24, 114, 221,\n",
              "        253, 253, 253, 253, 201,  78,   0,   0,   0,   0,   0,   0,   0,\n",
              "          0,   0],\n",
              "       [  0,   0,   0,   0,   0,   0,   0,   0,  23,  66, 213, 253, 253,\n",
              "        253, 253, 198,  81,   2,   0,   0,   0,   0,   0,   0,   0,   0,\n",
              "          0,   0],\n",
              "       [  0,   0,   0,   0,   0,   0,  18, 171, 219, 253, 253, 253, 253,\n",
              "        195,  80,   9,   0,   0,   0,   0,   0,   0,   0,   0,   0,   0,\n",
              "          0,   0],\n",
              "       [  0,   0,   0,   0,  55, 172, 226, 253, 253, 253, 253, 244, 133,\n",
              "         11,   0,   0,   0,   0,   0,   0,   0,   0,   0,   0,   0,   0,\n",
              "          0,   0],\n",
              "       [  0,   0,   0,   0, 136, 253, 253, 253, 212, 135, 132,  16,   0,\n",
              "          0,   0,   0,   0,   0,   0,   0,   0,   0,   0,   0,   0,   0,\n",
              "          0,   0],\n",
              "       [  0,   0,   0,   0,   0,   0,   0,   0,   0,   0,   0,   0,   0,\n",
              "          0,   0,   0,   0,   0,   0,   0,   0,   0,   0,   0,   0,   0,\n",
              "          0,   0],\n",
              "       [  0,   0,   0,   0,   0,   0,   0,   0,   0,   0,   0,   0,   0,\n",
              "          0,   0,   0,   0,   0,   0,   0,   0,   0,   0,   0,   0,   0,\n",
              "          0,   0],\n",
              "       [  0,   0,   0,   0,   0,   0,   0,   0,   0,   0,   0,   0,   0,\n",
              "          0,   0,   0,   0,   0,   0,   0,   0,   0,   0,   0,   0,   0,\n",
              "          0,   0]], dtype=uint8)"
            ]
          },
          "metadata": {},
          "execution_count": 167
        }
      ]
    },
    {
      "cell_type": "code",
      "metadata": {
        "colab": {
          "base_uri": "https://localhost:8080/"
        },
        "id": "48lt5t7Bc92I",
        "outputId": "e56e5cae-89d3-4879-8a73-4553f6886458"
      },
      "source": [
        "train_labels[0]"
      ],
      "execution_count": 168,
      "outputs": [
        {
          "output_type": "execute_result",
          "data": {
            "text/plain": [
              "5"
            ]
          },
          "metadata": {},
          "execution_count": 168
        }
      ]
    },
    {
      "cell_type": "code",
      "metadata": {
        "colab": {
          "base_uri": "https://localhost:8080/"
        },
        "id": "0nYt59W6eNHJ",
        "outputId": "71c5a5c1-c494-4df8-f759-4e834f8fb02c"
      },
      "source": [
        "print(train_images.shape)\n",
        "print(train_labels.shape)\n",
        "print(test_images.shape)\n",
        "print(test_labels.shape)"
      ],
      "execution_count": 169,
      "outputs": [
        {
          "output_type": "stream",
          "name": "stdout",
          "text": [
            "(60000, 28, 28)\n",
            "(60000,)\n",
            "(10000, 28, 28)\n",
            "(10000,)\n"
          ]
        }
      ]
    },
    {
      "cell_type": "markdown",
      "metadata": {
        "id": "53UYviw0f0nr"
      },
      "source": [
        "###### 只秀一張圖"
      ]
    },
    {
      "cell_type": "code",
      "metadata": {
        "colab": {
          "base_uri": "https://localhost:8080/",
          "height": 283
        },
        "id": "OSB_AySFfk2j",
        "outputId": "3e7ce769-0e9a-4696-be7d-b57db42c5b14"
      },
      "source": [
        "import matplotlib.pyplot as plt\n",
        "plt.imshow(train_images[0])"
      ],
      "execution_count": 170,
      "outputs": [
        {
          "output_type": "execute_result",
          "data": {
            "text/plain": [
              "<matplotlib.image.AxesImage at 0x7fde07bc7310>"
            ]
          },
          "metadata": {},
          "execution_count": 170
        },
        {
          "output_type": "display_data",
          "data": {
            "image/png": "[encoded data removed]",
            "text/plain": [
              "<Figure size 432x288 with 1 Axes>"
            ]
          },
          "metadata": {
            "needs_background": "light"
          }
        }
      ]
    },
    {
      "cell_type": "markdown",
      "metadata": {
        "id": "pWNZgfgzf7vZ"
      },
      "source": [
        "######隨機秀一張圖"
      ]
    },
    {
      "cell_type": "code",
      "metadata": {
        "colab": {
          "base_uri": "https://localhost:8080/",
          "height": 283
        },
        "id": "a-2lGfo5gG6p",
        "outputId": "739c1b48-988c-4424-ef90-3a0d8d928c8e"
      },
      "source": [
        "import random \n",
        "c = random.randint(0, 59999)\n",
        "plt.imshow(train_images[c])"
      ],
      "execution_count": 171,
      "outputs": [
        {
          "output_type": "execute_result",
          "data": {
            "text/plain": [
              "<matplotlib.image.AxesImage at 0x7fde09612e10>"
            ]
          },
          "metadata": {},
          "execution_count": 171
        },
        {
          "output_type": "display_data",
          "data": {
            "image/png": "[encoded data removed]",
            "text/plain": [
              "<Figure size 432x288 with 1 Axes>"
            ]
          },
          "metadata": {
            "needs_background": "light"
          }
        }
      ]
    },
    {
      "cell_type": "markdown",
      "metadata": {
        "id": "E6vxpONygYnr"
      },
      "source": [
        "######連續秀一列圖"
      ]
    },
    {
      "cell_type": "code",
      "metadata": {
        "colab": {
          "base_uri": "https://localhost:8080/",
          "height": 212
        },
        "id": "XnqJ06hbgdw3",
        "outputId": "4dc6985f-cf71-4978-bee2-21d52c4b7ba3"
      },
      "source": [
        "import matplotlib.pyplot as plt\n",
        "\n",
        "plt.gcf().set_size_inches(15, 4)  # 設定圖形的寬和高(英吋)\n",
        "for i in range(5):\n",
        "  ax = plt.subplot(1, 5, 1+i)  # 設定 1 * 5 的子圖表，目前要畫 1 + i 個\n",
        "  ax.imshow(train_images[i], cmap=\"gray\")  # 顯示灰階圖片(黑底白字)\n",
        "  ax.set_title(\"label = \" + str(train_labels[i]), fontsize=18)  # 設定標題\n",
        "plt.show()  # 將圖形顯示出來"
      ],
      "execution_count": 172,
      "outputs": [
        {
          "output_type": "display_data",
          "data": {
            "image/png": "[encoded data removed]",
            "text/plain": [
              "<Figure size 1080x288 with 5 Axes>"
            ]
          },
          "metadata": {
            "needs_background": "light"
          }
        }
      ]
    },
    {
      "cell_type": "markdown",
      "metadata": {
        "id": "pdjgV60yi5rN"
      },
      "source": [
        "######隨機秀5張圖"
      ]
    },
    {
      "cell_type": "code",
      "metadata": {
        "colab": {
          "base_uri": "https://localhost:8080/",
          "height": 212
        },
        "id": "G90c16VZin6g",
        "outputId": "147359b1-1131-4bb5-e6e3-582d5d967dab"
      },
      "source": [
        "import matplotlib.pyplot as plt\n",
        "plt.gcf().set_size_inches(15, 4)\n",
        "c = random.sample(range(0, 60000), 5)  # 隨機取得 1 ～ 60000中的 5 個字\n",
        "for i in range(5):\n",
        "  ax = plt.subplot(1, 5, 1+i)\n",
        "  ax.imshow(train_images[c[i]], cmap=\"gray\")\n",
        "  ax.set_title(\"label = \" + str(train_labels[c[i]]), fontsize=18)\n",
        "plt.show()"
      ],
      "execution_count": 173,
      "outputs": [
        {
          "output_type": "display_data",
          "data": {
            "image/png": "[encoded data removed]",
            "text/plain": [
              "<Figure size 1080x288 with 5 Axes>"
            ]
          },
          "metadata": {
            "needs_background": "light"
          }
        }
      ]
    },
    {
      "cell_type": "markdown",
      "metadata": {
        "id": "4Z4_1HfXmZUB"
      },
      "source": [
        "#####白底黑字，"
      ]
    },
    {
      "cell_type": "code",
      "metadata": {
        "colab": {
          "base_uri": "https://localhost:8080/",
          "height": 212
        },
        "id": "p3j8G2C_mNiL",
        "outputId": "31ebc55c-10c4-47a9-8095-2a14a0961cbb"
      },
      "source": [
        "import matplotlib.pyplot as plt\n",
        "plt.gcf().set_size_inches(15, 4)\n",
        "for i in range(5):\n",
        "  axis = plt.subplot(1, 5, 1+i)\n",
        "  axis.imshow(train_images[i], cmap=\"binary\")\n",
        "  axis.set_title(\"label = \" + str(train_labels[i]), fontsize=18)\n",
        "plt.show()"
      ],
      "execution_count": 174,
      "outputs": [
        {
          "output_type": "display_data",
          "data": {
            "image/png": "[encoded data removed]",
            "text/plain": [
              "<Figure size 1080x288 with 5 Axes>"
            ]
          },
          "metadata": {
            "needs_background": "light"
          }
        }
      ]
    },
    {
      "cell_type": "markdown",
      "metadata": {
        "id": "UG6to-LLnR1u"
      },
      "source": [
        "### 資料預處理(preprocess)"
      ]
    },
    {
      "cell_type": "markdown",
      "metadata": {
        "id": "GI3l1UAKnVU1"
      },
      "source": [
        "###### 1. 把 2D 轉成 1D\n",
        "###### 2. 將像素值由 0～255 ，轉成 0～1"
      ]
    },
    {
      "cell_type": "code",
      "metadata": {
        "id": "d1rzYslIn-1L"
      },
      "source": [
        "# 訓練集\n",
        "x_train = train_images.reshape((60000, 28 * 28))  # 將 (60000, 28, 28) 轉換成 (60000, 784)\n",
        "x_train = x_train.astype('float32') / 255.0  # 再將 0～255 的像素值轉換成 0～1的浮點數\n",
        "\n",
        "# 測試集\n",
        "x_test = test_images.reshape((10000, 28 * 28))   # 將10000筆測試集採同樣方式的轉換\n",
        "x_test = x_test.astype(\"float32\") / 255.0"
      ],
      "execution_count": 175,
      "outputs": []
    },
    {
      "cell_type": "markdown",
      "metadata": {
        "id": "neueERmTpgUu"
      },
      "source": [
        "###### 轉換後，再看一次shape"
      ]
    },
    {
      "cell_type": "code",
      "metadata": {
        "colab": {
          "base_uri": "https://localhost:8080/"
        },
        "id": "yGuBC6D0pkxr",
        "outputId": "3d6ef94c-a304-4c04-8691-51e8d04fe2b3"
      },
      "source": [
        "print(x_train.shape)\n",
        "print(x_test.shape)"
      ],
      "execution_count": 176,
      "outputs": [
        {
          "output_type": "stream",
          "name": "stdout",
          "text": [
            "(60000, 784)\n",
            "(10000, 784)\n"
          ]
        }
      ]
    },
    {
      "cell_type": "markdown",
      "metadata": {
        "id": "08MAc0sppukM"
      },
      "source": [
        "###### 標籤資料的轉換\n",
        "###### 例如 : 將答案 2 轉換為 [0, 0, 1, 0, 0, 0, 0, 0, 0, 0]\n",
        "###### => One-hot-encoding"
      ]
    },
    {
      "cell_type": "code",
      "metadata": {
        "id": "_u10da2ErVda"
      },
      "source": [
        "from tensorflow.keras.utils import to_categorical\n",
        "y_train = to_categorical(train_labels)  # 將訓練標籤和測試答案做 One-hot-encoding\n",
        "y_test = to_categorical(test_labels)"
      ],
      "execution_count": 177,
      "outputs": []
    },
    {
      "cell_type": "markdown",
      "metadata": {
        "id": "GooukkIAs2I5"
      },
      "source": [
        "###### 做完 One-hot-encoding 看一下標籤的形式"
      ]
    },
    {
      "cell_type": "code",
      "metadata": {
        "colab": {
          "base_uri": "https://localhost:8080/"
        },
        "id": "c-F-LIgDsh36",
        "outputId": "6419862e-dadf-4ac9-caaf-1814e2397ba4"
      },
      "source": [
        "print(train_labels[0])\n",
        "print(y_train[0])\n",
        "# 看一下 標籤的 shape\n",
        "print(y_train.shape) # 原本是(60000,)"
      ],
      "execution_count": 178,
      "outputs": [
        {
          "output_type": "stream",
          "name": "stdout",
          "text": [
            "5\n",
            "[0. 0. 0. 0. 0. 1. 0. 0. 0. 0.]\n",
            "(60000, 10)\n"
          ]
        }
      ]
    },
    {
      "cell_type": "markdown",
      "metadata": {
        "id": "ayzcJVkXtHd0"
      },
      "source": [
        "### 預處理好樣本和標籤後，即可著手建立神經網路模型"
      ]
    },
    {
      "cell_type": "code",
      "metadata": {
        "id": "db97kftpyPrY"
      },
      "source": [
        "from tensorflow.keras.models import Sequential\n",
        "from tensorflow.keras.layers import Dense\n",
        "\n",
        "model = Sequential()\n",
        "model.add(Dense(512, activation=\"relu\", input_dim=784))\n",
        "model.add(Dense(10, activation=\"softmax\"))\n",
        "model.compile(\n",
        "          optimizer=\"rmsprop\",          # 指定優化器\n",
        "          loss='categorical_crossentropy',    # 指定損失函數\n",
        "          metrics=[\"acc\"]             # 指定評量準則 \n",
        "        )\n"
      ],
      "execution_count": 179,
      "outputs": []
    },
    {
      "cell_type": "markdown",
      "metadata": {
        "id": "ZUlti6dF0dKM"
      },
      "source": [
        "#### 建好模型後，呼叫模型的 summary()，來檢視模型的摘要資訊。"
      ]
    },
    {
      "cell_type": "code",
      "metadata": {
        "colab": {
          "base_uri": "https://localhost:8080/"
        },
        "id": "k5yXbFD10px7",
        "outputId": "fb9086ab-d71d-4393-f3fd-7d0726915ca4"
      },
      "source": [
        "model.summary()"
      ],
      "execution_count": 180,
      "outputs": [
        {
          "output_type": "stream",
          "name": "stdout",
          "text": [
            "Model: \"sequential_15\"\n",
            "_________________________________________________________________\n",
            "Layer (type)                 Output Shape              Param #   \n",
            "=================================================================\n",
            "dense_30 (Dense)             (None, 512)               401920    \n",
            "_________________________________________________________________\n",
            "dense_31 (Dense)             (None, 10)                5130      \n",
            "=================================================================\n",
            "Total params: 407,050\n",
            "Trainable params: 407,050\n",
            "Non-trainable params: 0\n",
            "_________________________________________________________________\n"
          ]
        }
      ]
    },
    {
      "cell_type": "markdown",
      "metadata": {
        "id": "Tlwb-MRd1gPD"
      },
      "source": [
        "#### 用準備好的 x_train(訓練樣本) 和 y_train(標籤) ， fit() 訓練模型"
      ]
    },
    {
      "cell_type": "code",
      "metadata": {
        "colab": {
          "base_uri": "https://localhost:8080/"
        },
        "id": "cERLsm7H2_mo",
        "outputId": "a4b83e64-baff-4347-f499-27366ed55704"
      },
      "source": [
        "history = model.fit(x_train, y_train, epochs=5, batch_size=128)"
      ],
      "execution_count": 181,
      "outputs": [
        {
          "output_type": "stream",
          "name": "stdout",
          "text": [
            "Epoch 1/5\n",
            "469/469 [==============================] - 2s 4ms/step - loss: 0.2548 - acc: 0.9270\n",
            "Epoch 2/5\n",
            "469/469 [==============================] - 2s 4ms/step - loss: 0.1039 - acc: 0.9696\n",
            "Epoch 3/5\n",
            "469/469 [==============================] - 2s 4ms/step - loss: 0.0682 - acc: 0.9798\n",
            "Epoch 4/5\n",
            "469/469 [==============================] - 2s 4ms/step - loss: 0.0492 - acc: 0.9852\n",
            "Epoch 5/5\n",
            "469/469 [==============================] - 2s 4ms/step - loss: 0.0369 - acc: 0.9889\n"
          ]
        }
      ]
    },
    {
      "cell_type": "markdown",
      "metadata": {
        "id": "jlURpLqb5_B9"
      },
      "source": [
        "####評估模型成效及修正  evaluate()"
      ]
    },
    {
      "cell_type": "code",
      "metadata": {
        "colab": {
          "base_uri": "https://localhost:8080/"
        },
        "id": "aS9bhWyI6DBf",
        "outputId": "b2e36071-3ffb-4646-c94e-3c6bd71b856b"
      },
      "source": [
        "test_loss, test_acc = model.evaluate(x_test, y_test)\n",
        "print(\"對測試資料集的準確率 : \", test_acc)\n",
        "print(\"對測試資料集的lose : \", test_loss)"
      ],
      "execution_count": 182,
      "outputs": [
        {
          "output_type": "stream",
          "name": "stdout",
          "text": [
            "313/313 [==============================] - 1s 3ms/step - loss: 0.0675 - acc: 0.9814\n",
            "對測試資料集的準確率 :  0.9814000129699707\n",
            "對測試資料集的lose :  0.06753388792276382\n"
          ]
        }
      ]
    },
    {
      "cell_type": "code",
      "metadata": {
        "colab": {
          "base_uri": "https://localhost:8080/"
        },
        "id": "kvgismB87PsR",
        "outputId": "15c6b345-65a0-4176-9463-6e9c4b9f3ab8"
      },
      "source": [
        "model.evaluate(x_test, y_test)"
      ],
      "execution_count": 183,
      "outputs": [
        {
          "output_type": "stream",
          "name": "stdout",
          "text": [
            "313/313 [==============================] - 1s 3ms/step - loss: 0.0675 - acc: 0.9814\n"
          ]
        },
        {
          "output_type": "execute_result",
          "data": {
            "text/plain": [
              "[0.06753388792276382, 0.9814000129699707]"
            ]
          },
          "metadata": {},
          "execution_count": 183
        }
      ]
    },
    {
      "cell_type": "markdown",
      "metadata": {
        "id": "U6SqacHUBDS9"
      },
      "source": [
        "#### 用模型預測答案"
      ]
    },
    {
      "cell_type": "code",
      "metadata": {
        "id": "dcUfKfrWBGcB",
        "outputId": "646923db-617a-4063-a394-9e6d31f86f18",
        "colab": {
          "base_uri": "https://localhost:8080/"
        }
      },
      "source": [
        "predict = model.predict(x_test)  # predict() 會回傳預測的結果\n",
        "predict.round(1)  # 顯示四捨五入到小數一位的預測結果"
      ],
      "execution_count": 184,
      "outputs": [
        {
          "output_type": "execute_result",
          "data": {
            "text/plain": [
              "array([[0., 0., 0., ..., 1., 0., 0.],\n",
              "       [0., 0., 1., ..., 0., 0., 0.],\n",
              "       [0., 1., 0., ..., 0., 0., 0.],\n",
              "       ...,\n",
              "       [0., 0., 0., ..., 0., 0., 0.],\n",
              "       [0., 0., 0., ..., 0., 0., 0.],\n",
              "       [0., 0., 0., ..., 0., 0., 0.]], dtype=float32)"
            ]
          },
          "metadata": {},
          "execution_count": 184
        }
      ]
    },
    {
      "cell_type": "markdown",
      "metadata": {
        "id": "tsc_u4uMB1p_"
      },
      "source": [
        "###### 想直接看預測結果，用 predict_classes()"
      ]
    },
    {
      "cell_type": "code",
      "metadata": {
        "id": "_HlfZN_KB8GZ",
        "outputId": "f47a562e-6ca0-4a9f-a0c2-3ae64d5f5b13",
        "colab": {
          "base_uri": "https://localhost:8080/"
        }
      },
      "source": [
        "# predict = model.predict_classes(x_test)  # 不行用了\n",
        "import numpy as np\n",
        "predict = model.predict(x_test)  \n",
        "predict = np.argmax(predict,axis=1)\n",
        "print(\"預測結果: \", predict)\n",
        "print(\"正確標籤: \", test_labels)"
      ],
      "execution_count": 185,
      "outputs": [
        {
          "output_type": "stream",
          "name": "stdout",
          "text": [
            "預測結果:  [7 2 1 ... 4 5 6]\n",
            "正確標籤:  [7 2 1 ... 4 5 6]\n"
          ]
        }
      ]
    },
    {
      "cell_type": "markdown",
      "metadata": {
        "id": "laU3DW81Egwk"
      },
      "source": [
        "##### 畫出測試圖片並標示預測結果與標準答案"
      ]
    },
    {
      "cell_type": "code",
      "metadata": {
        "id": "L5N9bG1JEIBF",
        "outputId": "5837bf04-738b-42f3-9622-873581a2aea7",
        "colab": {
          "base_uri": "https://localhost:8080/",
          "height": 220
        }
      },
      "source": [
        "predict = model.predict(x_test)  \n",
        "predict = np.argmax(predict,axis=1)\n",
        "plt.gcf().set_size_inches(15, 4)\n",
        "for i in range(5):\n",
        "  ax = plt.subplot(1, 5, 1+i)\n",
        "  ax.imshow(test_images[i], cmap=\"binary\")\n",
        "  ax.set_title(\"label = \" + str(test_labels[i]) + '\\npredi = ' + str(predict[i]), fontsize=18)    \n",
        "  ax.set_xticks([]); ax.set_yticks([])  \n",
        "plt.show()"
      ],
      "execution_count": 201,
      "outputs": [
        {
          "output_type": "display_data",
          "data": {
            "image/png": "[encoded data removed]",
            "text/plain": [
              "<Figure size 1080x288 with 5 Axes>"
            ]
          },
          "metadata": {}
        }
      ]
    },
    {
      "cell_type": "markdown",
      "metadata": {
        "id": "hGmRr2ChGDf9"
      },
      "source": [
        "###### 顯示錯誤"
      ]
    },
    {
      "cell_type": "code",
      "metadata": {
        "id": "P3kSo1zAF_X6"
      },
      "source": [
        "predict = model.predict(x_test)  \n",
        "predict = np.argmax(predict,axis=1)\n",
        "\n",
        "errors = []\n",
        "for i in range(10000):\n",
        "  if predict[i] != test_labels[i]:\n",
        "    errors.append(i)\n",
        "plt.gcf().set_size_inches(13, 4)\n",
        "plt.figure(figsize=(50,80))\n",
        "\n",
        "for i in range(len(errors)):\n",
        "  ax = plt.subplot(20, 10, 1+i)\n",
        "  ax.imshow(test_images[errors[i]], cmap=\"binary\")\n",
        "  ax.set_title(\"label = \" +str(test_labels[errors[i]]) + \"\\npredi : \" + str(predict[errors[i]]), fontsize=20)\n",
        "  ax.set_xticks([]); ax.set_yticks([])\n",
        "plt.show()"
      ],
      "execution_count": null,
      "outputs": []
    }
  ]
}