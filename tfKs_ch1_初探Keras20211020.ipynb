{
  "nbformat": 4,
  "nbformat_minor": 0,
  "metadata": {
    "colab": {
      "name": "tfKs_ch1_初探Keras20211020.ipynb",
      "provenance": [],
      "collapsed_sections": [],
      "authorship_tag": "ABX9TyNIhIIsWc3M1OdhrKdT/CJk",
      "include_colab_link": true
    },
    "kernelspec": {
      "name": "python3",
      "display_name": "Python 3"
    },
    "language_info": {
      "name": "python"
    }
  },
  "cells": [
    {
      "cell_type": "markdown",
      "metadata": {
        "id": "view-in-github",
        "colab_type": "text"
      },
      "source": [
        "<a href=\"https://colab.research.google.com/github/Whaleman0423/-Python-book-practice/blob/main/tfKs_ch1_%E5%88%9D%E6%8E%A2Keras20211020.ipynb\" target=\"_parent\"><img src=\"https://colab.research.google.com/assets/colab-badge.svg\" alt=\"Open In Colab\"/></a>"
      ]
    },
    {
      "cell_type": "code",
      "metadata": {
        "id": "1s9gd5OcSy22"
      },
      "source": [
        "from tensorflow.keras.models import Sequential # 序列式模型類別\n",
        "from tensorflow.keras.layers import Dense # 密集層列別"
      ],
      "execution_count": 4,
      "outputs": []
    },
    {
      "cell_type": "code",
      "metadata": {
        "id": "QZDo2GUyU6OK"
      },
      "source": [
        "model = Sequential() # 建立序列模型物件\n",
        "\n",
        "model.add(Dense(4, activation=\"relu\", input_dim=3)) # 加入第 1 層，第 1 層要加 input_dim\n",
        "model.add(Dense(1, activation=\"sigmoid\"))  # 加入第 2 層\n",
        "\n",
        "model.compile(                  # 以指定的參數編譯模型\n",
        "        optimizer=\"rmsprop\",\n",
        "        loss=\"binary_crossentropy\",\n",
        "        metrics=[\"accuracy\"]\n",
        "                      )\n"
      ],
      "execution_count": null,
      "outputs": []
    },
    {
      "cell_type": "markdown",
      "metadata": {
        "id": "usw6G6ttX9GO"
      },
      "source": [
        "###### model = Sequential() 建立序列模型物件，並指定給 model，此時 model 就是一個神經網路了，但內容是空的。"
      ]
    },
    {
      "cell_type": "markdown",
      "metadata": {
        "id": "To3t-N9bYNYv"
      },
      "source": [
        "##### Mnist"
      ]
    },
    {
      "cell_type": "code",
      "metadata": {
        "id": "PuH7IzJtYCBv"
      },
      "source": [
        "from tensorflow.keras.datasets import mnist\n",
        "# mnist.load_data()\n",
        "(train_images, train_labels), (test_images, test_labels) = mnist.load_data()"
      ],
      "execution_count": 5,
      "outputs": []
    },
    {
      "cell_type": "markdown",
      "metadata": {
        "id": "FH7O5v7oYU0V"
      },
      "source": [
        "######第一次載入資料集，會由網路將資料下載並儲存到本機使用者資料夾"
      ]
    },
    {
      "cell_type": "code",
      "metadata": {
        "id": "vjNc-dwaZL6D"
      },
      "source": [
        ""
      ],
      "execution_count": null,
      "outputs": []
    }
  ]
}