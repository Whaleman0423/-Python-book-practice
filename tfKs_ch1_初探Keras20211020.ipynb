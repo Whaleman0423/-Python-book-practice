{
  "nbformat": 4,
  "nbformat_minor": 0,
  "metadata": {
    "colab": {
      "name": "tfKs_ch1_初探Keras20211020.ipynb",
      "provenance": [],
      "collapsed_sections": [],
      "authorship_tag": "ABX9TyN5oX/nlNWxPCiT8BWhB3Je",
      "include_colab_link": true
    },
    "kernelspec": {
      "name": "python3",
      "display_name": "Python 3"
    },
    "language_info": {
      "name": "python"
    }
  },
  "cells": [
    {
      "cell_type": "markdown",
      "metadata": {
        "id": "view-in-github",
        "colab_type": "text"
      },
      "source": [
        "<a href=\"https://colab.research.google.com/github/Whaleman0423/-Python-book-practice/blob/main/tfKs_ch1_%E5%88%9D%E6%8E%A2Keras20211020.ipynb\" target=\"_parent\"><img src=\"https://colab.research.google.com/assets/colab-badge.svg\" alt=\"Open In Colab\"/></a>"
      ]
    },
    {
      "cell_type": "code",
      "metadata": {
        "id": "1s9gd5OcSy22"
      },
      "source": [
        "from tensorflow.keras.models import Sequential # 序列式模型類別\n",
        "from tensorflow.keras.layers import Dense # 密集層列別"
      ],
      "execution_count": 4,
      "outputs": []
    },
    {
      "cell_type": "code",
      "metadata": {
        "id": "QZDo2GUyU6OK"
      },
      "source": [
        "model = Sequential() # 建立序列模型物件\n",
        "\n",
        "model.add(Dense(4, activation=\"relu\", input_dim=3)) # 加入第 1 層，第 1 層要加 input_dim\n",
        "model.add(Dense(1, activation=\"sigmoid\"))  # 加入第 2 層\n",
        "\n",
        "model.compile(                  # 以指定的參數編譯模型\n",
        "        optimizer=\"rmsprop\",\n",
        "        loss=\"binary_crossentropy\",\n",
        "        metrics=[\"accuracy\"]\n",
        "                      )\n"
      ],
      "execution_count": null,
      "outputs": []
    },
    {
      "cell_type": "markdown",
      "metadata": {
        "id": "usw6G6ttX9GO"
      },
      "source": [
        "###### model = Sequential() 建立序列模型物件，並指定給 model，此時 model 就是一個神經網路了，但內容是空的。"
      ]
    },
    {
      "cell_type": "markdown",
      "metadata": {
        "id": "To3t-N9bYNYv"
      },
      "source": [
        "##### Mnist"
      ]
    },
    {
      "cell_type": "code",
      "metadata": {
        "id": "PuH7IzJtYCBv"
      },
      "source": [
        "from tensorflow.keras.datasets import mnist\n",
        "# mnist.load_data()\n",
        "(train_images, train_labels), (test_images, test_labels) = mnist.load_data()"
      ],
      "execution_count": 5,
      "outputs": []
    },
    {
      "cell_type": "markdown",
      "metadata": {
        "id": "FH7O5v7oYU0V"
      },
      "source": [
        "######第一次載入資料集，會由網路將資料下載並儲存到本機使用者資料夾"
      ]
    },
    {
      "cell_type": "code",
      "metadata": {
        "id": "vjNc-dwaZL6D"
      },
      "source": [
        "train_images[0]"
      ],
      "execution_count": null,
      "outputs": []
    },
    {
      "cell_type": "code",
      "metadata": {
        "colab": {
          "base_uri": "https://localhost:8080/"
        },
        "id": "48lt5t7Bc92I",
        "outputId": "d5427df6-f0e4-40da-d008-e146001c226e"
      },
      "source": [
        "train_labels[0]"
      ],
      "execution_count": 7,
      "outputs": [
        {
          "output_type": "execute_result",
          "data": {
            "text/plain": [
              "5"
            ]
          },
          "metadata": {},
          "execution_count": 7
        }
      ]
    },
    {
      "cell_type": "code",
      "metadata": {
        "colab": {
          "base_uri": "https://localhost:8080/"
        },
        "id": "0nYt59W6eNHJ",
        "outputId": "86f2b9cb-7d6d-4e57-be09-47751fbe9f74"
      },
      "source": [
        "print(train_images.shape)\n",
        "print(train_labels.shape)\n",
        "print(test_images.shape)\n",
        "print(test_labels.shape)"
      ],
      "execution_count": 8,
      "outputs": [
        {
          "output_type": "stream",
          "name": "stdout",
          "text": [
            "(60000, 28, 28)\n",
            "(60000,)\n",
            "(10000, 28, 28)\n",
            "(10000,)\n"
          ]
        }
      ]
    },
    {
      "cell_type": "markdown",
      "metadata": {
        "id": "53UYviw0f0nr"
      },
      "source": [
        "###### 只秀一張圖"
      ]
    },
    {
      "cell_type": "code",
      "metadata": {
        "colab": {
          "base_uri": "https://localhost:8080/",
          "height": 283
        },
        "id": "OSB_AySFfk2j",
        "outputId": "edef2369-f0c0-4260-aee0-0246787a454e"
      },
      "source": [
        "import matplotlib.pyplot as plt\n",
        "plt.imshow(train_images[0])"
      ],
      "execution_count": 10,
      "outputs": [
        {
          "output_type": "execute_result",
          "data": {
            "text/plain": [
              "<matplotlib.image.AxesImage at 0x7f5104460cd0>"
            ]
          },
          "metadata": {},
          "execution_count": 10
        },
        {
          "output_type": "display_data",
          "data": {
            "image/png": "[encoded data removed]",
            "text/plain": [
              "<Figure size 432x288 with 1 Axes>"
            ]
          },
          "metadata": {
            "needs_background": "light"
          }
        }
      ]
    },
    {
      "cell_type": "markdown",
      "metadata": {
        "id": "pWNZgfgzf7vZ"
      },
      "source": [
        "######隨機秀一張圖"
      ]
    },
    {
      "cell_type": "code",
      "metadata": {
        "colab": {
          "base_uri": "https://localhost:8080/",
          "height": 283
        },
        "id": "a-2lGfo5gG6p",
        "outputId": "c9bfd32c-57b1-4db8-91ad-01af6b4af860"
      },
      "source": [
        "import random \n",
        "c = random.randint(0, 59999)\n",
        "plt.imshow(train_images[c])"
      ],
      "execution_count": 11,
      "outputs": [
        {
          "output_type": "execute_result",
          "data": {
            "text/plain": [
              "<matplotlib.image.AxesImage at 0x7f51043b5cd0>"
            ]
          },
          "metadata": {},
          "execution_count": 11
        },
        {
          "output_type": "display_data",
          "data": {
            "image/png": "[encoded data removed]",
            "text/plain": [
              "<Figure size 432x288 with 1 Axes>"
            ]
          },
          "metadata": {
            "needs_background": "light"
          }
        }
      ]
    },
    {
      "cell_type": "markdown",
      "metadata": {
        "id": "E6vxpONygYnr"
      },
      "source": [
        "######連續秀一列圖"
      ]
    },
    {
      "cell_type": "code",
      "metadata": {
        "colab": {
          "base_uri": "https://localhost:8080/",
          "height": 212
        },
        "id": "XnqJ06hbgdw3",
        "outputId": "b33517ea-b5e4-4261-fe9f-3b2a69564b90"
      },
      "source": [
        "import matplotlib.pyplot as plt\n",
        "\n",
        "plt.gcf().set_size_inches(15, 4)  # 設定圖形的寬和高(英吋)\n",
        "for i in range(5):\n",
        "  ax = plt.subplot(1, 5, 1+i)  # 設定 1 * 5 的子圖表，目前要畫 1 + i 個\n",
        "  ax.imshow(train_images[i], cmap=\"gray\")  # 顯示灰階圖片(黑底白字)\n",
        "  ax.set_title(\"label = \" + str(train_labels[i]), fontsize=18)  # 設定標題\n",
        "plt.show()  # 將圖形顯示出來"
      ],
      "execution_count": 14,
      "outputs": [
        {
          "output_type": "display_data",
          "data": {
            "image/png": "[encoded data removed]",
            "text/plain": [
              "<Figure size 1080x288 with 5 Axes>"
            ]
          },
          "metadata": {
            "needs_background": "light"
          }
        }
      ]
    },
    {
      "cell_type": "markdown",
      "metadata": {
        "id": "pdjgV60yi5rN"
      },
      "source": [
        "######隨機秀5張圖"
      ]
    },
    {
      "cell_type": "code",
      "metadata": {
        "colab": {
          "base_uri": "https://localhost:8080/",
          "height": 212
        },
        "id": "G90c16VZin6g",
        "outputId": "72aecccb-ce21-4e65-e51a-6683ff11e2e9"
      },
      "source": [
        "import matplotlib.pyplot as plt\n",
        "plt.gcf().set_size_inches(15, 4)\n",
        "c = random.sample(range(0, 60000), 5)  # 隨機取得 1 ～ 60000中的 5 個字\n",
        "for i in range(5):\n",
        "  ax = plt.subplot(1, 5, 1+i)\n",
        "  ax.imshow(train_images[c[i]], cmap=\"gray\")\n",
        "  ax.set_title(\"label = \" + str(train_labels[c[i]]), fontsize=18)\n",
        "plt.show()"
      ],
      "execution_count": 19,
      "outputs": [
        {
          "output_type": "display_data",
          "data": {
            "image/png": "[encoded data removed]",
            "text/plain": [
              "<Figure size 1080x288 with 5 Axes>"
            ]
          },
          "metadata": {
            "needs_background": "light"
          }
        }
      ]
    },
    {
      "cell_type": "markdown",
      "metadata": {
        "id": "4Z4_1HfXmZUB"
      },
      "source": [
        "#####白底黑字，"
      ]
    },
    {
      "cell_type": "code",
      "metadata": {
        "colab": {
          "base_uri": "https://localhost:8080/",
          "height": 212
        },
        "id": "p3j8G2C_mNiL",
        "outputId": "e2e666e6-4bf2-435b-9926-2298526fd888"
      },
      "source": [
        "import matplotlib.pyplot as plt\n",
        "plt.gcf().set_size_inches(15, 4)\n",
        "for i in range(5):\n",
        "  axis = plt.subplot(1, 5, 1+i)\n",
        "  axis.imshow(train_images[i], cmap=\"binary\")\n",
        "  axis.set_title(\"label = \" + str(train_labels[i]), fontsize=18)\n",
        "plt.show()"
      ],
      "execution_count": 21,
      "outputs": [
        {
          "output_type": "display_data",
          "data": {
            "image/png": "[encoded data removed]",
            "text/plain": [
              "<Figure size 1080x288 with 5 Axes>"
            ]
          },
          "metadata": {
            "needs_background": "light"
          }
        }
      ]
    },
    {
      "cell_type": "markdown",
      "metadata": {
        "id": "UG6to-LLnR1u"
      },
      "source": [
        "#### 資料預處理(preprocess)"
      ]
    },
    {
      "cell_type": "markdown",
      "metadata": {
        "id": "GI3l1UAKnVU1"
      },
      "source": [
        "###### 1. 把 2D 轉成 1D\n",
        "###### 2. 將像素值由 0～255 ，轉成 0～1"
      ]
    },
    {
      "cell_type": "code",
      "metadata": {
        "id": "d1rzYslIn-1L"
      },
      "source": [
        "# 訓練集\n",
        "x_train = train_images.reshape((60000, 28 * 28))  # 將 (60000, 28, 28) 轉換成 (60000, 784)\n",
        "x_train = x_train.astype('float32') / 255.0  # 再將 0～255 的像素值轉換成 0～1的浮點數\n",
        "\n",
        "# 測試集\n",
        "x_test = test_images.reshape((10000, 28 * 28))   # 將10000筆測試集採同樣方式的轉換\n",
        "x_test = x_test.astype(\"float32\") / 255.0"
      ],
      "execution_count": 24,
      "outputs": []
    },
    {
      "cell_type": "markdown",
      "metadata": {
        "id": "neueERmTpgUu"
      },
      "source": [
        "###### 轉換後，再看一次shape"
      ]
    },
    {
      "cell_type": "code",
      "metadata": {
        "colab": {
          "base_uri": "https://localhost:8080/"
        },
        "id": "yGuBC6D0pkxr",
        "outputId": "9bd1db5c-8d2e-45a8-c039-7b4b5fb52091"
      },
      "source": [
        "print(x_train.shape)\n",
        "print(x_test.shape)"
      ],
      "execution_count": 25,
      "outputs": [
        {
          "output_type": "stream",
          "name": "stdout",
          "text": [
            "(60000, 784)\n",
            "(10000, 784)\n"
          ]
        }
      ]
    },
    {
      "cell_type": "markdown",
      "metadata": {
        "id": "08MAc0sppukM"
      },
      "source": [
        "###### 標籤資料的轉換\n",
        "###### 例如 : 將答案 2 轉換為 [0, 0, 1, 0, 0, 0, 0, 0, 0, 0]\n",
        "###### => One-hot-encoding"
      ]
    },
    {
      "cell_type": "code",
      "metadata": {
        "id": "_u10da2ErVda"
      },
      "source": [
        "from tensorflow.keras.utils import to_categorical\n",
        "y_train = to_categorical(train_labels)  # 將訓練標籤和測試答案做 One-hot-encoding\n",
        "y_test = to_categorical(test_labels)"
      ],
      "execution_count": 28,
      "outputs": []
    },
    {
      "cell_type": "markdown",
      "metadata": {
        "id": "GooukkIAs2I5"
      },
      "source": [
        "###### 做完 One-hot-encoding 看一下標籤的形式"
      ]
    },
    {
      "cell_type": "code",
      "metadata": {
        "id": "c-F-LIgDsh36",
        "outputId": "1b4181b5-03d9-4220-d2ac-004c916c93db",
        "colab": {
          "base_uri": "https://localhost:8080/"
        }
      },
      "source": [
        "print(train_labels[0])\n",
        "print(y_train[0])\n",
        "# 看一下 標籤的 shape\n",
        "print(y_train.shape) # 原本是(60000,)"
      ],
      "execution_count": 32,
      "outputs": [
        {
          "output_type": "stream",
          "name": "stdout",
          "text": [
            "5\n",
            "[0. 0. 0. 0. 0. 1. 0. 0. 0. 0.]\n",
            "(60000, 10)\n"
          ]
        }
      ]
    },
    {
      "cell_type": "code",
      "metadata": {
        "id": "ayzcJVkXtHd0"
      },
      "source": [
        ""
      ],
      "execution_count": null,
      "outputs": []
    }
  ]
}