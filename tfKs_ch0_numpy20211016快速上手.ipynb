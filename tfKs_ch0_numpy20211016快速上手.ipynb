{
  "nbformat": 4,
  "nbformat_minor": 0,
  "metadata": {
    "colab": {
      "name": "tfKs_ch0_numpy20211016快速上手.ipynb",
      "provenance": [],
      "collapsed_sections": [],
      "authorship_tag": "ABX9TyPbMiLng0xA39/rHiuEGAI5",
      "include_colab_link": true
    },
    "kernelspec": {
      "name": "python3",
      "display_name": "Python 3"
    },
    "language_info": {
      "name": "python"
    }
  },
  "cells": [
    {
      "cell_type": "markdown",
      "metadata": {
        "id": "view-in-github",
        "colab_type": "text"
      },
      "source": [
        "<a href=\"https://colab.research.google.com/github/Whaleman0423/-Python-book-practice/blob/main/tfKs_ch0_numpy20211016%E5%BF%AB%E9%80%9F%E4%B8%8A%E6%89%8B.ipynb\" target=\"_parent\"><img src=\"https://colab.research.google.com/assets/colab-badge.svg\" alt=\"Open In Colab\"/></a>"
      ]
    },
    {
      "cell_type": "markdown",
      "metadata": {
        "id": "jPtWSWtyzBK2"
      },
      "source": [
        "#tf.Keras numpy快速上手，自我練習\n"
      ]
    },
    {
      "cell_type": "markdown",
      "metadata": {
        "id": "R7HI1OVPh2Oz"
      },
      "source": [
        "## 0-0"
      ]
    },
    {
      "cell_type": "markdown",
      "metadata": {
        "id": "GK03SfjfyrlF"
      },
      "source": [
        "#### shape 有幾個數 => 即 幾 軸 (或 幾階)\n",
        "#### 例如 [[1, 2, 3] , [4, 5, 6]]  => shape => (2, 3) => 兩軸\n",
        "#### => 第 0 軸 => 2維\n",
        "#### => 第 1 軸 => 3維"
      ]
    },
    {
      "cell_type": "markdown",
      "metadata": {
        "id": "yDEwkpFdzkpl"
      },
      "source": [
        "### 單軸 => 向量 \n",
        "### 例如: [1, 2, 3, 4] => shape => (4,) => (單軸)四維向量"
      ]
    },
    {
      "cell_type": "markdown",
      "metadata": {
        "id": "ae_ZNKFj0ykn"
      },
      "source": [
        "#### 雙軸 => 矩陣\n",
        "#### 例如:[[1, 2, 3, 4], [5, 6, 7, 8]] => shape => (2, 4) => (雙軸) 2 ×　4 矩陣 \n",
        "#### 第一軸是 => 2維 ， 第二軸是 => 四維\n",
        " "
      ]
    },
    {
      "cell_type": "markdown",
      "metadata": {
        "id": "Dqgms75N3AEg"
      },
      "source": [
        "### 3D 向量 vs. 3D 陣列 :\n",
        "### 3D 向量 => 單軸 => shape => (3,) => 例子: [1, 2, 3]\n",
        "### 3D 陣列 => 三軸 => 例子 => shape => (1, 2, 3) => 第一軸是 => 1維 ， 第二軸是 => 2維 ， 第三軸是 => 3維"
      ]
    },
    {
      "cell_type": "markdown",
      "metadata": {
        "id": "xP2Vy3kc4DPq"
      },
      "source": [
        "# 此書 D 皆代表 \"軸\""
      ]
    },
    {
      "cell_type": "markdown",
      "metadata": {
        "id": "gsRIqueC4XG8"
      },
      "source": [
        "## Numpy 的 優點:\n",
        "### 1. 占空間小，存取速度快\n",
        "### 2. 所有元素的型別的必須相同\n",
        "### 3. 每軸的元素數 必須和shape相同\n",
        "#### 如 2　×　2 陣列 不能是 [[1, 2], [3]] 或 [[1, 2], [3, 4, 5]]"
      ]
    },
    {
      "cell_type": "markdown",
      "metadata": {
        "id": "I8WacRDEh593"
      },
      "source": [
        "## 0-1"
      ]
    },
    {
      "cell_type": "code",
      "metadata": {
        "id": "oHIFWOVVh9Y-"
      },
      "source": [
        "import numpy as np  # 匯入Numpy 套件"
      ],
      "execution_count": 2,
      "outputs": []
    },
    {
      "cell_type": "markdown",
      "metadata": {
        "id": "0Wdp3uewicoc"
      },
      "source": [
        "##### 建立一個形狀為(3, 5, 2) 且 元素均為 0 的陣列"
      ]
    },
    {
      "cell_type": "code",
      "metadata": {
        "id": "LpDBPu7ViJuQ"
      },
      "source": [
        "x = np.zeros((3, 5, 2)) "
      ],
      "execution_count": 5,
      "outputs": []
    },
    {
      "cell_type": "markdown",
      "metadata": {
        "id": "N_JozWO2iov6"
      },
      "source": [
        "##### 顯示 軸數屬性"
      ]
    },
    {
      "cell_type": "code",
      "metadata": {
        "colab": {
          "base_uri": "https://localhost:8080/"
        },
        "id": "7YlvB8f5izTq",
        "outputId": "9129d761-725e-48bf-9f15-45cb61c4c862"
      },
      "source": [
        "x.ndim"
      ],
      "execution_count": 6,
      "outputs": [
        {
          "output_type": "execute_result",
          "data": {
            "text/plain": [
              "3"
            ]
          },
          "metadata": {},
          "execution_count": 6
        }
      ]
    },
    {
      "cell_type": "markdown",
      "metadata": {
        "id": "Kfem3ECRi18M"
      },
      "source": [
        "##### 顯示形狀屬性"
      ]
    },
    {
      "cell_type": "code",
      "metadata": {
        "colab": {
          "base_uri": "https://localhost:8080/"
        },
        "id": "UgwrOLkEi6Hu",
        "outputId": "edbd0d2a-3a99-4a46-817d-34a98a80ec0d"
      },
      "source": [
        "x.shape"
      ],
      "execution_count": 7,
      "outputs": [
        {
          "output_type": "execute_result",
          "data": {
            "text/plain": [
              "(3, 5, 2)"
            ]
          },
          "metadata": {},
          "execution_count": 7
        }
      ]
    },
    {
      "cell_type": "markdown",
      "metadata": {
        "id": "qILIX4-hi7xF"
      },
      "source": [
        "##### 顯示型別屬性"
      ]
    },
    {
      "cell_type": "code",
      "metadata": {
        "colab": {
          "base_uri": "https://localhost:8080/"
        },
        "id": "X6VPTw_Gi_cv",
        "outputId": "af2e8533-ba60-4011-fc00-27e232401cb7"
      },
      "source": [
        "x.dtype"
      ],
      "execution_count": 8,
      "outputs": [
        {
          "output_type": "execute_result",
          "data": {
            "text/plain": [
              "dtype('float64')"
            ]
          },
          "metadata": {},
          "execution_count": 8
        }
      ]
    },
    {
      "cell_type": "markdown",
      "metadata": {
        "id": "8z15q9RVjGKL"
      },
      "source": [
        "##### 0D => 純量 ex: 5"
      ]
    },
    {
      "cell_type": "code",
      "metadata": {
        "colab": {
          "base_uri": "https://localhost:8080/"
        },
        "id": "-S8lDWKEjgaL",
        "outputId": "40345ad4-3438-4aa0-e3ad-6f7c81a113bb"
      },
      "source": [
        "x = np.zeros(5)\n",
        "y = x.astype(\"uint8\") # 轉出為 unit8 並指定給 y 變數\n",
        "print(y.dtype)\n",
        "print(x.dtype)"
      ],
      "execution_count": 12,
      "outputs": [
        {
          "output_type": "stream",
          "name": "stdout",
          "text": [
            "uint8\n",
            "float64\n"
          ]
        }
      ]
    },
    {
      "cell_type": "markdown",
      "metadata": {
        "id": "UT_qkHQSwumj"
      },
      "source": [
        "##0-2"
      ]
    },
    {
      "cell_type": "code",
      "metadata": {
        "colab": {
          "base_uri": "https://localhost:8080/"
        },
        "id": "JEMXt9uMw0c-",
        "outputId": "fb07be9c-ed96-4cbf-ffb1-1f1d216d2cab"
      },
      "source": [
        "import numpy as np\n",
        "x = np.array([[1, 2], [3, 4]])\n",
        "x"
      ],
      "execution_count": 13,
      "outputs": [
        {
          "output_type": "execute_result",
          "data": {
            "text/plain": [
              "array([[1, 2],\n",
              "       [3, 4]])"
            ]
          },
          "metadata": {},
          "execution_count": 13
        }
      ]
    },
    {
      "cell_type": "code",
      "metadata": {
        "colab": {
          "base_uri": "https://localhost:8080/"
        },
        "id": "qJmvZyDbyIAU",
        "outputId": "a1ca824a-ef0c-4d1a-8377-11e9f96264cf"
      },
      "source": [
        "x = np.zeros((2, 3, 2))\n",
        "x"
      ],
      "execution_count": 15,
      "outputs": [
        {
          "output_type": "execute_result",
          "data": {
            "text/plain": [
              "array([[[0., 0.],\n",
              "        [0., 0.],\n",
              "        [0., 0.]],\n",
              "\n",
              "       [[0., 0.],\n",
              "        [0., 0.],\n",
              "        [0., 0.]]])"
            ]
          },
          "metadata": {},
          "execution_count": 15
        }
      ]
    },
    {
      "cell_type": "code",
      "metadata": {
        "colab": {
          "base_uri": "https://localhost:8080/"
        },
        "id": "BojJUNnZyTwi",
        "outputId": "b920321e-bdfa-4d90-ac9d-ec999d2e0196"
      },
      "source": [
        "x = np.zeros(2, dtype=\"uint8\")\n",
        "x"
      ],
      "execution_count": 16,
      "outputs": [
        {
          "output_type": "execute_result",
          "data": {
            "text/plain": [
              "array([0, 0], dtype=uint8)"
            ]
          },
          "metadata": {},
          "execution_count": 16
        }
      ]
    },
    {
      "cell_type": "code",
      "metadata": {
        "colab": {
          "base_uri": "https://localhost:8080/"
        },
        "id": "oVPV8Zq82lXo",
        "outputId": "fa8744cc-937d-4d90-a885-038b300f4258"
      },
      "source": [
        "x = np.ones((2, 3))\n",
        "print(x.dtype)\n",
        "x"
      ],
      "execution_count": 21,
      "outputs": [
        {
          "output_type": "stream",
          "name": "stdout",
          "text": [
            "float64\n"
          ]
        },
        {
          "output_type": "execute_result",
          "data": {
            "text/plain": [
              "array([[1., 1., 1.],\n",
              "       [1., 1., 1.]])"
            ]
          },
          "metadata": {},
          "execution_count": 21
        }
      ]
    },
    {
      "cell_type": "code",
      "metadata": {
        "colab": {
          "base_uri": "https://localhost:8080/"
        },
        "id": "iYoEdMMD2s7Q",
        "outputId": "56aaff37-5169-4c68-eb0c-9a8052d32fc2"
      },
      "source": [
        "x = np.ones((2, 3), dtype=\"uint8\")\n",
        "x"
      ],
      "execution_count": 24,
      "outputs": [
        {
          "output_type": "execute_result",
          "data": {
            "text/plain": [
              "array([[1, 1, 1],\n",
              "       [1, 1, 1]], dtype=uint8)"
            ]
          },
          "metadata": {},
          "execution_count": 24
        }
      ]
    },
    {
      "cell_type": "code",
      "metadata": {
        "colab": {
          "base_uri": "https://localhost:8080/"
        },
        "id": "yRbCLEgH3I6R",
        "outputId": "c27bf071-4e77-4a8c-818e-ac61380d020e"
      },
      "source": [
        "x = np.full((2, 3), 7)\n",
        "x"
      ],
      "execution_count": 25,
      "outputs": [
        {
          "output_type": "execute_result",
          "data": {
            "text/plain": [
              "array([[7, 7, 7],\n",
              "       [7, 7, 7]])"
            ]
          },
          "metadata": {},
          "execution_count": 25
        }
      ]
    },
    {
      "cell_type": "markdown",
      "metadata": {
        "id": "cTgbr8w13Vpw"
      },
      "source": [
        "#####用np.arrange建立類似range()的陣列"
      ]
    },
    {
      "cell_type": "code",
      "metadata": {
        "colab": {
          "base_uri": "https://localhost:8080/"
        },
        "id": "dTDoZ5f43kFF",
        "outputId": "6c832ae8-1a6e-476f-cbc1-bedc1282fe86"
      },
      "source": [
        "x = np.arange(5)\n"
      ],
      "execution_count": 27,
      "outputs": [
        {
          "output_type": "execute_result",
          "data": {
            "text/plain": [
              "array([0, 1, 2, 3, 4])"
            ]
          },
          "metadata": {},
          "execution_count": 27
        }
      ]
    },
    {
      "cell_type": "markdown",
      "metadata": {
        "id": "Zl3X4QK-399W"
      },
      "source": [
        "##### 用 copy() 來複製一份"
      ]
    },
    {
      "cell_type": "code",
      "metadata": {
        "colab": {
          "base_uri": "https://localhost:8080/"
        },
        "id": "FX1W3DUj4FAw",
        "outputId": "9f6950ec-ba34-4b2c-d8e2-8f73d5b94458"
      },
      "source": [
        "y = np.copy(x)\n",
        "y"
      ],
      "execution_count": 28,
      "outputs": [
        {
          "output_type": "execute_result",
          "data": {
            "text/plain": [
              "array([0, 1, 2, 3, 4])"
            ]
          },
          "metadata": {},
          "execution_count": 28
        }
      ]
    },
    {
      "cell_type": "code",
      "metadata": {
        "colab": {
          "base_uri": "https://localhost:8080/"
        },
        "id": "tj2WLXsh4OHB",
        "outputId": "807f600e-97ba-4411-bb2f-42fbc3a6e5bf"
      },
      "source": [
        "y = np.zeros_like(x)\n",
        "y"
      ],
      "execution_count": 30,
      "outputs": [
        {
          "output_type": "execute_result",
          "data": {
            "text/plain": [
              "array([0, 0, 0, 0, 0])"
            ]
          },
          "metadata": {},
          "execution_count": 30
        }
      ]
    },
    {
      "cell_type": "code",
      "metadata": {
        "colab": {
          "base_uri": "https://localhost:8080/"
        },
        "id": "1rgWnChR4Twe",
        "outputId": "1c90ae20-d017-4ef1-acf0-532500a5e55a"
      },
      "source": [
        "y = np.ones_like(x)\n",
        "y"
      ],
      "execution_count": 31,
      "outputs": [
        {
          "output_type": "execute_result",
          "data": {
            "text/plain": [
              "array([1, 1, 1, 1, 1])"
            ]
          },
          "metadata": {},
          "execution_count": 31
        }
      ]
    },
    {
      "cell_type": "markdown",
      "metadata": {
        "id": "TmnH3oRy4f97"
      },
      "source": [
        "##0-3"
      ]
    },
    {
      "cell_type": "markdown",
      "metadata": {
        "id": "MYvs2Z_345cR"
      },
      "source": [
        "##### array[清單] =>取出值"
      ]
    },
    {
      "cell_type": "code",
      "metadata": {
        "colab": {
          "base_uri": "https://localhost:8080/"
        },
        "id": "8ptzAFA14igf",
        "outputId": "d151c43e-c3a3-4cdd-f387-fed3610eb4de"
      },
      "source": [
        "x = np.array([[1, 2, 3], [4, 5, 6], [7, 8, 9]])\n",
        "x[1, 2]"
      ],
      "execution_count": 32,
      "outputs": [
        {
          "output_type": "execute_result",
          "data": {
            "text/plain": [
              "6"
            ]
          },
          "metadata": {},
          "execution_count": 32
        }
      ]
    },
    {
      "cell_type": "markdown",
      "metadata": {
        "id": "hCZ1nIgv5B5i"
      },
      "source": [
        "##### 也可以寫成"
      ]
    },
    {
      "cell_type": "code",
      "metadata": {
        "colab": {
          "base_uri": "https://localhost:8080/"
        },
        "id": "t_11y1Y35LQo",
        "outputId": "d86079d5-4a3e-4eee-ab57-3f80d32e78b7"
      },
      "source": [
        "x[1][2]"
      ],
      "execution_count": 33,
      "outputs": [
        {
          "output_type": "execute_result",
          "data": {
            "text/plain": [
              "6"
            ]
          },
          "metadata": {},
          "execution_count": 33
        }
      ]
    },
    {
      "cell_type": "code",
      "metadata": {
        "colab": {
          "base_uri": "https://localhost:8080/"
        },
        "id": "gcGh70Ea5Ov_",
        "outputId": "9a6e4045-6b68-47ce-c3d0-144c010c23c2"
      },
      "source": [
        "x = np.array([[1, 2, 3], [4, 5, 6], [7, 8, 9]])\n",
        "x[0:2, 1:3]"
      ],
      "execution_count": 34,
      "outputs": [
        {
          "output_type": "execute_result",
          "data": {
            "text/plain": [
              "array([[2, 3],\n",
              "       [5, 6]])"
            ]
          },
          "metadata": {},
          "execution_count": 34
        }
      ]
    },
    {
      "cell_type": "code",
      "metadata": {
        "colab": {
          "base_uri": "https://localhost:8080/"
        },
        "id": "FEo65_8E5nfW",
        "outputId": "ff412b93-fa5d-4352-c7e3-608a0b8534e6"
      },
      "source": [
        "x = np.array([[1, 2, 3], [4, 5, 6], [7, 8, 9]])\n",
        "x[::2, 2:0:-1]"
      ],
      "execution_count": 35,
      "outputs": [
        {
          "output_type": "execute_result",
          "data": {
            "text/plain": [
              "array([[3, 2],\n",
              "       [9, 8]])"
            ]
          },
          "metadata": {},
          "execution_count": 35
        }
      ]
    },
    {
      "cell_type": "code",
      "metadata": {
        "colab": {
          "base_uri": "https://localhost:8080/"
        },
        "id": "8DzmjcH-55ek",
        "outputId": "753f3e84-03c8-4a46-9f67-7ac1e3005041"
      },
      "source": [
        "x[:2]"
      ],
      "execution_count": 36,
      "outputs": [
        {
          "output_type": "execute_result",
          "data": {
            "text/plain": [
              "array([[1, 2, 3],\n",
              "       [4, 5, 6]])"
            ]
          },
          "metadata": {},
          "execution_count": 36
        }
      ]
    },
    {
      "cell_type": "markdown",
      "metadata": {
        "id": "W8qJEA4v6Ggi"
      },
      "source": [
        "## 0-4"
      ]
    }
  ]
}