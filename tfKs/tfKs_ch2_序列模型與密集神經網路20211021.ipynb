{
  "nbformat": 4,
  "nbformat_minor": 0,
  "metadata": {
    "colab": {
      "name": "tfKs_ch2_序列模型與密集神經網路20211021.ipynb",
      "provenance": [],
      "authorship_tag": "ABX9TyMTDg8yDSnEnd9g86yagclh",
      "include_colab_link": true
    },
    "kernelspec": {
      "name": "python3",
      "display_name": "Python 3"
    },
    "language_info": {
      "name": "python"
    }
  },
  "cells": [
    {
      "cell_type": "markdown",
      "metadata": {
        "id": "view-in-github",
        "colab_type": "text"
      },
      "source": [
        "<a href=\"https://colab.research.google.com/github/Whaleman0423/-Python-book-practice/blob/main/tfKs_ch2_%E5%BA%8F%E5%88%97%E6%A8%A1%E5%9E%8B%E8%88%87%E5%AF%86%E9%9B%86%E7%A5%9E%E7%B6%93%E7%B6%B2%E8%B7%AF20211021.ipynb\" target=\"_parent\"><img src=\"https://colab.research.google.com/assets/colab-badge.svg\" alt=\"Open In Colab\"/></a>"
      ]
    },
    {
      "cell_type": "markdown",
      "metadata": {
        "id": "SmzN-RxBzSiJ"
      },
      "source": [
        "##### 兩種堆疊神經層的方式 :"
      ]
    },
    {
      "cell_type": "code",
      "metadata": {
        "id": "T0pcvzwv0JWH"
      },
      "source": [
        "from tensorflow.keras.models import Sequential\n",
        "from tensorflow.keras.layers import Dense\n",
        "\n",
        "# 第一種方式 :\n",
        "model_a = Sequential()\n",
        "model_a.add(Dense(512, activation=\"relu\", input_dim=784))  # 用 add() 堆疊\n",
        "model_a.add(Dense(10, activation=\"softmax\"))  \n",
        "\n",
        "# 第二種\n",
        "model_b = Sequential([\n",
        "              Dense(512, activation=\"relu\", input_dim=784),\n",
        "              Dense(10, activation=\"softmax\")])\n"
      ],
      "execution_count": null,
      "outputs": []
    },
    {
      "cell_type": "code",
      "metadata": {
        "colab": {
          "base_uri": "https://localhost:8080/"
        },
        "id": "-vWxfRFv10j7",
        "outputId": "28a4bbc4-6f50-4169-aab4-4cd7505064e9"
      },
      "source": [
        "model_a.summary()"
      ],
      "execution_count": null,
      "outputs": [
        {
          "output_type": "stream",
          "name": "stdout",
          "text": [
            "Model: \"sequential\"\n",
            "_________________________________________________________________\n",
            "Layer (type)                 Output Shape              Param #   \n",
            "=================================================================\n",
            "dense (Dense)                (None, 512)               401920    \n",
            "_________________________________________________________________\n",
            "dense_1 (Dense)              (None, 10)                5130      \n",
            "=================================================================\n",
            "Total params: 407,050\n",
            "Trainable params: 407,050\n",
            "Non-trainable params: 0\n",
            "_________________________________________________________________\n"
          ]
        }
      ]
    },
    {
      "cell_type": "code",
      "metadata": {
        "colab": {
          "base_uri": "https://localhost:8080/"
        },
        "id": "u-NMKt5j13eL",
        "outputId": "8646db4b-8222-40c8-a25e-38eacc42b79b"
      },
      "source": [
        "model_b.summary()"
      ],
      "execution_count": null,
      "outputs": [
        {
          "output_type": "stream",
          "name": "stdout",
          "text": [
            "Model: \"sequential_1\"\n",
            "_________________________________________________________________\n",
            "Layer (type)                 Output Shape              Param #   \n",
            "=================================================================\n",
            "dense_2 (Dense)              (None, 512)               401920    \n",
            "_________________________________________________________________\n",
            "dense_3 (Dense)              (None, 10)                5130      \n",
            "=================================================================\n",
            "Total params: 407,050\n",
            "Trainable params: 407,050\n",
            "Non-trainable params: 0\n",
            "_________________________________________________________________\n"
          ]
        }
      ]
    },
    {
      "cell_type": "markdown",
      "metadata": {
        "id": "SQi1SnOm2BUu"
      },
      "source": [
        "###### 只有層名稱的序號不同，其他都相同。"
      ]
    },
    {
      "cell_type": "markdown",
      "metadata": {
        "id": "agEODGlQ2gzz"
      },
      "source": [
        "#### 獨立使用的啟動(激活)函式層"
      ]
    },
    {
      "cell_type": "code",
      "metadata": {
        "id": "QmCLamXb27jE",
        "colab": {
          "base_uri": "https://localhost:8080/"
        },
        "outputId": "3ebb8615-9316-4f1f-b6d9-6e1b896074ac"
      },
      "source": [
        "from tensorflow.keras.models import Sequential\n",
        "from tensorflow.keras.layers import Dense\n",
        "from tensorflow.keras.layers import Activation   # 匯入啟動函式層類別\n",
        "\n",
        "model = Sequential([\n",
        "              Dense(512, input_dim=784),\n",
        "              Activation(\"relu\"),\n",
        "              Dense(10),\n",
        "              Activation(\"softmax\")\n",
        "                             ])\n",
        "model.summary()  # 與上面的模型功能相同、但結構不同"
      ],
      "execution_count": null,
      "outputs": [
        {
          "output_type": "stream",
          "name": "stdout",
          "text": [
            "Model: \"sequential_2\"\n",
            "_________________________________________________________________\n",
            "Layer (type)                 Output Shape              Param #   \n",
            "=================================================================\n",
            "dense_4 (Dense)              (None, 512)               401920    \n",
            "_________________________________________________________________\n",
            "activation (Activation)      (None, 512)               0         \n",
            "_________________________________________________________________\n",
            "dense_5 (Dense)              (None, 10)                5130      \n",
            "_________________________________________________________________\n",
            "activation_1 (Activation)    (None, 10)                0         \n",
            "=================================================================\n",
            "Total params: 407,050\n",
            "Trainable params: 407,050\n",
            "Non-trainable params: 0\n",
            "_________________________________________________________________\n"
          ]
        }
      ]
    },
    {
      "cell_type": "markdown",
      "metadata": {
        "id": "BUlQekfUS3By"
      },
      "source": [
        "####layers 屬性 :"
      ]
    },
    {
      "cell_type": "code",
      "metadata": {
        "colab": {
          "base_uri": "https://localhost:8080/"
        },
        "id": "hU9EnfQlSs1A",
        "outputId": "d4d2a90b-9d71-402e-856a-f32df534e6d8"
      },
      "source": [
        "model.layers"
      ],
      "execution_count": null,
      "outputs": [
        {
          "output_type": "execute_result",
          "data": {
            "text/plain": [
              "[<keras.layers.core.Dense at 0x7f52cafc36d0>,\n",
              " <keras.layers.core.Activation at 0x7f52cafa4110>,\n",
              " <keras.layers.core.Dense at 0x7f53212eac10>,\n",
              " <keras.layers.core.Activation at 0x7f5320aac350>]"
            ]
          },
          "metadata": {},
          "execution_count": 5
        }
      ]
    },
    {
      "cell_type": "code",
      "metadata": {
        "colab": {
          "base_uri": "https://localhost:8080/"
        },
        "id": "c63BvA1ETDXr",
        "outputId": "065e3699-46a6-4db9-a1e3-4179b7cc5f26"
      },
      "source": [
        "model.layers[2]"
      ],
      "execution_count": null,
      "outputs": [
        {
          "output_type": "execute_result",
          "data": {
            "text/plain": [
              "<keras.layers.core.Dense at 0x7f53212eac10>"
            ]
          },
          "metadata": {},
          "execution_count": 6
        }
      ]
    },
    {
      "cell_type": "code",
      "metadata": {
        "colab": {
          "base_uri": "https://localhost:8080/",
          "height": 35
        },
        "id": "62TsoPL3TG73",
        "outputId": "dc83a20a-bc3c-4bf1-eddd-85e92dcb5bcf"
      },
      "source": [
        "model.layers[2].name"
      ],
      "execution_count": null,
      "outputs": [
        {
          "output_type": "execute_result",
          "data": {
            "application/vnd.google.colaboratory.intrinsic+json": {
              "type": "string"
            },
            "text/plain": [
              "'dense_5'"
            ]
          },
          "metadata": {},
          "execution_count": 7
        }
      ]
    },
    {
      "cell_type": "markdown",
      "metadata": {
        "id": "mlpqYO0kTVxD"
      },
      "source": [
        "#### inputs 和 outputs 屬性 :"
      ]
    },
    {
      "cell_type": "code",
      "metadata": {
        "colab": {
          "base_uri": "https://localhost:8080/"
        },
        "id": "rBpvJsDbUITf",
        "outputId": "d69a25ad-7ee7-49ab-ce05-59d323412c95"
      },
      "source": [
        "model.inputs"
      ],
      "execution_count": null,
      "outputs": [
        {
          "output_type": "execute_result",
          "data": {
            "text/plain": [
              "[<KerasTensor: shape=(None, 784) dtype=float32 (created by layer 'dense_4_input')>]"
            ]
          },
          "metadata": {},
          "execution_count": 8
        }
      ]
    },
    {
      "cell_type": "code",
      "metadata": {
        "colab": {
          "base_uri": "https://localhost:8080/"
        },
        "id": "NpCtaU2RUf1H",
        "outputId": "dd855326-56c7-4157-8821-5992d747982c"
      },
      "source": [
        "model.outputs"
      ],
      "execution_count": null,
      "outputs": [
        {
          "output_type": "execute_result",
          "data": {
            "text/plain": [
              "[<KerasTensor: shape=(None, 10) dtype=float32 (created by layer 'activation_1')>]"
            ]
          },
          "metadata": {},
          "execution_count": 9
        }
      ]
    },
    {
      "cell_type": "markdown",
      "metadata": {
        "id": "g02P0iOCUo3i"
      },
      "source": [
        "#### 用 get_layer() 取得模型中的神經層 :"
      ]
    },
    {
      "cell_type": "code",
      "metadata": {
        "colab": {
          "base_uri": "https://localhost:8080/",
          "height": 299
        },
        "id": "XOzMvboJU14W",
        "outputId": "c7882533-ca36-4da0-cc07-ac3a25df3006"
      },
      "source": [
        "# model.get_layer(\"dense_11\")"
      ],
      "execution_count": null,
      "outputs": [
        {
          "output_type": "error",
          "ename": "ValueError",
          "evalue": "ignored",
          "traceback": [
            "\u001b[0;31m---------------------------------------------------------------------------\u001b[0m",
            "\u001b[0;31mValueError\u001b[0m                                Traceback (most recent call last)",
            "\u001b[0;32m<ipython-input-10-e3bb1420a5d4>\u001b[0m in \u001b[0;36m<module>\u001b[0;34m()\u001b[0m\n\u001b[0;32m----> 1\u001b[0;31m \u001b[0mmodel\u001b[0m\u001b[0;34m.\u001b[0m\u001b[0mget_layer\u001b[0m\u001b[0;34m(\u001b[0m\u001b[0;34m\"dense_11\"\u001b[0m\u001b[0;34m)\u001b[0m\u001b[0;34m\u001b[0m\u001b[0;34m\u001b[0m\u001b[0m\n\u001b[0m",
            "\u001b[0;32m/usr/local/lib/python3.7/dist-packages/keras/engine/training.py\u001b[0m in \u001b[0;36mget_layer\u001b[0;34m(self, name, index)\u001b[0m\n\u001b[1;32m   2566\u001b[0m         \u001b[0;32mif\u001b[0m \u001b[0mlayer\u001b[0m\u001b[0;34m.\u001b[0m\u001b[0mname\u001b[0m \u001b[0;34m==\u001b[0m \u001b[0mname\u001b[0m\u001b[0;34m:\u001b[0m\u001b[0;34m\u001b[0m\u001b[0;34m\u001b[0m\u001b[0m\n\u001b[1;32m   2567\u001b[0m           \u001b[0;32mreturn\u001b[0m \u001b[0mlayer\u001b[0m\u001b[0;34m\u001b[0m\u001b[0;34m\u001b[0m\u001b[0m\n\u001b[0;32m-> 2568\u001b[0;31m       \u001b[0;32mraise\u001b[0m \u001b[0mValueError\u001b[0m\u001b[0;34m(\u001b[0m\u001b[0;34m'No such layer: '\u001b[0m \u001b[0;34m+\u001b[0m \u001b[0mname\u001b[0m \u001b[0;34m+\u001b[0m \u001b[0;34m'.'\u001b[0m\u001b[0;34m)\u001b[0m\u001b[0;34m\u001b[0m\u001b[0;34m\u001b[0m\u001b[0m\n\u001b[0m\u001b[1;32m   2569\u001b[0m     \u001b[0;32mraise\u001b[0m \u001b[0mValueError\u001b[0m\u001b[0;34m(\u001b[0m\u001b[0;34m'Provide either a layer name or layer index.'\u001b[0m\u001b[0;34m)\u001b[0m\u001b[0;34m\u001b[0m\u001b[0;34m\u001b[0m\u001b[0m\n\u001b[1;32m   2570\u001b[0m \u001b[0;34m\u001b[0m\u001b[0m\n",
            "\u001b[0;31mValueError\u001b[0m: No such layer: dense_11."
          ]
        }
      ]
    },
    {
      "cell_type": "code",
      "metadata": {
        "id": "7prMzVySVL_Z"
      },
      "source": [
        "# 也可以寫成\n",
        "model.get_layer(name = \"dense_11\")"
      ],
      "execution_count": null,
      "outputs": []
    },
    {
      "cell_type": "markdown",
      "metadata": {
        "id": "CH7wydWgVUOb"
      },
      "source": [
        "##### 將神經層用 name 指定一個名稱"
      ]
    },
    {
      "cell_type": "code",
      "metadata": {
        "id": "dEufffAzVtWP",
        "colab": {
          "base_uri": "https://localhost:8080/",
          "height": 35
        },
        "outputId": "5d6ec4b7-75d1-4405-89e4-6d5428109b20"
      },
      "source": [
        "from tensorflow.keras.layers import Dense\n",
        "d = Dense(8, name=\"superman\")\n",
        "d.name"
      ],
      "execution_count": 8,
      "outputs": [
        {
          "output_type": "execute_result",
          "data": {
            "application/vnd.google.colaboratory.intrinsic+json": {
              "type": "string"
            },
            "text/plain": [
              "'superman'"
            ]
          },
          "metadata": {},
          "execution_count": 8
        }
      ]
    },
    {
      "cell_type": "markdown",
      "metadata": {
        "id": "xM0EaKbpV_NQ"
      },
      "source": [
        "#### 用 pop() 刪除序列模型最後面的神經層\n",
        "##### 相對於 add() 可在序列模型最後面加入神經層， pop() 則可刪除序列模型最後面的神經層"
      ]
    },
    {
      "cell_type": "code",
      "metadata": {
        "id": "B09CfuGBWUnA"
      },
      "source": [
        "model.layers"
      ],
      "execution_count": null,
      "outputs": []
    },
    {
      "cell_type": "code",
      "metadata": {
        "id": "zCv0G6jrWd3-"
      },
      "source": [
        "model.pop()"
      ],
      "execution_count": null,
      "outputs": []
    },
    {
      "cell_type": "code",
      "metadata": {
        "id": "WJzKckHNWgc2"
      },
      "source": [
        "model.pop()"
      ],
      "execution_count": null,
      "outputs": []
    },
    {
      "cell_type": "code",
      "metadata": {
        "id": "HNX8WV2hWi5T"
      },
      "source": [
        "model.layers"
      ],
      "execution_count": null,
      "outputs": []
    },
    {
      "cell_type": "markdown",
      "metadata": {
        "id": "PpnleF7cWlaP"
      },
      "source": [
        "## 載入 github 讀取專案中的 util2.py \n",
        "###### 把 util2.py 拉到 colab 暫存空間 import"
      ]
    },
    {
      "cell_type": "code",
      "metadata": {
        "id": "sYZqDM0ClIH0",
        "colab": {
          "base_uri": "https://localhost:8080/"
        },
        "outputId": "adc73f0e-73a1-4e40-e93e-e1b520069960"
      },
      "source": [
        "!git clone https://github.com/Whaleman0423/-Python-book-practice.git"
      ],
      "execution_count": 1,
      "outputs": [
        {
          "output_type": "stream",
          "name": "stdout",
          "text": [
            "Cloning into '-Python-book-practice'...\n",
            "remote: Enumerating objects: 156, done.\u001b[K\n",
            "remote: Counting objects: 100% (156/156), done.\u001b[K\n",
            "remote: Compressing objects: 100% (154/154), done.\u001b[K\n",
            "remote: Total 156 (delta 84), reused 0 (delta 0), pack-reused 0\u001b[K\n",
            "Receiving objects: 100% (156/156), 945.99 KiB | 7.95 MiB/s, done.\n",
            "Resolving deltas: 100% (84/84), done.\n"
          ]
        }
      ]
    },
    {
      "cell_type": "code",
      "metadata": {
        "id": "9BcYEAM8lLlf"
      },
      "source": [
        "import util2 as u"
      ],
      "execution_count": 2,
      "outputs": []
    },
    {
      "cell_type": "code",
      "metadata": {
        "id": "lwDem4x7lOrX",
        "colab": {
          "base_uri": "https://localhost:8080/"
        },
        "outputId": "5fb27f85-139f-47e0-891c-2e16c93082ec"
      },
      "source": [
        "(x_train, x_test), (y_train, y_test) = u.mnist_data() # 用四個變數接熟回傳值\n",
        "model = u.mnist_model() # 取得新建立並編譯好的模型\n",
        "model.fit(x_train, y_train, epochs=5, batch_size=128)  # 用取得的資料作訓練"
      ],
      "execution_count": null,
      "outputs": [
        {
          "output_type": "stream",
          "name": "stdout",
          "text": [
            "Downloading data from https://storage.googleapis.com/tensorflow/tf-keras-datasets/mnist.npz\n",
            "11493376/11490434 [==============================] - 0s 0us/step\n",
            "11501568/11490434 [==============================] - 0s 0us/step\n",
            "Epoch 1/5\n",
            "469/469 [==============================] - 5s 8ms/step - loss: 0.2561 - acc: 0.9254\n",
            "Epoch 2/5\n",
            "469/469 [==============================] - 4s 8ms/step - loss: 0.1040 - acc: 0.9692\n",
            "Epoch 3/5\n",
            "469/469 [==============================] - 4s 8ms/step - loss: 0.0685 - acc: 0.9795\n",
            "Epoch 4/5\n",
            "469/469 [==============================] - 4s 8ms/step - loss: 0.0506 - acc: 0.9845\n",
            "Epoch 5/5\n",
            "469/469 [==============================] - 4s 8ms/step - loss: 0.0376 - acc: 0.9889\n"
          ]
        },
        {
          "output_type": "execute_result",
          "data": {
            "text/plain": [
              "<keras.callbacks.History at 0x7f52ca320e10>"
            ]
          },
          "metadata": {},
          "execution_count": 13
        }
      ]
    },
    {
      "cell_type": "code",
      "metadata": {
        "id": "LhqkKb_frvig",
        "colab": {
          "base_uri": "https://localhost:8080/",
          "height": 295
        },
        "outputId": "6dc18caf-3cff-4cc2-debb-4971e6766ab1"
      },
      "source": [
        "import util2 as u   # 匯入自訂的工具模組\n",
        "history_dict = {   # 4個 key 的數據字典\n",
        "            \"loss\": [0.8, 0.7, 0.4, 0.2, 0.1],\n",
        "            'acc': [0.2, 0.3, 0.5, 0.7, 0.9],\n",
        "            'val_loss': [0.9, 0.9, 0.8, 0.6, 0.5],\n",
        "            'val_acc': [0.1, 0.2, 0.6, 0.7, 0.8]\n",
        "}\n",
        "u.plot(\n",
        "    history_dict,  \n",
        "    ('loss', \"acc\"),  # 只繪製 key 為 loss 及 acc 的資料\n",
        "    'Loss & Accuracy',  # 標題文字 \n",
        "    ('Epochs', \"Loss & Acc\")  # x, y 軸文字\n",
        "     )"
      ],
      "execution_count": null,
      "outputs": [
        {
          "output_type": "display_data",
          "data": {
            "image/png": "[encoded data removed]",
            "text/plain": [
              "<Figure size 432x288 with 1 Axes>"
            ]
          },
          "metadata": {
            "needs_background": "light"
          }
        }
      ]
    },
    {
      "cell_type": "markdown",
      "metadata": {
        "id": "c76YFInZ2KlN"
      },
      "source": [
        "# 2 - 1 存取模型的結構或權重參數"
      ]
    },
    {
      "cell_type": "markdown",
      "metadata": {
        "id": "TPHJYcD72RTv"
      },
      "source": [
        "## 取得與回覆模型的結構 :\n",
        "### keras 提供 3 種取得與回復模型結構的方法，可分別以\n",
        "### 字典(dict)、JSON字串、或YAML字串，來取得模型結構的資訊"
      ]
    },
    {
      "cell_type": "code",
      "metadata": {
        "id": "MMDDfxvY2vCn"
      },
      "source": [
        "from tensorflow.keras.models import Sequential, model_from_config\n",
        "import util2 as u\n",
        "\n",
        "model = u.mnist_model()  # 取得新建立並編譯好但未訓練的模型\n",
        "\n",
        "# 1 : 以字典取得與回復模型結構的方法 : \n",
        "config = model.get_config() # 以字典傳回模型結構\n",
        "# print(config)\n",
        "# model.summary()\n",
        "model = Sequential.from_config(config)  # 回復模型結構\n",
        "\n",
        "# 上一行為若為 Functional API 模型 (參見第五章)，須改用 Model 來載入結構\n",
        "# from tensorflow.keras.models import Model\n",
        "# model = Model.from_config(config)"
      ],
      "execution_count": 18,
      "outputs": []
    },
    {
      "cell_type": "code",
      "metadata": {
        "id": "SEAhKNoCDw6U",
        "outputId": "7ccdeff5-cdab-4550-93a9-1c2c04918d2f",
        "colab": {
          "base_uri": "https://localhost:8080/"
        }
      },
      "source": [
        "# 2 : 以 JSON 字串取得與回復模型結構的方法 : \n",
        "from tensorflow.keras.models import model_from_json\n",
        "model = u.mnist_model()\n",
        "json_string = model.to_json()\n",
        "print(json_string)\n",
        "model = model_from_json(json_string)"
      ],
      "execution_count": 16,
      "outputs": [
        {
          "output_type": "stream",
          "name": "stdout",
          "text": [
            "{\"class_name\": \"Sequential\", \"config\": {\"name\": \"sequential_6\", \"layers\": [{\"class_name\": \"InputLayer\", \"config\": {\"batch_input_shape\": [null, 784], \"dtype\": \"float32\", \"sparse\": false, \"ragged\": false, \"name\": \"dense_12_input\"}}, {\"class_name\": \"Dense\", \"config\": {\"name\": \"dense_12\", \"trainable\": true, \"batch_input_shape\": [null, 784], \"dtype\": \"float32\", \"units\": 512, \"activation\": \"relu\", \"use_bias\": true, \"kernel_initializer\": {\"class_name\": \"GlorotUniform\", \"config\": {\"seed\": null}}, \"bias_initializer\": {\"class_name\": \"Zeros\", \"config\": {}}, \"kernel_regularizer\": null, \"bias_regularizer\": null, \"activity_regularizer\": null, \"kernel_constraint\": null, \"bias_constraint\": null}}, {\"class_name\": \"Dense\", \"config\": {\"name\": \"dense_13\", \"trainable\": true, \"dtype\": \"float32\", \"units\": 10, \"activation\": \"softmax\", \"use_bias\": true, \"kernel_initializer\": {\"class_name\": \"GlorotUniform\", \"config\": {\"seed\": null}}, \"bias_initializer\": {\"class_name\": \"Zeros\", \"config\": {}}, \"kernel_regularizer\": null, \"bias_regularizer\": null, \"activity_regularizer\": null, \"kernel_constraint\": null, \"bias_constraint\": null}}]}, \"keras_version\": \"2.6.0\", \"backend\": \"tensorflow\"}\n"
          ]
        }
      ]
    },
    {
      "cell_type": "code",
      "metadata": {
        "id": "IcuSmvWVFygh",
        "outputId": "f60e14a6-ea1f-4651-8352-5dab74e5e48b",
        "colab": {
          "base_uri": "https://localhost:8080/",
          "height": 354
        }
      },
      "source": [
        "# 3 : 以 YAML 字串取得與回復模型結構的方法 : \n",
        "from tensorflow.keras.models import model_from_yaml\n",
        "model = u.mnist_model()\n",
        "yaml_string = model.to_yaml()\n",
        "model = model_from_yaml(yaml_string)  # => 方法已經被移除了!!!"
      ],
      "execution_count": 19,
      "outputs": [
        {
          "output_type": "error",
          "ename": "RuntimeError",
          "evalue": "ignored",
          "traceback": [
            "\u001b[0;31m---------------------------------------------------------------------------\u001b[0m",
            "\u001b[0;31mRuntimeError\u001b[0m                              Traceback (most recent call last)",
            "\u001b[0;32m<ipython-input-19-e82e88339b22>\u001b[0m in \u001b[0;36m<module>\u001b[0;34m()\u001b[0m\n\u001b[1;32m      2\u001b[0m \u001b[0;32mfrom\u001b[0m \u001b[0mtensorflow\u001b[0m\u001b[0;34m.\u001b[0m\u001b[0mkeras\u001b[0m\u001b[0;34m.\u001b[0m\u001b[0mmodels\u001b[0m \u001b[0;32mimport\u001b[0m \u001b[0mmodel_from_yaml\u001b[0m\u001b[0;34m\u001b[0m\u001b[0;34m\u001b[0m\u001b[0m\n\u001b[1;32m      3\u001b[0m \u001b[0mmodel\u001b[0m \u001b[0;34m=\u001b[0m \u001b[0mu\u001b[0m\u001b[0;34m.\u001b[0m\u001b[0mmnist_model\u001b[0m\u001b[0;34m(\u001b[0m\u001b[0;34m)\u001b[0m\u001b[0;34m\u001b[0m\u001b[0;34m\u001b[0m\u001b[0m\n\u001b[0;32m----> 4\u001b[0;31m \u001b[0myaml_string\u001b[0m \u001b[0;34m=\u001b[0m \u001b[0mmodel\u001b[0m\u001b[0;34m.\u001b[0m\u001b[0mto_yaml\u001b[0m\u001b[0;34m(\u001b[0m\u001b[0;34m)\u001b[0m\u001b[0;34m\u001b[0m\u001b[0;34m\u001b[0m\u001b[0m\n\u001b[0m\u001b[1;32m      5\u001b[0m \u001b[0mmodel\u001b[0m \u001b[0;34m=\u001b[0m \u001b[0mmodel_from_yaml\u001b[0m\u001b[0;34m(\u001b[0m\u001b[0myaml_string\u001b[0m\u001b[0;34m)\u001b[0m\u001b[0;34m\u001b[0m\u001b[0;34m\u001b[0m\u001b[0m\n",
            "\u001b[0;32m/usr/local/lib/python3.7/dist-packages/keras/engine/training.py\u001b[0m in \u001b[0;36mto_yaml\u001b[0;34m(self, **kwargs)\u001b[0m\n\u001b[1;32m   2445\u001b[0m     \"\"\"\n\u001b[1;32m   2446\u001b[0m     raise RuntimeError(\n\u001b[0;32m-> 2447\u001b[0;31m         \u001b[0;34m'Method `model.to_yaml()` has been removed due to security risk of '\u001b[0m\u001b[0;34m\u001b[0m\u001b[0;34m\u001b[0m\u001b[0m\n\u001b[0m\u001b[1;32m   2448\u001b[0m         \u001b[0;34m'arbitrary code execution. Please use `model.to_json()` instead.'\u001b[0m\u001b[0;34m\u001b[0m\u001b[0;34m\u001b[0m\u001b[0m\n\u001b[1;32m   2449\u001b[0m     )\n",
            "\u001b[0;31mRuntimeError\u001b[0m: Method `model.to_yaml()` has been removed due to security risk of arbitrary code execution. Please use `model.to_json()` instead."
          ]
        }
      ]
    },
    {
      "cell_type": "code",
      "metadata": {
        "id": "QstzZdi0HEBU"
      },
      "source": [
        ""
      ],
      "execution_count": null,
      "outputs": []
    }
  ]
}
