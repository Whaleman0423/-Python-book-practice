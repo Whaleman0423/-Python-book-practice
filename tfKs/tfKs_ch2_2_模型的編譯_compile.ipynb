{
  "nbformat": 4,
  "nbformat_minor": 0,
  "metadata": {
    "colab": {
      "name": "tfKs/tfKs_ch2-2_模型的編譯_compile.ipynb",
      "provenance": [],
      "authorship_tag": "ABX9TyPEImrHOqY/ygquBG6GGJcO",
      "include_colab_link": true
    },
    "kernelspec": {
      "name": "python3",
      "display_name": "Python 3"
    },
    "language_info": {
      "name": "python"
    }
  },
  "cells": [
    {
      "cell_type": "markdown",
      "metadata": {
        "id": "view-in-github",
        "colab_type": "text"
      },
      "source": [
        "<a href=\"https://colab.research.google.com/github/Whaleman0423/-Python-book-practice/blob/main/tfKs/tfKs_ch2_2_%E6%A8%A1%E5%9E%8B%E7%9A%84%E7%B7%A8%E8%AD%AF_compile.ipynb\" target=\"_parent\"><img src=\"https://colab.research.google.com/assets/colab-badge.svg\" alt=\"Open In Colab\"/></a>"
      ]
    },
    {
      "cell_type": "markdown",
      "metadata": {
        "id": "KonLTOs5HPJw"
      },
      "source": [
        "###建構好模型後，需先用 compile() 編譯以產生相關的組態設定，然後才能用 fit() 進行訓練、用 evaluate() 評估成效、 用 predict() 預測答案"
      ]
    },
    {
      "cell_type": "code",
      "metadata": {
        "id": "QKZr0x7MIOEM",
        "colab": {
          "base_uri": "https://localhost:8080/"
        },
        "outputId": "d949cd2d-3c48-4add-c03d-71966233d9cf"
      },
      "source": [
        "!git clone https://github.com/Whaleman0423/-Python-book-practice.git  # 將 github 上的 util2.py 移到 colab 暫存空間"
      ],
      "execution_count": 1,
      "outputs": [
        {
          "output_type": "stream",
          "name": "stdout",
          "text": [
            "Cloning into '-Python-book-practice'...\n",
            "remote: Enumerating objects: 381, done.\u001b[K\n",
            "remote: Counting objects: 100% (381/381), done.\u001b[K\n",
            "remote: Compressing objects: 100% (377/377), done.\u001b[K\n",
            "remote: Total 381 (delta 193), reused 0 (delta 0), pack-reused 0\u001b[K\n",
            "Receiving objects: 100% (381/381), 1012.84 KiB | 4.05 MiB/s, done.\n",
            "Resolving deltas: 100% (193/193), done.\n"
          ]
        }
      ]
    },
    {
      "cell_type": "code",
      "metadata": {
        "id": "0l_T5U3mIYMU"
      },
      "source": [
        "import util2 as u\n",
        "model = u.mnist_model() # 取得新建立並編譯好的模型"
      ],
      "execution_count": 2,
      "outputs": []
    },
    {
      "cell_type": "code",
      "metadata": {
        "id": "V7BUaEnkI3Cn"
      },
      "source": [
        "model.compile(\n",
        "          optimizer = 'rmsprop',  # 優化器\n",
        "          loss = 'categorical_crossentropy',  # 損失函數\n",
        "          metrics = ['accuracy']  \n",
        ")"
      ],
      "execution_count": 3,
      "outputs": []
    },
    {
      "cell_type": "markdown",
      "metadata": {
        "id": "X6snzmtyfLkC"
      },
      "source": [
        "##### 也可先建立物件，再將這些物件當參數 :\n"
      ]
    },
    {
      "cell_type": "code",
      "metadata": {
        "id": "I284pfcNfWOj",
        "outputId": "0f2422ee-7845-4494-e3d4-4be151ef0e2a",
        "colab": {
          "base_uri": "https://localhost:8080/"
        }
      },
      "source": [
        "from tensorflow.keras import optimizers\n",
        "\n",
        "sgd = optimizers.SGD(lr=0.01, momentum=0.9)  # 建立 SGD 優化器物件 sgd 並指定優化器的參數 \n",
        "model.compile(\n",
        "          optimizer = sgd,\n",
        "          loss = 'mse',  # 也可以寫成 loss='mean_squared_error',\n",
        "          metrics = ['acc']\n",
        ")"
      ],
      "execution_count": 8,
      "outputs": [
        {
          "output_type": "stream",
          "name": "stderr",
          "text": [
            "/usr/local/lib/python3.7/dist-packages/keras/optimizer_v2/optimizer_v2.py:356: UserWarning: The `lr` argument is deprecated, use `learning_rate` instead.\n",
            "  \"The `lr` argument is deprecated, use `learning_rate` instead.\")\n"
          ]
        }
      ]
    },
    {
      "cell_type": "markdown",
      "metadata": {
        "id": "B9W5X4LWgoql"
      },
      "source": [
        "#### 也可以換成下面這種寫法 :"
      ]
    },
    {
      "cell_type": "code",
      "metadata": {
        "id": "nd7YAzTCg7Rc",
        "outputId": "ad0f6951-ce21-4134-e048-dc18e48b434a",
        "colab": {
          "base_uri": "https://localhost:8080/"
        }
      },
      "source": [
        "from tensorflow.keras import optimizers\n",
        "from tensorflow.keras import losses\n",
        "from tensorflow.keras import metrics\n",
        "\n",
        "model.compile(\n",
        "        optimizer = optimizers.SGD(lr=0.01, momentum=0.9),\n",
        "        loss=losses.mean_squared_error,\n",
        "        metrics=[metrics.categorical_crossentropy]\n",
        ")"
      ],
      "execution_count": 10,
      "outputs": [
        {
          "output_type": "stream",
          "name": "stderr",
          "text": [
            "/usr/local/lib/python3.7/dist-packages/keras/optimizer_v2/optimizer_v2.py:356: UserWarning: The `lr` argument is deprecated, use `learning_rate` instead.\n",
            "  \"The `lr` argument is deprecated, use `learning_rate` instead.\")\n"
          ]
        }
      ]
    },
    {
      "cell_type": "markdown",
      "metadata": {
        "id": "wifQ5gHQjdpr"
      },
      "source": [
        "##### 以上的 optimizer 及 loss 是編譯時的必要參數"
      ]
    },
    {
      "cell_type": "code",
      "metadata": {
        "id": "eaQ2L4hBjpC2"
      },
      "source": [
        ""
      ],
      "execution_count": null,
      "outputs": []
    }
  ]
}