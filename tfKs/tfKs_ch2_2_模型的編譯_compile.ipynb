{
  "nbformat": 4,
  "nbformat_minor": 0,
  "metadata": {
    "colab": {
      "name": "tfKs/tfKs_ch2-2_模型的編譯_compile.ipynb",
      "provenance": [],
      "authorship_tag": "ABX9TyOYyv5p7+3JVfUu6DTPQACC",
      "include_colab_link": true
    },
    "kernelspec": {
      "name": "python3",
      "display_name": "Python 3"
    },
    "language_info": {
      "name": "python"
    }
  },
  "cells": [
    {
      "cell_type": "markdown",
      "metadata": {
        "id": "view-in-github",
        "colab_type": "text"
      },
      "source": [
        "<a href=\"https://colab.research.google.com/github/Whaleman0423/-Python-book-practice/blob/main/tfKs/tfKs_ch2_2_%E6%A8%A1%E5%9E%8B%E7%9A%84%E7%B7%A8%E8%AD%AF_compile.ipynb\" target=\"_parent\"><img src=\"https://colab.research.google.com/assets/colab-badge.svg\" alt=\"Open In Colab\"/></a>"
      ]
    },
    {
      "cell_type": "markdown",
      "metadata": {
        "id": "KonLTOs5HPJw"
      },
      "source": [
        "###建構好模型後，需先用 compile() 編譯以產生相關的組態設定，然後才能用 fit() 進行訓練、用 evaluate() 評估成效、 用 predict() 預測答案"
      ]
    },
    {
      "cell_type": "code",
      "metadata": {
        "id": "QKZr0x7MIOEM",
        "outputId": "7318303c-f39f-4877-89c3-1a95cc23b554",
        "colab": {
          "base_uri": "https://localhost:8080/"
        }
      },
      "source": [
        "!git clone https://github.com/Whaleman0423/-Python-book-practice.git  # 將 github 上的 util2.py 移到 colab 暫存空間"
      ],
      "execution_count": 1,
      "outputs": [
        {
          "output_type": "stream",
          "name": "stdout",
          "text": [
            "Cloning into '-Python-book-practice'...\n",
            "remote: Enumerating objects: 373, done.\u001b[K\n",
            "remote: Counting objects: 100% (373/373), done.\u001b[K\n",
            "remote: Compressing objects: 100% (369/369), done.\u001b[K\n",
            "remote: Total 373 (delta 188), reused 0 (delta 0), pack-reused 0\u001b[K\n",
            "Receiving objects: 100% (373/373), 1006.78 KiB | 9.50 MiB/s, done.\n",
            "Resolving deltas: 100% (188/188), done.\n"
          ]
        }
      ]
    },
    {
      "cell_type": "code",
      "metadata": {
        "id": "0l_T5U3mIYMU"
      },
      "source": [
        "import util2 as u\n",
        "model = u.mnist_model() # 取得新建立並編譯好的模型"
      ],
      "execution_count": 3,
      "outputs": []
    },
    {
      "cell_type": "code",
      "metadata": {
        "id": "V7BUaEnkI3Cn"
      },
      "source": [
        "model.compile(\n",
        "          optimizer = 'rmsprop',  # 優化器\n",
        "          loss = 'categorical_crossentropy',  # 損失函數\n",
        "          metrics = ['accuracy']  \n",
        ")"
      ],
      "execution_count": null,
      "outputs": []
    }
  ]
}