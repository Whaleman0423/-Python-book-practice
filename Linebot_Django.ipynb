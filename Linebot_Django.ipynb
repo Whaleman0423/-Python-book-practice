{
  "nbformat": 4,
  "nbformat_minor": 0,
  "metadata": {
    "colab": {
      "name": "Linebot_Django.ipynb",
      "provenance": [],
      "collapsed_sections": [],
      "authorship_tag": "ABX9TyM0DgIO88gbANU8Dz6J+UIZ",
      "include_colab_link": true
    },
    "kernelspec": {
      "name": "python3",
      "display_name": "Python 3"
    },
    "language_info": {
      "name": "python"
    }
  },
  "cells": [
    {
      "cell_type": "markdown",
      "metadata": {
        "id": "view-in-github",
        "colab_type": "text"
      },
      "source": [
        "<a href=\"https://colab.research.google.com/github/Whaleman0423/-Python-book-practice/blob/main/Linebot_Django.ipynb\" target=\"_parent\"><img src=\"https://colab.research.google.com/assets/colab-badge.svg\" alt=\"Open In Colab\"/></a>"
      ]
    },
    {
      "cell_type": "code",
      "metadata": {
        "id": "moCrrcO6AAkx"
      },
      "source": [
        "# !pip list # 沒有Django"
      ],
      "execution_count": 15,
      "outputs": []
    },
    {
      "cell_type": "code",
      "metadata": {
        "colab": {
          "base_uri": "https://localhost:8080/"
        },
        "id": "-f9C0OPNmbfR",
        "outputId": "a777a079-b39c-4878-f894-4cd69876fd36"
      },
      "source": [
        "from google.colab import drive\n",
        "drive.mount('/content/drive')"
      ],
      "execution_count": 16,
      "outputs": [
        {
          "output_type": "stream",
          "name": "stdout",
          "text": [
            "Drive already mounted at /content/drive; to attempt to forcibly remount, call drive.mount(\"/content/drive\", force_remount=True).\n"
          ]
        }
      ]
    },
    {
      "cell_type": "markdown",
      "metadata": {
        "id": "0cUrN2ZmKbrs"
      },
      "source": [
        "###### 引用 os 套件 ，準備來建立資料夾用的"
      ]
    },
    {
      "cell_type": "code",
      "metadata": {
        "id": "l7TXldMxKiKT"
      },
      "source": [
        "import os"
      ],
      "execution_count": 17,
      "outputs": []
    },
    {
      "cell_type": "markdown",
      "metadata": {
        "id": "tnZqjg0qDSPX"
      },
      "source": [
        "###### 安裝Django套件"
      ]
    },
    {
      "cell_type": "code",
      "metadata": {
        "colab": {
          "base_uri": "https://localhost:8080/"
        },
        "id": "xcRHp-ShAfgV",
        "outputId": "bbfb2ea7-ca40-41b0-bc9e-dfce4009c9d4"
      },
      "source": [
        "!pip install Django"
      ],
      "execution_count": 18,
      "outputs": [
        {
          "output_type": "stream",
          "name": "stdout",
          "text": [
            "Requirement already satisfied: Django in /usr/local/lib/python3.7/dist-packages (3.2.8)\n",
            "Requirement already satisfied: sqlparse>=0.2.2 in /usr/local/lib/python3.7/dist-packages (from Django) (0.4.2)\n",
            "Requirement already satisfied: asgiref<4,>=3.3.2 in /usr/local/lib/python3.7/dist-packages (from Django) (3.4.1)\n",
            "Requirement already satisfied: pytz in /usr/local/lib/python3.7/dist-packages (from Django) (2018.9)\n",
            "Requirement already satisfied: typing-extensions in /usr/local/lib/python3.7/dist-packages (from asgiref<4,>=3.3.2->Django) (3.7.4.3)\n"
          ]
        }
      ]
    },
    {
      "cell_type": "markdown",
      "metadata": {
        "id": "j5uaVYxHnfEa"
      },
      "source": [
        "###### 改變路徑到 MyDrive\n",
        "###### 在 MyDrive 新增一個放專案的資料夾"
      ]
    },
    {
      "cell_type": "code",
      "metadata": {
        "colab": {
          "base_uri": "https://localhost:8080/"
        },
        "id": "YToHnxBHnt4z",
        "outputId": "50b4bb24-318c-4771-9303-a38fcb780db4"
      },
      "source": [
        "path = \"/content/drive/MyDrive\"\n",
        "os.chdir(path) \n",
        "\n",
        "folder_path = \"/content/drive/MyDrive/賴機器人的Django資料夾\"  # 要新增的資料夾路徑\n",
        "if os.path.isdir(folder_path):   # 確認資料夾是否存在\n",
        "  print(\"放專案的資料夾已建立\")\n",
        "else:  # 不存在 => 建立一個\n",
        "  os.mkdir(folder_path)\n",
        "\n",
        "path = \"/content/drive/MyDrive/賴機器人的Django資料夾\"   # 進入到我們的專案資料夾\n",
        "os.chdir(path) "
      ],
      "execution_count": 19,
      "outputs": [
        {
          "output_type": "stream",
          "name": "stdout",
          "text": [
            "放專案的資料夾已建立\n"
          ]
        }
      ]
    },
    {
      "cell_type": "markdown",
      "metadata": {
        "id": "q26cDbjVDZSM"
      },
      "source": [
        "###### 建立Django專案語法"
      ]
    },
    {
      "cell_type": "code",
      "metadata": {
        "id": "nxeBswJCAn_m",
        "colab": {
          "base_uri": "https://localhost:8080/"
        },
        "outputId": "75dbc353-8776-4bb0-90e9-f81d5decc845"
      },
      "source": [
        "\n",
        "!django-admin startproject firstproject  # 建立專案 如果早已建立 會回傳CommandError 已存在專案\n"
      ],
      "execution_count": 20,
      "outputs": [
        {
          "output_type": "stream",
          "name": "stdout",
          "text": [
            "\u001b[31;1mCommandError: '/content/drive/MyDrive/賴機器人的Django資料夾/firstproject' already exists\n",
            "\u001b[0m"
          ]
        }
      ]
    },
    {
      "cell_type": "markdown",
      "metadata": {
        "id": "l7l6sTNSEPlG"
      },
      "source": [
        "###### 進入(切換) firstproject "
      ]
    },
    {
      "cell_type": "code",
      "metadata": {
        "id": "bLbWwFcaEWdP"
      },
      "source": [
        "# cd firstproject\n",
        "path = \"./firstproject\"\n",
        "os.chdir(path) \n",
        "# cd 又壞掉了 不可使用"
      ],
      "execution_count": 21,
      "outputs": []
    },
    {
      "cell_type": "markdown",
      "metadata": {
        "id": "iAfKnBWBDnZn"
      },
      "source": [
        "###### 建立Application"
      ]
    },
    {
      "cell_type": "code",
      "metadata": {
        "id": "5GpFVd-2Ds08",
        "colab": {
          "base_uri": "https://localhost:8080/"
        },
        "outputId": "ccd2264d-a995-4092-bbd7-38be70d093cc"
      },
      "source": [
        "!python manage.py startapp myapp # 若已存在APP則會出現CommandError 要我們更換app名 不用管他"
      ],
      "execution_count": 22,
      "outputs": [
        {
          "output_type": "stream",
          "name": "stdout",
          "text": [
            "\u001b[31;1mCommandError: 'myapp' conflicts with the name of an existing Python module and cannot be used as an app name. Please try another name.\n",
            "\u001b[0m"
          ]
        }
      ]
    },
    {
      "cell_type": "markdown",
      "metadata": {
        "id": "i42ZY1yVF1Kg"
      },
      "source": [
        "###### 建立 templates 資料夾\n",
        "###### 書上教的 md templates 建立資料夾，是沒用的\n",
        "###### 因此換成os.mkdir(path)"
      ]
    },
    {
      "cell_type": "code",
      "metadata": {
        "id": "cdnkAe_GF7Dw",
        "colab": {
          "base_uri": "https://localhost:8080/"
        },
        "outputId": "818ff05a-0793-48cb-c32e-15bbaa9d587d"
      },
      "source": [
        "template_path = \"./templates\" \n",
        "if os.path.isdir(template_path):   # 確認資料夾是否存在  \n",
        "  print(\"templates資料夾早已建立\")\n",
        "else:\n",
        "  os.mkdir(template_path) # 不存在 就建立一個"
      ],
      "execution_count": 23,
      "outputs": [
        {
          "output_type": "stream",
          "name": "stdout",
          "text": [
            "templates資料夾早已建立\n"
          ]
        }
      ]
    },
    {
      "cell_type": "markdown",
      "metadata": {
        "id": "87me12JTLhsr"
      },
      "source": [
        "###### 建立 static 資料夾"
      ]
    },
    {
      "cell_type": "code",
      "metadata": {
        "id": "KFGcc6cgLMc2",
        "colab": {
          "base_uri": "https://localhost:8080/"
        },
        "outputId": "9d88e1f4-32ed-4280-ea45-2ce2cf2169cf"
      },
      "source": [
        "static_path = \"./static\" \n",
        "if not os.path.isdir(static_path):   # 確認資料夾是否存在\n",
        "  os.mkdir(static_path)\n",
        "else:\n",
        "  print(\"static資料夾早已建立\")"
      ],
      "execution_count": 24,
      "outputs": [
        {
          "output_type": "stream",
          "name": "stdout",
          "text": [
            "static資料夾早已建立\n"
          ]
        }
      ]
    },
    {
      "cell_type": "markdown",
      "metadata": {
        "id": "ZIt1pL3sLwR6"
      },
      "source": [
        "###### templates 和 static 兩個資料夾和 myapp 是平行的\n",
        "###### 建立在專案的最上層目錄"
      ]
    },
    {
      "cell_type": "markdown",
      "metadata": {
        "id": "Q2HYoR2zNQdj"
      },
      "source": [
        "###### 建立 migration"
      ]
    },
    {
      "cell_type": "code",
      "metadata": {
        "colab": {
          "base_uri": "https://localhost:8080/"
        },
        "id": "Z8RiSsXcNZ3Z",
        "outputId": "565a8608-1c05-4828-b0b0-db43c03947b4"
      },
      "source": [
        "!python manage.py makemigrations"
      ],
      "execution_count": 25,
      "outputs": [
        {
          "output_type": "stream",
          "name": "stdout",
          "text": [
            "Traceback (most recent call last):\n",
            "  File \"manage.py\", line 22, in <module>\n",
            "    main()\n",
            "  File \"manage.py\", line 18, in main\n",
            "    execute_from_command_line(sys.argv)\n",
            "  File \"/usr/local/lib/python3.7/dist-packages/django/core/management/__init__.py\", line 419, in execute_from_command_line\n",
            "    utility.execute()\n",
            "  File \"/usr/local/lib/python3.7/dist-packages/django/core/management/__init__.py\", line 413, in execute\n",
            "    self.fetch_command(subcommand).run_from_argv(self.argv)\n",
            "  File \"/usr/local/lib/python3.7/dist-packages/django/core/management/base.py\", line 354, in run_from_argv\n",
            "    self.execute(*args, **cmd_options)\n",
            "  File \"/usr/local/lib/python3.7/dist-packages/django/core/management/base.py\", line 393, in execute\n",
            "    self.check()\n",
            "  File \"/usr/local/lib/python3.7/dist-packages/django/core/management/base.py\", line 423, in check\n",
            "    databases=databases,\n",
            "  File \"/usr/local/lib/python3.7/dist-packages/django/core/checks/registry.py\", line 76, in run_checks\n",
            "    new_errors = check(app_configs=app_configs, databases=databases)\n",
            "  File \"/usr/local/lib/python3.7/dist-packages/django/core/checks/urls.py\", line 40, in check_url_namespaces_unique\n",
            "    all_namespaces = _load_all_namespaces(resolver)\n",
            "  File \"/usr/local/lib/python3.7/dist-packages/django/core/checks/urls.py\", line 57, in _load_all_namespaces\n",
            "    url_patterns = getattr(resolver, 'url_patterns', [])\n",
            "  File \"/usr/local/lib/python3.7/dist-packages/django/utils/functional.py\", line 48, in __get__\n",
            "    res = instance.__dict__[self.name] = self.func(instance)\n",
            "  File \"/usr/local/lib/python3.7/dist-packages/django/urls/resolvers.py\", line 598, in url_patterns\n",
            "    patterns = getattr(self.urlconf_module, \"urlpatterns\", self.urlconf_module)\n",
            "  File \"/usr/local/lib/python3.7/dist-packages/django/utils/functional.py\", line 48, in __get__\n",
            "    res = instance.__dict__[self.name] = self.func(instance)\n",
            "  File \"/usr/local/lib/python3.7/dist-packages/django/urls/resolvers.py\", line 591, in urlconf_module\n",
            "    return import_module(self.urlconf_name)\n",
            "  File \"/usr/lib/python3.7/importlib/__init__.py\", line 127, in import_module\n",
            "    return _bootstrap._gcd_import(name[level:], package, level)\n",
            "  File \"<frozen importlib._bootstrap>\", line 1006, in _gcd_import\n",
            "  File \"<frozen importlib._bootstrap>\", line 983, in _find_and_load\n",
            "  File \"<frozen importlib._bootstrap>\", line 967, in _find_and_load_unlocked\n",
            "  File \"<frozen importlib._bootstrap>\", line 677, in _load_unlocked\n",
            "  File \"<frozen importlib._bootstrap_external>\", line 728, in exec_module\n",
            "  File \"<frozen importlib._bootstrap>\", line 219, in _call_with_frames_removed\n",
            "  File \"/content/drive/MyDrive/賴機器人的Django資料夾/firstproject/firstproject/urls.py\", line 25, in <module>\n",
            "    url(r'^hello4/(\\w+)/$', hello4),\n",
            "NameError: name 'hello4' is not defined\n"
          ]
        }
      ]
    },
    {
      "cell_type": "markdown",
      "metadata": {
        "id": "thT881aHNhRn"
      },
      "source": [
        "###### 模型與資料庫同步"
      ]
    },
    {
      "cell_type": "code",
      "metadata": {
        "colab": {
          "base_uri": "https://localhost:8080/"
        },
        "id": "QrylPdedNvdw",
        "outputId": "a6b6ed99-8ec2-41c3-d6bf-4362c8176134"
      },
      "source": [
        "!python manage.py migrate"
      ],
      "execution_count": 26,
      "outputs": [
        {
          "output_type": "stream",
          "name": "stdout",
          "text": [
            "Traceback (most recent call last):\n",
            "  File \"manage.py\", line 22, in <module>\n",
            "    main()\n",
            "  File \"manage.py\", line 18, in main\n",
            "    execute_from_command_line(sys.argv)\n",
            "  File \"/usr/local/lib/python3.7/dist-packages/django/core/management/__init__.py\", line 419, in execute_from_command_line\n",
            "    utility.execute()\n",
            "  File \"/usr/local/lib/python3.7/dist-packages/django/core/management/__init__.py\", line 413, in execute\n",
            "    self.fetch_command(subcommand).run_from_argv(self.argv)\n",
            "  File \"/usr/local/lib/python3.7/dist-packages/django/core/management/base.py\", line 354, in run_from_argv\n",
            "    self.execute(*args, **cmd_options)\n",
            "  File \"/usr/local/lib/python3.7/dist-packages/django/core/management/base.py\", line 398, in execute\n",
            "    output = self.handle(*args, **options)\n",
            "  File \"/usr/local/lib/python3.7/dist-packages/django/core/management/base.py\", line 89, in wrapped\n",
            "    res = handle_func(*args, **kwargs)\n",
            "  File \"/usr/local/lib/python3.7/dist-packages/django/core/management/commands/migrate.py\", line 75, in handle\n",
            "    self.check(databases=[database])\n",
            "  File \"/usr/local/lib/python3.7/dist-packages/django/core/management/base.py\", line 423, in check\n",
            "    databases=databases,\n",
            "  File \"/usr/local/lib/python3.7/dist-packages/django/core/checks/registry.py\", line 76, in run_checks\n",
            "    new_errors = check(app_configs=app_configs, databases=databases)\n",
            "  File \"/usr/local/lib/python3.7/dist-packages/django/core/checks/urls.py\", line 40, in check_url_namespaces_unique\n",
            "    all_namespaces = _load_all_namespaces(resolver)\n",
            "  File \"/usr/local/lib/python3.7/dist-packages/django/core/checks/urls.py\", line 57, in _load_all_namespaces\n",
            "    url_patterns = getattr(resolver, 'url_patterns', [])\n",
            "  File \"/usr/local/lib/python3.7/dist-packages/django/utils/functional.py\", line 48, in __get__\n",
            "    res = instance.__dict__[self.name] = self.func(instance)\n",
            "  File \"/usr/local/lib/python3.7/dist-packages/django/urls/resolvers.py\", line 598, in url_patterns\n",
            "    patterns = getattr(self.urlconf_module, \"urlpatterns\", self.urlconf_module)\n",
            "  File \"/usr/local/lib/python3.7/dist-packages/django/utils/functional.py\", line 48, in __get__\n",
            "    res = instance.__dict__[self.name] = self.func(instance)\n",
            "  File \"/usr/local/lib/python3.7/dist-packages/django/urls/resolvers.py\", line 591, in urlconf_module\n",
            "    return import_module(self.urlconf_name)\n",
            "  File \"/usr/lib/python3.7/importlib/__init__.py\", line 127, in import_module\n",
            "    return _bootstrap._gcd_import(name[level:], package, level)\n",
            "  File \"<frozen importlib._bootstrap>\", line 1006, in _gcd_import\n",
            "  File \"<frozen importlib._bootstrap>\", line 983, in _find_and_load\n",
            "  File \"<frozen importlib._bootstrap>\", line 967, in _find_and_load_unlocked\n",
            "  File \"<frozen importlib._bootstrap>\", line 677, in _load_unlocked\n",
            "  File \"<frozen importlib._bootstrap_external>\", line 728, in exec_module\n",
            "  File \"<frozen importlib._bootstrap>\", line 219, in _call_with_frames_removed\n",
            "  File \"/content/drive/MyDrive/賴機器人的Django資料夾/firstproject/firstproject/urls.py\", line 25, in <module>\n",
            "    url(r'^hello4/(\\w+)/$', hello4),\n",
            "NameError: name 'hello4' is not defined\n"
          ]
        }
      ]
    },
    {
      "cell_type": "markdown",
      "metadata": {
        "id": "NKpS8dPWN5VY"
      },
      "source": [
        "###### migrate完成後會在專案的最上層目錄下，建立<db.sqlite3>檔，這個檔案就是Django預設的資料庫檔案"
      ]
    },
    {
      "cell_type": "markdown",
      "metadata": {
        "id": "LxuQFP5Ybfo2"
      },
      "source": [
        "###### https://medium.com/@arsindoliya/running-django-on-google-colab-ea9392cdee86\n",
        "###### 缺少下面這個步驟 !!! 會無法連接運行網址\n",
        "###### 將透過下面 eval所產生的網址 來連接我們的網頁\n",
        "###### 並且 需要在 /content/firstproject/firstproject/settings.py\n",
        "###### 裡面的ALLOWED_HOSTS 清單內 新增'colab.research.google.com'\n",
        "###### ALLOWED_HOSTS = ['colab.research.google.com']"
      ]
    },
    {
      "cell_type": "code",
      "metadata": {
        "colab": {
          "base_uri": "https://localhost:8080/",
          "height": 35
        },
        "id": "yTr8dABEbB9p",
        "outputId": "44bff986-2118-4530-e4d1-d83543916dea"
      },
      "source": [
        "from google.colab.output import eval_js\n",
        "print(eval_js(\"google.colab.kernel.proxyPort(8000)\"))"
      ],
      "execution_count": 27,
      "outputs": [
        {
          "output_type": "stream",
          "name": "stdout",
          "text": [
            "https://r1zltwcufw-496ff2e9c6d22116-8000-colab.googleusercontent.com/\n"
          ]
        }
      ]
    },
    {
      "cell_type": "markdown",
      "metadata": {
        "id": "gX8nvO5YOHuo"
      },
      "source": [
        "###### 啟動Server"
      ]
    },
    {
      "cell_type": "code",
      "metadata": {
        "colab": {
          "base_uri": "https://localhost:8080/"
        },
        "id": "hWu8C1zFON5P",
        "outputId": "81206061-8a3c-40a9-937e-4d9f77840d18"
      },
      "source": [
        "!python manage.py runserver "
      ],
      "execution_count": 31,
      "outputs": [
        {
          "output_type": "stream",
          "name": "stdout",
          "text": [
            "Watching for file changes with StatReloader\n",
            "Performing system checks...\n",
            "\n",
            "System check identified no issues (0 silenced).\n",
            "October 19, 2021 - 22:54:46\n",
            "Django version 3.2.8, using settings 'firstproject.settings'\n",
            "Starting development server at http://127.0.0.1:8000/\n",
            "Quit the server with CONTROL-C.\n",
            "[19/Oct/2021 22:54:52] \u001b[m\"GET / HTTP/1.1\" 200 13\u001b[0m\n",
            "Not Found: /favicon.ico\n",
            "[19/Oct/2021 22:54:53] \u001b[33m\"GET /favicon.ico HTTP/1.1\" 404 2574\u001b[0m\n",
            "[19/Oct/2021 22:55:08] \u001b[m\"GET /hello4/%E8%96%9B%E5%AE%87%E7%9D%BF/ HTTP/1.1\" 200 418\u001b[0m\n",
            "[19/Oct/2021 22:55:09] \u001b[m\"GET /static/css/style.css HTTP/1.1\" 200 45\u001b[0m\n",
            "[19/Oct/2021 22:55:09] \u001b[m\"GET /static/images/ball.jpg HTTP/1.1\" 200 13741\u001b[0m\n",
            "Not Found: /favicon.ico\n",
            "[19/Oct/2021 22:55:09] \u001b[33m\"GET /favicon.ico HTTP/1.1\" 404 2574\u001b[0m\n"
          ]
        }
      ]
    },
    {
      "cell_type": "markdown",
      "metadata": {
        "id": "DS2MGWwhzk1s"
      },
      "source": [
        "#### 打開 firstproject 裡面的 settings.py 進行設定:"
      ]
    },
    {
      "cell_type": "markdown",
      "metadata": {
        "id": "pvdXHzz9y7oe"
      },
      "source": [
        "##### 除錯模式設定: \n",
        "##### DEBUG = True 預設為除錯模式\n",
        "##### 真正上線部署 需改成 False 增加網站的安全"
      ]
    },
    {
      "cell_type": "markdown",
      "metadata": {
        "id": "VkvSfbWMzTSI"
      },
      "source": [
        "##### 加入 Application 應用程式:\n",
        "##### 在 INSTALLED_APPS 清單中 下面加一項 app 的名子(\"myapp\",)\n",
        "\n",
        "\n",
        "```\n",
        "# INSTALLED_APPS = [\n",
        "    'django.contrib.admin',\n",
        "    'django.contrib.auth',\n",
        "    'django.contrib.contenttypes',\n",
        "    'django.contrib.sessions',\n",
        "    'django.contrib.messages',\n",
        "    'django.contrib.staticfiles',\n",
        "    'myapp',  # 新增的 app\n",
        "]\n",
        "```\n",
        "\n"
      ]
    },
    {
      "cell_type": "markdown",
      "metadata": {
        "id": "_lfUUCDj0qRF"
      },
      "source": [
        "##### 設定 template 路徑\n",
        "##### 上層要import os上面要import os\n",
        "\n",
        "\n",
        "```\n",
        "TEMPLATES = [\n",
        "    {\n",
        "        'BACKEND': 'django.template.backends.django.DjangoTemplates',\n",
        "        'DIRS': [os.path.join(BASE_DIR, 'templates')], # 加上 templates 路徑\n",
        "        'APP_DIRS': True,\n",
        "        ......\n",
        "```\n",
        "\n"
      ]
    },
    {
      "cell_type": "markdown",
      "metadata": {
        "id": "7WQg67E92V8d"
      },
      "source": [
        "##### 設定語系與時區:\n",
        "##### 預設語系是英文語系，需改成 中文語系， 台北時區。\n",
        "\n",
        "\n",
        "```\n",
        "LANGUAGE_CODE = 'zh-Hant'  # 改成繁體中文\n",
        "\n",
        "TIME_ZONE = 'Asia/Taipei' # 改為台北時區\n",
        "\n",
        "```\n",
        "\n",
        "\n"
      ]
    },
    {
      "cell_type": "markdown",
      "metadata": {
        "id": "rF5NvG6t3CkE"
      },
      "source": [
        "\n",
        "\n",
        "##### 設定 static 靜態檔的路徑:\n",
        "##### 加入 3 行在 STATIC_URL = '/static/' 下面\n",
        "\n",
        "\n",
        "```\n",
        "STATIC_URL = '/static/'\n",
        "STATICFILES_DIRS = [   # 加入這三行 加入static路徑\n",
        "  os.path.join(BASE_DIR, 'static'),\n",
        "]\n",
        "```\n",
        "\n"
      ]
    },
    {
      "cell_type": "markdown",
      "metadata": {
        "id": "YV6npmWN4gDv"
      },
      "source": [
        "##### 設定 urls.py\n",
        "##### 1. 設定  < urls.py > urlpatterns 串列中 url網址和函式的對照\n",
        "##### 2. 在< views.py> 中撰寫函式\n",
        "##### 打開urls.py\n",
        "\n",
        "```\n",
        "from django.contrib import admin\n",
        "from django.urls import path\n",
        "from django.conf.urls import url\n",
        "from myapp.views import sayhello\n",
        "urlpatterns = [\n",
        "    path('admin/', admin.site.urls),\n",
        "    url(r'^$', sayhello),\n",
        "]\n",
        "\n",
        "```\n",
        "\n"
      ]
    },
    {
      "cell_type": "markdown",
      "metadata": {
        "id": "F4LG0vRrSy0s"
      },
      "source": [
        "##### 打開 myapp 資料夾中的 <views.py> \n",
        "##### 加入 sayhello()自定義函式\n",
        "\n",
        "```\n",
        "from django.shortcuts import render\n",
        "from django.http import HttpResponse\n",
        "\n",
        "def sayhello(request):\n",
        "  return HttpResponse(\"Hello Django!\") \n",
        "\n",
        "# Create your views here.\n",
        "\n",
        "```\n",
        "\n"
      ]
    },
    {
      "cell_type": "markdown",
      "metadata": {
        "id": "fZU1W8XmstKW"
      },
      "source": [
        "![image.png](data:image/png;base64,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)"
      ]
    },
    {
      "cell_type": "markdown",
      "metadata": {
        "id": "xj7ibRyyuljX"
      },
      "source": [
        "##### 2.4.4 傳送參數\n",
        "\n",
        "##### 到hello2/李曉明/\n",
        "##### 傳送參數李曉明\n",
        "##### 打開 urls.py\n",
        "\n",
        "\n",
        "```\n",
        "from myapp.views import sayhello, hello2 #上面加上hello2\n",
        "urlpatterns = [\n",
        "    path('admin/', admin.site.urls),\n",
        "    url(r'^$', sayhello),\n",
        "    url(r'^hello2/(\\w+)/$', hello2),  # 加入此行\n",
        "]\n",
        "\n",
        "```\n",
        "\n",
        "##### 打開 myapp 的 views.py 編輯\n",
        "\n",
        "\n",
        "```\n",
        "def hello2(request, username):\n",
        "  return HttpResponse(\"Hello \" + username)\n",
        "```\n",
        "\n",
        "##### 在網址後面輸入 /hello2/XXX/ 就會顯示名字\n",
        "\n"
      ]
    },
    {
      "cell_type": "markdown",
      "metadata": {
        "id": "3a6KWncbux0v"
      },
      "source": [
        " ##### 模板的使用\n",
        " ##### 在 templates 資料夾 新增 <hello3.html>\n",
        " ##### 並新增內容，內容如下:\n",
        "\n",
        "```\n",
        "<!DOCTYPE html>\n",
        "<html>\n",
        "<head>\n",
        "  <meta charset=\"utf-8\">\n",
        "  <title>第一個模板</title>\n",
        "</head>\n",
        "<body>\n",
        "  <h1> 歡迎光臨 : {{username}} </h1>\n",
        "  <h2> 現在時刻 : {{now}} </h2>\n",
        "</body>\n",
        "</html>\n",
        "```\n",
        "##### 模板中，讀取變數的語法為 {{變數}}\n",
        "##### 打開 urls.py\n",
        "##### 匯入 hello3\n",
        "##### 定義 hello3 如下:\n",
        "\n",
        "\n",
        "```\n",
        "from myapp.views import sayhello, hello2, hello3\n",
        "urlpatterns = [\n",
        "    path('admin/', admin.site.urls),\n",
        "    url(r'^$', sayhello),\n",
        "    url(r'^hello2/(\\w+)/$', hello2),\n",
        "    url(r'^hello3/(\\w+)/$', hello3),\n",
        "    \n",
        "]\n",
        "```\n",
        "##### 最後再定義 hello3 自訂程序\n",
        "##### 打開 myapp 的 views.py\n",
        "##### 以 username 接收參數，使用 render 函式呼叫顯示<hello3.html> 模板 同時將參數傳遞給 <hello3.html>模板\n",
        "\n",
        "\n",
        "```\n",
        "from django.shortcuts import render\n",
        "from datetime import datetime\n",
        "\n",
        "def hello3(request, username):\n",
        "  now = datetime.now()\n",
        "  return render(request, \"hello3.html\", locals())\n",
        "  \n",
        "```\n",
        "\n"
      ]
    },
    {
      "cell_type": "markdown",
      "metadata": {
        "id": "0TgAKsWl0T4x"
      },
      "source": [
        "![image.png](data:image/png;base64,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)"
      ]
    },
    {
      "cell_type": "markdown",
      "metadata": {
        "id": "fe5085Tb6LoX"
      },
      "source": [
        "##### 加入 static 靜態檔案\n",
        "##### 在 <static> 資料夾下新增 <images> 資料夾\n",
        "##### 並將一圖片檔放在 <images> 資料夾中\n",
        "##### 同時新增一個 <css> 資料夾 \n",
        "##### 然後將 <style.css> 檔 放在 <css> 資料夾"
      ]
    },
    {
      "cell_type": "markdown",
      "metadata": {
        "id": "4VIinxZfDOdF"
      },
      "source": [
        "\n",
        "###### 打開urls.py\n",
        "```\n",
        "from myapp.views import sayhello, hello2, hello3, hello4\n",
        "urlpatterns = [\n",
        "    path('admin/', admin.site.urls),\n",
        "    url(r'^$', sayhello),\n",
        "    url(r'^hello2/(\\w+)/$', hello2),\n",
        "    url(r'^hello3/(\\w+)/$', hello3),\n",
        "    url(r'^hello4/(\\w+)/$', hello4),\n",
        "```\n",
        "###### 打開views.py\n",
        "\n",
        "```\n",
        "def hello4(request, username):\n",
        "  now = datetime.now()\n",
        "  return render(request, \"hello4.html\", locals())\n",
        "```\n",
        "###### 新增在templates 一個 hello4.html\n",
        "\n",
        "```\n",
        "<!DOCTYPE html>\n",
        "<html>\n",
        "<head>\n",
        "  <meta charset=\"utf-8\">\n",
        "  <title>顯示圖片的模板</title>\n",
        "  {% load static %}  #不可以打 staticfiles 不支援了\n",
        "  <link href=\"{% static \"css/style.css\" %}\" rel=\"stylesheet\" type=\"text/css\" />\n",
        "</head>\n",
        "<body>\n",
        "  <div id=\"home\">\n",
        "    <img src=\"{% static \"images/ball.jpg\" %}\" alt=\"歡迎光臨\" width=\"32\" height=\"32\" />\n",
        "    <span class=\"info\"> 歡迎光臨: {{username}}</span>\n",
        "    <h2> 現在時刻:{{now}} </h2>\n",
        "  </div>\n",
        "</body>\n",
        "</html>\n",
        "```\n",
        "\n",
        "######static/css/style.css\n",
        "\n",
        "```\n",
        ".info {\n",
        "  color:red;\n",
        "  font-size: 1.5em;\n",
        "}\n",
        "```\n",
        "\n",
        "\n",
        "\n"
      ]
    },
    {
      "cell_type": "code",
      "metadata": {
        "id": "FeAl_Mh0D-20"
      },
      "source": [
        ""
      ],
      "execution_count": null,
      "outputs": []
    }
  ]
}