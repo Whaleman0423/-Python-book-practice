{
  "nbformat": 4,
  "nbformat_minor": 0,
  "metadata": {
    "colab": {
      "name": "Linebot_Django.ipynb",
      "provenance": [],
      "collapsed_sections": [],
      "authorship_tag": "ABX9TyPpKv2Vn/0MtOT2myFK/iUo",
      "include_colab_link": true
    },
    "kernelspec": {
      "name": "python3",
      "display_name": "Python 3"
    },
    "language_info": {
      "name": "python"
    }
  },
  "cells": [
    {
      "cell_type": "markdown",
      "metadata": {
        "id": "view-in-github",
        "colab_type": "text"
      },
      "source": [
        "<a href=\"https://colab.research.google.com/github/Whaleman0423/-Python-book-practice/blob/main/Linebot_Django.ipynb\" target=\"_parent\"><img src=\"https://colab.research.google.com/assets/colab-badge.svg\" alt=\"Open In Colab\"/></a>"
      ]
    },
    {
      "cell_type": "code",
      "metadata": {
        "id": "moCrrcO6AAkx"
      },
      "source": [
        "# !pip list # 沒有Django"
      ],
      "execution_count": 1,
      "outputs": []
    },
    {
      "cell_type": "code",
      "metadata": {
        "colab": {
          "base_uri": "https://localhost:8080/"
        },
        "id": "-f9C0OPNmbfR",
        "outputId": "5623dc9e-8207-4017-8060-49a17d07ffff"
      },
      "source": [
        "from google.colab import drive\n",
        "drive.mount('/content/drive')"
      ],
      "execution_count": 2,
      "outputs": [
        {
          "output_type": "stream",
          "name": "stdout",
          "text": [
            "Mounted at /content/drive\n"
          ]
        }
      ]
    },
    {
      "cell_type": "markdown",
      "metadata": {
        "id": "0cUrN2ZmKbrs"
      },
      "source": [
        "###### 引用 os 套件 ，準備來建立資料夾用的"
      ]
    },
    {
      "cell_type": "code",
      "metadata": {
        "id": "l7TXldMxKiKT"
      },
      "source": [
        "import os"
      ],
      "execution_count": 3,
      "outputs": []
    },
    {
      "cell_type": "markdown",
      "metadata": {
        "id": "tnZqjg0qDSPX"
      },
      "source": [
        "###### 安裝Django套件"
      ]
    },
    {
      "cell_type": "code",
      "metadata": {
        "colab": {
          "base_uri": "https://localhost:8080/"
        },
        "id": "xcRHp-ShAfgV",
        "outputId": "12ecea82-bb4e-48f7-89cb-8cba246b4e18"
      },
      "source": [
        "!pip install Django"
      ],
      "execution_count": 4,
      "outputs": [
        {
          "output_type": "stream",
          "name": "stdout",
          "text": [
            "Collecting Django\n",
            "  Downloading Django-3.2.8-py3-none-any.whl (7.9 MB)\n",
            "\u001b[K     |████████████████████████████████| 7.9 MB 5.0 MB/s \n",
            "\u001b[?25hRequirement already satisfied: pytz in /usr/local/lib/python3.7/dist-packages (from Django) (2018.9)\n",
            "Collecting asgiref<4,>=3.3.2\n",
            "  Downloading asgiref-3.4.1-py3-none-any.whl (25 kB)\n",
            "Requirement already satisfied: sqlparse>=0.2.2 in /usr/local/lib/python3.7/dist-packages (from Django) (0.4.2)\n",
            "Requirement already satisfied: typing-extensions in /usr/local/lib/python3.7/dist-packages (from asgiref<4,>=3.3.2->Django) (3.7.4.3)\n",
            "Installing collected packages: asgiref, Django\n",
            "Successfully installed Django-3.2.8 asgiref-3.4.1\n"
          ]
        }
      ]
    },
    {
      "cell_type": "markdown",
      "metadata": {
        "id": "j5uaVYxHnfEa"
      },
      "source": [
        "###### 改變路徑到 MyDrive\n",
        "###### 在 MyDrive 新增一個放專案的資料夾"
      ]
    },
    {
      "cell_type": "code",
      "metadata": {
        "colab": {
          "base_uri": "https://localhost:8080/"
        },
        "id": "YToHnxBHnt4z",
        "outputId": "7e1a25b1-612b-4bae-ae3b-e9aed49a6cda"
      },
      "source": [
        "path = \"/content/drive/MyDrive\"\n",
        "os.chdir(path) \n",
        "\n",
        "folder_path = \"/content/drive/MyDrive/賴機器人的Django資料夾\"  # 要新增的資料夾路徑\n",
        "if os.path.isdir(folder_path):   # 確認資料夾是否存在\n",
        "  print(\"放專案的資料夾已建立\")\n",
        "else:  # 不存在 => 建立一個\n",
        "  os.mkdir(folder_path)\n",
        "\n",
        "path = \"/content/drive/MyDrive/賴機器人的Django資料夾\"   # 進入到我們的專案資料夾\n",
        "os.chdir(path) "
      ],
      "execution_count": 5,
      "outputs": [
        {
          "output_type": "stream",
          "name": "stdout",
          "text": [
            "放專案的資料夾已建立\n"
          ]
        }
      ]
    },
    {
      "cell_type": "markdown",
      "metadata": {
        "id": "q26cDbjVDZSM"
      },
      "source": [
        "###### 建立Django專案語法"
      ]
    },
    {
      "cell_type": "code",
      "metadata": {
        "id": "nxeBswJCAn_m",
        "colab": {
          "base_uri": "https://localhost:8080/"
        },
        "outputId": "e8ae0d53-fc16-4cb4-b0c6-3937e393c41a"
      },
      "source": [
        "\n",
        "!django-admin startproject firstproject  # 建立專案 如果早已建立 會回傳CommandError 已存在專案\n"
      ],
      "execution_count": 6,
      "outputs": [
        {
          "output_type": "stream",
          "name": "stdout",
          "text": [
            "\u001b[31;1mCommandError: '/content/drive/MyDrive/賴機器人的Django資料夾/firstproject' already exists\n",
            "\u001b[0m"
          ]
        }
      ]
    },
    {
      "cell_type": "markdown",
      "metadata": {
        "id": "l7l6sTNSEPlG"
      },
      "source": [
        "###### 進入(切換) firstproject "
      ]
    },
    {
      "cell_type": "code",
      "metadata": {
        "id": "bLbWwFcaEWdP"
      },
      "source": [
        "# cd firstproject\n",
        "path = \"./firstproject\"\n",
        "os.chdir(path) \n",
        "# cd 又壞掉了 不可使用"
      ],
      "execution_count": 7,
      "outputs": []
    },
    {
      "cell_type": "markdown",
      "metadata": {
        "id": "iAfKnBWBDnZn"
      },
      "source": [
        "###### 建立Application"
      ]
    },
    {
      "cell_type": "code",
      "metadata": {
        "id": "5GpFVd-2Ds08",
        "colab": {
          "base_uri": "https://localhost:8080/"
        },
        "outputId": "a522b322-13f7-4e78-e026-ef751261e00b"
      },
      "source": [
        "!python manage.py startapp myapp # 若已存在APP則會出現CommandError 要我們更換app名 不用管他"
      ],
      "execution_count": 8,
      "outputs": [
        {
          "output_type": "stream",
          "name": "stdout",
          "text": [
            "\u001b[31;1mCommandError: 'myapp' conflicts with the name of an existing Python module and cannot be used as an app name. Please try another name.\n",
            "\u001b[0m"
          ]
        }
      ]
    },
    {
      "cell_type": "markdown",
      "metadata": {
        "id": "i42ZY1yVF1Kg"
      },
      "source": [
        "###### 建立 templates 資料夾\n",
        "###### 書上教的 md templates 建立資料夾，是沒用的\n",
        "###### 因此換成os.mkdir(path)"
      ]
    },
    {
      "cell_type": "code",
      "metadata": {
        "id": "cdnkAe_GF7Dw",
        "colab": {
          "base_uri": "https://localhost:8080/"
        },
        "outputId": "391d4da9-470a-4710-ff50-913d7ffabe64"
      },
      "source": [
        "template_path = \"./templates\" \n",
        "if os.path.isdir(template_path):   # 確認資料夾是否存在  \n",
        "  print(\"templates資料夾早已建立\")\n",
        "else:\n",
        "  os.mkdir(template_path) # 不存在 就建立一個"
      ],
      "execution_count": 9,
      "outputs": [
        {
          "output_type": "stream",
          "name": "stdout",
          "text": [
            "templates資料夾早已建立\n"
          ]
        }
      ]
    },
    {
      "cell_type": "markdown",
      "metadata": {
        "id": "87me12JTLhsr"
      },
      "source": [
        "###### 建立 static 資料夾"
      ]
    },
    {
      "cell_type": "code",
      "metadata": {
        "id": "KFGcc6cgLMc2",
        "colab": {
          "base_uri": "https://localhost:8080/"
        },
        "outputId": "86344d46-a7ae-44cf-e080-e030c8bceb0d"
      },
      "source": [
        "static_path = \"./static\" \n",
        "if not os.path.isdir(static_path):   # 確認資料夾是否存在\n",
        "  os.mkdir(static_path)\n",
        "else:\n",
        "  print(\"static資料夾早已建立\")"
      ],
      "execution_count": 10,
      "outputs": [
        {
          "output_type": "stream",
          "name": "stdout",
          "text": [
            "static資料夾早已建立\n"
          ]
        }
      ]
    },
    {
      "cell_type": "markdown",
      "metadata": {
        "id": "ZIt1pL3sLwR6"
      },
      "source": [
        "###### templates 和 static 兩個資料夾和 myapp 是平行的\n",
        "###### 建立在專案的最上層目錄"
      ]
    },
    {
      "cell_type": "markdown",
      "metadata": {
        "id": "Q2HYoR2zNQdj"
      },
      "source": [
        "###### 建立 migration"
      ]
    },
    {
      "cell_type": "code",
      "metadata": {
        "colab": {
          "base_uri": "https://localhost:8080/"
        },
        "id": "Z8RiSsXcNZ3Z",
        "outputId": "5a81a0c6-712c-40ed-b0ff-5610f576a551"
      },
      "source": [
        "!python manage.py makemigrations"
      ],
      "execution_count": 11,
      "outputs": [
        {
          "output_type": "stream",
          "name": "stdout",
          "text": [
            "No changes detected\n"
          ]
        }
      ]
    },
    {
      "cell_type": "markdown",
      "metadata": {
        "id": "thT881aHNhRn"
      },
      "source": [
        "###### 模型與資料庫同步"
      ]
    },
    {
      "cell_type": "code",
      "metadata": {
        "colab": {
          "base_uri": "https://localhost:8080/"
        },
        "id": "QrylPdedNvdw",
        "outputId": "693bc3f8-1aaf-4696-bfec-8a274abec32a"
      },
      "source": [
        "!python manage.py migrate"
      ],
      "execution_count": 12,
      "outputs": [
        {
          "output_type": "stream",
          "name": "stdout",
          "text": [
            "\u001b[36;1mOperations to perform:\u001b[0m\n",
            "\u001b[1m  Apply all migrations: \u001b[0madmin, auth, contenttypes, sessions\n",
            "\u001b[36;1mRunning migrations:\u001b[0m\n",
            "  No migrations to apply.\n"
          ]
        }
      ]
    },
    {
      "cell_type": "markdown",
      "metadata": {
        "id": "NKpS8dPWN5VY"
      },
      "source": [
        "###### migrate完成後會在專案的最上層目錄下，建立<db.sqlite3>檔，這個檔案就是Django預設的資料庫檔案"
      ]
    },
    {
      "cell_type": "markdown",
      "metadata": {
        "id": "LxuQFP5Ybfo2"
      },
      "source": [
        "###### https://medium.com/@arsindoliya/running-django-on-google-colab-ea9392cdee86\n",
        "###### 缺少下面這個步驟 !!! 會無法連接運行網址\n",
        "###### 將透過下面 eval所產生的網址 來連接我們的網頁\n",
        "###### 並且 需要在 /content/firstproject/firstproject/settings.py\n",
        "###### 裡面的ALLOWED_HOSTS 清單內 新增'colab.research.google.com'\n",
        "###### ALLOWED_HOSTS = ['colab.research.google.com']"
      ]
    },
    {
      "cell_type": "code",
      "metadata": {
        "colab": {
          "base_uri": "https://localhost:8080/",
          "height": 35
        },
        "id": "yTr8dABEbB9p",
        "outputId": "36683613-f368-4260-c7ab-f7a0c83e4ea8"
      },
      "source": [
        "from google.colab.output import eval_js\n",
        "print(eval_js(\"google.colab.kernel.proxyPort(8000)\"))"
      ],
      "execution_count": 13,
      "outputs": [
        {
          "output_type": "stream",
          "name": "stdout",
          "text": [
            "https://hjohygvjbnj-496ff2e9c6d22116-8000-colab.googleusercontent.com/\n"
          ]
        }
      ]
    },
    {
      "cell_type": "markdown",
      "metadata": {
        "id": "gX8nvO5YOHuo"
      },
      "source": [
        "###### 啟動Server"
      ]
    },
    {
      "cell_type": "code",
      "metadata": {
        "colab": {
          "base_uri": "https://localhost:8080/"
        },
        "id": "hWu8C1zFON5P",
        "outputId": "e9d0a155-0e21-4580-e2ac-f3fff7898f27"
      },
      "source": [
        "!python manage.py runserver "
      ],
      "execution_count": 14,
      "outputs": [
        {
          "output_type": "stream",
          "name": "stdout",
          "text": [
            "Watching for file changes with StatReloader\n",
            "Performing system checks...\n",
            "\n",
            "System check identified no issues (0 silenced).\n",
            "October 17, 2021 - 05:39:05\n",
            "Django version 3.2.8, using settings 'firstproject.settings'\n",
            "Starting development server at http://127.0.0.1:8000/\n",
            "Quit the server with CONTROL-C.\n",
            "[17/Oct/2021 05:39:09] \u001b[m\"GET / HTTP/1.1\" 200 10697\u001b[0m\n",
            "[17/Oct/2021 05:39:09] \u001b[m\"GET /static/admin/css/fonts.css HTTP/1.1\" 200 423\u001b[0m\n",
            "[17/Oct/2021 05:39:10] \u001b[m\"GET /static/admin/fonts/Roboto-Light-webfont.woff HTTP/1.1\" 200 85692\u001b[0m\n",
            "Not Found: /favicon.ico\n",
            "[17/Oct/2021 05:39:10] \u001b[33m\"GET /favicon.ico HTTP/1.1\" 404 2127\u001b[0m\n",
            "[17/Oct/2021 05:39:10] \u001b[m\"GET /static/admin/fonts/Roboto-Bold-webfont.woff HTTP/1.1\" 200 86184\u001b[0m\n",
            "[17/Oct/2021 05:39:10] \u001b[m\"GET /static/admin/fonts/Roboto-Regular-webfont.woff HTTP/1.1\" 200 85876\u001b[0m\n"
          ]
        }
      ]
    },
    {
      "cell_type": "markdown",
      "metadata": {
        "id": "DS2MGWwhzk1s"
      },
      "source": [
        "#### 打開 firstproject 裡面的 settings.py 進行設定:"
      ]
    },
    {
      "cell_type": "markdown",
      "metadata": {
        "id": "pvdXHzz9y7oe"
      },
      "source": [
        "##### 除錯模式設定: \n",
        "##### DEBUG = True 預設為除錯模式\n",
        "##### 真正上線部署 需改成 False 增加網站的安全"
      ]
    },
    {
      "cell_type": "markdown",
      "metadata": {
        "id": "VkvSfbWMzTSI"
      },
      "source": [
        "##### 加入 Application 應用程式:\n",
        "##### 在 INSTALLED_APPS 清單中 下面加一項 app 的名子(\"myapp\",)\n",
        "\n",
        "\n",
        "```\n",
        "# INSTALLED_APPS = [\n",
        "    'django.contrib.admin',\n",
        "    'django.contrib.auth',\n",
        "    'django.contrib.contenttypes',\n",
        "    'django.contrib.sessions',\n",
        "    'django.contrib.messages',\n",
        "    'django.contrib.staticfiles',\n",
        "    'myapp',  # 新增的 app\n",
        "]\n",
        "```\n",
        "\n"
      ]
    },
    {
      "cell_type": "markdown",
      "metadata": {
        "id": "_lfUUCDj0qRF"
      },
      "source": [
        "##### 設定 template 路徑\n",
        "\n",
        "\n",
        "```\n",
        "TEMPLATES = [\n",
        "    {\n",
        "        'BACKEND': 'django.template.backends.django.DjangoTemplates',\n",
        "        'DIRS': [os.path.join(BASE_DIR, 'templates')], # 加上 templates 路徑\n",
        "        'APP_DIRS': True,\n",
        "        ......\n",
        "```\n",
        "\n"
      ]
    },
    {
      "cell_type": "markdown",
      "metadata": {
        "id": "7WQg67E92V8d"
      },
      "source": [
        "##### 設定語系與時區:\n",
        "##### 預設語系是英文語系，需改成 中文語系， 台北時區。\n",
        "\n",
        "\n",
        "```\n",
        "LANGUAGE_CODE = 'zh-Hant'  # 改成繁體中文\n",
        "\n",
        "TIME_ZONE = 'Asia/Taipei' # 改為台北時區\n",
        "\n",
        "```\n",
        "\n",
        "\n"
      ]
    },
    {
      "cell_type": "markdown",
      "metadata": {
        "id": "rF5NvG6t3CkE"
      },
      "source": [
        "##### 設定 static 靜態檔的路徑:\n",
        "##### 加入 3 行在 STATIC_URL = '/static/' 下面\n",
        "\n",
        "\n",
        "```\n",
        "STATIC_URL = '/static/'\n",
        "STATICFILES_DIRS = [   # 加入這三行 加入static路徑\n",
        "  os.path.join(BASE_DIR, 'static'),\n",
        "]\n",
        "```\n",
        "\n"
      ]
    },
    {
      "cell_type": "code",
      "metadata": {
        "id": "YV6npmWN4gDv"
      },
      "source": [
        ""
      ],
      "execution_count": null,
      "outputs": []
    }
  ]
}