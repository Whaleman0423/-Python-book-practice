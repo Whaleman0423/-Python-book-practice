{
  "nbformat": 4,
  "nbformat_minor": 0,
  "metadata": {
    "colab": {
      "name": "LineBot_第三章_Django資料庫1025.ipynb",
      "provenance": [],
      "authorship_tag": "ABX9TyOycnAfufOcryutIhkvNLV4",
      "include_colab_link": true
    },
    "kernelspec": {
      "name": "python3",
      "display_name": "Python 3"
    },
    "language_info": {
      "name": "python"
    }
  },
  "cells": [
    {
      "cell_type": "markdown",
      "metadata": {
        "id": "view-in-github",
        "colab_type": "text"
      },
      "source": [
        "<a href=\"https://colab.research.google.com/github/Whaleman0423/-Python-book-practice/blob/main/LineBot_%E7%AC%AC%E4%B8%89%E7%AB%A0_Django%E8%B3%87%E6%96%99%E5%BA%AB1025.ipynb\" target=\"_parent\"><img src=\"https://colab.research.google.com/assets/colab-badge.svg\" alt=\"Open In Colab\"/></a>"
      ]
    },
    {
      "cell_type": "markdown",
      "metadata": {
        "id": "3iEcn3wA4vJm"
      },
      "source": [
        "### 載入 git 專案資料夾 :"
      ]
    },
    {
      "cell_type": "code",
      "metadata": {
        "id": "BiCZHnBQ3L-U",
        "outputId": "148d1761-e661-4474-fd9c-e01fb4367982",
        "colab": {
          "base_uri": "https://localhost:8080/"
        }
      },
      "source": [
        "!git clone \"https://github.com/Whaleman0423/-Python-book-practice.git\""
      ],
      "execution_count": 1,
      "outputs": [
        {
          "output_type": "stream",
          "name": "stdout",
          "text": [
            "Cloning into '-Python-book-practice'...\n",
            "remote: Enumerating objects: 133, done.\u001b[K\n",
            "remote: Counting objects: 100% (133/133), done.\u001b[K\n",
            "remote: Compressing objects: 100% (131/131), done.\u001b[K\n",
            "remote: Total 133 (delta 71), reused 0 (delta 0), pack-reused 0\u001b[K\n",
            "Receiving objects: 100% (133/133), 929.08 KiB | 13.08 MiB/s, done.\n",
            "Resolving deltas: 100% (71/71), done.\n"
          ]
        }
      ]
    },
    {
      "cell_type": "markdown",
      "metadata": {
        "id": "hgYQ234d4XIY"
      },
      "source": [
        "### 把書本CD的 <students> 資料夾 上傳 git ， 載入git專案資料夾後，將 <students> 拉到 colab 暫存空間練習。"
      ]
    },
    {
      "cell_type": "markdown",
      "metadata": {
        "id": "gQPpqxjd422T"
      },
      "source": [
        "#### 在 students\\urls.py 中 ，定義下列自訂函式 :\n"
      ]
    },
    {
      "cell_type": "code",
      "metadata": {
        "id": "a0OKFr5S5Y-B"
      },
      "source": [
        ""
      ],
      "execution_count": null,
      "outputs": []
    }
  ]
}