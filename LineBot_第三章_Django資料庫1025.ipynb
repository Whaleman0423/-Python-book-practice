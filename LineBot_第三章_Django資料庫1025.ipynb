{
  "nbformat": 4,
  "nbformat_minor": 0,
  "metadata": {
    "colab": {
      "name": "LineBot_第三章_Django資料庫1025.ipynb",
      "provenance": [],
      "authorship_tag": "ABX9TyPDOCizBgWQJlQrus6W61WL",
      "include_colab_link": true
    },
    "kernelspec": {
      "name": "python3",
      "display_name": "Python 3"
    },
    "language_info": {
      "name": "python"
    }
  },
  "cells": [
    {
      "cell_type": "markdown",
      "metadata": {
        "id": "view-in-github",
        "colab_type": "text"
      },
      "source": [
        "<a href=\"https://colab.research.google.com/github/Whaleman0423/-Python-book-practice/blob/main/LineBot_%E7%AC%AC%E4%B8%89%E7%AB%A0_Django%E8%B3%87%E6%96%99%E5%BA%AB1025.ipynb\" target=\"_parent\"><img src=\"https://colab.research.google.com/assets/colab-badge.svg\" alt=\"Open In Colab\"/></a>"
      ]
    },
    {
      "cell_type": "markdown",
      "metadata": {
        "id": "3iEcn3wA4vJm"
      },
      "source": [
        "### 載入 git 專案資料夾 :"
      ]
    },
    {
      "cell_type": "code",
      "metadata": {
        "id": "BiCZHnBQ3L-U",
        "colab": {
          "base_uri": "https://localhost:8080/"
        },
        "outputId": "f7da8c4c-fc5e-4ed7-9bde-c557e7d16cdd"
      },
      "source": [
        "!git clone \"https://github.com/Whaleman0423/-Python-book-practice.git\""
      ],
      "execution_count": 1,
      "outputs": [
        {
          "output_type": "stream",
          "name": "stdout",
          "text": [
            "Cloning into '-Python-book-practice'...\n",
            "remote: Enumerating objects: 141, done.\u001b[K\n",
            "remote: Counting objects: 100% (141/141), done.\u001b[K\n",
            "remote: Compressing objects: 100% (139/139), done.\u001b[K\n",
            "remote: Total 141 (delta 75), reused 0 (delta 0), pack-reused 0\u001b[K\n",
            "Receiving objects: 100% (141/141), 941.61 KiB | 4.44 MiB/s, done.\n",
            "Resolving deltas: 100% (75/75), done.\n"
          ]
        }
      ]
    },
    {
      "cell_type": "markdown",
      "metadata": {
        "id": "hgYQ234d4XIY"
      },
      "source": [
        "### 把書本CD的 <students> 資料夾 zip 上傳 git ， 載入git專案資料夾後，將 <students> 拉到 colab 暫存空間練習。"
      ]
    },
    {
      "cell_type": "code",
      "metadata": {
        "id": "mIz5usr5u0PC"
      },
      "source": [
        "import zipfile   # 匯入解壓縮模組類別\n",
        "f = zipfile.ZipFile(\"/content/students.zip\")  # 解壓縮在 f 變數中\n",
        "f.extractall()"
      ],
      "execution_count": 3,
      "outputs": []
    },
    {
      "cell_type": "markdown",
      "metadata": {
        "id": "gQPpqxjd422T"
      },
      "source": [
        "\n",
        "\n",
        "#### 在 students\\urls.py 中 ，定義下列自訂函式 :\n",
        "\n",
        "\n",
        "```\n",
        "# 以後貼上 # 就好就好\n",
        "\n",
        "from django.contrib import admin\n",
        "from django.urls import path\n",
        "from django.conf.urls import url  # \n",
        "from studentsapp import views   #\n",
        "\n",
        "\n",
        "urlpatterns = [\n",
        "    path('admin/', admin.site.urls),\n",
        "    url(r'^listone/$', views.listone), # \n",
        "    url(r'^listall/$, views.listall), #\n",
        "]\n",
        "\n",
        "```\n",
        "\n"
      ]
    },
    {
      "cell_type": "markdown",
      "metadata": {
        "id": "AJff2rLKvtzY"
      },
      "source": [
        "#### 開啟 studentsapp 專案下的 <models.py> \n",
        "#### 首先建立 students 類別，建立的類別必須以 class student(models.Model) 繼承 models.Model \n",
        "#### 然後再 student 類別建立欄位\n",
        "\n",
        "```\n",
        "from django.db import models  \n",
        "# 以下皆複製貼上即可\n",
        "class student(models.Model):\n",
        "  cName = models.CharField(max_length=20, null=False)\n",
        "  cSex = models.CharField(max_length=2, default='M', null=False)\n",
        "  cBirthday = models.DateField(null=False)\n",
        "  cEmail = models.EmailField(max_length=100, blank=True, default='')\n",
        "  cPhone = models.CharField(max_length=50, blank=True, default='')\n",
        "  cAddr = models.CharField(max_length=255, blank=True, default='')\n",
        "\n",
        "  def __str__(self):\n",
        "    return self.cName\n",
        "```\n",
        "\n"
      ]
    },
    {
      "cell_type": "markdown",
      "metadata": {
        "id": "g2j3Qop4pTUJ"
      },
      "source": [
        "#####缺少下面這個步驟 !!! 會無法連接運行網址\n",
        "#####將透過下面 eval所產生的網址 來連接我們的網頁\n",
        "#####並且 需要在 /content/firstproject/firstproject/settings.py\n",
        "#####裡面的ALLOWED_HOSTS 清單內 新增'colab.research.google.com'\n",
        "#####ALLOWED_HOSTS = ['colab.research.google.com']"
      ]
    },
    {
      "cell_type": "code",
      "metadata": {
        "id": "a0OKFr5S5Y-B"
      },
      "source": [
        "from google.colab.output import eval_js\n",
        "print(eval_js(\"google.colab.kernel.proxyPort(8000)\"))"
      ],
      "execution_count": null,
      "outputs": []
    }
  ]
}