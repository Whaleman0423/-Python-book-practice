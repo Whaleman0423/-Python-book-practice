{
  "nbformat": 4,
  "nbformat_minor": 0,
  "metadata": {
    "colab": {
      "name": "LineBot_第三章_Django資料庫1025.ipynb",
      "provenance": [],
      "authorship_tag": "ABX9TyMmeIYjvkmPNqK2t5McJ6nc",
      "include_colab_link": true
    },
    "kernelspec": {
      "name": "python3",
      "display_name": "Python 3"
    },
    "language_info": {
      "name": "python"
    }
  },
  "cells": [
    {
      "cell_type": "markdown",
      "metadata": {
        "id": "view-in-github",
        "colab_type": "text"
      },
      "source": [
        "<a href=\"https://colab.research.google.com/github/Whaleman0423/-Python-book-practice/blob/main/LineBot_%E7%AC%AC%E4%B8%89%E7%AB%A0_Django%E8%B3%87%E6%96%99%E5%BA%AB1025.ipynb\" target=\"_parent\"><img src=\"https://colab.research.google.com/assets/colab-badge.svg\" alt=\"Open In Colab\"/></a>"
      ]
    },
    {
      "cell_type": "markdown",
      "metadata": {
        "id": "3iEcn3wA4vJm"
      },
      "source": [
        "### 載入 git 專案資料夾 :"
      ]
    },
    {
      "cell_type": "code",
      "metadata": {
        "colab": {
          "base_uri": "https://localhost:8080/"
        },
        "id": "NITOVMC03Gev",
        "outputId": "016db1a3-c3fe-45ac-a7a8-dfe6ccdebb37"
      },
      "source": [
        "!pip install django"
      ],
      "execution_count": null,
      "outputs": [
        {
          "output_type": "stream",
          "name": "stdout",
          "text": [
            "Collecting django\n",
            "  Downloading Django-3.2.8-py3-none-any.whl (7.9 MB)\n",
            "\u001b[K     |████████████████████████████████| 7.9 MB 4.8 MB/s \n",
            "\u001b[?25hRequirement already satisfied: sqlparse>=0.2.2 in /usr/local/lib/python3.7/dist-packages (from django) (0.4.2)\n",
            "Collecting asgiref<4,>=3.3.2\n",
            "  Downloading asgiref-3.4.1-py3-none-any.whl (25 kB)\n",
            "Requirement already satisfied: pytz in /usr/local/lib/python3.7/dist-packages (from django) (2018.9)\n",
            "Requirement already satisfied: typing-extensions in /usr/local/lib/python3.7/dist-packages (from asgiref<4,>=3.3.2->django) (3.7.4.3)\n",
            "Installing collected packages: asgiref, django\n",
            "Successfully installed asgiref-3.4.1 django-3.2.8\n"
          ]
        }
      ]
    },
    {
      "cell_type": "code",
      "metadata": {
        "id": "BiCZHnBQ3L-U",
        "colab": {
          "base_uri": "https://localhost:8080/"
        },
        "outputId": "746c73ec-9007-42b5-ce0e-118dd68dd8ac"
      },
      "source": [
        "!git clone \"https://github.com/Whaleman0423/-Python-book-practice.git\""
      ],
      "execution_count": null,
      "outputs": [
        {
          "output_type": "stream",
          "name": "stdout",
          "text": [
            "Cloning into '-Python-book-practice'...\n",
            "remote: Enumerating objects: 150, done.\u001b[K\n",
            "remote: Counting objects: 100% (150/150), done.\u001b[K\n",
            "remote: Compressing objects: 100% (148/148), done.\u001b[K\n",
            "remote: Total 150 (delta 81), reused 0 (delta 0), pack-reused 0\u001b[K\n",
            "Receiving objects: 100% (150/150), 944.35 KiB | 5.10 MiB/s, done.\n",
            "Resolving deltas: 100% (81/81), done.\n"
          ]
        }
      ]
    },
    {
      "cell_type": "markdown",
      "metadata": {
        "id": "hgYQ234d4XIY"
      },
      "source": [
        "### 把書本CD的 <students> 資料夾 zip 上傳 git ， 載入git專案資料夾後，將 <students> 拉到 colab 暫存空間練習。"
      ]
    },
    {
      "cell_type": "code",
      "metadata": {
        "id": "mIz5usr5u0PC"
      },
      "source": [
        "import zipfile   # 匯入解壓縮模組類別\n",
        "f = zipfile.ZipFile(\"/content/students.zip\")  # 解壓縮在 f 變數中\n",
        "f.extractall()"
      ],
      "execution_count": null,
      "outputs": []
    },
    {
      "cell_type": "markdown",
      "metadata": {
        "id": "gQPpqxjd422T"
      },
      "source": [
        "\n",
        "\n",
        "#### 在 students\\urls.py 中 ，定義下列自訂函式 :\n",
        "\n",
        "\n",
        "```\n",
        "# 以後貼上 # 就好就好\n",
        "\n",
        "from django.contrib import admin\n",
        "from django.urls import path\n",
        "from django.conf.urls import url  # \n",
        "from studentsapp import views   #\n",
        "\n",
        "\n",
        "urlpatterns = [\n",
        "    path('admin/', admin.site.urls),\n",
        "    url(r'^listone/$', views.listone), # \n",
        "    url(r'^listall/$', views.listall), #\n",
        "]\n",
        "\n",
        "```\n",
        "\n"
      ]
    },
    {
      "cell_type": "markdown",
      "metadata": {
        "id": "AJff2rLKvtzY"
      },
      "source": [
        "#### 開啟 studentsapp 專案下的 <models.py> \n",
        "#### 首先建立 students 類別，建立的類別必須以 class student(models.Model) 繼承 models.Model \n",
        "#### 然後再 student 類別建立欄位\n",
        "\n",
        "```\n",
        "from django.db import models  \n",
        "# 以下皆複製貼上即可\n",
        "class student(models.Model):\n",
        "  cName = models.CharField(max_length=20, null=False)\n",
        "  cSex = models.CharField(max_length=2, default='M', null=False)\n",
        "  cBirthday = models.DateField(null=False)\n",
        "  cEmail = models.EmailField(max_length=100, blank=True, default='')\n",
        "  cPhone = models.CharField(max_length=50, blank=True, default='')\n",
        "  cAddr = models.CharField(max_length=255, blank=True, default='')\n",
        "\n",
        "  def __str__(self):\n",
        "    return self.cName\n",
        "```\n",
        "\n"
      ]
    },
    {
      "cell_type": "code",
      "metadata": {
        "colab": {
          "base_uri": "https://localhost:8080/"
        },
        "id": "0pKOs-iL1k7V",
        "outputId": "7f08ea76-b8eb-40a7-8331-5edef5eee909"
      },
      "source": [
        "import os\n",
        "os.chdir('/content/students') # 切換工作路徑到 <students> 資料夾\n",
        "!python manage.py makemigrations "
      ],
      "execution_count": null,
      "outputs": [
        {
          "output_type": "stream",
          "name": "stdout",
          "text": [
            "System check identified some issues:\n",
            "\n",
            "WARNINGS:\n",
            "\u001b[33;1mstudentsapp.student: (models.W042) Auto-created primary key used when not defining a primary key type, by default 'django.db.models.AutoField'.\n",
            "\tHINT: Configure the DEFAULT_AUTO_FIELD setting or the StudentsappConfig.default_auto_field attribute to point to a subclass of AutoField, e.g. 'django.db.models.BigAutoField'.\u001b[0m\n",
            "No changes detected\n"
          ]
        }
      ]
    },
    {
      "cell_type": "code",
      "metadata": {
        "colab": {
          "base_uri": "https://localhost:8080/"
        },
        "id": "fkJgHS_G59ON",
        "outputId": "fe43feb6-febb-4cc8-d935-aa981b262d2d"
      },
      "source": [
        "!python manage.py migrate"
      ],
      "execution_count": null,
      "outputs": [
        {
          "output_type": "stream",
          "name": "stdout",
          "text": [
            "System check identified some issues:\n",
            "\n",
            "WARNINGS:\n",
            "\u001b[33;1mstudentsapp.student: (models.W042) Auto-created primary key used when not defining a primary key type, by default 'django.db.models.AutoField'.\n",
            "\tHINT: Configure the DEFAULT_AUTO_FIELD setting or the StudentsappConfig.default_auto_field attribute to point to a subclass of AutoField, e.g. 'django.db.models.BigAutoField'.\u001b[0m\n",
            "\u001b[36;1mOperations to perform:\u001b[0m\n",
            "\u001b[1m  Apply all migrations: \u001b[0madmin, auth, contenttypes, sessions, studentsapp\n",
            "\u001b[36;1mRunning migrations:\u001b[0m\n",
            "  No migrations to apply.\n"
          ]
        }
      ]
    },
    {
      "cell_type": "markdown",
      "metadata": {
        "id": "SUEsyUWZ6m9t"
      },
      "source": [
        "### 3.2 admin 後台管理與ModelAdmin 類別 :\n",
        "##### migrate 成功後會在專案根目錄下建立 <db.sqlite3> 資料庫，利用 admin 管理後台可以管理 <db.sqlite3> 資料庫，包括新增與修改或刪除資料。\n",
        "#### 開啟專案 app 資料夾 <studentsapp> 的 <admin.py> 檔，加入下面程式 :\n",
        "\n",
        "\n",
        "```\n",
        "from django.contrib import admin\n",
        "# 因 student 定義在 <studentsapp\\models.py> 檔案中，因此必須加入下面這個套件\n",
        "from studentsapp.models import student\n",
        "\n",
        "# Register your models here.\n",
        "admin.site.register(student)\n",
        "```\n",
        "\n"
      ]
    },
    {
      "cell_type": "markdown",
      "metadata": {
        "id": "g2j3Qop4pTUJ"
      },
      "source": [
        "#####缺少下面這個步驟 !!! 會無法連接運行網址\n",
        "#####將透過下面 eval所產生的網址 來連接我們的網頁\n",
        "#####並且 需要在 /content/firstproject/firstproject/settings.py\n",
        "#####裡面的ALLOWED_HOSTS 清單內 新增'colab.research.google.com'\n",
        "#####ALLOWED_HOSTS = ['colab.research.google.com']"
      ]
    },
    {
      "cell_type": "code",
      "metadata": {
        "id": "a0OKFr5S5Y-B",
        "colab": {
          "base_uri": "https://localhost:8080/",
          "height": 35
        },
        "outputId": "ee3486cb-10a5-4196-c042-3dddaa60b299"
      },
      "source": [
        "from google.colab.output import eval_js\n",
        "print(eval_js(\"google.colab.kernel.proxyPort(8000)\"))"
      ],
      "execution_count": null,
      "outputs": [
        {
          "output_type": "stream",
          "name": "stdout",
          "text": [
            "https://lln2q71idd-496ff2e9c6d22116-8000-colab.googleusercontent.com/\n"
          ]
        }
      ]
    },
    {
      "cell_type": "markdown",
      "metadata": {
        "id": "onLHPBwpAX2n"
      },
      "source": [
        ""
      ]
    },
    {
      "cell_type": "code",
      "metadata": {
        "id": "jFlnEtKx_5CN",
        "colab": {
          "base_uri": "https://localhost:8080/"
        },
        "outputId": "a253c36d-5d4d-48aa-f890-2273b62e403e"
      },
      "source": [
        "!python manage.py runserver 8000"
      ],
      "execution_count": null,
      "outputs": [
        {
          "output_type": "stream",
          "name": "stdout",
          "text": [
            "Watching for file changes with StatReloader\n",
            "Performing system checks...\n",
            "\n",
            "System check identified some issues:\n",
            "\n",
            "WARNINGS:\n",
            "\u001b[33;1mstudentsapp.student: (models.W042) Auto-created primary key used when not defining a primary key type, by default 'django.db.models.AutoField'.\n",
            "\tHINT: Configure the DEFAULT_AUTO_FIELD setting or the StudentsappConfig.default_auto_field attribute to point to a subclass of AutoField, e.g. 'django.db.models.BigAutoField'.\u001b[0m\n",
            "\n",
            "System check identified 1 issue (0 silenced).\n",
            "October 26, 2021 - 00:58:28\n",
            "Django version 3.2.8, using settings 'students.settings'\n",
            "Starting development server at http://127.0.0.1:8000/\n",
            "Quit the server with CONTROL-C.\n",
            "Not Found: /\n",
            "[26/Oct/2021 00:58:30] \u001b[33m\"GET / HTTP/1.1\" 404 2292\u001b[0m\n",
            "Not Found: /\n",
            "[26/Oct/2021 00:58:33] \u001b[33m\"GET / HTTP/1.1\" 404 2292\u001b[0m\n",
            "Not Found: /\n",
            "[26/Oct/2021 00:58:35] \u001b[33m\"GET / HTTP/1.1\" 404 2292\u001b[0m\n"
          ]
        }
      ]
    },
    {
      "cell_type": "markdown",
      "metadata": {
        "id": "BUAvqJ1FXuJR"
      },
      "source": [
        "# colab 一直無法連上 改用本地端"
      ]
    }
  ]
}