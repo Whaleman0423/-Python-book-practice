{
  "nbformat": 4,
  "nbformat_minor": 0,
  "metadata": {
    "colab": {
      "name": "第八章_字典與集合.ipynb",
      "provenance": [],
      "collapsed_sections": [],
      "authorship_tag": "ABX9TyPLSUXl6zPH3xcZxBIq7S98",
      "include_colab_link": true
    },
    "kernelspec": {
      "name": "python3",
      "display_name": "Python 3"
    },
    "language_info": {
      "name": "python"
    }
  },
  "cells": [
    {
      "cell_type": "markdown",
      "metadata": {
        "id": "view-in-github",
        "colab_type": "text"
      },
      "source": [
        "<a href=\"https://colab.research.google.com/github/Whaleman0423/-Python-book-practice/blob/main/%E7%AC%AC%E5%85%AB%E7%AB%A0_%E5%AD%97%E5%85%B8%E8%88%87%E9%9B%86%E5%90%88.ipynb\" target=\"_parent\"><img src=\"https://colab.research.google.com/assets/colab-badge.svg\" alt=\"Open In Colab\"/></a>"
      ]
    },
    {
      "cell_type": "code",
      "metadata": {
        "colab": {
          "base_uri": "https://localhost:8080/"
        },
        "id": "fwdd5uMgggYK",
        "outputId": "9a3a1a0a-4805-4289-ab39-dd28afe4b86c"
      },
      "source": [
        "# 用 {} 來建立字典\n",
        "empty_dict = {}\n",
        "empty_dict"
      ],
      "execution_count": null,
      "outputs": [
        {
          "output_type": "execute_result",
          "data": {
            "text/plain": [
              "{}"
            ]
          },
          "metadata": {},
          "execution_count": 1
        }
      ]
    },
    {
      "cell_type": "code",
      "metadata": {
        "colab": {
          "base_uri": "https://localhost:8080/"
        },
        "id": "WtziR1SYh3di",
        "outputId": "ca35f351-c549-4fbf-c590-4e1759ff0d81"
      },
      "source": [
        "fruits = {\"A\":\"Apple\", \"B\":\"Banana\", \"C\":\"Cherry\", \"D\":\"Durian\", \"G\":\"Grape\"}\n",
        "fruits"
      ],
      "execution_count": null,
      "outputs": [
        {
          "output_type": "execute_result",
          "data": {
            "text/plain": [
              "{'A': 'Apple', 'B': 'Banana', 'C': 'Cherry', 'D': 'Durian', 'G': 'Grape'}"
            ]
          },
          "metadata": {},
          "execution_count": 2
        }
      ]
    },
    {
      "cell_type": "code",
      "metadata": {
        "colab": {
          "base_uri": "https://localhost:8080/"
        },
        "id": "aG8zQVulikBt",
        "outputId": "547c3f3c-f8b3-4678-eb3a-6a46005ab8a9"
      },
      "source": [
        "# 用 dict() 來建立字典   鍵 不須加引號  鍵必須是有效變數名稱 def這類不行\n",
        "\n",
        "vehicle = dict(C=\"Car\", B=\"Bus\", S=\"Scooter\", M=\"Motorcycle\")\n",
        "vehicle"
      ],
      "execution_count": null,
      "outputs": [
        {
          "output_type": "execute_result",
          "data": {
            "text/plain": [
              "{'B': 'Bus', 'C': 'Car', 'M': 'Motorcycle', 'S': 'Scooter'}"
            ]
          },
          "metadata": {},
          "execution_count": 6
        }
      ]
    },
    {
      "cell_type": "code",
      "metadata": {
        "colab": {
          "base_uri": "https://localhost:8080/"
        },
        "id": "79Yoxpl6lr9B",
        "outputId": "e8468dfa-0e52-45c8-fdf8-08a8815e324d"
      },
      "source": [
        "# 雙項目串列中串列 雙值序列 建立字典\n",
        "lol = [[\"a\", \"b\"], [\"c\", 'd'], [\"e\", \"f\"]]\n",
        "print(dict(lol))\n",
        "# => dict( [[]] )   #  dict( 雙值序列 )\n",
        "\n",
        "# or dict( [ ( ) ] )  串列中元組\n",
        "lot = [(\"a\", \"b\"), (\"c\", \"d\"), (\"e\", \"f\")]\n",
        "print(dict(lot))\n",
        "\n",
        "# 還有以下其他形式的雙值序列\n",
        "tol = ([\"a\", \"b\"], [\"c\", \"d\"], [\"e\", \"f\"])  # tuple中串列\n",
        "print(dict(tol))\n",
        "\n",
        "# 雙字元字串的串列\n",
        "los = [\"AB\", \"CD\", \"EF\"]\n",
        "print(dict(los))\n",
        "\n",
        "# 雙字元字串的 tuple\n",
        "tos = (\"AB\", \"CD\", \"EF\")\n",
        "print(dict(tos))\n",
        "\n",
        "# 運用 zip 迭代法來建立字典\n",
        "ABC = [\"a\", \"b\", \"c\"]\n",
        "fruits = [\"apple\", \"banana\", \"cherry\"]\n",
        "print(dict(zip(ABC, fruits)))"
      ],
      "execution_count": null,
      "outputs": [
        {
          "output_type": "stream",
          "name": "stdout",
          "text": [
            "{'a': 'b', 'c': 'd', 'e': 'f'}\n",
            "{'a': 'b', 'c': 'd', 'e': 'f'}\n",
            "{'a': 'b', 'c': 'd', 'e': 'f'}\n",
            "{'A': 'B', 'C': 'D', 'E': 'F'}\n",
            "{'A': 'B', 'C': 'D', 'E': 'F'}\n",
            "{'a': 'apple', 'b': 'banana', 'c': 'cherry'}\n"
          ]
        }
      ]
    },
    {
      "cell_type": "code",
      "metadata": {
        "colab": {
          "base_uri": "https://localhost:8080/"
        },
        "id": "iKDyR1e8ow2g",
        "outputId": "f48d0f18-d170-4d83-80a5-64b7b6552fae"
      },
      "source": [
        "# 用 [鍵] 來加入或改變一個項目\n",
        "names = {\n",
        "    \"宇睿\":\"大帥哥\",\n",
        "    \"蓋瑞\":\"大肌肌\", \n",
        "    \"阿瑞\":\"妮絲\"}\n",
        "# 加入值\n",
        "names[\"人瑞\"] = \"一百歲\"\n",
        "print(names)\n",
        "\n",
        "# 更改值\n",
        "names[\"人瑞\"] = \"一百歲以上\"\n",
        "print(names)\n"
      ],
      "execution_count": null,
      "outputs": [
        {
          "output_type": "stream",
          "name": "stdout",
          "text": [
            "{'宇睿': '大帥哥', '蓋瑞': '大肌肌', '阿瑞': '妮絲', '人瑞': '一百歲'}\n",
            "{'宇睿': '大帥哥', '蓋瑞': '大肌肌', '阿瑞': '妮絲', '人瑞': '一百歲以上'}\n"
          ]
        }
      ]
    },
    {
      "cell_type": "code",
      "metadata": {
        "colab": {
          "base_uri": "https://localhost:8080/"
        },
        "id": "eBQaVSWpqFBy",
        "outputId": "6b6b1ac2-7c9a-4923-fa54-c34a6ba89e74"
      },
      "source": [
        "# 鍵只能唯一 若有兩個相同的鍵 則最後一個會勝出\n",
        "names = {\n",
        "    \"宇睿\":\"大帥哥\",\n",
        "    \"蓋瑞\":\"大肌肌\", \n",
        "    \"阿瑞\":\"妮絲\",\n",
        "    \"宇睿\":\"超級大帥哥\"}\n",
        "print(names)"
      ],
      "execution_count": null,
      "outputs": [
        {
          "output_type": "stream",
          "name": "stdout",
          "text": [
            "{'宇睿': '超級大帥哥', '蓋瑞': '大肌肌', '阿瑞': '妮絲'}\n"
          ]
        }
      ]
    },
    {
      "cell_type": "code",
      "metadata": {
        "colab": {
          "base_uri": "https://localhost:8080/"
        },
        "id": "E6ek8iwsqUCg",
        "outputId": "63a2cb69-9685-45a2-f96e-cbec65788ee2"
      },
      "source": [
        "# 用[key] 或 get() 取得一個項目\n",
        "names = {\n",
        "    \"宇睿\":\"大帥哥\",\n",
        "    \"蓋瑞\":\"大肌肌\", \n",
        "    \"阿瑞\":\"妮絲\",\n",
        "    \"人瑞\":\"一百歲\"}\n",
        "print(names[\"阿瑞\"])\n",
        "\n",
        "#### [key] 若字典沒有那個鍵 則會出現例外\n",
        "# print(names[\"睿睿\"])\n",
        "\n",
        "# 可用 in 來檢測\n",
        "print(\"睿睿\" in names)\n"
      ],
      "execution_count": null,
      "outputs": [
        {
          "output_type": "stream",
          "name": "stdout",
          "text": [
            "妮絲\n",
            "False\n"
          ]
        }
      ]
    },
    {
      "cell_type": "code",
      "metadata": {
        "colab": {
          "base_uri": "https://localhost:8080/"
        },
        "id": "en2CbjZ4rN4v",
        "outputId": "01f3d5a2-f53f-4996-979f-33cf64caca05"
      },
      "source": [
        "# get()\n",
        "print(names.get(\"蓋瑞\"))\n",
        "\n",
        "print(names.get(\"睿睿\")) # 若無那個鍵 則回傳None\n",
        "\n",
        "print(names.get(\"睿睿\", \"小名\")) # 指定預設值 若無那個鍵 則回傳預設\n",
        "\n"
      ],
      "execution_count": null,
      "outputs": [
        {
          "output_type": "stream",
          "name": "stdout",
          "text": [
            "大肌肌\n",
            "None\n",
            "小名\n"
          ]
        }
      ]
    },
    {
      "cell_type": "code",
      "metadata": {
        "colab": {
          "base_uri": "https://localhost:8080/"
        },
        "id": "1fd1vGwAi1mY",
        "outputId": "f96b2a0c-328d-4cee-9a6a-2ef4da592b59"
      },
      "source": [
        "# 用 keys() 取得所有鍵\n",
        "names = {\n",
        "    \"宇睿\":\"大帥哥\",\n",
        "    \"蓋瑞\":\"大肌肌\", \n",
        "    \"阿瑞\":\"妮絲\"}\n",
        "print(names.keys())  # 鍵的可迭代版本\n",
        "\n",
        "for i in names.keys():\n",
        "  print(i)\n",
        "  \n",
        "print(list(names.keys())) # 用 list() 轉成串列\n"
      ],
      "execution_count": null,
      "outputs": [
        {
          "output_type": "stream",
          "name": "stdout",
          "text": [
            "dict_keys(['宇睿', '蓋瑞', '阿瑞'])\n",
            "宇睿\n",
            "蓋瑞\n",
            "阿瑞\n",
            "['宇睿', '蓋瑞', '阿瑞']\n"
          ]
        }
      ]
    },
    {
      "cell_type": "code",
      "metadata": {
        "colab": {
          "base_uri": "https://localhost:8080/"
        },
        "id": "pYRrDyNKkGjN",
        "outputId": "1c92591e-31c7-45e9-9db2-fada1c5f9266"
      },
      "source": [
        "# 用 values() 取得所有值\n",
        "# 延續上一個cell names\n",
        "print(names.values())\n",
        "\n",
        "for i in names.values():\n",
        "  print(\"值：\", i)\n",
        "\n",
        "print(list(names.values()))"
      ],
      "execution_count": null,
      "outputs": [
        {
          "output_type": "stream",
          "name": "stdout",
          "text": [
            "dict_values(['大帥哥', '大肌肌', '妮絲'])\n",
            "值： 大帥哥\n",
            "值： 大肌肌\n",
            "值： 妮絲\n",
            "['大帥哥', '大肌肌', '妮絲']\n"
          ]
        }
      ]
    },
    {
      "cell_type": "code",
      "metadata": {
        "colab": {
          "base_uri": "https://localhost:8080/"
        },
        "id": "YxwWyaq7kwnS",
        "outputId": "8c29d960-0b21-4107-fb46-114ac73b9b77"
      },
      "source": [
        "# 運用 items() 取得所有  鍵 / 值\n",
        "# 延續上上個 cell names\n",
        "print(names.items())\n",
        "\n",
        "for i in names.items():   # 回傳是以 tuple 的形式 (鍵, 值)\n",
        "  print(i)\n",
        "\n",
        "# 或者 放兩個引數\n",
        "for p, a in names.items():\n",
        "  print(p, a)\n",
        "\n",
        "print(list(names.items()))"
      ],
      "execution_count": null,
      "outputs": [
        {
          "output_type": "stream",
          "name": "stdout",
          "text": [
            "dict_items([('宇睿', '大帥哥'), ('蓋瑞', '大肌肌'), ('阿瑞', '妮絲')])\n",
            "('宇睿', '大帥哥')\n",
            "('蓋瑞', '大肌肌')\n",
            "('阿瑞', '妮絲')\n",
            "宇睿 大帥哥\n",
            "蓋瑞 大肌肌\n",
            "阿瑞 妮絲\n",
            "[('宇睿', '大帥哥'), ('蓋瑞', '大肌肌'), ('阿瑞', '妮絲')]\n"
          ]
        }
      ]
    },
    {
      "cell_type": "code",
      "metadata": {
        "colab": {
          "base_uri": "https://localhost:8080/"
        },
        "id": "QgoAnWs5qxIg",
        "outputId": "176cc2cf-09a5-4bed-e648-f4c6fb50ccc1"
      },
      "source": [
        "# 用 len 取得字典的對數 \n",
        "# 延續上上個 cell names\n",
        "\n",
        "print(len(names))"
      ],
      "execution_count": null,
      "outputs": [
        {
          "output_type": "stream",
          "name": "stdout",
          "text": [
            "3\n"
          ]
        }
      ]
    },
    {
      "cell_type": "code",
      "metadata": {
        "colab": {
          "base_uri": "https://localhost:8080/"
        },
        "id": "hI1KsRUsq-fc",
        "outputId": "7c1e7ec0-6049-404b-92ce-1c4eefb85023"
      },
      "source": [
        "# 用{**a, **b} 來結合字典\n",
        "first = {\"a\":\"agony\", \"b\":\"bliss\"}\n",
        "second = {\"b\":\"bagels\", \"c\":\"candy\"}\n",
        "\n",
        "print({**first, **second})\n",
        "\n",
        "print({**second, **first})\n",
        "\n",
        "# ** 可以放兩個以上的字典\n",
        "third = {\"d\":\"donuts\"}\n",
        "print({**first, **second, **third})\n"
      ],
      "execution_count": null,
      "outputs": [
        {
          "output_type": "stream",
          "name": "stdout",
          "text": [
            "{'a': 'agony', 'b': 'bagels', 'c': 'candy'}\n",
            "{'b': 'bliss', 'c': 'candy', 'a': 'agony'}\n",
            "{'a': 'agony', 'b': 'bagels', 'c': 'candy', 'd': 'donuts'}\n"
          ]
        }
      ]
    },
    {
      "cell_type": "code",
      "metadata": {
        "colab": {
          "base_uri": "https://localhost:8080/"
        },
        "id": "t4Dw9ElSsa_f",
        "outputId": "20d9a334-96ce-4a9c-c974-08dc9762b6fd"
      },
      "source": [
        "# 用 update 來結合字典\n",
        "\n",
        "a = {\"A\":\"App\", \"B\":\"Bbox\", \"C\":\"Cherry\"}\n",
        "b = {\"W\":\"Windows\", \"M\":\"Mac\"}\n",
        "\n",
        "a.update(b)\n",
        "print(a)\n",
        "\n",
        "# 當兩個字典有相同的鍵 第二個鍵會勝出\n",
        "a = {\"A\":\"App\", \"B\":\"Bbox\", \"C\":\"Cherry\", \"D\":\"David\"}\n",
        "b = {\"W\":\"Windows\", \"M\":\"Mac\", \"D\":\"Dog\"}\n",
        "a.update(b)\n",
        "print(a)"
      ],
      "execution_count": null,
      "outputs": [
        {
          "output_type": "stream",
          "name": "stdout",
          "text": [
            "{'A': 'App', 'B': 'Bbox', 'C': 'Cherry', 'W': 'Windows', 'M': 'Mac'}\n",
            "{'A': 'App', 'B': 'Bbox', 'C': 'Cherry', 'D': 'Dog', 'W': 'Windows', 'M': 'Mac'}\n"
          ]
        }
      ]
    },
    {
      "cell_type": "code",
      "metadata": {
        "colab": {
          "base_uri": "https://localhost:8080/"
        },
        "id": "mZSYcnrIvdlj",
        "outputId": "1dc61ea7-88d9-4280-c335-92b104e27e55"
      },
      "source": [
        "# 透過 del 和 鍵 來刪除項目\n",
        "# 延續上個 cell\n",
        "\n",
        "del a[\"D\"]\n",
        "print(a)\n",
        "\n",
        "# 透過 pop 和 鍵 來取得項目並刪除它\n",
        "x = a.pop(\"W\")   # 取出的是值\n",
        "print(\"取出 :\", x)\n",
        "print(\"字典 a 剩下\", a)"
      ],
      "execution_count": null,
      "outputs": [
        {
          "output_type": "stream",
          "name": "stdout",
          "text": [
            "{'A': 'App', 'B': 'Bbox', 'C': 'Cherry', 'W': 'Windows', 'M': 'Mac'}\n",
            "取出 : Windows\n",
            "a 剩下 {'A': 'App', 'B': 'Bbox', 'C': 'Cherry', 'M': 'Mac'}\n"
          ]
        }
      ]
    },
    {
      "cell_type": "code",
      "metadata": {
        "colab": {
          "base_uri": "https://localhost:8080/"
        },
        "id": "x6ynxOsiw2ws",
        "outputId": "6261ea52-947c-45b4-f489-a208bce8650b"
      },
      "source": [
        "print(a.pop(\"S\", \"若字典無S 則回傳此預設值\"))\n",
        "# 若沒有放預設值 則會出錯\n",
        "# print(a.pop(\"S\"))\n"
      ],
      "execution_count": null,
      "outputs": [
        {
          "output_type": "stream",
          "name": "stdout",
          "text": [
            "若字典無S 則回傳此預設值\n"
          ]
        }
      ]
    },
    {
      "cell_type": "code",
      "metadata": {
        "colab": {
          "base_uri": "https://localhost:8080/"
        },
        "id": "LNUTMbAnx0cQ",
        "outputId": "05b61647-8680-4fac-a304-b72fe3d77a98"
      },
      "source": [
        "# 透過 {} 指定給新新的變數 或 透過clear() 來獲取一個空的字典\n",
        "a = {\"A\":\"App\", \"B\":\"Bbox\", \"C\":\"Cherry\"}\n",
        "a = {}\n",
        "print(a)\n",
        "\n",
        "##################\n",
        "\n",
        "a = {\"A\":\"App\", \"B\":\"Bbox\", \"C\":\"Cherry\"}\n",
        "a.clear()\n",
        "print(a)"
      ],
      "execution_count": null,
      "outputs": [
        {
          "output_type": "stream",
          "name": "stdout",
          "text": [
            "{}\n",
            "{}\n"
          ]
        }
      ]
    },
    {
      "cell_type": "code",
      "metadata": {
        "colab": {
          "base_uri": "https://localhost:8080/"
        },
        "id": "Hlb73VuUyJLO",
        "outputId": "3e08f663-1e88-489a-a54f-05fd890eb3e1"
      },
      "source": [
        "# 用 in 來檢測字典是否有該\"鍵\"\n",
        "a = {\"A\":\"App\", \"B\":\"Bbox\", \"C\":\"Cherry\"}\n",
        "print(\"A\" in a)  # 需放\"鍵\"\n",
        "print(\"Bbox\" in a)  # 放\"值\"會找不到"
      ],
      "execution_count": null,
      "outputs": [
        {
          "output_type": "stream",
          "name": "stdout",
          "text": [
            "True\n",
            "False\n"
          ]
        }
      ]
    },
    {
      "cell_type": "code",
      "metadata": {
        "colab": {
          "base_uri": "https://localhost:8080/"
        },
        "id": "JiLoXVvKyvZN",
        "outputId": "f6bc615d-f9b1-473e-88f5-c9715bee18ce"
      },
      "source": [
        "# 用 = 來賦值\n",
        "a = {\"A\":\"App\", \"B\":\"Bbox\", \"C\":\"Cherry\"}\n",
        "A = a\n",
        "a[\"D\"] = \"Desk\"\n",
        "print(A)"
      ],
      "execution_count": null,
      "outputs": [
        {
          "output_type": "stream",
          "name": "stdout",
          "text": [
            "{'A': 'App', 'B': 'Bbox', 'C': 'Cherry', 'D': 'Desk'}\n"
          ]
        }
      ]
    },
    {
      "cell_type": "code",
      "metadata": {
        "colab": {
          "base_uri": "https://localhost:8080/"
        },
        "id": "HemD-m3zzdiJ",
        "outputId": "1976dcab-8c20-45e9-86a9-d2fe862986c3"
      },
      "source": [
        "# copy 來解決   是淺層複製\n",
        "a = {\"A\":\"App\", \"B\":\"Bbox\", \"C\":\"Cherry\"}\n",
        "A = a.copy()\n",
        "\n",
        "a[\"D\"] = \"Desk\"\n",
        "print(a)\n",
        "print(A)"
      ],
      "execution_count": null,
      "outputs": [
        {
          "output_type": "stream",
          "name": "stdout",
          "text": [
            "{'A': 'App', 'B': 'Bbox', 'C': 'Cherry', 'D': 'Desk'}\n",
            "{'A': 'App', 'B': 'Bbox', 'C': 'Cherry'}\n"
          ]
        }
      ]
    },
    {
      "cell_type": "code",
      "metadata": {
        "colab": {
          "base_uri": "https://localhost:8080/"
        },
        "id": "TXZERhUgz3g5",
        "outputId": "8c5ec23e-2571-4a9e-c133-6e564ed62a6f"
      },
      "source": [
        "a = {\"A\":\"App\", \"B\":\"Bbox\", \"C\":[\"Cherry\", \"BooBoo\"]}\n",
        "A = a.copy() # 淺層複製\n",
        "a[\"C\"][0] = \"Computer\"\n",
        "\n",
        "print(a)\n",
        "print(A)  "
      ],
      "execution_count": null,
      "outputs": [
        {
          "output_type": "stream",
          "name": "stdout",
          "text": [
            "{'A': 'App', 'B': 'Bbox', 'C': ['Computer', 'BooBoo']}\n",
            "{'A': 'App', 'B': 'Bbox', 'C': ['Computer', 'BooBoo']}\n"
          ]
        }
      ]
    },
    {
      "cell_type": "code",
      "metadata": {
        "colab": {
          "base_uri": "https://localhost:8080/"
        },
        "id": "D8BHys_9ztnm",
        "outputId": "a3b7025c-6db6-4d16-9f9d-0fb7091dddda"
      },
      "source": [
        "# deepcopy 深層複製\n",
        "import copy\n",
        "a = {\"A\":\"App\", \"B\":\"Bbox\", \"C\":[\"Cherry\", \"BooBoo\"]}\n",
        "\n",
        "A = copy.deepcopy(a) # 淺層複製\n",
        "\n",
        "a[\"C\"][0] = \"Computer\"\n",
        "\n",
        "print(a)\n",
        "print(A) "
      ],
      "execution_count": null,
      "outputs": [
        {
          "output_type": "stream",
          "name": "stdout",
          "text": [
            "{'A': 'App', 'B': 'Bbox', 'C': ['Computer', 'BooBoo']}\n",
            "{'A': 'App', 'B': 'Bbox', 'C': ['Cherry', 'BooBoo']}\n"
          ]
        }
      ]
    },
    {
      "cell_type": "code",
      "metadata": {
        "colab": {
          "base_uri": "https://localhost:8080/"
        },
        "id": "vkwaxcLU1Z9J",
        "outputId": "3db4fda1-033a-478a-e92a-845e42e5b796"
      },
      "source": [
        "# 比較字典 用 == 或 !=\n",
        "a = {1:1, 2:2, 3:3}\n",
        "b = {3:3, 2:2, 1:1}\n",
        "print(a == b)"
      ],
      "execution_count": null,
      "outputs": [
        {
          "output_type": "stream",
          "name": "stdout",
          "text": [
            "True\n"
          ]
        }
      ]
    },
    {
      "cell_type": "code",
      "metadata": {
        "colab": {
          "base_uri": "https://localhost:8080/",
          "height": 204
        },
        "id": "D3VBwnbt2Ox-",
        "outputId": "a910594f-0a3c-4722-dd8a-788990cec0ce"
      },
      "source": [
        "# 其他運算子沒有效果\n",
        "a = {1:1, 2:2, 3:3}\n",
        "b = {3:3, 2:2, 1:1}\n",
        "print(a >= b)"
      ],
      "execution_count": null,
      "outputs": [
        {
          "output_type": "error",
          "ename": "TypeError",
          "evalue": "ignored",
          "traceback": [
            "\u001b[0;31m---------------------------------------------------------------------------\u001b[0m",
            "\u001b[0;31mTypeError\u001b[0m                                 Traceback (most recent call last)",
            "\u001b[0;32m<ipython-input-51-4d7d08273826>\u001b[0m in \u001b[0;36m<module>\u001b[0;34m()\u001b[0m\n\u001b[1;32m      2\u001b[0m \u001b[0ma\u001b[0m \u001b[0;34m=\u001b[0m \u001b[0;34m{\u001b[0m\u001b[0;36m1\u001b[0m\u001b[0;34m:\u001b[0m\u001b[0;36m1\u001b[0m\u001b[0;34m,\u001b[0m \u001b[0;36m2\u001b[0m\u001b[0;34m:\u001b[0m\u001b[0;36m2\u001b[0m\u001b[0;34m,\u001b[0m \u001b[0;36m3\u001b[0m\u001b[0;34m:\u001b[0m\u001b[0;36m3\u001b[0m\u001b[0;34m}\u001b[0m\u001b[0;34m\u001b[0m\u001b[0;34m\u001b[0m\u001b[0m\n\u001b[1;32m      3\u001b[0m \u001b[0mb\u001b[0m \u001b[0;34m=\u001b[0m \u001b[0;34m{\u001b[0m\u001b[0;36m3\u001b[0m\u001b[0;34m:\u001b[0m\u001b[0;36m3\u001b[0m\u001b[0;34m,\u001b[0m \u001b[0;36m2\u001b[0m\u001b[0;34m:\u001b[0m\u001b[0;36m2\u001b[0m\u001b[0;34m,\u001b[0m \u001b[0;36m1\u001b[0m\u001b[0;34m:\u001b[0m\u001b[0;36m1\u001b[0m\u001b[0;34m}\u001b[0m\u001b[0;34m\u001b[0m\u001b[0;34m\u001b[0m\u001b[0m\n\u001b[0;32m----> 4\u001b[0;31m \u001b[0mprint\u001b[0m\u001b[0;34m(\u001b[0m\u001b[0ma\u001b[0m \u001b[0;34m>=\u001b[0m \u001b[0mb\u001b[0m\u001b[0;34m)\u001b[0m\u001b[0;34m\u001b[0m\u001b[0;34m\u001b[0m\u001b[0m\n\u001b[0m",
            "\u001b[0;31mTypeError\u001b[0m: '>=' not supported between instances of 'dict' and 'dict'"
          ]
        }
      ]
    },
    {
      "cell_type": "code",
      "metadata": {
        "colab": {
          "base_uri": "https://localhost:8080/"
        },
        "id": "xituBB8-2d5j",
        "outputId": "e86090d5-a357-4581-a763-3eab5dee1a8a"
      },
      "source": [
        "a = {1:[1, 2], 2:2, 3:3}\n",
        "b = {1:[1, 1], 2:2, 3:3}\n",
        "print(a == b)"
      ],
      "execution_count": null,
      "outputs": [
        {
          "output_type": "stream",
          "name": "stdout",
          "text": [
            "False\n"
          ]
        }
      ]
    },
    {
      "cell_type": "code",
      "metadata": {
        "colab": {
          "base_uri": "https://localhost:8080/"
        },
        "id": "ZO8aOu_b2w0G",
        "outputId": "70e58eca-89b7-4a9f-a255-30c7640a5f3a"
      },
      "source": [
        "# 用 for in 來迭代字典\n",
        "a = {\"A\":\"App\", \"B\":\"Bbox\", \"C\":\"Cherry\"}\n",
        "for i in a:\n",
        "  print(i)\n",
        "\n",
        "# 等於 \n",
        "for i in a.keys():\n",
        "  print(i)\n",
        "\n",
        "# 換成值\n",
        "for i in a.values():\n",
        "  print(i)\n",
        "\n",
        "# 鍵與值都要\n",
        "for i in a.items():\n",
        "  print(i)\n",
        "\n",
        "# 用兩個引數取代 tuple\n",
        "for s, v in a.items():\n",
        "  print(\"字母:\", s, \"造詞:\", v)\n",
        "\n"
      ],
      "execution_count": null,
      "outputs": [
        {
          "output_type": "stream",
          "name": "stdout",
          "text": [
            "A\n",
            "B\n",
            "C\n",
            "A\n",
            "B\n",
            "C\n",
            "App\n",
            "Bbox\n",
            "Cherry\n",
            "('A', 'App')\n",
            "('B', 'Bbox')\n",
            "('C', 'Cherry')\n",
            "字母: A 造詞: App\n",
            "字母: B 造詞: Bbox\n",
            "字母: C 造詞: Cherry\n"
          ]
        }
      ]
    },
    {
      "cell_type": "markdown",
      "metadata": {
        "id": "_HKz1IjL9kHb"
      },
      "source": [
        "###字典生成式"
      ]
    },
    {
      "cell_type": "code",
      "metadata": {
        "id": "OqyFJAq29od1",
        "outputId": "9ca28d4b-05ae-437a-fd3f-3e1a68117810",
        "colab": {
          "base_uri": "https://localhost:8080/"
        }
      },
      "source": [
        "word = \"extraordinary\"\n",
        "letter_counts = {letter: word.count(letter) for letter in word}\n",
        "print(letter_counts)\n",
        "# letter : 出現次數"
      ],
      "execution_count": 1,
      "outputs": [
        {
          "output_type": "stream",
          "name": "stdout",
          "text": [
            "{'e': 1, 'x': 1, 't': 1, 'r': 3, 'a': 2, 'o': 1, 'd': 1, 'i': 1, 'n': 1, 'y': 1}\n"
          ]
        }
      ]
    },
    {
      "cell_type": "markdown",
      "metadata": {
        "id": "tFJwARP1_Hh7"
      },
      "source": [
        "### 換一種寫法"
      ]
    },
    {
      "cell_type": "code",
      "metadata": {
        "id": "NlVND3se-yD7",
        "outputId": "fa3206d0-b435-47c9-e661-fb1da8feeda5",
        "colab": {
          "base_uri": "https://localhost:8080/"
        }
      },
      "source": [
        "word = \"extraordinary\"\n",
        "letter_counts = {letter: word.count(letter) for letter in set(word)} # 換成set =>>不會重複的字母再跑一遍\n",
        "print(letter_counts)\n",
        "print(set(word))"
      ],
      "execution_count": 6,
      "outputs": [
        {
          "output_type": "stream",
          "name": "stdout",
          "text": [
            "{'i': 1, 'n': 1, 'y': 1, 't': 1, 'o': 1, 'd': 1, 'e': 1, 'x': 1, 'a': 2, 'r': 3}\n",
            "{'i', 'n', 'y', 't', 'o', 'd', 'e', 'x', 'a', 'r'}\n"
          ]
        }
      ]
    },
    {
      "cell_type": "markdown",
      "metadata": {
        "id": "dM2GhE7Z_ydh"
      },
      "source": [
        "### 加上if 條件式，"
      ]
    },
    {
      "cell_type": "code",
      "metadata": {
        "id": "C-FUtBlhAO-l",
        "outputId": "b20ca124-63d1-4cd0-dc62-db158082b60c",
        "colab": {
          "base_uri": "https://localhost:8080/"
        }
      },
      "source": [
        "word = \"extraordinary\"\n",
        "vowels = \"aeiou\"\n",
        "letter_counts = {letter: word.count(letter) for letter in set(word) \n",
        "if letter in vowels} # 換成set =>>不會重複的字母再跑一遍\n",
        "print(letter_counts)"
      ],
      "execution_count": 8,
      "outputs": [
        {
          "output_type": "stream",
          "name": "stdout",
          "text": [
            "{'i': 1, 'o': 1, 'e': 1, 'a': 2}\n"
          ]
        }
      ]
    },
    {
      "cell_type": "markdown",
      "metadata": {
        "id": "haCDOGMvH8WE"
      },
      "source": [
        "#集合"
      ]
    },
    {
      "cell_type": "markdown",
      "metadata": {
        "id": "AQyPCrD1H-3W"
      },
      "source": [
        "### 用 set() 來建立 set集合\n",
        "### {} => 則會建立字典"
      ]
    },
    {
      "cell_type": "code",
      "metadata": {
        "id": "MSk5aITsJH9N"
      },
      "source": [
        ""
      ],
      "execution_count": null,
      "outputs": []
    }
  ]
}