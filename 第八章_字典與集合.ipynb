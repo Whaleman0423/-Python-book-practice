{
  "nbformat": 4,
  "nbformat_minor": 0,
  "metadata": {
    "colab": {
      "name": "第八章_字典與集合.ipynb",
      "provenance": [],
      "collapsed_sections": [],
      "authorship_tag": "ABX9TyNDuuH9tbcSFdpPC8NijoLt",
      "include_colab_link": true
    },
    "kernelspec": {
      "name": "python3",
      "display_name": "Python 3"
    },
    "language_info": {
      "name": "python"
    }
  },
  "cells": [
    {
      "cell_type": "markdown",
      "metadata": {
        "id": "view-in-github",
        "colab_type": "text"
      },
      "source": [
        "<a href=\"https://colab.research.google.com/github/Whaleman0423/-Python-book-practice/blob/main/%E7%AC%AC%E5%85%AB%E7%AB%A0_%E5%AD%97%E5%85%B8%E8%88%87%E9%9B%86%E5%90%88.ipynb\" target=\"_parent\"><img src=\"https://colab.research.google.com/assets/colab-badge.svg\" alt=\"Open In Colab\"/></a>"
      ]
    },
    {
      "cell_type": "code",
      "metadata": {
        "colab": {
          "base_uri": "https://localhost:8080/"
        },
        "id": "fwdd5uMgggYK",
        "outputId": "9a3a1a0a-4805-4289-ab39-dd28afe4b86c"
      },
      "source": [
        "# 用 {} 來建立字典\n",
        "empty_dict = {}\n",
        "empty_dict"
      ],
      "execution_count": 1,
      "outputs": [
        {
          "output_type": "execute_result",
          "data": {
            "text/plain": [
              "{}"
            ]
          },
          "metadata": {},
          "execution_count": 1
        }
      ]
    },
    {
      "cell_type": "code",
      "metadata": {
        "colab": {
          "base_uri": "https://localhost:8080/"
        },
        "id": "WtziR1SYh3di",
        "outputId": "ca35f351-c549-4fbf-c590-4e1759ff0d81"
      },
      "source": [
        "fruits = {\"A\":\"Apple\", \"B\":\"Banana\", \"C\":\"Cherry\", \"D\":\"Durian\", \"G\":\"Grape\"}\n",
        "fruits"
      ],
      "execution_count": 2,
      "outputs": [
        {
          "output_type": "execute_result",
          "data": {
            "text/plain": [
              "{'A': 'Apple', 'B': 'Banana', 'C': 'Cherry', 'D': 'Durian', 'G': 'Grape'}"
            ]
          },
          "metadata": {},
          "execution_count": 2
        }
      ]
    },
    {
      "cell_type": "code",
      "metadata": {
        "colab": {
          "base_uri": "https://localhost:8080/"
        },
        "id": "aG8zQVulikBt",
        "outputId": "547c3f3c-f8b3-4678-eb3a-6a46005ab8a9"
      },
      "source": [
        "# 用 dict() 來建立字典   鍵 不須加引號  鍵必須是有效變數名稱 def這類不行\n",
        "\n",
        "vehicle = dict(C=\"Car\", B=\"Bus\", S=\"Scooter\", M=\"Motorcycle\")\n",
        "vehicle"
      ],
      "execution_count": 6,
      "outputs": [
        {
          "output_type": "execute_result",
          "data": {
            "text/plain": [
              "{'B': 'Bus', 'C': 'Car', 'M': 'Motorcycle', 'S': 'Scooter'}"
            ]
          },
          "metadata": {},
          "execution_count": 6
        }
      ]
    },
    {
      "cell_type": "code",
      "metadata": {
        "colab": {
          "base_uri": "https://localhost:8080/"
        },
        "id": "79Yoxpl6lr9B",
        "outputId": "e8468dfa-0e52-45c8-fdf8-08a8815e324d"
      },
      "source": [
        "# 雙項目串列中串列 雙值序列 建立字典\n",
        "lol = [[\"a\", \"b\"], [\"c\", 'd'], [\"e\", \"f\"]]\n",
        "print(dict(lol))\n",
        "# => dict( [[]] )   #  dict( 雙值序列 )\n",
        "\n",
        "# or dict( [ ( ) ] )  串列中元組\n",
        "lot = [(\"a\", \"b\"), (\"c\", \"d\"), (\"e\", \"f\")]\n",
        "print(dict(lot))\n",
        "\n",
        "# 還有以下其他形式的雙值序列\n",
        "tol = ([\"a\", \"b\"], [\"c\", \"d\"], [\"e\", \"f\"])  # tuple中串列\n",
        "print(dict(tol))\n",
        "\n",
        "# 雙字元字串的串列\n",
        "los = [\"AB\", \"CD\", \"EF\"]\n",
        "print(dict(los))\n",
        "\n",
        "# 雙字元字串的 tuple\n",
        "tos = (\"AB\", \"CD\", \"EF\")\n",
        "print(dict(tos))\n",
        "\n",
        "# 運用 zip 迭代法來建立字典\n",
        "ABC = [\"a\", \"b\", \"c\"]\n",
        "fruits = [\"apple\", \"banana\", \"cherry\"]\n",
        "print(dict(zip(ABC, fruits)))"
      ],
      "execution_count": 12,
      "outputs": [
        {
          "output_type": "stream",
          "name": "stdout",
          "text": [
            "{'a': 'b', 'c': 'd', 'e': 'f'}\n",
            "{'a': 'b', 'c': 'd', 'e': 'f'}\n",
            "{'a': 'b', 'c': 'd', 'e': 'f'}\n",
            "{'A': 'B', 'C': 'D', 'E': 'F'}\n",
            "{'A': 'B', 'C': 'D', 'E': 'F'}\n",
            "{'a': 'apple', 'b': 'banana', 'c': 'cherry'}\n"
          ]
        }
      ]
    },
    {
      "cell_type": "code",
      "metadata": {
        "colab": {
          "base_uri": "https://localhost:8080/"
        },
        "id": "iKDyR1e8ow2g",
        "outputId": "f48d0f18-d170-4d83-80a5-64b7b6552fae"
      },
      "source": [
        "# 用 [鍵] 來加入或改變一個項目\n",
        "names = {\n",
        "    \"宇睿\":\"大帥哥\",\n",
        "    \"蓋瑞\":\"大肌肌\", \n",
        "    \"阿瑞\":\"妮絲\"}\n",
        "# 加入值\n",
        "names[\"人瑞\"] = \"一百歲\"\n",
        "print(names)\n",
        "\n",
        "# 更改值\n",
        "names[\"人瑞\"] = \"一百歲以上\"\n",
        "print(names)\n"
      ],
      "execution_count": 14,
      "outputs": [
        {
          "output_type": "stream",
          "name": "stdout",
          "text": [
            "{'宇睿': '大帥哥', '蓋瑞': '大肌肌', '阿瑞': '妮絲', '人瑞': '一百歲'}\n",
            "{'宇睿': '大帥哥', '蓋瑞': '大肌肌', '阿瑞': '妮絲', '人瑞': '一百歲以上'}\n"
          ]
        }
      ]
    },
    {
      "cell_type": "code",
      "metadata": {
        "colab": {
          "base_uri": "https://localhost:8080/"
        },
        "id": "eBQaVSWpqFBy",
        "outputId": "6b6b1ac2-7c9a-4923-fa54-c34a6ba89e74"
      },
      "source": [
        "# 鍵只能唯一 若有兩個相同的鍵 則最後一個會勝出\n",
        "names = {\n",
        "    \"宇睿\":\"大帥哥\",\n",
        "    \"蓋瑞\":\"大肌肌\", \n",
        "    \"阿瑞\":\"妮絲\",\n",
        "    \"宇睿\":\"超級大帥哥\"}\n",
        "print(names)"
      ],
      "execution_count": 15,
      "outputs": [
        {
          "output_type": "stream",
          "name": "stdout",
          "text": [
            "{'宇睿': '超級大帥哥', '蓋瑞': '大肌肌', '阿瑞': '妮絲'}\n"
          ]
        }
      ]
    },
    {
      "cell_type": "code",
      "metadata": {
        "colab": {
          "base_uri": "https://localhost:8080/"
        },
        "id": "E6ek8iwsqUCg",
        "outputId": "63a2cb69-9685-45a2-f96e-cbec65788ee2"
      },
      "source": [
        "# 用[key] 或 get() 取得一個項目\n",
        "names = {\n",
        "    \"宇睿\":\"大帥哥\",\n",
        "    \"蓋瑞\":\"大肌肌\", \n",
        "    \"阿瑞\":\"妮絲\",\n",
        "    \"人瑞\":\"一百歲\"}\n",
        "print(names[\"阿瑞\"])\n",
        "\n",
        "#### [key] 若字典沒有那個鍵 則會出現例外\n",
        "# print(names[\"睿睿\"])\n",
        "\n",
        "# 可用 in 來檢測\n",
        "print(\"睿睿\" in names)\n"
      ],
      "execution_count": 19,
      "outputs": [
        {
          "output_type": "stream",
          "name": "stdout",
          "text": [
            "妮絲\n",
            "False\n"
          ]
        }
      ]
    },
    {
      "cell_type": "code",
      "metadata": {
        "colab": {
          "base_uri": "https://localhost:8080/"
        },
        "id": "en2CbjZ4rN4v",
        "outputId": "01f3d5a2-f53f-4996-979f-33cf64caca05"
      },
      "source": [
        "# get()\n",
        "print(names.get(\"蓋瑞\"))\n",
        "\n",
        "print(names.get(\"睿睿\")) # 若無那個鍵 則回傳None\n",
        "\n",
        "print(names.get(\"睿睿\", \"小名\")) # 指定預設值 若無那個鍵 則回傳預設\n",
        "\n"
      ],
      "execution_count": 22,
      "outputs": [
        {
          "output_type": "stream",
          "name": "stdout",
          "text": [
            "大肌肌\n",
            "None\n",
            "小名\n"
          ]
        }
      ]
    }
  ]
}